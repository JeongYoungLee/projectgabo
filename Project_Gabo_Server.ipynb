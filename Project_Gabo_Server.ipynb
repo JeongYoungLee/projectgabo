{
 "cells": [
  {
   "cell_type": "markdown",
   "id": "36e5c068",
   "metadata": {},
   "source": [
    "# 프로젝트 가보"
   ]
  },
  {
   "cell_type": "code",
   "execution_count": 4,
   "id": "92537eb2",
   "metadata": {
    "scrolled": false
   },
   "outputs": [
    {
     "name": "stdout",
     "output_type": "stream",
     "text": [
      " * Serving Flask app \"__main__\" (lazy loading)\n",
      " * Environment: production\n",
      "\u001b[31m   WARNING: This is a development server. Do not use it in a production deployment.\u001b[0m\n",
      "\u001b[2m   Use a production WSGI server instead.\u001b[0m\n",
      " * Debug mode: off\n"
     ]
    },
    {
     "name": "stderr",
     "output_type": "stream",
     "text": [
      " * Running on http://192.168.21.252:5013/ (Press CTRL+C to quit)\n",
      "192.168.21.245 - - [01/Sep/2022 14:57:00] \"POST /login HTTP/1.1\" 200 -\n"
     ]
    },
    {
     "name": "stdout",
     "output_type": "stream",
     "text": [
      "로그인 시도\n",
      "[('pky5335', 'qwer1234!', 'qwerq', datetime.datetime(1991, 4, 13, 0, 0), '124235141243', 'pky5335@nate.com', '남', 1, datetime.datetime(2022, 8, 25, 15, 13, 53), None, None, 0, 0, 'wer')]\n",
      "pky5335 로그인\n"
     ]
    },
    {
     "name": "stderr",
     "output_type": "stream",
     "text": [
      "192.168.21.245 - - [01/Sep/2022 14:57:00] \"POST /mappage HTTP/1.1\" 200 -\n"
     ]
    },
    {
     "name": "stdout",
     "output_type": "stream",
     "text": [
      "마커갱신\n",
      "[(1, 5, 'wef', 'swf', 'rtb', 'pky5335', None, 1, 35.1467299, 126.92201, datetime.datetime(2022, 9, 1, 11, 16, 26), 0), (4, 2, '여기', '없음', '구라임', 'ahy0914', None, 1, 35.1467488, 126.922456, datetime.datetime(2022, 9, 1, 11, 19, 25), 0)]\n",
      "갱신완료\n",
      "1,5,wef,swf,rtb,pky5335,None,1,35.1467299,126.92201,2022-09-01 11:16:26,0/4,2,여기,없음,구라임,ahy0914,None,1,35.1467488,126.922456,2022-09-01 11:19:25,0/\n"
     ]
    },
    {
     "name": "stderr",
     "output_type": "stream",
     "text": [
      "192.168.21.245 - - [01/Sep/2022 14:57:06] \"POST /clicktrs HTTP/1.1\" 400 -\n"
     ]
    },
    {
     "name": "stdout",
     "output_type": "stream",
     "text": [
      "보물클릭\n"
     ]
    },
    {
     "name": "stderr",
     "output_type": "stream",
     "text": [
      "192.168.21.245 - - [01/Sep/2022 14:57:17] \"POST /clicktrs HTTP/1.1\" 400 -\n"
     ]
    },
    {
     "name": "stdout",
     "output_type": "stream",
     "text": [
      "보물클릭\n"
     ]
    },
    {
     "name": "stderr",
     "output_type": "stream",
     "text": [
      "192.168.21.245 - - [01/Sep/2022 15:03:49] \"POST /login HTTP/1.1\" 200 -\n"
     ]
    },
    {
     "name": "stdout",
     "output_type": "stream",
     "text": [
      "로그인 시도\n",
      "[('pky5335', 'qwer1234!', 'qwerq', datetime.datetime(1991, 4, 13, 0, 0), '124235141243', 'pky5335@nate.com', '남', 1, datetime.datetime(2022, 8, 25, 15, 13, 53), None, None, 0, 0, 'wer')]\n",
      "pky5335 로그인\n"
     ]
    },
    {
     "name": "stderr",
     "output_type": "stream",
     "text": [
      "192.168.21.245 - - [01/Sep/2022 15:03:50] \"POST /mappage HTTP/1.1\" 200 -\n"
     ]
    },
    {
     "name": "stdout",
     "output_type": "stream",
     "text": [
      "마커갱신\n",
      "[(1, 5, 'wef', 'swf', 'rtb', 'pky5335', None, 1, 35.1467299, 126.92201, datetime.datetime(2022, 9, 1, 11, 16, 26), 0), (4, 2, '여기', '없음', '구라임', 'ahy0914', None, 1, 35.1467488, 126.922456, datetime.datetime(2022, 9, 1, 11, 19, 25), 0)]\n",
      "갱신완료\n",
      "1,5,wef,swf,rtb,pky5335,None,1,35.1467299,126.92201,2022-09-01 11:16:26,0/4,2,여기,없음,구라임,ahy0914,None,1,35.1467488,126.922456,2022-09-01 11:19:25,0/\n"
     ]
    },
    {
     "name": "stderr",
     "output_type": "stream",
     "text": [
      "192.168.21.245 - - [01/Sep/2022 15:03:54] \"POST /mappage HTTP/1.1\" 200 -\n"
     ]
    },
    {
     "name": "stdout",
     "output_type": "stream",
     "text": [
      "마커갱신\n",
      "[(1, 5, 'wef', 'swf', 'rtb', 'pky5335', None, 1, 35.1467299, 126.92201, datetime.datetime(2022, 9, 1, 11, 16, 26), 0), (4, 2, '여기', '없음', '구라임', 'ahy0914', None, 1, 35.1467488, 126.922456, datetime.datetime(2022, 9, 1, 11, 19, 25), 0)]\n",
      "갱신완료\n",
      "1,5,wef,swf,rtb,pky5335,None,1,35.1467299,126.92201,2022-09-01 11:16:26,0/4,2,여기,없음,구라임,ahy0914,None,1,35.1467488,126.922456,2022-09-01 11:19:25,0/\n"
     ]
    },
    {
     "name": "stderr",
     "output_type": "stream",
     "text": [
      "192.168.21.245 - - [01/Sep/2022 15:03:57] \"POST /clicktrs HTTP/1.1\" 200 -\n"
     ]
    },
    {
     "name": "stdout",
     "output_type": "stream",
     "text": [
      "보물클릭\n",
      "[(5, 'wef', 'swf', 'rtb', 'pky5335', None, 35.1467299, 126.92201, datetime.datetime(2022, 9, 1, 11, 16, 26), 0)]\n"
     ]
    },
    {
     "name": "stderr",
     "output_type": "stream",
     "text": [
      "192.168.21.245 - - [01/Sep/2022 15:04:36] \"POST /login HTTP/1.1\" 200 -\n"
     ]
    },
    {
     "name": "stdout",
     "output_type": "stream",
     "text": [
      "로그인 시도\n",
      "[('pky5335', 'qwer1234!', 'qwerq', datetime.datetime(1991, 4, 13, 0, 0), '124235141243', 'pky5335@nate.com', '남', 1, datetime.datetime(2022, 8, 25, 15, 13, 53), None, None, 0, 0, 'wer')]\n",
      "pky5335 로그인\n"
     ]
    },
    {
     "name": "stderr",
     "output_type": "stream",
     "text": [
      "192.168.21.245 - - [01/Sep/2022 15:04:36] \"POST /mappage HTTP/1.1\" 200 -\n"
     ]
    },
    {
     "name": "stdout",
     "output_type": "stream",
     "text": [
      "마커갱신\n",
      "[(1, 5, 'wef', 'swf', 'rtb', 'pky5335', None, 1, 35.1467299, 126.92201, datetime.datetime(2022, 9, 1, 11, 16, 26), 0), (4, 2, '여기', '없음', '구라임', 'ahy0914', None, 1, 35.1467488, 126.922456, datetime.datetime(2022, 9, 1, 11, 19, 25), 0)]\n",
      "갱신완료\n",
      "1,5,wef,swf,rtb,pky5335,None,1,35.1467299,126.92201,2022-09-01 11:16:26,0/4,2,여기,없음,구라임,ahy0914,None,1,35.1467488,126.922456,2022-09-01 11:19:25,0/\n"
     ]
    },
    {
     "name": "stderr",
     "output_type": "stream",
     "text": [
      "192.168.21.245 - - [01/Sep/2022 15:04:40] \"POST /clicktrs HTTP/1.1\" 200 -\n"
     ]
    },
    {
     "name": "stdout",
     "output_type": "stream",
     "text": [
      "보물클릭\n",
      "[(5, 'wef', 'swf', 'rtb', 'pky5335', None, 35.1467299, 126.92201, datetime.datetime(2022, 9, 1, 11, 16, 26), 0)]\n"
     ]
    },
    {
     "name": "stderr",
     "output_type": "stream",
     "text": [
      "192.168.21.245 - - [01/Sep/2022 15:05:00] \"POST /clicktrs HTTP/1.1\" 200 -\n"
     ]
    },
    {
     "name": "stdout",
     "output_type": "stream",
     "text": [
      "보물클릭\n",
      "[(2, '여기', '없음', '구라임', 'ahy0914', None, 35.1467488, 126.922456, datetime.datetime(2022, 9, 1, 11, 19, 25), 0)]\n"
     ]
    },
    {
     "name": "stderr",
     "output_type": "stream",
     "text": [
      "192.168.21.245 - - [01/Sep/2022 15:10:44] \"POST /login HTTP/1.1\" 200 -\n"
     ]
    },
    {
     "name": "stdout",
     "output_type": "stream",
     "text": [
      "로그인 시도\n",
      "[('pky5335', 'qwer1234!', 'qwerq', datetime.datetime(1991, 4, 13, 0, 0), '124235141243', 'pky5335@nate.com', '남', 1, datetime.datetime(2022, 8, 25, 15, 13, 53), None, None, 0, 0, 'wer')]\n",
      "pky5335 로그인\n",
      "마커갱신\n"
     ]
    },
    {
     "name": "stderr",
     "output_type": "stream",
     "text": [
      "192.168.21.245 - - [01/Sep/2022 15:10:44] \"POST /mappage HTTP/1.1\" 200 -\n"
     ]
    },
    {
     "name": "stdout",
     "output_type": "stream",
     "text": [
      "[(1, 5, 'wef', 'swf', 'rtb', 'pky5335', None, 1, 35.1467299, 126.92201, datetime.datetime(2022, 9, 1, 11, 16, 26), 0), (4, 2, '여기', '없음', '구라임', 'ahy0914', None, 1, 35.1467488, 126.922456, datetime.datetime(2022, 9, 1, 11, 19, 25), 0)]\n",
      "갱신완료\n",
      "1,5,wef,swf,rtb,pky5335,None,1,35.1467299,126.92201,2022-09-01 11:16:26,0/4,2,여기,없음,구라임,ahy0914,None,1,35.1467488,126.922456,2022-09-01 11:19:25,0/\n"
     ]
    },
    {
     "name": "stderr",
     "output_type": "stream",
     "text": [
      "192.168.21.245 - - [01/Sep/2022 15:10:46] \"POST /mappage HTTP/1.1\" 200 -\n"
     ]
    },
    {
     "name": "stdout",
     "output_type": "stream",
     "text": [
      "마커갱신\n",
      "[(1, 5, 'wef', 'swf', 'rtb', 'pky5335', None, 1, 35.1467299, 126.92201, datetime.datetime(2022, 9, 1, 11, 16, 26), 0), (4, 2, '여기', '없음', '구라임', 'ahy0914', None, 1, 35.1467488, 126.922456, datetime.datetime(2022, 9, 1, 11, 19, 25), 0)]\n",
      "갱신완료\n",
      "1,5,wef,swf,rtb,pky5335,None,1,35.1467299,126.92201,2022-09-01 11:16:26,0/4,2,여기,없음,구라임,ahy0914,None,1,35.1467488,126.922456,2022-09-01 11:19:25,0/\n"
     ]
    },
    {
     "name": "stderr",
     "output_type": "stream",
     "text": [
      "192.168.21.245 - - [01/Sep/2022 15:10:49] \"POST /mappage HTTP/1.1\" 200 -\n"
     ]
    },
    {
     "name": "stdout",
     "output_type": "stream",
     "text": [
      "마커갱신\n",
      "[(1, 5, 'wef', 'swf', 'rtb', 'pky5335', None, 1, 35.1467299, 126.92201, datetime.datetime(2022, 9, 1, 11, 16, 26), 0), (4, 2, '여기', '없음', '구라임', 'ahy0914', None, 1, 35.1467488, 126.922456, datetime.datetime(2022, 9, 1, 11, 19, 25), 0)]\n",
      "갱신완료\n",
      "1,5,wef,swf,rtb,pky5335,None,1,35.1467299,126.92201,2022-09-01 11:16:26,0/4,2,여기,없음,구라임,ahy0914,None,1,35.1467488,126.922456,2022-09-01 11:19:25,0/\n"
     ]
    },
    {
     "name": "stderr",
     "output_type": "stream",
     "text": [
      "192.168.21.245 - - [01/Sep/2022 15:10:50] \"POST /mappage HTTP/1.1\" 200 -\n"
     ]
    },
    {
     "name": "stdout",
     "output_type": "stream",
     "text": [
      "마커갱신\n",
      "[(1, 5, 'wef', 'swf', 'rtb', 'pky5335', None, 1, 35.1467299, 126.92201, datetime.datetime(2022, 9, 1, 11, 16, 26), 0), (4, 2, '여기', '없음', '구라임', 'ahy0914', None, 1, 35.1467488, 126.922456, datetime.datetime(2022, 9, 1, 11, 19, 25), 0)]\n",
      "갱신완료\n",
      "1,5,wef,swf,rtb,pky5335,None,1,35.1467299,126.92201,2022-09-01 11:16:26,0/4,2,여기,없음,구라임,ahy0914,None,1,35.1467488,126.922456,2022-09-01 11:19:25,0/\n"
     ]
    },
    {
     "name": "stderr",
     "output_type": "stream",
     "text": [
      "192.168.21.245 - - [01/Sep/2022 15:10:55] \"POST /mappage HTTP/1.1\" 200 -\n"
     ]
    },
    {
     "name": "stdout",
     "output_type": "stream",
     "text": [
      "마커갱신\n",
      "[(1, 5, 'wef', 'swf', 'rtb', 'pky5335', None, 1, 35.1467299, 126.92201, datetime.datetime(2022, 9, 1, 11, 16, 26), 0), (4, 2, '여기', '없음', '구라임', 'ahy0914', None, 1, 35.1467488, 126.922456, datetime.datetime(2022, 9, 1, 11, 19, 25), 0)]\n",
      "갱신완료\n",
      "1,5,wef,swf,rtb,pky5335,None,1,35.1467299,126.92201,2022-09-01 11:16:26,0/4,2,여기,없음,구라임,ahy0914,None,1,35.1467488,126.922456,2022-09-01 11:19:25,0/\n"
     ]
    },
    {
     "name": "stderr",
     "output_type": "stream",
     "text": [
      "192.168.21.245 - - [01/Sep/2022 15:11:00] \"POST /mappage HTTP/1.1\" 200 -\n"
     ]
    },
    {
     "name": "stdout",
     "output_type": "stream",
     "text": [
      "마커갱신\n",
      "[(1, 5, 'wef', 'swf', 'rtb', 'pky5335', None, 1, 35.1467299, 126.92201, datetime.datetime(2022, 9, 1, 11, 16, 26), 0), (4, 2, '여기', '없음', '구라임', 'ahy0914', None, 1, 35.1467488, 126.922456, datetime.datetime(2022, 9, 1, 11, 19, 25), 0)]\n",
      "갱신완료\n",
      "1,5,wef,swf,rtb,pky5335,None,1,35.1467299,126.92201,2022-09-01 11:16:26,0/4,2,여기,없음,구라임,ahy0914,None,1,35.1467488,126.922456,2022-09-01 11:19:25,0/\n"
     ]
    },
    {
     "name": "stderr",
     "output_type": "stream",
     "text": [
      "192.168.21.245 - - [01/Sep/2022 15:11:05] \"POST /mappage HTTP/1.1\" 200 -\n"
     ]
    },
    {
     "name": "stdout",
     "output_type": "stream",
     "text": [
      "마커갱신\n",
      "[(1, 5, 'wef', 'swf', 'rtb', 'pky5335', None, 1, 35.1467299, 126.92201, datetime.datetime(2022, 9, 1, 11, 16, 26), 0), (4, 2, '여기', '없음', '구라임', 'ahy0914', None, 1, 35.1467488, 126.922456, datetime.datetime(2022, 9, 1, 11, 19, 25), 0)]\n",
      "갱신완료\n",
      "1,5,wef,swf,rtb,pky5335,None,1,35.1467299,126.92201,2022-09-01 11:16:26,0/4,2,여기,없음,구라임,ahy0914,None,1,35.1467488,126.922456,2022-09-01 11:19:25,0/\n"
     ]
    },
    {
     "name": "stderr",
     "output_type": "stream",
     "text": [
      "192.168.21.245 - - [01/Sep/2022 15:11:10] \"POST /mappage HTTP/1.1\" 200 -\n"
     ]
    },
    {
     "name": "stdout",
     "output_type": "stream",
     "text": [
      "마커갱신\n",
      "[(1, 5, 'wef', 'swf', 'rtb', 'pky5335', None, 1, 35.1467299, 126.92201, datetime.datetime(2022, 9, 1, 11, 16, 26), 0), (4, 2, '여기', '없음', '구라임', 'ahy0914', None, 1, 35.1467488, 126.922456, datetime.datetime(2022, 9, 1, 11, 19, 25), 0)]\n",
      "갱신완료\n",
      "1,5,wef,swf,rtb,pky5335,None,1,35.1467299,126.92201,2022-09-01 11:16:26,0/4,2,여기,없음,구라임,ahy0914,None,1,35.1467488,126.922456,2022-09-01 11:19:25,0/\n"
     ]
    },
    {
     "name": "stderr",
     "output_type": "stream",
     "text": [
      "192.168.21.245 - - [01/Sep/2022 15:11:15] \"POST /mappage HTTP/1.1\" 200 -\n"
     ]
    },
    {
     "name": "stdout",
     "output_type": "stream",
     "text": [
      "마커갱신\n",
      "[(1, 5, 'wef', 'swf', 'rtb', 'pky5335', None, 1, 35.1467299, 126.92201, datetime.datetime(2022, 9, 1, 11, 16, 26), 0), (4, 2, '여기', '없음', '구라임', 'ahy0914', None, 1, 35.1467488, 126.922456, datetime.datetime(2022, 9, 1, 11, 19, 25), 0)]\n",
      "갱신완료\n",
      "1,5,wef,swf,rtb,pky5335,None,1,35.1467299,126.92201,2022-09-01 11:16:26,0/4,2,여기,없음,구라임,ahy0914,None,1,35.1467488,126.922456,2022-09-01 11:19:25,0/\n"
     ]
    },
    {
     "name": "stderr",
     "output_type": "stream",
     "text": [
      "192.168.21.245 - - [01/Sep/2022 15:11:20] \"POST /mappage HTTP/1.1\" 200 -\n"
     ]
    },
    {
     "name": "stdout",
     "output_type": "stream",
     "text": [
      "마커갱신\n",
      "[(1, 5, 'wef', 'swf', 'rtb', 'pky5335', None, 1, 35.1467299, 126.92201, datetime.datetime(2022, 9, 1, 11, 16, 26), 0), (4, 2, '여기', '없음', '구라임', 'ahy0914', None, 1, 35.1467488, 126.922456, datetime.datetime(2022, 9, 1, 11, 19, 25), 0)]\n",
      "갱신완료\n",
      "1,5,wef,swf,rtb,pky5335,None,1,35.1467299,126.92201,2022-09-01 11:16:26,0/4,2,여기,없음,구라임,ahy0914,None,1,35.1467488,126.922456,2022-09-01 11:19:25,0/\n"
     ]
    },
    {
     "name": "stderr",
     "output_type": "stream",
     "text": [
      "192.168.21.245 - - [01/Sep/2022 15:11:25] \"POST /mappage HTTP/1.1\" 200 -\n"
     ]
    },
    {
     "name": "stdout",
     "output_type": "stream",
     "text": [
      "마커갱신\n",
      "[(1, 5, 'wef', 'swf', 'rtb', 'pky5335', None, 1, 35.1467299, 126.92201, datetime.datetime(2022, 9, 1, 11, 16, 26), 0), (4, 2, '여기', '없음', '구라임', 'ahy0914', None, 1, 35.1467488, 126.922456, datetime.datetime(2022, 9, 1, 11, 19, 25), 0)]\n",
      "갱신완료\n",
      "1,5,wef,swf,rtb,pky5335,None,1,35.1467299,126.92201,2022-09-01 11:16:26,0/4,2,여기,없음,구라임,ahy0914,None,1,35.1467488,126.922456,2022-09-01 11:19:25,0/\n"
     ]
    },
    {
     "name": "stderr",
     "output_type": "stream",
     "text": [
      "192.168.21.245 - - [01/Sep/2022 15:11:30] \"POST /mappage HTTP/1.1\" 200 -\n"
     ]
    },
    {
     "name": "stdout",
     "output_type": "stream",
     "text": [
      "마커갱신\n",
      "[(1, 5, 'wef', 'swf', 'rtb', 'pky5335', None, 1, 35.1467299, 126.92201, datetime.datetime(2022, 9, 1, 11, 16, 26), 0), (4, 2, '여기', '없음', '구라임', 'ahy0914', None, 1, 35.1467488, 126.922456, datetime.datetime(2022, 9, 1, 11, 19, 25), 0)]\n",
      "갱신완료\n",
      "1,5,wef,swf,rtb,pky5335,None,1,35.1467299,126.92201,2022-09-01 11:16:26,0/4,2,여기,없음,구라임,ahy0914,None,1,35.1467488,126.922456,2022-09-01 11:19:25,0/\n"
     ]
    },
    {
     "name": "stderr",
     "output_type": "stream",
     "text": [
      "192.168.21.245 - - [01/Sep/2022 15:11:35] \"POST /mappage HTTP/1.1\" 200 -\n"
     ]
    },
    {
     "name": "stdout",
     "output_type": "stream",
     "text": [
      "마커갱신\n",
      "[(1, 5, 'wef', 'swf', 'rtb', 'pky5335', None, 1, 35.1467299, 126.92201, datetime.datetime(2022, 9, 1, 11, 16, 26), 0), (4, 2, '여기', '없음', '구라임', 'ahy0914', None, 1, 35.1467488, 126.922456, datetime.datetime(2022, 9, 1, 11, 19, 25), 0)]\n",
      "갱신완료\n",
      "1,5,wef,swf,rtb,pky5335,None,1,35.1467299,126.92201,2022-09-01 11:16:26,0/4,2,여기,없음,구라임,ahy0914,None,1,35.1467488,126.922456,2022-09-01 11:19:25,0/\n"
     ]
    },
    {
     "name": "stderr",
     "output_type": "stream",
     "text": [
      "192.168.21.245 - - [01/Sep/2022 15:11:41] \"POST /mappage HTTP/1.1\" 200 -\n"
     ]
    },
    {
     "name": "stdout",
     "output_type": "stream",
     "text": [
      "마커갱신\n",
      "[(1, 5, 'wef', 'swf', 'rtb', 'pky5335', None, 1, 35.1467299, 126.92201, datetime.datetime(2022, 9, 1, 11, 16, 26), 0), (4, 2, '여기', '없음', '구라임', 'ahy0914', None, 1, 35.1467488, 126.922456, datetime.datetime(2022, 9, 1, 11, 19, 25), 0)]\n",
      "갱신완료\n",
      "1,5,wef,swf,rtb,pky5335,None,1,35.1467299,126.92201,2022-09-01 11:16:26,0/4,2,여기,없음,구라임,ahy0914,None,1,35.1467488,126.922456,2022-09-01 11:19:25,0/\n"
     ]
    },
    {
     "name": "stderr",
     "output_type": "stream",
     "text": [
      "192.168.21.245 - - [01/Sep/2022 15:11:45] \"POST /mappage HTTP/1.1\" 200 -\n"
     ]
    },
    {
     "name": "stdout",
     "output_type": "stream",
     "text": [
      "마커갱신\n",
      "[(1, 5, 'wef', 'swf', 'rtb', 'pky5335', None, 1, 35.1467299, 126.92201, datetime.datetime(2022, 9, 1, 11, 16, 26), 0), (4, 2, '여기', '없음', '구라임', 'ahy0914', None, 1, 35.1467488, 126.922456, datetime.datetime(2022, 9, 1, 11, 19, 25), 0)]\n",
      "갱신완료\n",
      "1,5,wef,swf,rtb,pky5335,None,1,35.1467299,126.92201,2022-09-01 11:16:26,0/4,2,여기,없음,구라임,ahy0914,None,1,35.1467488,126.922456,2022-09-01 11:19:25,0/\n"
     ]
    },
    {
     "name": "stderr",
     "output_type": "stream",
     "text": [
      "192.168.21.245 - - [01/Sep/2022 15:11:50] \"POST /mappage HTTP/1.1\" 200 -\n"
     ]
    },
    {
     "name": "stdout",
     "output_type": "stream",
     "text": [
      "마커갱신\n",
      "[(1, 5, 'wef', 'swf', 'rtb', 'pky5335', None, 1, 35.1467299, 126.92201, datetime.datetime(2022, 9, 1, 11, 16, 26), 0), (4, 2, '여기', '없음', '구라임', 'ahy0914', None, 1, 35.1467488, 126.922456, datetime.datetime(2022, 9, 1, 11, 19, 25), 0)]\n",
      "갱신완료\n",
      "1,5,wef,swf,rtb,pky5335,None,1,35.1467299,126.92201,2022-09-01 11:16:26,0/4,2,여기,없음,구라임,ahy0914,None,1,35.1467488,126.922456,2022-09-01 11:19:25,0/\n"
     ]
    },
    {
     "name": "stderr",
     "output_type": "stream",
     "text": [
      "192.168.21.245 - - [01/Sep/2022 15:11:55] \"POST /mappage HTTP/1.1\" 200 -\n"
     ]
    },
    {
     "name": "stdout",
     "output_type": "stream",
     "text": [
      "마커갱신\n",
      "[(1, 5, 'wef', 'swf', 'rtb', 'pky5335', None, 1, 35.1467299, 126.92201, datetime.datetime(2022, 9, 1, 11, 16, 26), 0), (4, 2, '여기', '없음', '구라임', 'ahy0914', None, 1, 35.1467488, 126.922456, datetime.datetime(2022, 9, 1, 11, 19, 25), 0)]\n",
      "갱신완료\n",
      "1,5,wef,swf,rtb,pky5335,None,1,35.1467299,126.92201,2022-09-01 11:16:26,0/4,2,여기,없음,구라임,ahy0914,None,1,35.1467488,126.922456,2022-09-01 11:19:25,0/\n"
     ]
    },
    {
     "name": "stderr",
     "output_type": "stream",
     "text": [
      "192.168.21.245 - - [01/Sep/2022 15:12:00] \"POST /mappage HTTP/1.1\" 200 -\n"
     ]
    },
    {
     "name": "stdout",
     "output_type": "stream",
     "text": [
      "마커갱신\n",
      "[(1, 5, 'wef', 'swf', 'rtb', 'pky5335', None, 1, 35.1467299, 126.92201, datetime.datetime(2022, 9, 1, 11, 16, 26), 0), (4, 2, '여기', '없음', '구라임', 'ahy0914', None, 1, 35.1467488, 126.922456, datetime.datetime(2022, 9, 1, 11, 19, 25), 0)]\n",
      "갱신완료\n",
      "1,5,wef,swf,rtb,pky5335,None,1,35.1467299,126.92201,2022-09-01 11:16:26,0/4,2,여기,없음,구라임,ahy0914,None,1,35.1467488,126.922456,2022-09-01 11:19:25,0/\n"
     ]
    },
    {
     "name": "stderr",
     "output_type": "stream",
     "text": [
      "192.168.21.245 - - [01/Sep/2022 15:12:05] \"POST /mappage HTTP/1.1\" 200 -\n"
     ]
    },
    {
     "name": "stdout",
     "output_type": "stream",
     "text": [
      "마커갱신\n",
      "[(1, 5, 'wef', 'swf', 'rtb', 'pky5335', None, 1, 35.1467299, 126.92201, datetime.datetime(2022, 9, 1, 11, 16, 26), 0), (4, 2, '여기', '없음', '구라임', 'ahy0914', None, 1, 35.1467488, 126.922456, datetime.datetime(2022, 9, 1, 11, 19, 25), 0)]\n",
      "갱신완료\n",
      "1,5,wef,swf,rtb,pky5335,None,1,35.1467299,126.92201,2022-09-01 11:16:26,0/4,2,여기,없음,구라임,ahy0914,None,1,35.1467488,126.922456,2022-09-01 11:19:25,0/\n"
     ]
    },
    {
     "name": "stderr",
     "output_type": "stream",
     "text": [
      "192.168.21.245 - - [01/Sep/2022 15:12:10] \"POST /mappage HTTP/1.1\" 200 -\n"
     ]
    },
    {
     "name": "stdout",
     "output_type": "stream",
     "text": [
      "마커갱신\n",
      "[(1, 5, 'wef', 'swf', 'rtb', 'pky5335', None, 1, 35.1467299, 126.92201, datetime.datetime(2022, 9, 1, 11, 16, 26), 0), (4, 2, '여기', '없음', '구라임', 'ahy0914', None, 1, 35.1467488, 126.922456, datetime.datetime(2022, 9, 1, 11, 19, 25), 0)]\n",
      "갱신완료\n",
      "1,5,wef,swf,rtb,pky5335,None,1,35.1467299,126.92201,2022-09-01 11:16:26,0/4,2,여기,없음,구라임,ahy0914,None,1,35.1467488,126.922456,2022-09-01 11:19:25,0/\n"
     ]
    },
    {
     "name": "stderr",
     "output_type": "stream",
     "text": [
      "192.168.21.245 - - [01/Sep/2022 15:12:15] \"POST /mappage HTTP/1.1\" 200 -\n"
     ]
    },
    {
     "name": "stdout",
     "output_type": "stream",
     "text": [
      "마커갱신\n",
      "[(1, 5, 'wef', 'swf', 'rtb', 'pky5335', None, 1, 35.1467299, 126.92201, datetime.datetime(2022, 9, 1, 11, 16, 26), 0), (4, 2, '여기', '없음', '구라임', 'ahy0914', None, 1, 35.1467488, 126.922456, datetime.datetime(2022, 9, 1, 11, 19, 25), 0)]\n",
      "갱신완료\n",
      "1,5,wef,swf,rtb,pky5335,None,1,35.1467299,126.92201,2022-09-01 11:16:26,0/4,2,여기,없음,구라임,ahy0914,None,1,35.1467488,126.922456,2022-09-01 11:19:25,0/\n"
     ]
    },
    {
     "name": "stderr",
     "output_type": "stream",
     "text": [
      "192.168.21.245 - - [01/Sep/2022 15:12:20] \"POST /mappage HTTP/1.1\" 200 -\n"
     ]
    },
    {
     "name": "stdout",
     "output_type": "stream",
     "text": [
      "마커갱신\n",
      "[(1, 5, 'wef', 'swf', 'rtb', 'pky5335', None, 1, 35.1467299, 126.92201, datetime.datetime(2022, 9, 1, 11, 16, 26), 0), (4, 2, '여기', '없음', '구라임', 'ahy0914', None, 1, 35.1467488, 126.922456, datetime.datetime(2022, 9, 1, 11, 19, 25), 0)]\n",
      "갱신완료\n",
      "1,5,wef,swf,rtb,pky5335,None,1,35.1467299,126.92201,2022-09-01 11:16:26,0/4,2,여기,없음,구라임,ahy0914,None,1,35.1467488,126.922456,2022-09-01 11:19:25,0/\n"
     ]
    },
    {
     "name": "stderr",
     "output_type": "stream",
     "text": [
      "192.168.21.245 - - [01/Sep/2022 15:12:26] \"POST /mappage HTTP/1.1\" 200 -\n"
     ]
    },
    {
     "name": "stdout",
     "output_type": "stream",
     "text": [
      "마커갱신\n",
      "[(1, 5, 'wef', 'swf', 'rtb', 'pky5335', None, 1, 35.1467299, 126.92201, datetime.datetime(2022, 9, 1, 11, 16, 26), 0), (4, 2, '여기', '없음', '구라임', 'ahy0914', None, 1, 35.1467488, 126.922456, datetime.datetime(2022, 9, 1, 11, 19, 25), 0)]\n",
      "갱신완료\n",
      "1,5,wef,swf,rtb,pky5335,None,1,35.1467299,126.92201,2022-09-01 11:16:26,0/4,2,여기,없음,구라임,ahy0914,None,1,35.1467488,126.922456,2022-09-01 11:19:25,0/\n"
     ]
    },
    {
     "name": "stderr",
     "output_type": "stream",
     "text": [
      "192.168.21.245 - - [01/Sep/2022 15:12:30] \"POST /mappage HTTP/1.1\" 200 -\n"
     ]
    },
    {
     "name": "stdout",
     "output_type": "stream",
     "text": [
      "마커갱신\n",
      "[(1, 5, 'wef', 'swf', 'rtb', 'pky5335', None, 1, 35.1467299, 126.92201, datetime.datetime(2022, 9, 1, 11, 16, 26), 0), (4, 2, '여기', '없음', '구라임', 'ahy0914', None, 1, 35.1467488, 126.922456, datetime.datetime(2022, 9, 1, 11, 19, 25), 0)]\n",
      "갱신완료\n",
      "1,5,wef,swf,rtb,pky5335,None,1,35.1467299,126.92201,2022-09-01 11:16:26,0/4,2,여기,없음,구라임,ahy0914,None,1,35.1467488,126.922456,2022-09-01 11:19:25,0/\n"
     ]
    },
    {
     "name": "stderr",
     "output_type": "stream",
     "text": [
      "192.168.21.245 - - [01/Sep/2022 15:12:35] \"POST /mappage HTTP/1.1\" 200 -\n"
     ]
    },
    {
     "name": "stdout",
     "output_type": "stream",
     "text": [
      "마커갱신\n",
      "[(1, 5, 'wef', 'swf', 'rtb', 'pky5335', None, 1, 35.1467299, 126.92201, datetime.datetime(2022, 9, 1, 11, 16, 26), 0), (4, 2, '여기', '없음', '구라임', 'ahy0914', None, 1, 35.1467488, 126.922456, datetime.datetime(2022, 9, 1, 11, 19, 25), 0)]\n",
      "갱신완료\n",
      "1,5,wef,swf,rtb,pky5335,None,1,35.1467299,126.92201,2022-09-01 11:16:26,0/4,2,여기,없음,구라임,ahy0914,None,1,35.1467488,126.922456,2022-09-01 11:19:25,0/\n"
     ]
    },
    {
     "name": "stderr",
     "output_type": "stream",
     "text": [
      "192.168.21.245 - - [01/Sep/2022 15:12:41] \"POST /mappage HTTP/1.1\" 200 -\n"
     ]
    },
    {
     "name": "stdout",
     "output_type": "stream",
     "text": [
      "마커갱신\n",
      "[(1, 5, 'wef', 'swf', 'rtb', 'pky5335', None, 1, 35.1467299, 126.92201, datetime.datetime(2022, 9, 1, 11, 16, 26), 0), (4, 2, '여기', '없음', '구라임', 'ahy0914', None, 1, 35.1467488, 126.922456, datetime.datetime(2022, 9, 1, 11, 19, 25), 0)]\n",
      "갱신완료\n",
      "1,5,wef,swf,rtb,pky5335,None,1,35.1467299,126.92201,2022-09-01 11:16:26,0/4,2,여기,없음,구라임,ahy0914,None,1,35.1467488,126.922456,2022-09-01 11:19:25,0/\n"
     ]
    },
    {
     "name": "stderr",
     "output_type": "stream",
     "text": [
      "192.168.21.245 - - [01/Sep/2022 15:12:46] \"POST /mappage HTTP/1.1\" 200 -\n"
     ]
    },
    {
     "name": "stdout",
     "output_type": "stream",
     "text": [
      "마커갱신\n",
      "[(1, 5, 'wef', 'swf', 'rtb', 'pky5335', None, 1, 35.1467299, 126.92201, datetime.datetime(2022, 9, 1, 11, 16, 26), 0), (4, 2, '여기', '없음', '구라임', 'ahy0914', None, 1, 35.1467488, 126.922456, datetime.datetime(2022, 9, 1, 11, 19, 25), 0)]\n",
      "갱신완료\n",
      "1,5,wef,swf,rtb,pky5335,None,1,35.1467299,126.92201,2022-09-01 11:16:26,0/4,2,여기,없음,구라임,ahy0914,None,1,35.1467488,126.922456,2022-09-01 11:19:25,0/\n"
     ]
    },
    {
     "name": "stderr",
     "output_type": "stream",
     "text": [
      "192.168.21.245 - - [01/Sep/2022 15:12:51] \"POST /mappage HTTP/1.1\" 200 -\n"
     ]
    },
    {
     "name": "stdout",
     "output_type": "stream",
     "text": [
      "마커갱신\n",
      "[(1, 5, 'wef', 'swf', 'rtb', 'pky5335', None, 1, 35.1467299, 126.92201, datetime.datetime(2022, 9, 1, 11, 16, 26), 0), (4, 2, '여기', '없음', '구라임', 'ahy0914', None, 1, 35.1467488, 126.922456, datetime.datetime(2022, 9, 1, 11, 19, 25), 0)]\n",
      "갱신완료\n",
      "1,5,wef,swf,rtb,pky5335,None,1,35.1467299,126.92201,2022-09-01 11:16:26,0/4,2,여기,없음,구라임,ahy0914,None,1,35.1467488,126.922456,2022-09-01 11:19:25,0/\n"
     ]
    },
    {
     "name": "stderr",
     "output_type": "stream",
     "text": [
      "192.168.21.245 - - [01/Sep/2022 15:12:56] \"POST /mappage HTTP/1.1\" 200 -\n"
     ]
    },
    {
     "name": "stdout",
     "output_type": "stream",
     "text": [
      "마커갱신\n",
      "[(1, 5, 'wef', 'swf', 'rtb', 'pky5335', None, 1, 35.1467299, 126.92201, datetime.datetime(2022, 9, 1, 11, 16, 26), 0), (4, 2, '여기', '없음', '구라임', 'ahy0914', None, 1, 35.1467488, 126.922456, datetime.datetime(2022, 9, 1, 11, 19, 25), 0)]\n",
      "갱신완료\n",
      "1,5,wef,swf,rtb,pky5335,None,1,35.1467299,126.92201,2022-09-01 11:16:26,0/4,2,여기,없음,구라임,ahy0914,None,1,35.1467488,126.922456,2022-09-01 11:19:25,0/\n"
     ]
    },
    {
     "name": "stderr",
     "output_type": "stream",
     "text": [
      "192.168.21.245 - - [01/Sep/2022 15:13:00] \"POST /mappage HTTP/1.1\" 200 -\n"
     ]
    },
    {
     "name": "stdout",
     "output_type": "stream",
     "text": [
      "마커갱신\n",
      "[(1, 5, 'wef', 'swf', 'rtb', 'pky5335', None, 1, 35.1467299, 126.92201, datetime.datetime(2022, 9, 1, 11, 16, 26), 0), (4, 2, '여기', '없음', '구라임', 'ahy0914', None, 1, 35.1467488, 126.922456, datetime.datetime(2022, 9, 1, 11, 19, 25), 0)]\n",
      "갱신완료\n",
      "1,5,wef,swf,rtb,pky5335,None,1,35.1467299,126.92201,2022-09-01 11:16:26,0/4,2,여기,없음,구라임,ahy0914,None,1,35.1467488,126.922456,2022-09-01 11:19:25,0/\n"
     ]
    },
    {
     "name": "stderr",
     "output_type": "stream",
     "text": [
      "192.168.21.245 - - [01/Sep/2022 15:13:05] \"POST /mappage HTTP/1.1\" 200 -\n"
     ]
    },
    {
     "name": "stdout",
     "output_type": "stream",
     "text": [
      "마커갱신\n",
      "[(1, 5, 'wef', 'swf', 'rtb', 'pky5335', None, 1, 35.1467299, 126.92201, datetime.datetime(2022, 9, 1, 11, 16, 26), 0), (4, 2, '여기', '없음', '구라임', 'ahy0914', None, 1, 35.1467488, 126.922456, datetime.datetime(2022, 9, 1, 11, 19, 25), 0)]\n",
      "갱신완료\n",
      "1,5,wef,swf,rtb,pky5335,None,1,35.1467299,126.92201,2022-09-01 11:16:26,0/4,2,여기,없음,구라임,ahy0914,None,1,35.1467488,126.922456,2022-09-01 11:19:25,0/\n"
     ]
    },
    {
     "name": "stderr",
     "output_type": "stream",
     "text": [
      "192.168.21.245 - - [01/Sep/2022 15:13:11] \"POST /mappage HTTP/1.1\" 200 -\n"
     ]
    },
    {
     "name": "stdout",
     "output_type": "stream",
     "text": [
      "마커갱신\n",
      "[(1, 5, 'wef', 'swf', 'rtb', 'pky5335', None, 1, 35.1467299, 126.92201, datetime.datetime(2022, 9, 1, 11, 16, 26), 0), (4, 2, '여기', '없음', '구라임', 'ahy0914', None, 1, 35.1467488, 126.922456, datetime.datetime(2022, 9, 1, 11, 19, 25), 0)]\n",
      "갱신완료\n",
      "1,5,wef,swf,rtb,pky5335,None,1,35.1467299,126.92201,2022-09-01 11:16:26,0/4,2,여기,없음,구라임,ahy0914,None,1,35.1467488,126.922456,2022-09-01 11:19:25,0/\n"
     ]
    },
    {
     "name": "stderr",
     "output_type": "stream",
     "text": [
      "192.168.21.245 - - [01/Sep/2022 15:13:15] \"POST /mappage HTTP/1.1\" 200 -\n"
     ]
    },
    {
     "name": "stdout",
     "output_type": "stream",
     "text": [
      "마커갱신\n",
      "[(1, 5, 'wef', 'swf', 'rtb', 'pky5335', None, 1, 35.1467299, 126.92201, datetime.datetime(2022, 9, 1, 11, 16, 26), 0), (4, 2, '여기', '없음', '구라임', 'ahy0914', None, 1, 35.1467488, 126.922456, datetime.datetime(2022, 9, 1, 11, 19, 25), 0)]\n",
      "갱신완료\n",
      "1,5,wef,swf,rtb,pky5335,None,1,35.1467299,126.92201,2022-09-01 11:16:26,0/4,2,여기,없음,구라임,ahy0914,None,1,35.1467488,126.922456,2022-09-01 11:19:25,0/\n"
     ]
    },
    {
     "name": "stderr",
     "output_type": "stream",
     "text": [
      "192.168.21.245 - - [01/Sep/2022 15:13:20] \"POST /mappage HTTP/1.1\" 200 -\n"
     ]
    },
    {
     "name": "stdout",
     "output_type": "stream",
     "text": [
      "마커갱신\n",
      "[(1, 5, 'wef', 'swf', 'rtb', 'pky5335', None, 1, 35.1467299, 126.92201, datetime.datetime(2022, 9, 1, 11, 16, 26), 0), (4, 2, '여기', '없음', '구라임', 'ahy0914', None, 1, 35.1467488, 126.922456, datetime.datetime(2022, 9, 1, 11, 19, 25), 0)]\n",
      "갱신완료\n",
      "1,5,wef,swf,rtb,pky5335,None,1,35.1467299,126.92201,2022-09-01 11:16:26,0/4,2,여기,없음,구라임,ahy0914,None,1,35.1467488,126.922456,2022-09-01 11:19:25,0/\n"
     ]
    },
    {
     "name": "stderr",
     "output_type": "stream",
     "text": [
      "192.168.21.245 - - [01/Sep/2022 15:13:26] \"POST /mappage HTTP/1.1\" 200 -\n"
     ]
    },
    {
     "name": "stdout",
     "output_type": "stream",
     "text": [
      "마커갱신\n",
      "[(1, 5, 'wef', 'swf', 'rtb', 'pky5335', None, 1, 35.1467299, 126.92201, datetime.datetime(2022, 9, 1, 11, 16, 26), 0), (4, 2, '여기', '없음', '구라임', 'ahy0914', None, 1, 35.1467488, 126.922456, datetime.datetime(2022, 9, 1, 11, 19, 25), 0)]\n",
      "갱신완료\n",
      "1,5,wef,swf,rtb,pky5335,None,1,35.1467299,126.92201,2022-09-01 11:16:26,0/4,2,여기,없음,구라임,ahy0914,None,1,35.1467488,126.922456,2022-09-01 11:19:25,0/\n"
     ]
    },
    {
     "name": "stderr",
     "output_type": "stream",
     "text": [
      "192.168.21.245 - - [01/Sep/2022 15:13:39] \"POST /login HTTP/1.1\" 200 -\n"
     ]
    },
    {
     "name": "stdout",
     "output_type": "stream",
     "text": [
      "로그인 시도\n",
      "[('pky5335', 'qwer1234!', 'qwerq', datetime.datetime(1991, 4, 13, 0, 0), '124235141243', 'pky5335@nate.com', '남', 1, datetime.datetime(2022, 8, 25, 15, 13, 53), None, None, 0, 0, 'wer')]\n",
      "pky5335 로그인\n"
     ]
    },
    {
     "name": "stderr",
     "output_type": "stream",
     "text": [
      "192.168.21.245 - - [01/Sep/2022 15:13:39] \"POST /mappage HTTP/1.1\" 200 -\n"
     ]
    },
    {
     "name": "stdout",
     "output_type": "stream",
     "text": [
      "마커갱신\n",
      "[(1, 5, 'wef', 'swf', 'rtb', 'pky5335', None, 1, 35.1467299, 126.92201, datetime.datetime(2022, 9, 1, 11, 16, 26), 0), (4, 2, '여기', '없음', '구라임', 'ahy0914', None, 1, 35.1467488, 126.922456, datetime.datetime(2022, 9, 1, 11, 19, 25), 0)]\n",
      "갱신완료\n",
      "1,5,wef,swf,rtb,pky5335,None,1,35.1467299,126.92201,2022-09-01 11:16:26,0/4,2,여기,없음,구라임,ahy0914,None,1,35.1467488,126.922456,2022-09-01 11:19:25,0/\n"
     ]
    },
    {
     "name": "stderr",
     "output_type": "stream",
     "text": [
      "192.168.21.245 - - [01/Sep/2022 15:14:35] \"POST /login HTTP/1.1\" 200 -\n"
     ]
    },
    {
     "name": "stdout",
     "output_type": "stream",
     "text": [
      "로그인 시도\n",
      "[('pky5335', 'qwer1234!', 'qwerq', datetime.datetime(1991, 4, 13, 0, 0), '124235141243', 'pky5335@nate.com', '남', 1, datetime.datetime(2022, 8, 25, 15, 13, 53), None, None, 0, 0, 'wer')]\n",
      "pky5335 로그인\n"
     ]
    },
    {
     "name": "stderr",
     "output_type": "stream",
     "text": [
      "192.168.21.245 - - [01/Sep/2022 15:14:36] \"POST /mappage HTTP/1.1\" 200 -\n"
     ]
    },
    {
     "name": "stdout",
     "output_type": "stream",
     "text": [
      "마커갱신\n",
      "[(1, 5, 'wef', 'swf', 'rtb', 'pky5335', None, 1, 35.1467299, 126.92201, datetime.datetime(2022, 9, 1, 11, 16, 26), 0), (4, 2, '여기', '없음', '구라임', 'ahy0914', None, 1, 35.1467488, 126.922456, datetime.datetime(2022, 9, 1, 11, 19, 25), 0)]\n",
      "갱신완료\n",
      "1,5,wef,swf,rtb,pky5335,None,1,35.1467299,126.92201,2022-09-01 11:16:26,0/4,2,여기,없음,구라임,ahy0914,None,1,35.1467488,126.922456,2022-09-01 11:19:25,0/\n"
     ]
    },
    {
     "name": "stderr",
     "output_type": "stream",
     "text": [
      "192.168.21.245 - - [01/Sep/2022 15:14:37] \"POST /mappage HTTP/1.1\" 200 -\n"
     ]
    },
    {
     "name": "stdout",
     "output_type": "stream",
     "text": [
      "마커갱신\n",
      "[(1, 5, 'wef', 'swf', 'rtb', 'pky5335', None, 1, 35.1467299, 126.92201, datetime.datetime(2022, 9, 1, 11, 16, 26), 0), (4, 2, '여기', '없음', '구라임', 'ahy0914', None, 1, 35.1467488, 126.922456, datetime.datetime(2022, 9, 1, 11, 19, 25), 0)]\n",
      "갱신완료\n",
      "1,5,wef,swf,rtb,pky5335,None,1,35.1467299,126.92201,2022-09-01 11:16:26,0/4,2,여기,없음,구라임,ahy0914,None,1,35.1467488,126.922456,2022-09-01 11:19:25,0/\n"
     ]
    },
    {
     "name": "stderr",
     "output_type": "stream",
     "text": [
      "192.168.21.245 - - [01/Sep/2022 15:14:42] \"POST /mappage HTTP/1.1\" 200 -\n"
     ]
    },
    {
     "name": "stdout",
     "output_type": "stream",
     "text": [
      "마커갱신\n",
      "[(1, 5, 'wef', 'swf', 'rtb', 'pky5335', None, 1, 35.1467299, 126.92201, datetime.datetime(2022, 9, 1, 11, 16, 26), 0), (4, 2, '여기', '없음', '구라임', 'ahy0914', None, 1, 35.1467488, 126.922456, datetime.datetime(2022, 9, 1, 11, 19, 25), 0)]\n",
      "갱신완료\n",
      "1,5,wef,swf,rtb,pky5335,None,1,35.1467299,126.92201,2022-09-01 11:16:26,0/4,2,여기,없음,구라임,ahy0914,None,1,35.1467488,126.922456,2022-09-01 11:19:25,0/\n"
     ]
    },
    {
     "name": "stderr",
     "output_type": "stream",
     "text": [
      "192.168.21.245 - - [01/Sep/2022 15:14:47] \"POST /mappage HTTP/1.1\" 200 -\n"
     ]
    },
    {
     "name": "stdout",
     "output_type": "stream",
     "text": [
      "마커갱신\n",
      "[(1, 5, 'wef', 'swf', 'rtb', 'pky5335', None, 1, 35.1467299, 126.92201, datetime.datetime(2022, 9, 1, 11, 16, 26), 0), (4, 2, '여기', '없음', '구라임', 'ahy0914', None, 1, 35.1467488, 126.922456, datetime.datetime(2022, 9, 1, 11, 19, 25), 0)]\n",
      "갱신완료\n",
      "1,5,wef,swf,rtb,pky5335,None,1,35.1467299,126.92201,2022-09-01 11:16:26,0/4,2,여기,없음,구라임,ahy0914,None,1,35.1467488,126.922456,2022-09-01 11:19:25,0/\n"
     ]
    },
    {
     "name": "stderr",
     "output_type": "stream",
     "text": [
      "192.168.21.245 - - [01/Sep/2022 15:14:52] \"POST /mappage HTTP/1.1\" 200 -\n"
     ]
    },
    {
     "name": "stdout",
     "output_type": "stream",
     "text": [
      "마커갱신\n",
      "[(1, 5, 'wef', 'swf', 'rtb', 'pky5335', None, 1, 35.1467299, 126.92201, datetime.datetime(2022, 9, 1, 11, 16, 26), 0), (4, 2, '여기', '없음', '구라임', 'ahy0914', None, 1, 35.1467488, 126.922456, datetime.datetime(2022, 9, 1, 11, 19, 25), 0)]\n",
      "갱신완료\n",
      "1,5,wef,swf,rtb,pky5335,None,1,35.1467299,126.92201,2022-09-01 11:16:26,0/4,2,여기,없음,구라임,ahy0914,None,1,35.1467488,126.922456,2022-09-01 11:19:25,0/\n"
     ]
    },
    {
     "name": "stderr",
     "output_type": "stream",
     "text": [
      "192.168.21.245 - - [01/Sep/2022 15:14:57] \"POST /mappage HTTP/1.1\" 200 -\n"
     ]
    },
    {
     "name": "stdout",
     "output_type": "stream",
     "text": [
      "마커갱신\n",
      "[(1, 5, 'wef', 'swf', 'rtb', 'pky5335', None, 1, 35.1467299, 126.92201, datetime.datetime(2022, 9, 1, 11, 16, 26), 0), (4, 2, '여기', '없음', '구라임', 'ahy0914', None, 1, 35.1467488, 126.922456, datetime.datetime(2022, 9, 1, 11, 19, 25), 0)]\n",
      "갱신완료\n",
      "1,5,wef,swf,rtb,pky5335,None,1,35.1467299,126.92201,2022-09-01 11:16:26,0/4,2,여기,없음,구라임,ahy0914,None,1,35.1467488,126.922456,2022-09-01 11:19:25,0/\n"
     ]
    },
    {
     "name": "stderr",
     "output_type": "stream",
     "text": [
      "192.168.21.245 - - [01/Sep/2022 15:15:02] \"POST /mappage HTTP/1.1\" 200 -\n"
     ]
    },
    {
     "name": "stdout",
     "output_type": "stream",
     "text": [
      "마커갱신\n",
      "[(1, 5, 'wef', 'swf', 'rtb', 'pky5335', None, 1, 35.1467299, 126.92201, datetime.datetime(2022, 9, 1, 11, 16, 26), 0), (4, 2, '여기', '없음', '구라임', 'ahy0914', None, 1, 35.1467488, 126.922456, datetime.datetime(2022, 9, 1, 11, 19, 25), 0)]\n",
      "갱신완료\n",
      "1,5,wef,swf,rtb,pky5335,None,1,35.1467299,126.92201,2022-09-01 11:16:26,0/4,2,여기,없음,구라임,ahy0914,None,1,35.1467488,126.922456,2022-09-01 11:19:25,0/\n"
     ]
    },
    {
     "name": "stderr",
     "output_type": "stream",
     "text": [
      "192.168.21.245 - - [01/Sep/2022 15:15:07] \"POST /mappage HTTP/1.1\" 200 -\n"
     ]
    },
    {
     "name": "stdout",
     "output_type": "stream",
     "text": [
      "마커갱신\n",
      "[(1, 5, 'wef', 'swf', 'rtb', 'pky5335', None, 1, 35.1467299, 126.92201, datetime.datetime(2022, 9, 1, 11, 16, 26), 0), (4, 2, '여기', '없음', '구라임', 'ahy0914', None, 1, 35.1467488, 126.922456, datetime.datetime(2022, 9, 1, 11, 19, 25), 0)]\n",
      "갱신완료\n",
      "1,5,wef,swf,rtb,pky5335,None,1,35.1467299,126.92201,2022-09-01 11:16:26,0/4,2,여기,없음,구라임,ahy0914,None,1,35.1467488,126.922456,2022-09-01 11:19:25,0/\n"
     ]
    },
    {
     "name": "stderr",
     "output_type": "stream",
     "text": [
      "192.168.21.245 - - [01/Sep/2022 15:15:12] \"POST /mappage HTTP/1.1\" 200 -\n"
     ]
    },
    {
     "name": "stdout",
     "output_type": "stream",
     "text": [
      "마커갱신\n",
      "[(1, 5, 'wef', 'swf', 'rtb', 'pky5335', None, 1, 35.1467299, 126.92201, datetime.datetime(2022, 9, 1, 11, 16, 26), 0), (4, 2, '여기', '없음', '구라임', 'ahy0914', None, 1, 35.1467488, 126.922456, datetime.datetime(2022, 9, 1, 11, 19, 25), 0)]\n",
      "갱신완료\n",
      "1,5,wef,swf,rtb,pky5335,None,1,35.1467299,126.92201,2022-09-01 11:16:26,0/4,2,여기,없음,구라임,ahy0914,None,1,35.1467488,126.922456,2022-09-01 11:19:25,0/\n"
     ]
    },
    {
     "name": "stderr",
     "output_type": "stream",
     "text": [
      "192.168.21.245 - - [01/Sep/2022 15:15:17] \"POST /mappage HTTP/1.1\" 200 -\n"
     ]
    },
    {
     "name": "stdout",
     "output_type": "stream",
     "text": [
      "마커갱신\n",
      "[(1, 5, 'wef', 'swf', 'rtb', 'pky5335', None, 1, 35.1467299, 126.92201, datetime.datetime(2022, 9, 1, 11, 16, 26), 0), (4, 2, '여기', '없음', '구라임', 'ahy0914', None, 1, 35.1467488, 126.922456, datetime.datetime(2022, 9, 1, 11, 19, 25), 0)]\n",
      "갱신완료\n",
      "1,5,wef,swf,rtb,pky5335,None,1,35.1467299,126.92201,2022-09-01 11:16:26,0/4,2,여기,없음,구라임,ahy0914,None,1,35.1467488,126.922456,2022-09-01 11:19:25,0/\n"
     ]
    },
    {
     "name": "stderr",
     "output_type": "stream",
     "text": [
      "192.168.21.245 - - [01/Sep/2022 15:15:22] \"POST /mappage HTTP/1.1\" 200 -\n"
     ]
    },
    {
     "name": "stdout",
     "output_type": "stream",
     "text": [
      "마커갱신\n",
      "[(1, 5, 'wef', 'swf', 'rtb', 'pky5335', None, 1, 35.1467299, 126.92201, datetime.datetime(2022, 9, 1, 11, 16, 26), 0), (4, 2, '여기', '없음', '구라임', 'ahy0914', None, 1, 35.1467488, 126.922456, datetime.datetime(2022, 9, 1, 11, 19, 25), 0)]\n",
      "갱신완료\n",
      "1,5,wef,swf,rtb,pky5335,None,1,35.1467299,126.92201,2022-09-01 11:16:26,0/4,2,여기,없음,구라임,ahy0914,None,1,35.1467488,126.922456,2022-09-01 11:19:25,0/\n"
     ]
    },
    {
     "name": "stderr",
     "output_type": "stream",
     "text": [
      "192.168.21.245 - - [01/Sep/2022 15:15:27] \"POST /mappage HTTP/1.1\" 200 -\n"
     ]
    },
    {
     "name": "stdout",
     "output_type": "stream",
     "text": [
      "마커갱신\n",
      "[(1, 5, 'wef', 'swf', 'rtb', 'pky5335', None, 1, 35.1467299, 126.92201, datetime.datetime(2022, 9, 1, 11, 16, 26), 0), (4, 2, '여기', '없음', '구라임', 'ahy0914', None, 1, 35.1467488, 126.922456, datetime.datetime(2022, 9, 1, 11, 19, 25), 0)]\n",
      "갱신완료\n",
      "1,5,wef,swf,rtb,pky5335,None,1,35.1467299,126.92201,2022-09-01 11:16:26,0/4,2,여기,없음,구라임,ahy0914,None,1,35.1467488,126.922456,2022-09-01 11:19:25,0/\n"
     ]
    },
    {
     "name": "stderr",
     "output_type": "stream",
     "text": [
      "192.168.21.245 - - [01/Sep/2022 15:15:32] \"POST /mappage HTTP/1.1\" 200 -\n"
     ]
    },
    {
     "name": "stdout",
     "output_type": "stream",
     "text": [
      "마커갱신\n",
      "[(1, 5, 'wef', 'swf', 'rtb', 'pky5335', None, 1, 35.1467299, 126.92201, datetime.datetime(2022, 9, 1, 11, 16, 26), 0), (4, 2, '여기', '없음', '구라임', 'ahy0914', None, 1, 35.1467488, 126.922456, datetime.datetime(2022, 9, 1, 11, 19, 25), 0)]\n",
      "갱신완료\n",
      "1,5,wef,swf,rtb,pky5335,None,1,35.1467299,126.92201,2022-09-01 11:16:26,0/4,2,여기,없음,구라임,ahy0914,None,1,35.1467488,126.922456,2022-09-01 11:19:25,0/\n"
     ]
    },
    {
     "name": "stderr",
     "output_type": "stream",
     "text": [
      "192.168.21.245 - - [01/Sep/2022 15:15:37] \"POST /mappage HTTP/1.1\" 200 -\n",
      "192.168.21.245 - - [01/Sep/2022 15:15:37] \"POST /clicktrs HTTP/1.1\" 200 -\n"
     ]
    },
    {
     "name": "stdout",
     "output_type": "stream",
     "text": [
      "마커갱신\n",
      "보물클릭\n",
      "[(1, 5, 'wef', 'swf', 'rtb', 'pky5335', None, 1, 35.1467299, 126.92201, datetime.datetime(2022, 9, 1, 11, 16, 26), 0), (4, 2, '여기', '없음', '구라임', 'ahy0914', None, 1, 35.1467488, 126.922456, datetime.datetime(2022, 9, 1, 11, 19, 25), 0)]\n",
      "갱신완료\n",
      "1,5,wef,swf,rtb,pky5335,None,1,35.1467299,126.92201,2022-09-01 11:16:26,0/4,2,여기,없음,구라임,ahy0914,None,1,35.1467488,126.922456,2022-09-01 11:19:25,0/\n",
      "[(5, 'wef', 'swf', 'rtb', 'pky5335', None, 35.1467299, 126.92201, datetime.datetime(2022, 9, 1, 11, 16, 26), 0)]\n"
     ]
    },
    {
     "name": "stderr",
     "output_type": "stream",
     "text": [
      "192.168.21.245 - - [01/Sep/2022 15:15:42] \"POST /mappage HTTP/1.1\" 200 -\n"
     ]
    },
    {
     "name": "stdout",
     "output_type": "stream",
     "text": [
      "마커갱신\n",
      "[(1, 5, 'wef', 'swf', 'rtb', 'pky5335', None, 1, 35.1467299, 126.92201, datetime.datetime(2022, 9, 1, 11, 16, 26), 0), (4, 2, '여기', '없음', '구라임', 'ahy0914', None, 1, 35.1467488, 126.922456, datetime.datetime(2022, 9, 1, 11, 19, 25), 0)]\n",
      "갱신완료\n",
      "1,5,wef,swf,rtb,pky5335,None,1,35.1467299,126.92201,2022-09-01 11:16:26,0/4,2,여기,없음,구라임,ahy0914,None,1,35.1467488,126.922456,2022-09-01 11:19:25,0/\n"
     ]
    },
    {
     "name": "stderr",
     "output_type": "stream",
     "text": [
      "192.168.21.245 - - [01/Sep/2022 15:15:47] \"POST /mappage HTTP/1.1\" 200 -\n"
     ]
    },
    {
     "name": "stdout",
     "output_type": "stream",
     "text": [
      "마커갱신\n",
      "[(1, 5, 'wef', 'swf', 'rtb', 'pky5335', None, 1, 35.1467299, 126.92201, datetime.datetime(2022, 9, 1, 11, 16, 26), 0), (4, 2, '여기', '없음', '구라임', 'ahy0914', None, 1, 35.1467488, 126.922456, datetime.datetime(2022, 9, 1, 11, 19, 25), 0)]\n",
      "갱신완료\n",
      "1,5,wef,swf,rtb,pky5335,None,1,35.1467299,126.92201,2022-09-01 11:16:26,0/4,2,여기,없음,구라임,ahy0914,None,1,35.1467488,126.922456,2022-09-01 11:19:25,0/\n"
     ]
    },
    {
     "name": "stderr",
     "output_type": "stream",
     "text": [
      "192.168.21.245 - - [01/Sep/2022 15:15:52] \"POST /mappage HTTP/1.1\" 200 -\n"
     ]
    },
    {
     "name": "stdout",
     "output_type": "stream",
     "text": [
      "마커갱신\n",
      "[(1, 5, 'wef', 'swf', 'rtb', 'pky5335', None, 1, 35.1467299, 126.92201, datetime.datetime(2022, 9, 1, 11, 16, 26), 0), (4, 2, '여기', '없음', '구라임', 'ahy0914', None, 1, 35.1467488, 126.922456, datetime.datetime(2022, 9, 1, 11, 19, 25), 0)]\n",
      "갱신완료\n",
      "1,5,wef,swf,rtb,pky5335,None,1,35.1467299,126.92201,2022-09-01 11:16:26,0/4,2,여기,없음,구라임,ahy0914,None,1,35.1467488,126.922456,2022-09-01 11:19:25,0/\n"
     ]
    },
    {
     "name": "stderr",
     "output_type": "stream",
     "text": [
      "192.168.21.245 - - [01/Sep/2022 15:15:57] \"POST /mappage HTTP/1.1\" 200 -\n"
     ]
    },
    {
     "name": "stdout",
     "output_type": "stream",
     "text": [
      "마커갱신\n",
      "[(1, 5, 'wef', 'swf', 'rtb', 'pky5335', None, 1, 35.1467299, 126.92201, datetime.datetime(2022, 9, 1, 11, 16, 26), 0), (4, 2, '여기', '없음', '구라임', 'ahy0914', None, 1, 35.1467488, 126.922456, datetime.datetime(2022, 9, 1, 11, 19, 25), 0)]\n",
      "갱신완료\n",
      "1,5,wef,swf,rtb,pky5335,None,1,35.1467299,126.92201,2022-09-01 11:16:26,0/4,2,여기,없음,구라임,ahy0914,None,1,35.1467488,126.922456,2022-09-01 11:19:25,0/\n"
     ]
    },
    {
     "name": "stderr",
     "output_type": "stream",
     "text": [
      "192.168.21.245 - - [01/Sep/2022 15:16:02] \"POST /mappage HTTP/1.1\" 200 -\n"
     ]
    },
    {
     "name": "stdout",
     "output_type": "stream",
     "text": [
      "마커갱신\n",
      "[(1, 5, 'wef', 'swf', 'rtb', 'pky5335', None, 1, 35.1467299, 126.92201, datetime.datetime(2022, 9, 1, 11, 16, 26), 0), (4, 2, '여기', '없음', '구라임', 'ahy0914', None, 1, 35.1467488, 126.922456, datetime.datetime(2022, 9, 1, 11, 19, 25), 0)]\n",
      "갱신완료\n",
      "1,5,wef,swf,rtb,pky5335,None,1,35.1467299,126.92201,2022-09-01 11:16:26,0/4,2,여기,없음,구라임,ahy0914,None,1,35.1467488,126.922456,2022-09-01 11:19:25,0/\n"
     ]
    },
    {
     "name": "stderr",
     "output_type": "stream",
     "text": [
      "192.168.21.245 - - [01/Sep/2022 15:16:07] \"POST /mappage HTTP/1.1\" 200 -\n"
     ]
    },
    {
     "name": "stdout",
     "output_type": "stream",
     "text": [
      "마커갱신\n",
      "[(1, 5, 'wef', 'swf', 'rtb', 'pky5335', None, 1, 35.1467299, 126.92201, datetime.datetime(2022, 9, 1, 11, 16, 26), 0), (4, 2, '여기', '없음', '구라임', 'ahy0914', None, 1, 35.1467488, 126.922456, datetime.datetime(2022, 9, 1, 11, 19, 25), 0)]\n",
      "갱신완료\n",
      "1,5,wef,swf,rtb,pky5335,None,1,35.1467299,126.92201,2022-09-01 11:16:26,0/4,2,여기,없음,구라임,ahy0914,None,1,35.1467488,126.922456,2022-09-01 11:19:25,0/\n"
     ]
    },
    {
     "name": "stderr",
     "output_type": "stream",
     "text": [
      "192.168.21.245 - - [01/Sep/2022 15:16:12] \"POST /mappage HTTP/1.1\" 200 -\n"
     ]
    },
    {
     "name": "stdout",
     "output_type": "stream",
     "text": [
      "마커갱신\n",
      "[(1, 5, 'wef', 'swf', 'rtb', 'pky5335', None, 1, 35.1467299, 126.92201, datetime.datetime(2022, 9, 1, 11, 16, 26), 0), (4, 2, '여기', '없음', '구라임', 'ahy0914', None, 1, 35.1467488, 126.922456, datetime.datetime(2022, 9, 1, 11, 19, 25), 0)]\n",
      "갱신완료\n",
      "1,5,wef,swf,rtb,pky5335,None,1,35.1467299,126.92201,2022-09-01 11:16:26,0/4,2,여기,없음,구라임,ahy0914,None,1,35.1467488,126.922456,2022-09-01 11:19:25,0/\n"
     ]
    },
    {
     "name": "stderr",
     "output_type": "stream",
     "text": [
      "192.168.21.245 - - [01/Sep/2022 15:16:17] \"POST /mappage HTTP/1.1\" 200 -\n"
     ]
    },
    {
     "name": "stdout",
     "output_type": "stream",
     "text": [
      "마커갱신\n",
      "[(1, 5, 'wef', 'swf', 'rtb', 'pky5335', None, 1, 35.1467299, 126.92201, datetime.datetime(2022, 9, 1, 11, 16, 26), 0), (4, 2, '여기', '없음', '구라임', 'ahy0914', None, 1, 35.1467488, 126.922456, datetime.datetime(2022, 9, 1, 11, 19, 25), 0)]\n",
      "갱신완료\n",
      "1,5,wef,swf,rtb,pky5335,None,1,35.1467299,126.92201,2022-09-01 11:16:26,0/4,2,여기,없음,구라임,ahy0914,None,1,35.1467488,126.922456,2022-09-01 11:19:25,0/\n"
     ]
    },
    {
     "name": "stderr",
     "output_type": "stream",
     "text": [
      "192.168.21.245 - - [01/Sep/2022 15:16:22] \"POST /mappage HTTP/1.1\" 200 -\n"
     ]
    },
    {
     "name": "stdout",
     "output_type": "stream",
     "text": [
      "마커갱신\n",
      "[(1, 5, 'wef', 'swf', 'rtb', 'pky5335', None, 1, 35.1467299, 126.92201, datetime.datetime(2022, 9, 1, 11, 16, 26), 0), (4, 2, '여기', '없음', '구라임', 'ahy0914', None, 1, 35.1467488, 126.922456, datetime.datetime(2022, 9, 1, 11, 19, 25), 0)]\n",
      "갱신완료\n",
      "1,5,wef,swf,rtb,pky5335,None,1,35.1467299,126.92201,2022-09-01 11:16:26,0/4,2,여기,없음,구라임,ahy0914,None,1,35.1467488,126.922456,2022-09-01 11:19:25,0/\n"
     ]
    },
    {
     "name": "stderr",
     "output_type": "stream",
     "text": [
      "192.168.21.245 - - [01/Sep/2022 15:16:27] \"POST /mappage HTTP/1.1\" 200 -\n"
     ]
    },
    {
     "name": "stdout",
     "output_type": "stream",
     "text": [
      "마커갱신\n",
      "[(1, 5, 'wef', 'swf', 'rtb', 'pky5335', None, 1, 35.1467299, 126.92201, datetime.datetime(2022, 9, 1, 11, 16, 26), 0), (4, 2, '여기', '없음', '구라임', 'ahy0914', None, 1, 35.1467488, 126.922456, datetime.datetime(2022, 9, 1, 11, 19, 25), 0)]\n",
      "갱신완료\n",
      "1,5,wef,swf,rtb,pky5335,None,1,35.1467299,126.92201,2022-09-01 11:16:26,0/4,2,여기,없음,구라임,ahy0914,None,1,35.1467488,126.922456,2022-09-01 11:19:25,0/\n"
     ]
    },
    {
     "name": "stderr",
     "output_type": "stream",
     "text": [
      "192.168.21.245 - - [01/Sep/2022 15:16:32] \"POST /mappage HTTP/1.1\" 200 -\n"
     ]
    },
    {
     "name": "stdout",
     "output_type": "stream",
     "text": [
      "마커갱신\n",
      "[(1, 5, 'wef', 'swf', 'rtb', 'pky5335', None, 1, 35.1467299, 126.92201, datetime.datetime(2022, 9, 1, 11, 16, 26), 0), (4, 2, '여기', '없음', '구라임', 'ahy0914', None, 1, 35.1467488, 126.922456, datetime.datetime(2022, 9, 1, 11, 19, 25), 0)]\n",
      "갱신완료\n",
      "1,5,wef,swf,rtb,pky5335,None,1,35.1467299,126.92201,2022-09-01 11:16:26,0/4,2,여기,없음,구라임,ahy0914,None,1,35.1467488,126.922456,2022-09-01 11:19:25,0/\n"
     ]
    },
    {
     "name": "stderr",
     "output_type": "stream",
     "text": [
      "192.168.21.245 - - [01/Sep/2022 15:16:37] \"POST /mappage HTTP/1.1\" 200 -\n"
     ]
    },
    {
     "name": "stdout",
     "output_type": "stream",
     "text": [
      "마커갱신\n",
      "[(1, 5, 'wef', 'swf', 'rtb', 'pky5335', None, 1, 35.1467299, 126.92201, datetime.datetime(2022, 9, 1, 11, 16, 26), 0), (4, 2, '여기', '없음', '구라임', 'ahy0914', None, 1, 35.1467488, 126.922456, datetime.datetime(2022, 9, 1, 11, 19, 25), 0)]\n",
      "갱신완료\n",
      "1,5,wef,swf,rtb,pky5335,None,1,35.1467299,126.92201,2022-09-01 11:16:26,0/4,2,여기,없음,구라임,ahy0914,None,1,35.1467488,126.922456,2022-09-01 11:19:25,0/\n"
     ]
    },
    {
     "name": "stderr",
     "output_type": "stream",
     "text": [
      "192.168.21.245 - - [01/Sep/2022 15:16:42] \"POST /mappage HTTP/1.1\" 200 -\n"
     ]
    },
    {
     "name": "stdout",
     "output_type": "stream",
     "text": [
      "마커갱신\n",
      "[(1, 5, 'wef', 'swf', 'rtb', 'pky5335', None, 1, 35.1467299, 126.92201, datetime.datetime(2022, 9, 1, 11, 16, 26), 0), (4, 2, '여기', '없음', '구라임', 'ahy0914', None, 1, 35.1467488, 126.922456, datetime.datetime(2022, 9, 1, 11, 19, 25), 0)]\n",
      "갱신완료\n",
      "1,5,wef,swf,rtb,pky5335,None,1,35.1467299,126.92201,2022-09-01 11:16:26,0/4,2,여기,없음,구라임,ahy0914,None,1,35.1467488,126.922456,2022-09-01 11:19:25,0/\n"
     ]
    },
    {
     "name": "stderr",
     "output_type": "stream",
     "text": [
      "192.168.21.245 - - [01/Sep/2022 15:16:56] \"POST /login HTTP/1.1\" 200 -\n"
     ]
    },
    {
     "name": "stdout",
     "output_type": "stream",
     "text": [
      "로그인 시도\n",
      "[('pky5335', 'qwer1234!', 'qwerq', datetime.datetime(1991, 4, 13, 0, 0), '124235141243', 'pky5335@nate.com', '남', 1, datetime.datetime(2022, 8, 25, 15, 13, 53), None, None, 0, 0, 'wer')]\n",
      "pky5335 로그인\n"
     ]
    },
    {
     "name": "stderr",
     "output_type": "stream",
     "text": [
      "192.168.21.245 - - [01/Sep/2022 15:16:56] \"POST /mappage HTTP/1.1\" 200 -\n"
     ]
    },
    {
     "name": "stdout",
     "output_type": "stream",
     "text": [
      "마커갱신\n",
      "[(1, 5, 'wef', 'swf', 'rtb', 'pky5335', None, 1, 35.1467299, 126.92201, datetime.datetime(2022, 9, 1, 11, 16, 26), 0), (4, 2, '여기', '없음', '구라임', 'ahy0914', None, 1, 35.1467488, 126.922456, datetime.datetime(2022, 9, 1, 11, 19, 25), 0)]\n",
      "갱신완료\n",
      "1,5,wef,swf,rtb,pky5335,None,1,35.1467299,126.92201,2022-09-01 11:16:26,0/4,2,여기,없음,구라임,ahy0914,None,1,35.1467488,126.922456,2022-09-01 11:19:25,0/\n"
     ]
    },
    {
     "name": "stderr",
     "output_type": "stream",
     "text": [
      "192.168.21.245 - - [01/Sep/2022 15:16:57] \"POST /mappage HTTP/1.1\" 200 -\n"
     ]
    },
    {
     "name": "stdout",
     "output_type": "stream",
     "text": [
      "마커갱신\n",
      "[(1, 5, 'wef', 'swf', 'rtb', 'pky5335', None, 1, 35.1467299, 126.92201, datetime.datetime(2022, 9, 1, 11, 16, 26), 0), (4, 2, '여기', '없음', '구라임', 'ahy0914', None, 1, 35.1467488, 126.922456, datetime.datetime(2022, 9, 1, 11, 19, 25), 0)]\n",
      "갱신완료\n",
      "1,5,wef,swf,rtb,pky5335,None,1,35.1467299,126.92201,2022-09-01 11:16:26,0/4,2,여기,없음,구라임,ahy0914,None,1,35.1467488,126.922456,2022-09-01 11:19:25,0/\n"
     ]
    },
    {
     "name": "stderr",
     "output_type": "stream",
     "text": [
      "192.168.21.245 - - [01/Sep/2022 15:16:59] \"POST /clicktrs HTTP/1.1\" 200 -\n"
     ]
    },
    {
     "name": "stdout",
     "output_type": "stream",
     "text": [
      "보물클릭\n",
      "[(5, 'wef', 'swf', 'rtb', 'pky5335', None, 35.1467299, 126.92201, datetime.datetime(2022, 9, 1, 11, 16, 26), 0)]\n"
     ]
    },
    {
     "name": "stderr",
     "output_type": "stream",
     "text": [
      "192.168.21.245 - - [01/Sep/2022 15:20:33] \"POST /login HTTP/1.1\" 200 -\n"
     ]
    },
    {
     "name": "stdout",
     "output_type": "stream",
     "text": [
      "로그인 시도\n",
      "[('pky5335', 'qwer1234!', 'qwerq', datetime.datetime(1991, 4, 13, 0, 0), '124235141243', 'pky5335@nate.com', '남', 1, datetime.datetime(2022, 8, 25, 15, 13, 53), None, None, 0, 0, 'wer')]\n",
      "pky5335 로그인\n",
      "마커갱신\n"
     ]
    },
    {
     "name": "stderr",
     "output_type": "stream",
     "text": [
      "192.168.21.245 - - [01/Sep/2022 15:20:34] \"POST /mappage HTTP/1.1\" 200 -\n"
     ]
    },
    {
     "name": "stdout",
     "output_type": "stream",
     "text": [
      "[(1, 5, 'wef', 'swf', 'rtb', 'pky5335', None, 1, 35.1467299, 126.92201, datetime.datetime(2022, 9, 1, 11, 16, 26), 0), (4, 2, '여기', '없음', '구라임', 'ahy0914', None, 1, 35.1467488, 126.922456, datetime.datetime(2022, 9, 1, 11, 19, 25), 0)]\n",
      "갱신완료\n",
      "1,5,wef,swf,rtb,pky5335,None,1,35.1467299,126.92201,2022-09-01 11:16:26,0/4,2,여기,없음,구라임,ahy0914,None,1,35.1467488,126.922456,2022-09-01 11:19:25,0/\n"
     ]
    },
    {
     "name": "stderr",
     "output_type": "stream",
     "text": [
      "192.168.21.245 - - [01/Sep/2022 15:20:35] \"POST /mappage HTTP/1.1\" 200 -\n"
     ]
    },
    {
     "name": "stdout",
     "output_type": "stream",
     "text": [
      "마커갱신\n",
      "[(1, 5, 'wef', 'swf', 'rtb', 'pky5335', None, 1, 35.1467299, 126.92201, datetime.datetime(2022, 9, 1, 11, 16, 26), 0), (4, 2, '여기', '없음', '구라임', 'ahy0914', None, 1, 35.1467488, 126.922456, datetime.datetime(2022, 9, 1, 11, 19, 25), 0)]\n",
      "갱신완료\n",
      "1,5,wef,swf,rtb,pky5335,None,1,35.1467299,126.92201,2022-09-01 11:16:26,0/4,2,여기,없음,구라임,ahy0914,None,1,35.1467488,126.922456,2022-09-01 11:19:25,0/\n"
     ]
    },
    {
     "name": "stderr",
     "output_type": "stream",
     "text": [
      "192.168.21.245 - - [01/Sep/2022 15:20:40] \"POST /mappage HTTP/1.1\" 200 -\n"
     ]
    },
    {
     "name": "stdout",
     "output_type": "stream",
     "text": [
      "마커갱신\n",
      "[(1, 5, 'wef', 'swf', 'rtb', 'pky5335', None, 1, 35.1467299, 126.92201, datetime.datetime(2022, 9, 1, 11, 16, 26), 0), (4, 2, '여기', '없음', '구라임', 'ahy0914', None, 1, 35.1467488, 126.922456, datetime.datetime(2022, 9, 1, 11, 19, 25), 0)]\n",
      "갱신완료\n",
      "1,5,wef,swf,rtb,pky5335,None,1,35.1467299,126.92201,2022-09-01 11:16:26,0/4,2,여기,없음,구라임,ahy0914,None,1,35.1467488,126.922456,2022-09-01 11:19:25,0/\n"
     ]
    },
    {
     "name": "stderr",
     "output_type": "stream",
     "text": [
      "192.168.21.245 - - [01/Sep/2022 15:20:41] \"POST /clicktrs HTTP/1.1\" 200 -\n"
     ]
    },
    {
     "name": "stdout",
     "output_type": "stream",
     "text": [
      "보물클릭\n",
      "[(2, '여기', '없음', '구라임', 'ahy0914', None, 35.1467488, 126.922456, datetime.datetime(2022, 9, 1, 11, 19, 25), 0)]\n"
     ]
    },
    {
     "name": "stderr",
     "output_type": "stream",
     "text": [
      "192.168.21.245 - - [01/Sep/2022 15:23:01] \"POST /login HTTP/1.1\" 200 -\n"
     ]
    },
    {
     "name": "stdout",
     "output_type": "stream",
     "text": [
      "로그인 시도\n",
      "[('pky5335', 'qwer1234!', 'qwerq', datetime.datetime(1991, 4, 13, 0, 0), '124235141243', 'pky5335@nate.com', '남', 1, datetime.datetime(2022, 8, 25, 15, 13, 53), None, None, 0, 0, 'wer')]\n",
      "pky5335 로그인\n"
     ]
    },
    {
     "name": "stderr",
     "output_type": "stream",
     "text": [
      "192.168.21.245 - - [01/Sep/2022 15:23:01] \"POST /mappage HTTP/1.1\" 200 -\n"
     ]
    },
    {
     "name": "stdout",
     "output_type": "stream",
     "text": [
      "마커갱신\n",
      "[(1, 5, 'wef', 'swf', 'rtb', 'pky5335', None, 1, 35.1467299, 126.92201, datetime.datetime(2022, 9, 1, 11, 16, 26), 0), (4, 2, '여기', '없음', '구라임', 'ahy0914', None, 1, 35.1467488, 126.922456, datetime.datetime(2022, 9, 1, 11, 19, 25), 0)]\n",
      "갱신완료\n",
      "1,5,wef,swf,rtb,pky5335,None,1,35.1467299,126.92201,2022-09-01 11:16:26,0/4,2,여기,없음,구라임,ahy0914,None,1,35.1467488,126.922456,2022-09-01 11:19:25,0/\n"
     ]
    },
    {
     "name": "stderr",
     "output_type": "stream",
     "text": [
      "192.168.21.245 - - [01/Sep/2022 15:23:02] \"POST /mappage HTTP/1.1\" 200 -\n"
     ]
    },
    {
     "name": "stdout",
     "output_type": "stream",
     "text": [
      "마커갱신\n",
      "[(1, 5, 'wef', 'swf', 'rtb', 'pky5335', None, 1, 35.1467299, 126.92201, datetime.datetime(2022, 9, 1, 11, 16, 26), 0), (4, 2, '여기', '없음', '구라임', 'ahy0914', None, 1, 35.1467488, 126.922456, datetime.datetime(2022, 9, 1, 11, 19, 25), 0)]\n",
      "갱신완료\n",
      "1,5,wef,swf,rtb,pky5335,None,1,35.1467299,126.92201,2022-09-01 11:16:26,0/4,2,여기,없음,구라임,ahy0914,None,1,35.1467488,126.922456,2022-09-01 11:19:25,0/\n"
     ]
    },
    {
     "name": "stderr",
     "output_type": "stream",
     "text": [
      "192.168.21.245 - - [01/Sep/2022 15:23:05] \"POST /clicktrs HTTP/1.1\" 200 -\n"
     ]
    },
    {
     "name": "stdout",
     "output_type": "stream",
     "text": [
      "보물클릭\n",
      "[(5, 'wef', 'swf', 'rtb', 'pky5335', None, 35.1467299, 126.92201, datetime.datetime(2022, 9, 1, 11, 16, 26), 0)]\n"
     ]
    },
    {
     "name": "stderr",
     "output_type": "stream",
     "text": [
      "192.168.21.245 - - [01/Sep/2022 15:23:32] \"POST /login HTTP/1.1\" 200 -\n"
     ]
    },
    {
     "name": "stdout",
     "output_type": "stream",
     "text": [
      "로그인 시도\n",
      "[('pky5335', 'qwer1234!', 'qwerq', datetime.datetime(1991, 4, 13, 0, 0), '124235141243', 'pky5335@nate.com', '남', 1, datetime.datetime(2022, 8, 25, 15, 13, 53), None, None, 0, 0, 'wer')]\n",
      "pky5335 로그인\n"
     ]
    },
    {
     "name": "stderr",
     "output_type": "stream",
     "text": [
      "192.168.21.245 - - [01/Sep/2022 15:23:32] \"POST /mappage HTTP/1.1\" 200 -\n"
     ]
    },
    {
     "name": "stdout",
     "output_type": "stream",
     "text": [
      "마커갱신\n",
      "[(1, 5, 'wef', 'swf', 'rtb', 'pky5335', None, 1, 35.1467299, 126.92201, datetime.datetime(2022, 9, 1, 11, 16, 26), 0), (4, 2, '여기', '없음', '구라임', 'ahy0914', None, 1, 35.1467488, 126.922456, datetime.datetime(2022, 9, 1, 11, 19, 25), 0)]\n",
      "갱신완료\n",
      "1,5,wef,swf,rtb,pky5335,None,1,35.1467299,126.92201,2022-09-01 11:16:26,0/4,2,여기,없음,구라임,ahy0914,None,1,35.1467488,126.922456,2022-09-01 11:19:25,0/\n"
     ]
    },
    {
     "name": "stderr",
     "output_type": "stream",
     "text": [
      "192.168.21.245 - - [01/Sep/2022 15:23:33] \"POST /mappage HTTP/1.1\" 200 -\n"
     ]
    },
    {
     "name": "stdout",
     "output_type": "stream",
     "text": [
      "마커갱신\n",
      "[(1, 5, 'wef', 'swf', 'rtb', 'pky5335', None, 1, 35.1467299, 126.92201, datetime.datetime(2022, 9, 1, 11, 16, 26), 0), (4, 2, '여기', '없음', '구라임', 'ahy0914', None, 1, 35.1467488, 126.922456, datetime.datetime(2022, 9, 1, 11, 19, 25), 0)]\n",
      "갱신완료\n",
      "1,5,wef,swf,rtb,pky5335,None,1,35.1467299,126.92201,2022-09-01 11:16:26,0/4,2,여기,없음,구라임,ahy0914,None,1,35.1467488,126.922456,2022-09-01 11:19:25,0/\n"
     ]
    },
    {
     "name": "stderr",
     "output_type": "stream",
     "text": [
      "192.168.21.245 - - [01/Sep/2022 15:23:36] \"POST /clicktrs HTTP/1.1\" 200 -\n"
     ]
    },
    {
     "name": "stdout",
     "output_type": "stream",
     "text": [
      "보물클릭\n",
      "[(5, 'wef', 'swf', 'rtb', 'pky5335', None, 35.1467299, 126.92201, datetime.datetime(2022, 9, 1, 11, 16, 26), 0)]\n"
     ]
    },
    {
     "name": "stderr",
     "output_type": "stream",
     "text": [
      "192.168.21.245 - - [01/Sep/2022 15:24:55] \"POST /login HTTP/1.1\" 200 -\n"
     ]
    },
    {
     "name": "stdout",
     "output_type": "stream",
     "text": [
      "로그인 시도\n",
      "[('pky5335', 'qwer1234!', 'qwerq', datetime.datetime(1991, 4, 13, 0, 0), '124235141243', 'pky5335@nate.com', '남', 1, datetime.datetime(2022, 8, 25, 15, 13, 53), None, None, 0, 0, 'wer')]\n",
      "pky5335 로그인\n"
     ]
    },
    {
     "name": "stderr",
     "output_type": "stream",
     "text": [
      "192.168.21.245 - - [01/Sep/2022 15:24:56] \"POST /mappage HTTP/1.1\" 200 -\n"
     ]
    },
    {
     "name": "stdout",
     "output_type": "stream",
     "text": [
      "마커갱신\n",
      "[(1, 5, 'wef', 'swf', 'rtb', 'pky5335', None, 1, 35.1467299, 126.92201, datetime.datetime(2022, 9, 1, 11, 16, 26), 0), (4, 2, '여기', '없음', '구라임', 'ahy0914', None, 1, 35.1467488, 126.922456, datetime.datetime(2022, 9, 1, 11, 19, 25), 0)]\n",
      "갱신완료\n",
      "1,5,wef,swf,rtb,pky5335,None,1,35.1467299,126.92201,2022-09-01 11:16:26,0/4,2,여기,없음,구라임,ahy0914,None,1,35.1467488,126.922456,2022-09-01 11:19:25,0/\n"
     ]
    },
    {
     "name": "stderr",
     "output_type": "stream",
     "text": [
      "192.168.21.245 - - [01/Sep/2022 15:24:57] \"POST /mappage HTTP/1.1\" 200 -\n"
     ]
    },
    {
     "name": "stdout",
     "output_type": "stream",
     "text": [
      "마커갱신\n",
      "[(1, 5, 'wef', 'swf', 'rtb', 'pky5335', None, 1, 35.1467299, 126.92201, datetime.datetime(2022, 9, 1, 11, 16, 26), 0), (4, 2, '여기', '없음', '구라임', 'ahy0914', None, 1, 35.1467488, 126.922456, datetime.datetime(2022, 9, 1, 11, 19, 25), 0)]\n",
      "갱신완료\n",
      "1,5,wef,swf,rtb,pky5335,None,1,35.1467299,126.92201,2022-09-01 11:16:26,0/4,2,여기,없음,구라임,ahy0914,None,1,35.1467488,126.922456,2022-09-01 11:19:25,0/\n"
     ]
    },
    {
     "name": "stderr",
     "output_type": "stream",
     "text": [
      "192.168.21.245 - - [01/Sep/2022 15:25:00] \"POST /clicktrs HTTP/1.1\" 200 -\n"
     ]
    },
    {
     "name": "stdout",
     "output_type": "stream",
     "text": [
      "보물클릭\n",
      "[(5, 'wef', 'swf', 'rtb', 'pky5335', None, 35.1467299, 126.92201, datetime.datetime(2022, 9, 1, 11, 16, 26), 0)]\n"
     ]
    },
    {
     "name": "stderr",
     "output_type": "stream",
     "text": [
      "192.168.21.245 - - [01/Sep/2022 15:47:10] \"POST /login HTTP/1.1\" 200 -\n"
     ]
    },
    {
     "name": "stdout",
     "output_type": "stream",
     "text": [
      "로그인 시도\n",
      "[('pky5335', 'qwer1234!', 'qwerq', datetime.datetime(1991, 4, 13, 0, 0), '124235141243', 'pky5335@nate.com', '남', 1, datetime.datetime(2022, 8, 25, 15, 13, 53), None, None, 0, 0, 'wer')]\n",
      "pky5335 로그인\n"
     ]
    },
    {
     "name": "stderr",
     "output_type": "stream",
     "text": [
      "192.168.21.245 - - [01/Sep/2022 15:47:10] \"POST /mappage HTTP/1.1\" 200 -\n"
     ]
    },
    {
     "name": "stdout",
     "output_type": "stream",
     "text": [
      "마커갱신\n",
      "[(1, 5, 'wef', 'swf', 'rtb', 'pky5335', None, 1, 35.1467299, 126.92201, datetime.datetime(2022, 9, 1, 11, 16, 26), 0), (4, 2, '여기', '없음', '구라임', 'ahy0914', None, 1, 35.1467488, 126.922456, datetime.datetime(2022, 9, 1, 11, 19, 25), 0)]\n",
      "갱신완료\n",
      "1,5,wef,swf,rtb,pky5335,None,1,35.1467299,126.92201,2022-09-01 11:16:26,0/4,2,여기,없음,구라임,ahy0914,None,1,35.1467488,126.922456,2022-09-01 11:19:25,0/\n"
     ]
    },
    {
     "name": "stderr",
     "output_type": "stream",
     "text": [
      "192.168.21.245 - - [01/Sep/2022 15:47:11] \"POST /mappage HTTP/1.1\" 200 -\n"
     ]
    },
    {
     "name": "stdout",
     "output_type": "stream",
     "text": [
      "마커갱신\n",
      "[(1, 5, 'wef', 'swf', 'rtb', 'pky5335', None, 1, 35.1467299, 126.92201, datetime.datetime(2022, 9, 1, 11, 16, 26), 0), (4, 2, '여기', '없음', '구라임', 'ahy0914', None, 1, 35.1467488, 126.922456, datetime.datetime(2022, 9, 1, 11, 19, 25), 0)]\n",
      "갱신완료\n",
      "1,5,wef,swf,rtb,pky5335,None,1,35.1467299,126.92201,2022-09-01 11:16:26,0/4,2,여기,없음,구라임,ahy0914,None,1,35.1467488,126.922456,2022-09-01 11:19:25,0/\n"
     ]
    },
    {
     "name": "stderr",
     "output_type": "stream",
     "text": [
      "192.168.21.245 - - [01/Sep/2022 15:47:15] \"POST /clicktrs HTTP/1.1\" 200 -\n"
     ]
    },
    {
     "name": "stdout",
     "output_type": "stream",
     "text": [
      "보물클릭\n",
      "[(5, 'wef', 'swf', 'rtb', 'pky5335', None, 35.1467299, 126.92201, datetime.datetime(2022, 9, 1, 11, 16, 26), 0)]\n"
     ]
    },
    {
     "name": "stderr",
     "output_type": "stream",
     "text": [
      "192.168.21.245 - - [01/Sep/2022 15:48:43] \"POST /login HTTP/1.1\" 200 -\n"
     ]
    },
    {
     "name": "stdout",
     "output_type": "stream",
     "text": [
      "로그인 시도\n",
      "[('pky5335', 'qwer1234!', 'qwerq', datetime.datetime(1991, 4, 13, 0, 0), '124235141243', 'pky5335@nate.com', '남', 1, datetime.datetime(2022, 8, 25, 15, 13, 53), None, None, 0, 0, 'wer')]\n",
      "pky5335 로그인\n"
     ]
    },
    {
     "name": "stderr",
     "output_type": "stream",
     "text": [
      "192.168.21.245 - - [01/Sep/2022 15:48:43] \"POST /mappage HTTP/1.1\" 200 -\n"
     ]
    },
    {
     "name": "stdout",
     "output_type": "stream",
     "text": [
      "마커갱신\n",
      "[(1, 5, 'wef', 'swf', 'rtb', 'pky5335', None, 1, 35.1467299, 126.92201, datetime.datetime(2022, 9, 1, 11, 16, 26), 0), (4, 2, '여기', '없음', '구라임', 'ahy0914', None, 1, 35.1467488, 126.922456, datetime.datetime(2022, 9, 1, 11, 19, 25), 0)]\n",
      "갱신완료\n",
      "1,5,wef,swf,rtb,pky5335,None,1,35.1467299,126.92201,2022-09-01 11:16:26,0/4,2,여기,없음,구라임,ahy0914,None,1,35.1467488,126.922456,2022-09-01 11:19:25,0/\n"
     ]
    },
    {
     "name": "stderr",
     "output_type": "stream",
     "text": [
      "192.168.21.245 - - [01/Sep/2022 15:48:44] \"POST /mappage HTTP/1.1\" 200 -\n"
     ]
    },
    {
     "name": "stdout",
     "output_type": "stream",
     "text": [
      "마커갱신\n",
      "[(1, 5, 'wef', 'swf', 'rtb', 'pky5335', None, 1, 35.1467299, 126.92201, datetime.datetime(2022, 9, 1, 11, 16, 26), 0), (4, 2, '여기', '없음', '구라임', 'ahy0914', None, 1, 35.1467488, 126.922456, datetime.datetime(2022, 9, 1, 11, 19, 25), 0)]\n",
      "갱신완료\n",
      "1,5,wef,swf,rtb,pky5335,None,1,35.1467299,126.92201,2022-09-01 11:16:26,0/4,2,여기,없음,구라임,ahy0914,None,1,35.1467488,126.922456,2022-09-01 11:19:25,0/\n"
     ]
    },
    {
     "name": "stderr",
     "output_type": "stream",
     "text": [
      "192.168.21.245 - - [01/Sep/2022 15:48:47] \"POST /clicktrs HTTP/1.1\" 200 -\n"
     ]
    },
    {
     "name": "stdout",
     "output_type": "stream",
     "text": [
      "보물클릭\n",
      "[(5, 'wef', 'swf', 'rtb', 'pky5335', None, 35.1467299, 126.92201, datetime.datetime(2022, 9, 1, 11, 16, 26), 0)]\n"
     ]
    },
    {
     "name": "stderr",
     "output_type": "stream",
     "text": [
      "192.168.21.245 - - [01/Sep/2022 15:48:49] \"POST /mappage HTTP/1.1\" 200 -\n"
     ]
    },
    {
     "name": "stdout",
     "output_type": "stream",
     "text": [
      "마커갱신\n",
      "[(1, 5, 'wef', 'swf', 'rtb', 'pky5335', None, 1, 35.1467299, 126.92201, datetime.datetime(2022, 9, 1, 11, 16, 26), 0), (4, 2, '여기', '없음', '구라임', 'ahy0914', None, 1, 35.1467488, 126.922456, datetime.datetime(2022, 9, 1, 11, 19, 25), 0)]\n",
      "갱신완료\n",
      "1,5,wef,swf,rtb,pky5335,None,1,35.1467299,126.92201,2022-09-01 11:16:26,0/4,2,여기,없음,구라임,ahy0914,None,1,35.1467488,126.922456,2022-09-01 11:19:25,0/\n"
     ]
    },
    {
     "name": "stderr",
     "output_type": "stream",
     "text": [
      "192.168.21.245 - - [01/Sep/2022 15:48:54] \"POST /mappage HTTP/1.1\" 200 -\n"
     ]
    },
    {
     "name": "stdout",
     "output_type": "stream",
     "text": [
      "마커갱신\n",
      "[(1, 5, 'wef', 'swf', 'rtb', 'pky5335', None, 1, 35.1467299, 126.92201, datetime.datetime(2022, 9, 1, 11, 16, 26), 0), (4, 2, '여기', '없음', '구라임', 'ahy0914', None, 1, 35.1467488, 126.922456, datetime.datetime(2022, 9, 1, 11, 19, 25), 0)]\n",
      "갱신완료\n",
      "1,5,wef,swf,rtb,pky5335,None,1,35.1467299,126.92201,2022-09-01 11:16:26,0/4,2,여기,없음,구라임,ahy0914,None,1,35.1467488,126.922456,2022-09-01 11:19:25,0/\n"
     ]
    },
    {
     "name": "stderr",
     "output_type": "stream",
     "text": [
      "192.168.21.245 - - [01/Sep/2022 15:48:59] \"POST /mappage HTTP/1.1\" 200 -\n"
     ]
    },
    {
     "name": "stdout",
     "output_type": "stream",
     "text": [
      "마커갱신\n",
      "[(1, 5, 'wef', 'swf', 'rtb', 'pky5335', None, 1, 35.1467299, 126.92201, datetime.datetime(2022, 9, 1, 11, 16, 26), 0), (4, 2, '여기', '없음', '구라임', 'ahy0914', None, 1, 35.1467488, 126.922456, datetime.datetime(2022, 9, 1, 11, 19, 25), 0)]\n",
      "갱신완료\n",
      "1,5,wef,swf,rtb,pky5335,None,1,35.1467299,126.92201,2022-09-01 11:16:26,0/4,2,여기,없음,구라임,ahy0914,None,1,35.1467488,126.922456,2022-09-01 11:19:25,0/\n"
     ]
    },
    {
     "name": "stderr",
     "output_type": "stream",
     "text": [
      "192.168.21.245 - - [01/Sep/2022 15:49:04] \"POST /mappage HTTP/1.1\" 200 -\n"
     ]
    },
    {
     "name": "stdout",
     "output_type": "stream",
     "text": [
      "마커갱신\n",
      "[(1, 5, 'wef', 'swf', 'rtb', 'pky5335', None, 1, 35.1467299, 126.92201, datetime.datetime(2022, 9, 1, 11, 16, 26), 0), (4, 2, '여기', '없음', '구라임', 'ahy0914', None, 1, 35.1467488, 126.922456, datetime.datetime(2022, 9, 1, 11, 19, 25), 0)]\n",
      "갱신완료\n",
      "1,5,wef,swf,rtb,pky5335,None,1,35.1467299,126.92201,2022-09-01 11:16:26,0/4,2,여기,없음,구라임,ahy0914,None,1,35.1467488,126.922456,2022-09-01 11:19:25,0/\n"
     ]
    },
    {
     "name": "stderr",
     "output_type": "stream",
     "text": [
      "192.168.21.245 - - [01/Sep/2022 15:49:08] \"POST /clicktrs HTTP/1.1\" 200 -\n"
     ]
    },
    {
     "name": "stdout",
     "output_type": "stream",
     "text": [
      "보물클릭\n",
      "[(2, '여기', '없음', '구라임', 'ahy0914', None, 35.1467488, 126.922456, datetime.datetime(2022, 9, 1, 11, 19, 25), 0)]\n"
     ]
    },
    {
     "name": "stderr",
     "output_type": "stream",
     "text": [
      "192.168.21.245 - - [01/Sep/2022 15:49:09] \"POST /mappage HTTP/1.1\" 200 -\n"
     ]
    },
    {
     "name": "stdout",
     "output_type": "stream",
     "text": [
      "마커갱신\n",
      "[(1, 5, 'wef', 'swf', 'rtb', 'pky5335', None, 1, 35.1467299, 126.92201, datetime.datetime(2022, 9, 1, 11, 16, 26), 0), (4, 2, '여기', '없음', '구라임', 'ahy0914', None, 1, 35.1467488, 126.922456, datetime.datetime(2022, 9, 1, 11, 19, 25), 0)]\n",
      "갱신완료\n",
      "1,5,wef,swf,rtb,pky5335,None,1,35.1467299,126.92201,2022-09-01 11:16:26,0/4,2,여기,없음,구라임,ahy0914,None,1,35.1467488,126.922456,2022-09-01 11:19:25,0/\n"
     ]
    },
    {
     "name": "stderr",
     "output_type": "stream",
     "text": [
      "192.168.21.245 - - [01/Sep/2022 15:49:14] \"POST /mappage HTTP/1.1\" 200 -\n"
     ]
    },
    {
     "name": "stdout",
     "output_type": "stream",
     "text": [
      "마커갱신\n",
      "[(1, 5, 'wef', 'swf', 'rtb', 'pky5335', None, 1, 35.1467299, 126.92201, datetime.datetime(2022, 9, 1, 11, 16, 26), 0), (4, 2, '여기', '없음', '구라임', 'ahy0914', None, 1, 35.1467488, 126.922456, datetime.datetime(2022, 9, 1, 11, 19, 25), 0)]\n",
      "갱신완료\n",
      "1,5,wef,swf,rtb,pky5335,None,1,35.1467299,126.92201,2022-09-01 11:16:26,0/4,2,여기,없음,구라임,ahy0914,None,1,35.1467488,126.922456,2022-09-01 11:19:25,0/\n"
     ]
    },
    {
     "name": "stderr",
     "output_type": "stream",
     "text": [
      "192.168.21.245 - - [01/Sep/2022 15:49:20] \"POST /mappage HTTP/1.1\" 200 -\n"
     ]
    },
    {
     "name": "stdout",
     "output_type": "stream",
     "text": [
      "마커갱신\n",
      "[(1, 5, 'wef', 'swf', 'rtb', 'pky5335', None, 1, 35.1467299, 126.92201, datetime.datetime(2022, 9, 1, 11, 16, 26), 0), (4, 2, '여기', '없음', '구라임', 'ahy0914', None, 1, 35.1467488, 126.922456, datetime.datetime(2022, 9, 1, 11, 19, 25), 0)]\n",
      "갱신완료\n",
      "1,5,wef,swf,rtb,pky5335,None,1,35.1467299,126.92201,2022-09-01 11:16:26,0/4,2,여기,없음,구라임,ahy0914,None,1,35.1467488,126.922456,2022-09-01 11:19:25,0/\n"
     ]
    },
    {
     "name": "stderr",
     "output_type": "stream",
     "text": [
      "192.168.21.245 - - [01/Sep/2022 15:49:24] \"POST /mappage HTTP/1.1\" 200 -\n"
     ]
    },
    {
     "name": "stdout",
     "output_type": "stream",
     "text": [
      "마커갱신\n",
      "[(1, 5, 'wef', 'swf', 'rtb', 'pky5335', None, 1, 35.1467299, 126.92201, datetime.datetime(2022, 9, 1, 11, 16, 26), 0), (4, 2, '여기', '없음', '구라임', 'ahy0914', None, 1, 35.1467488, 126.922456, datetime.datetime(2022, 9, 1, 11, 19, 25), 0)]\n",
      "갱신완료\n",
      "1,5,wef,swf,rtb,pky5335,None,1,35.1467299,126.92201,2022-09-01 11:16:26,0/4,2,여기,없음,구라임,ahy0914,None,1,35.1467488,126.922456,2022-09-01 11:19:25,0/\n"
     ]
    },
    {
     "name": "stderr",
     "output_type": "stream",
     "text": [
      "192.168.21.245 - - [01/Sep/2022 15:49:37] \"POST /login HTTP/1.1\" 200 -\n"
     ]
    },
    {
     "name": "stdout",
     "output_type": "stream",
     "text": [
      "로그인 시도\n",
      "[('pky5335', 'qwer1234!', 'qwerq', datetime.datetime(1991, 4, 13, 0, 0), '124235141243', 'pky5335@nate.com', '남', 1, datetime.datetime(2022, 8, 25, 15, 13, 53), None, None, 0, 0, 'wer')]\n",
      "pky5335 로그인\n"
     ]
    },
    {
     "name": "stderr",
     "output_type": "stream",
     "text": [
      "192.168.21.245 - - [01/Sep/2022 15:49:37] \"POST /mappage HTTP/1.1\" 200 -\n"
     ]
    },
    {
     "name": "stdout",
     "output_type": "stream",
     "text": [
      "마커갱신\n",
      "[(1, 5, 'wef', 'swf', 'rtb', 'pky5335', None, 1, 35.1467299, 126.92201, datetime.datetime(2022, 9, 1, 11, 16, 26), 0), (4, 2, '여기', '없음', '구라임', 'ahy0914', None, 1, 35.1467488, 126.922456, datetime.datetime(2022, 9, 1, 11, 19, 25), 0)]\n",
      "갱신완료\n",
      "1,5,wef,swf,rtb,pky5335,None,1,35.1467299,126.92201,2022-09-01 11:16:26,0/4,2,여기,없음,구라임,ahy0914,None,1,35.1467488,126.922456,2022-09-01 11:19:25,0/\n"
     ]
    },
    {
     "name": "stderr",
     "output_type": "stream",
     "text": [
      "192.168.21.245 - - [01/Sep/2022 15:49:38] \"POST /mappage HTTP/1.1\" 200 -\n"
     ]
    },
    {
     "name": "stdout",
     "output_type": "stream",
     "text": [
      "마커갱신\n",
      "[(1, 5, 'wef', 'swf', 'rtb', 'pky5335', None, 1, 35.1467299, 126.92201, datetime.datetime(2022, 9, 1, 11, 16, 26), 0), (4, 2, '여기', '없음', '구라임', 'ahy0914', None, 1, 35.1467488, 126.922456, datetime.datetime(2022, 9, 1, 11, 19, 25), 0)]\n",
      "갱신완료\n",
      "1,5,wef,swf,rtb,pky5335,None,1,35.1467299,126.92201,2022-09-01 11:16:26,0/4,2,여기,없음,구라임,ahy0914,None,1,35.1467488,126.922456,2022-09-01 11:19:25,0/\n"
     ]
    },
    {
     "name": "stderr",
     "output_type": "stream",
     "text": [
      "192.168.21.245 - - [01/Sep/2022 15:49:40] \"POST /clicktrs HTTP/1.1\" 200 -\n"
     ]
    },
    {
     "name": "stdout",
     "output_type": "stream",
     "text": [
      "보물클릭\n",
      "[(5, 'wef', 'swf', 'rtb', 'pky5335', None, 35.1467299, 126.92201, datetime.datetime(2022, 9, 1, 11, 16, 26), 0)]\n"
     ]
    },
    {
     "name": "stderr",
     "output_type": "stream",
     "text": [
      "192.168.21.245 - - [01/Sep/2022 15:49:43] \"POST /mappage HTTP/1.1\" 200 -\n"
     ]
    },
    {
     "name": "stdout",
     "output_type": "stream",
     "text": [
      "마커갱신\n",
      "[(1, 5, 'wef', 'swf', 'rtb', 'pky5335', None, 1, 35.1467299, 126.92201, datetime.datetime(2022, 9, 1, 11, 16, 26), 0), (4, 2, '여기', '없음', '구라임', 'ahy0914', None, 1, 35.1467488, 126.922456, datetime.datetime(2022, 9, 1, 11, 19, 25), 0)]\n",
      "갱신완료\n",
      "1,5,wef,swf,rtb,pky5335,None,1,35.1467299,126.92201,2022-09-01 11:16:26,0/4,2,여기,없음,구라임,ahy0914,None,1,35.1467488,126.922456,2022-09-01 11:19:25,0/\n"
     ]
    },
    {
     "name": "stderr",
     "output_type": "stream",
     "text": [
      "192.168.21.245 - - [01/Sep/2022 15:49:48] \"POST /mappage HTTP/1.1\" 200 -\n"
     ]
    },
    {
     "name": "stdout",
     "output_type": "stream",
     "text": [
      "마커갱신\n",
      "[(1, 5, 'wef', 'swf', 'rtb', 'pky5335', None, 1, 35.1467299, 126.92201, datetime.datetime(2022, 9, 1, 11, 16, 26), 0), (4, 2, '여기', '없음', '구라임', 'ahy0914', None, 1, 35.1467488, 126.922456, datetime.datetime(2022, 9, 1, 11, 19, 25), 0)]\n",
      "갱신완료\n",
      "1,5,wef,swf,rtb,pky5335,None,1,35.1467299,126.92201,2022-09-01 11:16:26,0/4,2,여기,없음,구라임,ahy0914,None,1,35.1467488,126.922456,2022-09-01 11:19:25,0/\n"
     ]
    },
    {
     "name": "stderr",
     "output_type": "stream",
     "text": [
      "192.168.21.245 - - [01/Sep/2022 15:49:53] \"POST /mappage HTTP/1.1\" 200 -\n"
     ]
    },
    {
     "name": "stdout",
     "output_type": "stream",
     "text": [
      "마커갱신\n",
      "[(1, 5, 'wef', 'swf', 'rtb', 'pky5335', None, 1, 35.1467299, 126.92201, datetime.datetime(2022, 9, 1, 11, 16, 26), 0), (4, 2, '여기', '없음', '구라임', 'ahy0914', None, 1, 35.1467488, 126.922456, datetime.datetime(2022, 9, 1, 11, 19, 25), 0)]\n",
      "갱신완료\n",
      "1,5,wef,swf,rtb,pky5335,None,1,35.1467299,126.92201,2022-09-01 11:16:26,0/4,2,여기,없음,구라임,ahy0914,None,1,35.1467488,126.922456,2022-09-01 11:19:25,0/\n"
     ]
    },
    {
     "name": "stderr",
     "output_type": "stream",
     "text": [
      "192.168.21.245 - - [01/Sep/2022 15:49:58] \"POST /mappage HTTP/1.1\" 200 -\n"
     ]
    },
    {
     "name": "stdout",
     "output_type": "stream",
     "text": [
      "마커갱신\n",
      "[(1, 5, 'wef', 'swf', 'rtb', 'pky5335', None, 1, 35.1467299, 126.92201, datetime.datetime(2022, 9, 1, 11, 16, 26), 0), (4, 2, '여기', '없음', '구라임', 'ahy0914', None, 1, 35.1467488, 126.922456, datetime.datetime(2022, 9, 1, 11, 19, 25), 0)]\n",
      "갱신완료\n",
      "1,5,wef,swf,rtb,pky5335,None,1,35.1467299,126.92201,2022-09-01 11:16:26,0/4,2,여기,없음,구라임,ahy0914,None,1,35.1467488,126.922456,2022-09-01 11:19:25,0/\n"
     ]
    },
    {
     "name": "stderr",
     "output_type": "stream",
     "text": [
      "192.168.21.245 - - [01/Sep/2022 15:50:03] \"POST /mappage HTTP/1.1\" 200 -\n"
     ]
    },
    {
     "name": "stdout",
     "output_type": "stream",
     "text": [
      "마커갱신\n",
      "[(1, 5, 'wef', 'swf', 'rtb', 'pky5335', None, 1, 35.1467299, 126.92201, datetime.datetime(2022, 9, 1, 11, 16, 26), 0), (4, 2, '여기', '없음', '구라임', 'ahy0914', None, 1, 35.1467488, 126.922456, datetime.datetime(2022, 9, 1, 11, 19, 25), 0)]\n",
      "갱신완료\n",
      "1,5,wef,swf,rtb,pky5335,None,1,35.1467299,126.92201,2022-09-01 11:16:26,0/4,2,여기,없음,구라임,ahy0914,None,1,35.1467488,126.922456,2022-09-01 11:19:25,0/\n"
     ]
    },
    {
     "name": "stderr",
     "output_type": "stream",
     "text": [
      "192.168.21.245 - - [01/Sep/2022 15:50:08] \"POST /mappage HTTP/1.1\" 200 -\n"
     ]
    },
    {
     "name": "stdout",
     "output_type": "stream",
     "text": [
      "마커갱신\n",
      "[(1, 5, 'wef', 'swf', 'rtb', 'pky5335', None, 1, 35.1467299, 126.92201, datetime.datetime(2022, 9, 1, 11, 16, 26), 0), (4, 2, '여기', '없음', '구라임', 'ahy0914', None, 1, 35.1467488, 126.922456, datetime.datetime(2022, 9, 1, 11, 19, 25), 0)]\n",
      "갱신완료\n",
      "1,5,wef,swf,rtb,pky5335,None,1,35.1467299,126.92201,2022-09-01 11:16:26,0/4,2,여기,없음,구라임,ahy0914,None,1,35.1467488,126.922456,2022-09-01 11:19:25,0/\n"
     ]
    },
    {
     "name": "stderr",
     "output_type": "stream",
     "text": [
      "192.168.21.245 - - [01/Sep/2022 15:50:13] \"POST /mappage HTTP/1.1\" 200 -\n"
     ]
    },
    {
     "name": "stdout",
     "output_type": "stream",
     "text": [
      "마커갱신\n",
      "[(1, 5, 'wef', 'swf', 'rtb', 'pky5335', None, 1, 35.1467299, 126.92201, datetime.datetime(2022, 9, 1, 11, 16, 26), 0), (4, 2, '여기', '없음', '구라임', 'ahy0914', None, 1, 35.1467488, 126.922456, datetime.datetime(2022, 9, 1, 11, 19, 25), 0)]\n",
      "갱신완료\n",
      "1,5,wef,swf,rtb,pky5335,None,1,35.1467299,126.92201,2022-09-01 11:16:26,0/4,2,여기,없음,구라임,ahy0914,None,1,35.1467488,126.922456,2022-09-01 11:19:25,0/\n"
     ]
    },
    {
     "name": "stderr",
     "output_type": "stream",
     "text": [
      "192.168.21.245 - - [01/Sep/2022 15:50:18] \"POST /mappage HTTP/1.1\" 200 -\n"
     ]
    },
    {
     "name": "stdout",
     "output_type": "stream",
     "text": [
      "마커갱신\n",
      "[(1, 5, 'wef', 'swf', 'rtb', 'pky5335', None, 1, 35.1467299, 126.92201, datetime.datetime(2022, 9, 1, 11, 16, 26), 0), (4, 2, '여기', '없음', '구라임', 'ahy0914', None, 1, 35.1467488, 126.922456, datetime.datetime(2022, 9, 1, 11, 19, 25), 0)]\n",
      "갱신완료\n",
      "1,5,wef,swf,rtb,pky5335,None,1,35.1467299,126.92201,2022-09-01 11:16:26,0/4,2,여기,없음,구라임,ahy0914,None,1,35.1467488,126.922456,2022-09-01 11:19:25,0/\n"
     ]
    },
    {
     "name": "stderr",
     "output_type": "stream",
     "text": [
      "192.168.21.245 - - [01/Sep/2022 15:50:23] \"POST /mappage HTTP/1.1\" 200 -\n"
     ]
    },
    {
     "name": "stdout",
     "output_type": "stream",
     "text": [
      "마커갱신\n",
      "[(1, 5, 'wef', 'swf', 'rtb', 'pky5335', None, 1, 35.1467299, 126.92201, datetime.datetime(2022, 9, 1, 11, 16, 26), 0), (4, 2, '여기', '없음', '구라임', 'ahy0914', None, 1, 35.1467488, 126.922456, datetime.datetime(2022, 9, 1, 11, 19, 25), 0)]\n",
      "갱신완료\n",
      "1,5,wef,swf,rtb,pky5335,None,1,35.1467299,126.92201,2022-09-01 11:16:26,0/4,2,여기,없음,구라임,ahy0914,None,1,35.1467488,126.922456,2022-09-01 11:19:25,0/\n"
     ]
    },
    {
     "name": "stderr",
     "output_type": "stream",
     "text": [
      "192.168.21.245 - - [01/Sep/2022 15:50:28] \"POST /mappage HTTP/1.1\" 200 -\n"
     ]
    },
    {
     "name": "stdout",
     "output_type": "stream",
     "text": [
      "마커갱신\n",
      "[(1, 5, 'wef', 'swf', 'rtb', 'pky5335', None, 1, 35.1467299, 126.92201, datetime.datetime(2022, 9, 1, 11, 16, 26), 0), (4, 2, '여기', '없음', '구라임', 'ahy0914', None, 1, 35.1467488, 126.922456, datetime.datetime(2022, 9, 1, 11, 19, 25), 0)]\n",
      "갱신완료\n",
      "1,5,wef,swf,rtb,pky5335,None,1,35.1467299,126.92201,2022-09-01 11:16:26,0/4,2,여기,없음,구라임,ahy0914,None,1,35.1467488,126.922456,2022-09-01 11:19:25,0/\n"
     ]
    },
    {
     "name": "stderr",
     "output_type": "stream",
     "text": [
      "192.168.21.245 - - [01/Sep/2022 15:50:33] \"POST /mappage HTTP/1.1\" 200 -\n"
     ]
    },
    {
     "name": "stdout",
     "output_type": "stream",
     "text": [
      "마커갱신\n",
      "[(1, 5, 'wef', 'swf', 'rtb', 'pky5335', None, 1, 35.1467299, 126.92201, datetime.datetime(2022, 9, 1, 11, 16, 26), 0), (4, 2, '여기', '없음', '구라임', 'ahy0914', None, 1, 35.1467488, 126.922456, datetime.datetime(2022, 9, 1, 11, 19, 25), 0)]\n",
      "갱신완료\n",
      "1,5,wef,swf,rtb,pky5335,None,1,35.1467299,126.92201,2022-09-01 11:16:26,0/4,2,여기,없음,구라임,ahy0914,None,1,35.1467488,126.922456,2022-09-01 11:19:25,0/\n"
     ]
    },
    {
     "name": "stderr",
     "output_type": "stream",
     "text": [
      "192.168.21.245 - - [01/Sep/2022 15:50:38] \"POST /mappage HTTP/1.1\" 200 -\n"
     ]
    },
    {
     "name": "stdout",
     "output_type": "stream",
     "text": [
      "마커갱신\n",
      "[(1, 5, 'wef', 'swf', 'rtb', 'pky5335', None, 1, 35.1467299, 126.92201, datetime.datetime(2022, 9, 1, 11, 16, 26), 0), (4, 2, '여기', '없음', '구라임', 'ahy0914', None, 1, 35.1467488, 126.922456, datetime.datetime(2022, 9, 1, 11, 19, 25), 0)]\n",
      "갱신완료\n",
      "1,5,wef,swf,rtb,pky5335,None,1,35.1467299,126.92201,2022-09-01 11:16:26,0/4,2,여기,없음,구라임,ahy0914,None,1,35.1467488,126.922456,2022-09-01 11:19:25,0/\n"
     ]
    },
    {
     "name": "stderr",
     "output_type": "stream",
     "text": [
      "192.168.21.245 - - [01/Sep/2022 15:50:43] \"POST /mappage HTTP/1.1\" 200 -\n"
     ]
    },
    {
     "name": "stdout",
     "output_type": "stream",
     "text": [
      "마커갱신\n",
      "[(1, 5, 'wef', 'swf', 'rtb', 'pky5335', None, 1, 35.1467299, 126.92201, datetime.datetime(2022, 9, 1, 11, 16, 26), 0), (4, 2, '여기', '없음', '구라임', 'ahy0914', None, 1, 35.1467488, 126.922456, datetime.datetime(2022, 9, 1, 11, 19, 25), 0)]\n",
      "갱신완료\n",
      "1,5,wef,swf,rtb,pky5335,None,1,35.1467299,126.92201,2022-09-01 11:16:26,0/4,2,여기,없음,구라임,ahy0914,None,1,35.1467488,126.922456,2022-09-01 11:19:25,0/\n"
     ]
    },
    {
     "name": "stderr",
     "output_type": "stream",
     "text": [
      "192.168.21.245 - - [01/Sep/2022 15:50:48] \"POST /mappage HTTP/1.1\" 200 -\n"
     ]
    },
    {
     "name": "stdout",
     "output_type": "stream",
     "text": [
      "마커갱신\n",
      "[(1, 5, 'wef', 'swf', 'rtb', 'pky5335', None, 1, 35.1467299, 126.92201, datetime.datetime(2022, 9, 1, 11, 16, 26), 0), (4, 2, '여기', '없음', '구라임', 'ahy0914', None, 1, 35.1467488, 126.922456, datetime.datetime(2022, 9, 1, 11, 19, 25), 0)]\n",
      "갱신완료\n",
      "1,5,wef,swf,rtb,pky5335,None,1,35.1467299,126.92201,2022-09-01 11:16:26,0/4,2,여기,없음,구라임,ahy0914,None,1,35.1467488,126.922456,2022-09-01 11:19:25,0/\n"
     ]
    },
    {
     "name": "stderr",
     "output_type": "stream",
     "text": [
      "192.168.21.245 - - [01/Sep/2022 15:50:53] \"POST /mappage HTTP/1.1\" 200 -\n"
     ]
    },
    {
     "name": "stdout",
     "output_type": "stream",
     "text": [
      "마커갱신\n",
      "[(1, 5, 'wef', 'swf', 'rtb', 'pky5335', None, 1, 35.1467299, 126.92201, datetime.datetime(2022, 9, 1, 11, 16, 26), 0), (4, 2, '여기', '없음', '구라임', 'ahy0914', None, 1, 35.1467488, 126.922456, datetime.datetime(2022, 9, 1, 11, 19, 25), 0)]\n",
      "갱신완료\n",
      "1,5,wef,swf,rtb,pky5335,None,1,35.1467299,126.92201,2022-09-01 11:16:26,0/4,2,여기,없음,구라임,ahy0914,None,1,35.1467488,126.922456,2022-09-01 11:19:25,0/\n"
     ]
    },
    {
     "name": "stderr",
     "output_type": "stream",
     "text": [
      "192.168.21.245 - - [01/Sep/2022 15:50:58] \"POST /mappage HTTP/1.1\" 200 -\n"
     ]
    },
    {
     "name": "stdout",
     "output_type": "stream",
     "text": [
      "마커갱신\n",
      "[(1, 5, 'wef', 'swf', 'rtb', 'pky5335', None, 1, 35.1467299, 126.92201, datetime.datetime(2022, 9, 1, 11, 16, 26), 0), (4, 2, '여기', '없음', '구라임', 'ahy0914', None, 1, 35.1467488, 126.922456, datetime.datetime(2022, 9, 1, 11, 19, 25), 0)]\n",
      "갱신완료\n",
      "1,5,wef,swf,rtb,pky5335,None,1,35.1467299,126.92201,2022-09-01 11:16:26,0/4,2,여기,없음,구라임,ahy0914,None,1,35.1467488,126.922456,2022-09-01 11:19:25,0/\n"
     ]
    },
    {
     "name": "stderr",
     "output_type": "stream",
     "text": [
      "192.168.21.245 - - [01/Sep/2022 15:51:03] \"POST /mappage HTTP/1.1\" 200 -\n"
     ]
    },
    {
     "name": "stdout",
     "output_type": "stream",
     "text": [
      "마커갱신\n",
      "[(1, 5, 'wef', 'swf', 'rtb', 'pky5335', None, 1, 35.1467299, 126.92201, datetime.datetime(2022, 9, 1, 11, 16, 26), 0), (4, 2, '여기', '없음', '구라임', 'ahy0914', None, 1, 35.1467488, 126.922456, datetime.datetime(2022, 9, 1, 11, 19, 25), 0)]\n",
      "갱신완료\n",
      "1,5,wef,swf,rtb,pky5335,None,1,35.1467299,126.92201,2022-09-01 11:16:26,0/4,2,여기,없음,구라임,ahy0914,None,1,35.1467488,126.922456,2022-09-01 11:19:25,0/\n"
     ]
    },
    {
     "name": "stderr",
     "output_type": "stream",
     "text": [
      "192.168.21.245 - - [01/Sep/2022 15:51:08] \"POST /mappage HTTP/1.1\" 200 -\n"
     ]
    },
    {
     "name": "stdout",
     "output_type": "stream",
     "text": [
      "마커갱신\n",
      "[(1, 5, 'wef', 'swf', 'rtb', 'pky5335', None, 1, 35.1467299, 126.92201, datetime.datetime(2022, 9, 1, 11, 16, 26), 0), (4, 2, '여기', '없음', '구라임', 'ahy0914', None, 1, 35.1467488, 126.922456, datetime.datetime(2022, 9, 1, 11, 19, 25), 0)]\n",
      "갱신완료\n",
      "1,5,wef,swf,rtb,pky5335,None,1,35.1467299,126.92201,2022-09-01 11:16:26,0/4,2,여기,없음,구라임,ahy0914,None,1,35.1467488,126.922456,2022-09-01 11:19:25,0/\n"
     ]
    },
    {
     "name": "stderr",
     "output_type": "stream",
     "text": [
      "192.168.21.245 - - [01/Sep/2022 15:51:13] \"POST /mappage HTTP/1.1\" 200 -\n"
     ]
    },
    {
     "name": "stdout",
     "output_type": "stream",
     "text": [
      "마커갱신\n",
      "[(1, 5, 'wef', 'swf', 'rtb', 'pky5335', None, 1, 35.1467299, 126.92201, datetime.datetime(2022, 9, 1, 11, 16, 26), 0), (4, 2, '여기', '없음', '구라임', 'ahy0914', None, 1, 35.1467488, 126.922456, datetime.datetime(2022, 9, 1, 11, 19, 25), 0)]\n",
      "갱신완료\n",
      "1,5,wef,swf,rtb,pky5335,None,1,35.1467299,126.92201,2022-09-01 11:16:26,0/4,2,여기,없음,구라임,ahy0914,None,1,35.1467488,126.922456,2022-09-01 11:19:25,0/\n"
     ]
    },
    {
     "name": "stderr",
     "output_type": "stream",
     "text": [
      "192.168.21.245 - - [01/Sep/2022 15:51:18] \"POST /mappage HTTP/1.1\" 200 -\n"
     ]
    },
    {
     "name": "stdout",
     "output_type": "stream",
     "text": [
      "마커갱신\n",
      "[(1, 5, 'wef', 'swf', 'rtb', 'pky5335', None, 1, 35.1467299, 126.92201, datetime.datetime(2022, 9, 1, 11, 16, 26), 0), (4, 2, '여기', '없음', '구라임', 'ahy0914', None, 1, 35.1467488, 126.922456, datetime.datetime(2022, 9, 1, 11, 19, 25), 0)]\n",
      "갱신완료\n",
      "1,5,wef,swf,rtb,pky5335,None,1,35.1467299,126.92201,2022-09-01 11:16:26,0/4,2,여기,없음,구라임,ahy0914,None,1,35.1467488,126.922456,2022-09-01 11:19:25,0/\n"
     ]
    },
    {
     "name": "stderr",
     "output_type": "stream",
     "text": [
      "192.168.21.245 - - [01/Sep/2022 15:51:23] \"POST /mappage HTTP/1.1\" 200 -\n"
     ]
    },
    {
     "name": "stdout",
     "output_type": "stream",
     "text": [
      "마커갱신\n",
      "[(1, 5, 'wef', 'swf', 'rtb', 'pky5335', None, 1, 35.1467299, 126.92201, datetime.datetime(2022, 9, 1, 11, 16, 26), 0), (4, 2, '여기', '없음', '구라임', 'ahy0914', None, 1, 35.1467488, 126.922456, datetime.datetime(2022, 9, 1, 11, 19, 25), 0)]\n",
      "갱신완료\n",
      "1,5,wef,swf,rtb,pky5335,None,1,35.1467299,126.92201,2022-09-01 11:16:26,0/4,2,여기,없음,구라임,ahy0914,None,1,35.1467488,126.922456,2022-09-01 11:19:25,0/\n"
     ]
    },
    {
     "name": "stderr",
     "output_type": "stream",
     "text": [
      "192.168.21.245 - - [01/Sep/2022 15:51:28] \"POST /mappage HTTP/1.1\" 200 -\n"
     ]
    },
    {
     "name": "stdout",
     "output_type": "stream",
     "text": [
      "마커갱신\n",
      "[(1, 5, 'wef', 'swf', 'rtb', 'pky5335', None, 1, 35.1467299, 126.92201, datetime.datetime(2022, 9, 1, 11, 16, 26), 0), (4, 2, '여기', '없음', '구라임', 'ahy0914', None, 1, 35.1467488, 126.922456, datetime.datetime(2022, 9, 1, 11, 19, 25), 0)]\n",
      "갱신완료\n",
      "1,5,wef,swf,rtb,pky5335,None,1,35.1467299,126.92201,2022-09-01 11:16:26,0/4,2,여기,없음,구라임,ahy0914,None,1,35.1467488,126.922456,2022-09-01 11:19:25,0/\n"
     ]
    },
    {
     "name": "stderr",
     "output_type": "stream",
     "text": [
      "192.168.21.245 - - [01/Sep/2022 15:51:33] \"POST /mappage HTTP/1.1\" 200 -\n"
     ]
    },
    {
     "name": "stdout",
     "output_type": "stream",
     "text": [
      "마커갱신\n",
      "[(1, 5, 'wef', 'swf', 'rtb', 'pky5335', None, 1, 35.1467299, 126.92201, datetime.datetime(2022, 9, 1, 11, 16, 26), 0), (4, 2, '여기', '없음', '구라임', 'ahy0914', None, 1, 35.1467488, 126.922456, datetime.datetime(2022, 9, 1, 11, 19, 25), 0)]\n",
      "갱신완료\n",
      "1,5,wef,swf,rtb,pky5335,None,1,35.1467299,126.92201,2022-09-01 11:16:26,0/4,2,여기,없음,구라임,ahy0914,None,1,35.1467488,126.922456,2022-09-01 11:19:25,0/\n"
     ]
    },
    {
     "name": "stderr",
     "output_type": "stream",
     "text": [
      "192.168.21.245 - - [01/Sep/2022 15:51:38] \"POST /mappage HTTP/1.1\" 200 -\n"
     ]
    },
    {
     "name": "stdout",
     "output_type": "stream",
     "text": [
      "마커갱신\n",
      "[(1, 5, 'wef', 'swf', 'rtb', 'pky5335', None, 1, 35.1467299, 126.92201, datetime.datetime(2022, 9, 1, 11, 16, 26), 0), (4, 2, '여기', '없음', '구라임', 'ahy0914', None, 1, 35.1467488, 126.922456, datetime.datetime(2022, 9, 1, 11, 19, 25), 0)]\n",
      "갱신완료\n",
      "1,5,wef,swf,rtb,pky5335,None,1,35.1467299,126.92201,2022-09-01 11:16:26,0/4,2,여기,없음,구라임,ahy0914,None,1,35.1467488,126.922456,2022-09-01 11:19:25,0/\n"
     ]
    },
    {
     "name": "stderr",
     "output_type": "stream",
     "text": [
      "192.168.21.245 - - [01/Sep/2022 15:51:43] \"POST /mappage HTTP/1.1\" 200 -\n"
     ]
    },
    {
     "name": "stdout",
     "output_type": "stream",
     "text": [
      "마커갱신\n",
      "[(1, 5, 'wef', 'swf', 'rtb', 'pky5335', None, 1, 35.1467299, 126.92201, datetime.datetime(2022, 9, 1, 11, 16, 26), 0), (4, 2, '여기', '없음', '구라임', 'ahy0914', None, 1, 35.1467488, 126.922456, datetime.datetime(2022, 9, 1, 11, 19, 25), 0)]\n",
      "갱신완료\n",
      "1,5,wef,swf,rtb,pky5335,None,1,35.1467299,126.92201,2022-09-01 11:16:26,0/4,2,여기,없음,구라임,ahy0914,None,1,35.1467488,126.922456,2022-09-01 11:19:25,0/\n"
     ]
    },
    {
     "name": "stderr",
     "output_type": "stream",
     "text": [
      "192.168.21.245 - - [01/Sep/2022 15:51:48] \"POST /mappage HTTP/1.1\" 200 -\n"
     ]
    },
    {
     "name": "stdout",
     "output_type": "stream",
     "text": [
      "마커갱신\n",
      "[(1, 5, 'wef', 'swf', 'rtb', 'pky5335', None, 1, 35.1467299, 126.92201, datetime.datetime(2022, 9, 1, 11, 16, 26), 0), (4, 2, '여기', '없음', '구라임', 'ahy0914', None, 1, 35.1467488, 126.922456, datetime.datetime(2022, 9, 1, 11, 19, 25), 0)]\n",
      "갱신완료\n",
      "1,5,wef,swf,rtb,pky5335,None,1,35.1467299,126.92201,2022-09-01 11:16:26,0/4,2,여기,없음,구라임,ahy0914,None,1,35.1467488,126.922456,2022-09-01 11:19:25,0/\n"
     ]
    },
    {
     "name": "stderr",
     "output_type": "stream",
     "text": [
      "192.168.21.245 - - [01/Sep/2022 15:51:53] \"POST /mappage HTTP/1.1\" 200 -\n"
     ]
    },
    {
     "name": "stdout",
     "output_type": "stream",
     "text": [
      "마커갱신\n",
      "[(1, 5, 'wef', 'swf', 'rtb', 'pky5335', None, 1, 35.1467299, 126.92201, datetime.datetime(2022, 9, 1, 11, 16, 26), 0), (4, 2, '여기', '없음', '구라임', 'ahy0914', None, 1, 35.1467488, 126.922456, datetime.datetime(2022, 9, 1, 11, 19, 25), 0)]\n",
      "갱신완료\n",
      "1,5,wef,swf,rtb,pky5335,None,1,35.1467299,126.92201,2022-09-01 11:16:26,0/4,2,여기,없음,구라임,ahy0914,None,1,35.1467488,126.922456,2022-09-01 11:19:25,0/\n"
     ]
    },
    {
     "name": "stderr",
     "output_type": "stream",
     "text": [
      "192.168.21.245 - - [01/Sep/2022 15:51:58] \"POST /mappage HTTP/1.1\" 200 -\n"
     ]
    },
    {
     "name": "stdout",
     "output_type": "stream",
     "text": [
      "마커갱신\n",
      "[(1, 5, 'wef', 'swf', 'rtb', 'pky5335', None, 1, 35.1467299, 126.92201, datetime.datetime(2022, 9, 1, 11, 16, 26), 0), (4, 2, '여기', '없음', '구라임', 'ahy0914', None, 1, 35.1467488, 126.922456, datetime.datetime(2022, 9, 1, 11, 19, 25), 0)]\n",
      "갱신완료\n",
      "1,5,wef,swf,rtb,pky5335,None,1,35.1467299,126.92201,2022-09-01 11:16:26,0/4,2,여기,없음,구라임,ahy0914,None,1,35.1467488,126.922456,2022-09-01 11:19:25,0/\n"
     ]
    },
    {
     "name": "stderr",
     "output_type": "stream",
     "text": [
      "192.168.21.245 - - [01/Sep/2022 15:52:03] \"POST /mappage HTTP/1.1\" 200 -\n"
     ]
    },
    {
     "name": "stdout",
     "output_type": "stream",
     "text": [
      "마커갱신\n",
      "[(1, 5, 'wef', 'swf', 'rtb', 'pky5335', None, 1, 35.1467299, 126.92201, datetime.datetime(2022, 9, 1, 11, 16, 26), 0), (4, 2, '여기', '없음', '구라임', 'ahy0914', None, 1, 35.1467488, 126.922456, datetime.datetime(2022, 9, 1, 11, 19, 25), 0)]\n",
      "갱신완료\n",
      "1,5,wef,swf,rtb,pky5335,None,1,35.1467299,126.92201,2022-09-01 11:16:26,0/4,2,여기,없음,구라임,ahy0914,None,1,35.1467488,126.922456,2022-09-01 11:19:25,0/\n"
     ]
    },
    {
     "name": "stderr",
     "output_type": "stream",
     "text": [
      "192.168.21.245 - - [01/Sep/2022 15:52:08] \"POST /mappage HTTP/1.1\" 200 -\n"
     ]
    },
    {
     "name": "stdout",
     "output_type": "stream",
     "text": [
      "마커갱신\n",
      "[(1, 5, 'wef', 'swf', 'rtb', 'pky5335', None, 1, 35.1467299, 126.92201, datetime.datetime(2022, 9, 1, 11, 16, 26), 0), (4, 2, '여기', '없음', '구라임', 'ahy0914', None, 1, 35.1467488, 126.922456, datetime.datetime(2022, 9, 1, 11, 19, 25), 0)]\n",
      "갱신완료\n",
      "1,5,wef,swf,rtb,pky5335,None,1,35.1467299,126.92201,2022-09-01 11:16:26,0/4,2,여기,없음,구라임,ahy0914,None,1,35.1467488,126.922456,2022-09-01 11:19:25,0/\n"
     ]
    },
    {
     "name": "stderr",
     "output_type": "stream",
     "text": [
      "192.168.21.245 - - [01/Sep/2022 15:52:13] \"POST /mappage HTTP/1.1\" 200 -\n"
     ]
    },
    {
     "name": "stdout",
     "output_type": "stream",
     "text": [
      "마커갱신\n",
      "[(1, 5, 'wef', 'swf', 'rtb', 'pky5335', None, 1, 35.1467299, 126.92201, datetime.datetime(2022, 9, 1, 11, 16, 26), 0), (4, 2, '여기', '없음', '구라임', 'ahy0914', None, 1, 35.1467488, 126.922456, datetime.datetime(2022, 9, 1, 11, 19, 25), 0)]\n",
      "갱신완료\n",
      "1,5,wef,swf,rtb,pky5335,None,1,35.1467299,126.92201,2022-09-01 11:16:26,0/4,2,여기,없음,구라임,ahy0914,None,1,35.1467488,126.922456,2022-09-01 11:19:25,0/\n"
     ]
    },
    {
     "name": "stderr",
     "output_type": "stream",
     "text": [
      "192.168.21.245 - - [01/Sep/2022 15:52:18] \"POST /mappage HTTP/1.1\" 200 -\n"
     ]
    },
    {
     "name": "stdout",
     "output_type": "stream",
     "text": [
      "마커갱신\n",
      "[(1, 5, 'wef', 'swf', 'rtb', 'pky5335', None, 1, 35.1467299, 126.92201, datetime.datetime(2022, 9, 1, 11, 16, 26), 0), (4, 2, '여기', '없음', '구라임', 'ahy0914', None, 1, 35.1467488, 126.922456, datetime.datetime(2022, 9, 1, 11, 19, 25), 0)]\n",
      "갱신완료\n",
      "1,5,wef,swf,rtb,pky5335,None,1,35.1467299,126.92201,2022-09-01 11:16:26,0/4,2,여기,없음,구라임,ahy0914,None,1,35.1467488,126.922456,2022-09-01 11:19:25,0/\n"
     ]
    },
    {
     "name": "stderr",
     "output_type": "stream",
     "text": [
      "192.168.21.245 - - [01/Sep/2022 15:52:23] \"POST /mappage HTTP/1.1\" 200 -\n"
     ]
    },
    {
     "name": "stdout",
     "output_type": "stream",
     "text": [
      "마커갱신\n",
      "[(1, 5, 'wef', 'swf', 'rtb', 'pky5335', None, 1, 35.1467299, 126.92201, datetime.datetime(2022, 9, 1, 11, 16, 26), 0), (4, 2, '여기', '없음', '구라임', 'ahy0914', None, 1, 35.1467488, 126.922456, datetime.datetime(2022, 9, 1, 11, 19, 25), 0)]\n",
      "갱신완료\n",
      "1,5,wef,swf,rtb,pky5335,None,1,35.1467299,126.92201,2022-09-01 11:16:26,0/4,2,여기,없음,구라임,ahy0914,None,1,35.1467488,126.922456,2022-09-01 11:19:25,0/\n"
     ]
    },
    {
     "name": "stderr",
     "output_type": "stream",
     "text": [
      "192.168.21.245 - - [01/Sep/2022 15:52:28] \"POST /mappage HTTP/1.1\" 200 -\n"
     ]
    },
    {
     "name": "stdout",
     "output_type": "stream",
     "text": [
      "마커갱신\n",
      "[(1, 5, 'wef', 'swf', 'rtb', 'pky5335', None, 1, 35.1467299, 126.92201, datetime.datetime(2022, 9, 1, 11, 16, 26), 0), (4, 2, '여기', '없음', '구라임', 'ahy0914', None, 1, 35.1467488, 126.922456, datetime.datetime(2022, 9, 1, 11, 19, 25), 0)]\n",
      "갱신완료\n",
      "1,5,wef,swf,rtb,pky5335,None,1,35.1467299,126.92201,2022-09-01 11:16:26,0/4,2,여기,없음,구라임,ahy0914,None,1,35.1467488,126.922456,2022-09-01 11:19:25,0/\n"
     ]
    },
    {
     "name": "stderr",
     "output_type": "stream",
     "text": [
      "192.168.21.245 - - [01/Sep/2022 15:52:33] \"POST /mappage HTTP/1.1\" 200 -\n"
     ]
    },
    {
     "name": "stdout",
     "output_type": "stream",
     "text": [
      "마커갱신\n",
      "[(1, 5, 'wef', 'swf', 'rtb', 'pky5335', None, 1, 35.1467299, 126.92201, datetime.datetime(2022, 9, 1, 11, 16, 26), 0), (4, 2, '여기', '없음', '구라임', 'ahy0914', None, 1, 35.1467488, 126.922456, datetime.datetime(2022, 9, 1, 11, 19, 25), 0)]\n",
      "갱신완료\n",
      "1,5,wef,swf,rtb,pky5335,None,1,35.1467299,126.92201,2022-09-01 11:16:26,0/4,2,여기,없음,구라임,ahy0914,None,1,35.1467488,126.922456,2022-09-01 11:19:25,0/\n"
     ]
    },
    {
     "name": "stderr",
     "output_type": "stream",
     "text": [
      "192.168.21.245 - - [01/Sep/2022 15:52:49] \"POST /login HTTP/1.1\" 200 -\n"
     ]
    },
    {
     "name": "stdout",
     "output_type": "stream",
     "text": [
      "로그인 시도\n",
      "[('pky5335', 'qwer1234!', 'qwerq', datetime.datetime(1991, 4, 13, 0, 0), '124235141243', 'pky5335@nate.com', '남', 1, datetime.datetime(2022, 8, 25, 15, 13, 53), None, None, 0, 0, 'wer')]\n",
      "pky5335 로그인\n"
     ]
    },
    {
     "name": "stderr",
     "output_type": "stream",
     "text": [
      "192.168.21.245 - - [01/Sep/2022 15:52:49] \"POST /mappage HTTP/1.1\" 200 -\n"
     ]
    },
    {
     "name": "stdout",
     "output_type": "stream",
     "text": [
      "마커갱신\n",
      "[(1, 5, 'wef', 'swf', 'rtb', 'pky5335', None, 1, 35.1467299, 126.92201, datetime.datetime(2022, 9, 1, 11, 16, 26), 0), (4, 2, '여기', '없음', '구라임', 'ahy0914', None, 1, 35.1467488, 126.922456, datetime.datetime(2022, 9, 1, 11, 19, 25), 0)]\n",
      "갱신완료\n",
      "1,5,wef,swf,rtb,pky5335,None,1,35.1467299,126.92201,2022-09-01 11:16:26,0/4,2,여기,없음,구라임,ahy0914,None,1,35.1467488,126.922456,2022-09-01 11:19:25,0/\n"
     ]
    },
    {
     "name": "stderr",
     "output_type": "stream",
     "text": [
      "192.168.21.245 - - [01/Sep/2022 15:52:50] \"POST /mappage HTTP/1.1\" 200 -\n"
     ]
    },
    {
     "name": "stdout",
     "output_type": "stream",
     "text": [
      "마커갱신\n",
      "[(1, 5, 'wef', 'swf', 'rtb', 'pky5335', None, 1, 35.1467299, 126.92201, datetime.datetime(2022, 9, 1, 11, 16, 26), 0), (4, 2, '여기', '없음', '구라임', 'ahy0914', None, 1, 35.1467488, 126.922456, datetime.datetime(2022, 9, 1, 11, 19, 25), 0)]\n",
      "갱신완료\n",
      "1,5,wef,swf,rtb,pky5335,None,1,35.1467299,126.92201,2022-09-01 11:16:26,0/4,2,여기,없음,구라임,ahy0914,None,1,35.1467488,126.922456,2022-09-01 11:19:25,0/\n"
     ]
    },
    {
     "name": "stderr",
     "output_type": "stream",
     "text": [
      "192.168.21.245 - - [01/Sep/2022 15:57:23] \"POST /login HTTP/1.1\" 200 -\n"
     ]
    },
    {
     "name": "stdout",
     "output_type": "stream",
     "text": [
      "로그인 시도\n",
      "[('pky5335', 'qwer1234!', 'qwerq', datetime.datetime(1991, 4, 13, 0, 0), '124235141243', 'pky5335@nate.com', '남', 1, datetime.datetime(2022, 8, 25, 15, 13, 53), None, None, 0, 0, 'wer')]\n",
      "pky5335 로그인\n"
     ]
    },
    {
     "name": "stderr",
     "output_type": "stream",
     "text": [
      "192.168.21.245 - - [01/Sep/2022 15:57:23] \"POST /mappage HTTP/1.1\" 200 -\n"
     ]
    },
    {
     "name": "stdout",
     "output_type": "stream",
     "text": [
      "마커갱신\n",
      "[(1, 5, 'wef', 'swf', 'rtb', 'pky5335', None, 1, 35.1467299, 126.92201, datetime.datetime(2022, 9, 1, 11, 16, 26), 0), (4, 2, '여기', '없음', '구라임', 'ahy0914', None, 1, 35.1467488, 126.922456, datetime.datetime(2022, 9, 1, 11, 19, 25), 0)]\n",
      "갱신완료\n",
      "1,5,wef,swf,rtb,pky5335,None,1,35.1467299,126.92201,2022-09-01 11:16:26,0/4,2,여기,없음,구라임,ahy0914,None,1,35.1467488,126.922456,2022-09-01 11:19:25,0/\n"
     ]
    },
    {
     "name": "stderr",
     "output_type": "stream",
     "text": [
      "192.168.21.245 - - [01/Sep/2022 15:57:24] \"POST /mappage HTTP/1.1\" 200 -\n"
     ]
    },
    {
     "name": "stdout",
     "output_type": "stream",
     "text": [
      "마커갱신\n",
      "[(1, 5, 'wef', 'swf', 'rtb', 'pky5335', None, 1, 35.1467299, 126.92201, datetime.datetime(2022, 9, 1, 11, 16, 26), 0), (4, 2, '여기', '없음', '구라임', 'ahy0914', None, 1, 35.1467488, 126.922456, datetime.datetime(2022, 9, 1, 11, 19, 25), 0)]\n",
      "갱신완료\n",
      "1,5,wef,swf,rtb,pky5335,None,1,35.1467299,126.92201,2022-09-01 11:16:26,0/4,2,여기,없음,구라임,ahy0914,None,1,35.1467488,126.922456,2022-09-01 11:19:25,0/\n"
     ]
    },
    {
     "name": "stderr",
     "output_type": "stream",
     "text": [
      "192.168.21.245 - - [01/Sep/2022 15:59:56] \"POST /login HTTP/1.1\" 200 -\n"
     ]
    },
    {
     "name": "stdout",
     "output_type": "stream",
     "text": [
      "로그인 시도\n",
      "[('pky5335', 'qwer1234!', 'qwerq', datetime.datetime(1991, 4, 13, 0, 0), '124235141243', 'pky5335@nate.com', '남', 1, datetime.datetime(2022, 8, 25, 15, 13, 53), None, None, 0, 0, 'wer')]\n",
      "pky5335 로그인\n"
     ]
    },
    {
     "name": "stderr",
     "output_type": "stream",
     "text": [
      "192.168.21.245 - - [01/Sep/2022 15:59:56] \"POST /mappage HTTP/1.1\" 200 -\n"
     ]
    },
    {
     "name": "stdout",
     "output_type": "stream",
     "text": [
      "마커갱신\n",
      "[(1, 5, 'wef', 'swf', 'rtb', 'pky5335', None, 1, 35.1467299, 126.92201, datetime.datetime(2022, 9, 1, 11, 16, 26), 0), (4, 2, '여기', '없음', '구라임', 'ahy0914', None, 1, 35.1467488, 126.922456, datetime.datetime(2022, 9, 1, 11, 19, 25), 0)]\n",
      "갱신완료\n",
      "1,5,wef,swf,rtb,pky5335,None,1,35.1467299,126.92201,2022-09-01 11:16:26,0/4,2,여기,없음,구라임,ahy0914,None,1,35.1467488,126.922456,2022-09-01 11:19:25,0/\n"
     ]
    },
    {
     "name": "stderr",
     "output_type": "stream",
     "text": [
      "192.168.21.245 - - [01/Sep/2022 15:59:57] \"POST /mappage HTTP/1.1\" 200 -\n"
     ]
    },
    {
     "name": "stdout",
     "output_type": "stream",
     "text": [
      "마커갱신\n",
      "[(1, 5, 'wef', 'swf', 'rtb', 'pky5335', None, 1, 35.1467299, 126.92201, datetime.datetime(2022, 9, 1, 11, 16, 26), 0), (4, 2, '여기', '없음', '구라임', 'ahy0914', None, 1, 35.1467488, 126.922456, datetime.datetime(2022, 9, 1, 11, 19, 25), 0)]\n",
      "갱신완료\n",
      "1,5,wef,swf,rtb,pky5335,None,1,35.1467299,126.92201,2022-09-01 11:16:26,0/4,2,여기,없음,구라임,ahy0914,None,1,35.1467488,126.922456,2022-09-01 11:19:25,0/\n"
     ]
    },
    {
     "name": "stderr",
     "output_type": "stream",
     "text": [
      "192.168.21.245 - - [01/Sep/2022 15:59:59] \"POST /clicktrs HTTP/1.1\" 200 -\n"
     ]
    },
    {
     "name": "stdout",
     "output_type": "stream",
     "text": [
      "보물클릭\n",
      "[(5, 'wef', 'swf', 'rtb', 'pky5335', None, 35.1467299, 126.92201, datetime.datetime(2022, 9, 1, 11, 16, 26), 0)]\n"
     ]
    },
    {
     "name": "stderr",
     "output_type": "stream",
     "text": [
      "192.168.21.245 - - [01/Sep/2022 16:00:02] \"POST /mappage HTTP/1.1\" 200 -\n"
     ]
    },
    {
     "name": "stdout",
     "output_type": "stream",
     "text": [
      "마커갱신\n",
      "[(1, 5, 'wef', 'swf', 'rtb', 'pky5335', None, 1, 35.1467299, 126.92201, datetime.datetime(2022, 9, 1, 11, 16, 26), 0), (4, 2, '여기', '없음', '구라임', 'ahy0914', None, 1, 35.1467488, 126.922456, datetime.datetime(2022, 9, 1, 11, 19, 25), 0)]\n",
      "갱신완료\n",
      "1,5,wef,swf,rtb,pky5335,None,1,35.1467299,126.92201,2022-09-01 11:16:26,0/4,2,여기,없음,구라임,ahy0914,None,1,35.1467488,126.922456,2022-09-01 11:19:25,0/\n"
     ]
    },
    {
     "name": "stderr",
     "output_type": "stream",
     "text": [
      "192.168.21.245 - - [01/Sep/2022 16:00:07] \"POST /mappage HTTP/1.1\" 200 -\n"
     ]
    },
    {
     "name": "stdout",
     "output_type": "stream",
     "text": [
      "마커갱신\n",
      "[(1, 5, 'wef', 'swf', 'rtb', 'pky5335', None, 1, 35.1467299, 126.92201, datetime.datetime(2022, 9, 1, 11, 16, 26), 0), (4, 2, '여기', '없음', '구라임', 'ahy0914', None, 1, 35.1467488, 126.922456, datetime.datetime(2022, 9, 1, 11, 19, 25), 0)]\n",
      "갱신완료\n",
      "1,5,wef,swf,rtb,pky5335,None,1,35.1467299,126.92201,2022-09-01 11:16:26,0/4,2,여기,없음,구라임,ahy0914,None,1,35.1467488,126.922456,2022-09-01 11:19:25,0/\n"
     ]
    },
    {
     "name": "stderr",
     "output_type": "stream",
     "text": [
      "192.168.21.245 - - [01/Sep/2022 16:00:12] \"POST /mappage HTTP/1.1\" 200 -\n"
     ]
    },
    {
     "name": "stdout",
     "output_type": "stream",
     "text": [
      "마커갱신\n",
      "[(1, 5, 'wef', 'swf', 'rtb', 'pky5335', None, 1, 35.1467299, 126.92201, datetime.datetime(2022, 9, 1, 11, 16, 26), 0), (4, 2, '여기', '없음', '구라임', 'ahy0914', None, 1, 35.1467488, 126.922456, datetime.datetime(2022, 9, 1, 11, 19, 25), 0)]\n",
      "갱신완료\n",
      "1,5,wef,swf,rtb,pky5335,None,1,35.1467299,126.92201,2022-09-01 11:16:26,0/4,2,여기,없음,구라임,ahy0914,None,1,35.1467488,126.922456,2022-09-01 11:19:25,0/\n"
     ]
    },
    {
     "name": "stderr",
     "output_type": "stream",
     "text": [
      "192.168.21.245 - - [01/Sep/2022 16:00:17] \"POST /mappage HTTP/1.1\" 200 -\n"
     ]
    },
    {
     "name": "stdout",
     "output_type": "stream",
     "text": [
      "마커갱신\n",
      "[(1, 5, 'wef', 'swf', 'rtb', 'pky5335', None, 1, 35.1467299, 126.92201, datetime.datetime(2022, 9, 1, 11, 16, 26), 0), (4, 2, '여기', '없음', '구라임', 'ahy0914', None, 1, 35.1467488, 126.922456, datetime.datetime(2022, 9, 1, 11, 19, 25), 0)]\n",
      "갱신완료\n",
      "1,5,wef,swf,rtb,pky5335,None,1,35.1467299,126.92201,2022-09-01 11:16:26,0/4,2,여기,없음,구라임,ahy0914,None,1,35.1467488,126.922456,2022-09-01 11:19:25,0/\n"
     ]
    },
    {
     "name": "stderr",
     "output_type": "stream",
     "text": [
      "192.168.21.245 - - [01/Sep/2022 16:00:22] \"POST /mappage HTTP/1.1\" 200 -\n"
     ]
    },
    {
     "name": "stdout",
     "output_type": "stream",
     "text": [
      "마커갱신\n",
      "[(1, 5, 'wef', 'swf', 'rtb', 'pky5335', None, 1, 35.1467299, 126.92201, datetime.datetime(2022, 9, 1, 11, 16, 26), 0), (4, 2, '여기', '없음', '구라임', 'ahy0914', None, 1, 35.1467488, 126.922456, datetime.datetime(2022, 9, 1, 11, 19, 25), 0)]\n",
      "갱신완료\n",
      "1,5,wef,swf,rtb,pky5335,None,1,35.1467299,126.92201,2022-09-01 11:16:26,0/4,2,여기,없음,구라임,ahy0914,None,1,35.1467488,126.922456,2022-09-01 11:19:25,0/\n"
     ]
    },
    {
     "name": "stderr",
     "output_type": "stream",
     "text": [
      "192.168.21.245 - - [01/Sep/2022 16:00:24] \"POST /clicktrs HTTP/1.1\" 200 -\n"
     ]
    },
    {
     "name": "stdout",
     "output_type": "stream",
     "text": [
      "보물클릭\n",
      "[(2, '여기', '없음', '구라임', 'ahy0914', None, 35.1467488, 126.922456, datetime.datetime(2022, 9, 1, 11, 19, 25), 0)]\n"
     ]
    },
    {
     "name": "stderr",
     "output_type": "stream",
     "text": [
      "192.168.21.245 - - [01/Sep/2022 16:00:27] \"POST /mappage HTTP/1.1\" 200 -\n"
     ]
    },
    {
     "name": "stdout",
     "output_type": "stream",
     "text": [
      "마커갱신\n",
      "[(1, 5, 'wef', 'swf', 'rtb', 'pky5335', None, 1, 35.1467299, 126.92201, datetime.datetime(2022, 9, 1, 11, 16, 26), 0), (4, 2, '여기', '없음', '구라임', 'ahy0914', None, 1, 35.1467488, 126.922456, datetime.datetime(2022, 9, 1, 11, 19, 25), 0)]\n",
      "갱신완료\n",
      "1,5,wef,swf,rtb,pky5335,None,1,35.1467299,126.92201,2022-09-01 11:16:26,0/4,2,여기,없음,구라임,ahy0914,None,1,35.1467488,126.922456,2022-09-01 11:19:25,0/\n"
     ]
    },
    {
     "name": "stderr",
     "output_type": "stream",
     "text": [
      "192.168.21.245 - - [01/Sep/2022 16:00:32] \"POST /mappage HTTP/1.1\" 200 -\n"
     ]
    },
    {
     "name": "stdout",
     "output_type": "stream",
     "text": [
      "마커갱신\n",
      "[(1, 5, 'wef', 'swf', 'rtb', 'pky5335', None, 1, 35.1467299, 126.92201, datetime.datetime(2022, 9, 1, 11, 16, 26), 0), (4, 2, '여기', '없음', '구라임', 'ahy0914', None, 1, 35.1467488, 126.922456, datetime.datetime(2022, 9, 1, 11, 19, 25), 0)]\n",
      "갱신완료\n",
      "1,5,wef,swf,rtb,pky5335,None,1,35.1467299,126.92201,2022-09-01 11:16:26,0/4,2,여기,없음,구라임,ahy0914,None,1,35.1467488,126.922456,2022-09-01 11:19:25,0/\n"
     ]
    },
    {
     "name": "stderr",
     "output_type": "stream",
     "text": [
      "192.168.21.245 - - [01/Sep/2022 16:00:36] \"POST /clicktrs HTTP/1.1\" 200 -\n"
     ]
    },
    {
     "name": "stdout",
     "output_type": "stream",
     "text": [
      "보물클릭\n",
      "[(5, 'wef', 'swf', 'rtb', 'pky5335', None, 35.1467299, 126.92201, datetime.datetime(2022, 9, 1, 11, 16, 26), 0)]\n"
     ]
    },
    {
     "name": "stderr",
     "output_type": "stream",
     "text": [
      "192.168.21.245 - - [01/Sep/2022 16:00:37] \"POST /mappage HTTP/1.1\" 200 -\n"
     ]
    },
    {
     "name": "stdout",
     "output_type": "stream",
     "text": [
      "마커갱신\n",
      "[(1, 5, 'wef', 'swf', 'rtb', 'pky5335', None, 1, 35.1467299, 126.92201, datetime.datetime(2022, 9, 1, 11, 16, 26), 0), (4, 2, '여기', '없음', '구라임', 'ahy0914', None, 1, 35.1467488, 126.922456, datetime.datetime(2022, 9, 1, 11, 19, 25), 0)]\n",
      "갱신완료\n",
      "1,5,wef,swf,rtb,pky5335,None,1,35.1467299,126.92201,2022-09-01 11:16:26,0/4,2,여기,없음,구라임,ahy0914,None,1,35.1467488,126.922456,2022-09-01 11:19:25,0/\n"
     ]
    },
    {
     "name": "stderr",
     "output_type": "stream",
     "text": [
      "192.168.21.245 - - [01/Sep/2022 16:00:42] \"POST /mappage HTTP/1.1\" 200 -\n"
     ]
    },
    {
     "name": "stdout",
     "output_type": "stream",
     "text": [
      "마커갱신\n",
      "[(1, 5, 'wef', 'swf', 'rtb', 'pky5335', None, 1, 35.1467299, 126.92201, datetime.datetime(2022, 9, 1, 11, 16, 26), 0), (4, 2, '여기', '없음', '구라임', 'ahy0914', None, 1, 35.1467488, 126.922456, datetime.datetime(2022, 9, 1, 11, 19, 25), 0)]\n",
      "갱신완료\n",
      "1,5,wef,swf,rtb,pky5335,None,1,35.1467299,126.92201,2022-09-01 11:16:26,0/4,2,여기,없음,구라임,ahy0914,None,1,35.1467488,126.922456,2022-09-01 11:19:25,0/\n"
     ]
    },
    {
     "name": "stderr",
     "output_type": "stream",
     "text": [
      "192.168.21.245 - - [01/Sep/2022 16:00:47] \"POST /mappage HTTP/1.1\" 200 -\n"
     ]
    },
    {
     "name": "stdout",
     "output_type": "stream",
     "text": [
      "마커갱신\n",
      "[(1, 5, 'wef', 'swf', 'rtb', 'pky5335', None, 1, 35.1467299, 126.92201, datetime.datetime(2022, 9, 1, 11, 16, 26), 0), (4, 2, '여기', '없음', '구라임', 'ahy0914', None, 1, 35.1467488, 126.922456, datetime.datetime(2022, 9, 1, 11, 19, 25), 0)]\n",
      "갱신완료\n",
      "1,5,wef,swf,rtb,pky5335,None,1,35.1467299,126.92201,2022-09-01 11:16:26,0/4,2,여기,없음,구라임,ahy0914,None,1,35.1467488,126.922456,2022-09-01 11:19:25,0/\n"
     ]
    },
    {
     "name": "stderr",
     "output_type": "stream",
     "text": [
      "192.168.21.245 - - [01/Sep/2022 16:00:52] \"POST /mappage HTTP/1.1\" 200 -\n"
     ]
    },
    {
     "name": "stdout",
     "output_type": "stream",
     "text": [
      "마커갱신\n",
      "[(1, 5, 'wef', 'swf', 'rtb', 'pky5335', None, 1, 35.1467299, 126.92201, datetime.datetime(2022, 9, 1, 11, 16, 26), 0), (4, 2, '여기', '없음', '구라임', 'ahy0914', None, 1, 35.1467488, 126.922456, datetime.datetime(2022, 9, 1, 11, 19, 25), 0)]\n",
      "갱신완료\n",
      "1,5,wef,swf,rtb,pky5335,None,1,35.1467299,126.92201,2022-09-01 11:16:26,0/4,2,여기,없음,구라임,ahy0914,None,1,35.1467488,126.922456,2022-09-01 11:19:25,0/\n"
     ]
    },
    {
     "name": "stderr",
     "output_type": "stream",
     "text": [
      "192.168.21.245 - - [01/Sep/2022 16:02:31] \"POST /login HTTP/1.1\" 200 -\n"
     ]
    },
    {
     "name": "stdout",
     "output_type": "stream",
     "text": [
      "로그인 시도\n",
      "[('pky5335', 'qwer1234!', 'qwerq', datetime.datetime(1991, 4, 13, 0, 0), '124235141243', 'pky5335@nate.com', '남', 1, datetime.datetime(2022, 8, 25, 15, 13, 53), None, None, 0, 0, 'wer')]\n",
      "pky5335 로그인\n",
      "마커갱신\n"
     ]
    },
    {
     "name": "stderr",
     "output_type": "stream",
     "text": [
      "192.168.21.245 - - [01/Sep/2022 16:02:31] \"POST /mappage HTTP/1.1\" 200 -\n"
     ]
    },
    {
     "name": "stdout",
     "output_type": "stream",
     "text": [
      "[(1, 5, 'wef', 'swf', 'rtb', 'pky5335', None, 1, 35.1467299, 126.92201, datetime.datetime(2022, 9, 1, 11, 16, 26), 0), (4, 2, '여기', '없음', '구라임', 'ahy0914', None, 1, 35.1467488, 126.922456, datetime.datetime(2022, 9, 1, 11, 19, 25), 0)]\n",
      "갱신완료\n",
      "1,5,wef,swf,rtb,pky5335,None,1,35.1467299,126.92201,2022-09-01 11:16:26,0/4,2,여기,없음,구라임,ahy0914,None,1,35.1467488,126.922456,2022-09-01 11:19:25,0/\n"
     ]
    },
    {
     "name": "stderr",
     "output_type": "stream",
     "text": [
      "192.168.21.245 - - [01/Sep/2022 16:02:32] \"POST /mappage HTTP/1.1\" 200 -\n"
     ]
    },
    {
     "name": "stdout",
     "output_type": "stream",
     "text": [
      "마커갱신\n",
      "[(1, 5, 'wef', 'swf', 'rtb', 'pky5335', None, 1, 35.1467299, 126.92201, datetime.datetime(2022, 9, 1, 11, 16, 26), 0), (4, 2, '여기', '없음', '구라임', 'ahy0914', None, 1, 35.1467488, 126.922456, datetime.datetime(2022, 9, 1, 11, 19, 25), 0)]\n",
      "갱신완료\n",
      "1,5,wef,swf,rtb,pky5335,None,1,35.1467299,126.92201,2022-09-01 11:16:26,0/4,2,여기,없음,구라임,ahy0914,None,1,35.1467488,126.922456,2022-09-01 11:19:25,0/\n"
     ]
    },
    {
     "name": "stderr",
     "output_type": "stream",
     "text": [
      "192.168.21.245 - - [01/Sep/2022 16:02:35] \"POST /clicktrs HTTP/1.1\" 200 -\n"
     ]
    },
    {
     "name": "stdout",
     "output_type": "stream",
     "text": [
      "보물클릭\n",
      "[(5, 'wef', 'swf', 'rtb', 'pky5335', None, 35.1467299, 126.92201, datetime.datetime(2022, 9, 1, 11, 16, 26), 0)]\n"
     ]
    },
    {
     "name": "stderr",
     "output_type": "stream",
     "text": [
      "192.168.21.245 - - [01/Sep/2022 16:02:37] \"POST /mappage HTTP/1.1\" 200 -\n"
     ]
    },
    {
     "name": "stdout",
     "output_type": "stream",
     "text": [
      "마커갱신\n",
      "[(1, 5, 'wef', 'swf', 'rtb', 'pky5335', None, 1, 35.1467299, 126.92201, datetime.datetime(2022, 9, 1, 11, 16, 26), 0), (4, 2, '여기', '없음', '구라임', 'ahy0914', None, 1, 35.1467488, 126.922456, datetime.datetime(2022, 9, 1, 11, 19, 25), 0)]\n",
      "갱신완료\n",
      "1,5,wef,swf,rtb,pky5335,None,1,35.1467299,126.92201,2022-09-01 11:16:26,0/4,2,여기,없음,구라임,ahy0914,None,1,35.1467488,126.922456,2022-09-01 11:19:25,0/\n"
     ]
    },
    {
     "name": "stderr",
     "output_type": "stream",
     "text": [
      "192.168.21.245 - - [01/Sep/2022 16:02:38] \"POST /clicktrs HTTP/1.1\" 200 -\n"
     ]
    },
    {
     "name": "stdout",
     "output_type": "stream",
     "text": [
      "보물클릭\n",
      "[(2, '여기', '없음', '구라임', 'ahy0914', None, 35.1467488, 126.922456, datetime.datetime(2022, 9, 1, 11, 19, 25), 0)]\n"
     ]
    },
    {
     "name": "stderr",
     "output_type": "stream",
     "text": [
      "192.168.21.245 - - [01/Sep/2022 16:02:42] \"POST /mappage HTTP/1.1\" 200 -\n"
     ]
    },
    {
     "name": "stdout",
     "output_type": "stream",
     "text": [
      "마커갱신\n",
      "[(1, 5, 'wef', 'swf', 'rtb', 'pky5335', None, 1, 35.1467299, 126.92201, datetime.datetime(2022, 9, 1, 11, 16, 26), 0), (4, 2, '여기', '없음', '구라임', 'ahy0914', None, 1, 35.1467488, 126.922456, datetime.datetime(2022, 9, 1, 11, 19, 25), 0)]\n",
      "갱신완료\n",
      "1,5,wef,swf,rtb,pky5335,None,1,35.1467299,126.92201,2022-09-01 11:16:26,0/4,2,여기,없음,구라임,ahy0914,None,1,35.1467488,126.922456,2022-09-01 11:19:25,0/\n"
     ]
    },
    {
     "name": "stderr",
     "output_type": "stream",
     "text": [
      "192.168.21.245 - - [01/Sep/2022 16:02:47] \"POST /mappage HTTP/1.1\" 200 -\n"
     ]
    },
    {
     "name": "stdout",
     "output_type": "stream",
     "text": [
      "마커갱신\n",
      "[(1, 5, 'wef', 'swf', 'rtb', 'pky5335', None, 1, 35.1467299, 126.92201, datetime.datetime(2022, 9, 1, 11, 16, 26), 0), (4, 2, '여기', '없음', '구라임', 'ahy0914', None, 1, 35.1467488, 126.922456, datetime.datetime(2022, 9, 1, 11, 19, 25), 0)]\n",
      "갱신완료\n",
      "1,5,wef,swf,rtb,pky5335,None,1,35.1467299,126.92201,2022-09-01 11:16:26,0/4,2,여기,없음,구라임,ahy0914,None,1,35.1467488,126.922456,2022-09-01 11:19:25,0/\n"
     ]
    },
    {
     "name": "stderr",
     "output_type": "stream",
     "text": [
      "192.168.21.245 - - [01/Sep/2022 16:02:53] \"POST /mappage HTTP/1.1\" 200 -\n"
     ]
    },
    {
     "name": "stdout",
     "output_type": "stream",
     "text": [
      "마커갱신\n",
      "[(1, 5, 'wef', 'swf', 'rtb', 'pky5335', None, 1, 35.1467299, 126.92201, datetime.datetime(2022, 9, 1, 11, 16, 26), 0), (4, 2, '여기', '없음', '구라임', 'ahy0914', None, 1, 35.1467488, 126.922456, datetime.datetime(2022, 9, 1, 11, 19, 25), 0)]\n",
      "갱신완료\n",
      "1,5,wef,swf,rtb,pky5335,None,1,35.1467299,126.92201,2022-09-01 11:16:26,0/4,2,여기,없음,구라임,ahy0914,None,1,35.1467488,126.922456,2022-09-01 11:19:25,0/\n"
     ]
    },
    {
     "name": "stderr",
     "output_type": "stream",
     "text": [
      "192.168.21.245 - - [01/Sep/2022 16:02:57] \"POST /mappage HTTP/1.1\" 200 -\n"
     ]
    },
    {
     "name": "stdout",
     "output_type": "stream",
     "text": [
      "마커갱신\n",
      "[(1, 5, 'wef', 'swf', 'rtb', 'pky5335', None, 1, 35.1467299, 126.92201, datetime.datetime(2022, 9, 1, 11, 16, 26), 0), (4, 2, '여기', '없음', '구라임', 'ahy0914', None, 1, 35.1467488, 126.922456, datetime.datetime(2022, 9, 1, 11, 19, 25), 0)]\n",
      "갱신완료\n",
      "1,5,wef,swf,rtb,pky5335,None,1,35.1467299,126.92201,2022-09-01 11:16:26,0/4,2,여기,없음,구라임,ahy0914,None,1,35.1467488,126.922456,2022-09-01 11:19:25,0/\n"
     ]
    },
    {
     "name": "stderr",
     "output_type": "stream",
     "text": [
      "192.168.21.245 - - [01/Sep/2022 16:03:02] \"POST /mappage HTTP/1.1\" 200 -\n"
     ]
    },
    {
     "name": "stdout",
     "output_type": "stream",
     "text": [
      "마커갱신\n",
      "[(1, 5, 'wef', 'swf', 'rtb', 'pky5335', None, 1, 35.1467299, 126.92201, datetime.datetime(2022, 9, 1, 11, 16, 26), 0), (4, 2, '여기', '없음', '구라임', 'ahy0914', None, 1, 35.1467488, 126.922456, datetime.datetime(2022, 9, 1, 11, 19, 25), 0)]\n",
      "갱신완료\n",
      "1,5,wef,swf,rtb,pky5335,None,1,35.1467299,126.92201,2022-09-01 11:16:26,0/4,2,여기,없음,구라임,ahy0914,None,1,35.1467488,126.922456,2022-09-01 11:19:25,0/\n"
     ]
    },
    {
     "name": "stderr",
     "output_type": "stream",
     "text": [
      "192.168.21.245 - - [01/Sep/2022 16:03:06] \"POST /clicktrs HTTP/1.1\" 200 -\n"
     ]
    },
    {
     "name": "stdout",
     "output_type": "stream",
     "text": [
      "보물클릭\n",
      "[(5, 'wef', 'swf', 'rtb', 'pky5335', None, 35.1467299, 126.92201, datetime.datetime(2022, 9, 1, 11, 16, 26), 0)]\n"
     ]
    },
    {
     "name": "stderr",
     "output_type": "stream",
     "text": [
      "192.168.21.245 - - [01/Sep/2022 16:03:07] \"POST /mappage HTTP/1.1\" 200 -\n"
     ]
    },
    {
     "name": "stdout",
     "output_type": "stream",
     "text": [
      "마커갱신\n",
      "[(1, 5, 'wef', 'swf', 'rtb', 'pky5335', None, 1, 35.1467299, 126.92201, datetime.datetime(2022, 9, 1, 11, 16, 26), 0), (4, 2, '여기', '없음', '구라임', 'ahy0914', None, 1, 35.1467488, 126.922456, datetime.datetime(2022, 9, 1, 11, 19, 25), 0)]\n",
      "갱신완료\n",
      "1,5,wef,swf,rtb,pky5335,None,1,35.1467299,126.92201,2022-09-01 11:16:26,0/4,2,여기,없음,구라임,ahy0914,None,1,35.1467488,126.922456,2022-09-01 11:19:25,0/\n"
     ]
    },
    {
     "name": "stderr",
     "output_type": "stream",
     "text": [
      "192.168.21.245 - - [01/Sep/2022 16:03:12] \"POST /mappage HTTP/1.1\" 200 -\n"
     ]
    },
    {
     "name": "stdout",
     "output_type": "stream",
     "text": [
      "마커갱신\n",
      "[(1, 5, 'wef', 'swf', 'rtb', 'pky5335', None, 1, 35.1467299, 126.92201, datetime.datetime(2022, 9, 1, 11, 16, 26), 0), (4, 2, '여기', '없음', '구라임', 'ahy0914', None, 1, 35.1467488, 126.922456, datetime.datetime(2022, 9, 1, 11, 19, 25), 0)]\n",
      "갱신완료\n",
      "1,5,wef,swf,rtb,pky5335,None,1,35.1467299,126.92201,2022-09-01 11:16:26,0/4,2,여기,없음,구라임,ahy0914,None,1,35.1467488,126.922456,2022-09-01 11:19:25,0/\n"
     ]
    },
    {
     "name": "stderr",
     "output_type": "stream",
     "text": [
      "192.168.21.245 - - [01/Sep/2022 16:03:17] \"POST /mappage HTTP/1.1\" 200 -\n"
     ]
    },
    {
     "name": "stdout",
     "output_type": "stream",
     "text": [
      "마커갱신\n",
      "[(1, 5, 'wef', 'swf', 'rtb', 'pky5335', None, 1, 35.1467299, 126.92201, datetime.datetime(2022, 9, 1, 11, 16, 26), 0), (4, 2, '여기', '없음', '구라임', 'ahy0914', None, 1, 35.1467488, 126.922456, datetime.datetime(2022, 9, 1, 11, 19, 25), 0)]\n",
      "갱신완료\n",
      "1,5,wef,swf,rtb,pky5335,None,1,35.1467299,126.92201,2022-09-01 11:16:26,0/4,2,여기,없음,구라임,ahy0914,None,1,35.1467488,126.922456,2022-09-01 11:19:25,0/\n"
     ]
    },
    {
     "name": "stderr",
     "output_type": "stream",
     "text": [
      "192.168.21.245 - - [01/Sep/2022 16:03:19] \"POST /clicktrs HTTP/1.1\" 200 -\n"
     ]
    },
    {
     "name": "stdout",
     "output_type": "stream",
     "text": [
      "보물클릭\n",
      "[(2, '여기', '없음', '구라임', 'ahy0914', None, 35.1467488, 126.922456, datetime.datetime(2022, 9, 1, 11, 19, 25), 0)]\n"
     ]
    },
    {
     "name": "stderr",
     "output_type": "stream",
     "text": [
      "192.168.21.245 - - [01/Sep/2022 16:03:22] \"POST /mappage HTTP/1.1\" 200 -\n"
     ]
    },
    {
     "name": "stdout",
     "output_type": "stream",
     "text": [
      "마커갱신\n",
      "[(1, 5, 'wef', 'swf', 'rtb', 'pky5335', None, 1, 35.1467299, 126.92201, datetime.datetime(2022, 9, 1, 11, 16, 26), 0), (4, 2, '여기', '없음', '구라임', 'ahy0914', None, 1, 35.1467488, 126.922456, datetime.datetime(2022, 9, 1, 11, 19, 25), 0)]\n",
      "갱신완료\n",
      "1,5,wef,swf,rtb,pky5335,None,1,35.1467299,126.92201,2022-09-01 11:16:26,0/4,2,여기,없음,구라임,ahy0914,None,1,35.1467488,126.922456,2022-09-01 11:19:25,0/\n"
     ]
    },
    {
     "name": "stderr",
     "output_type": "stream",
     "text": [
      "192.168.21.245 - - [01/Sep/2022 16:03:27] \"POST /mappage HTTP/1.1\" 200 -\n"
     ]
    },
    {
     "name": "stdout",
     "output_type": "stream",
     "text": [
      "마커갱신\n",
      "[(1, 5, 'wef', 'swf', 'rtb', 'pky5335', None, 1, 35.1467299, 126.92201, datetime.datetime(2022, 9, 1, 11, 16, 26), 0), (4, 2, '여기', '없음', '구라임', 'ahy0914', None, 1, 35.1467488, 126.922456, datetime.datetime(2022, 9, 1, 11, 19, 25), 0)]\n",
      "갱신완료\n",
      "1,5,wef,swf,rtb,pky5335,None,1,35.1467299,126.92201,2022-09-01 11:16:26,0/4,2,여기,없음,구라임,ahy0914,None,1,35.1467488,126.922456,2022-09-01 11:19:25,0/\n"
     ]
    },
    {
     "name": "stderr",
     "output_type": "stream",
     "text": [
      "192.168.21.245 - - [01/Sep/2022 16:03:30] \"POST /clicktrs HTTP/1.1\" 200 -\n"
     ]
    },
    {
     "name": "stdout",
     "output_type": "stream",
     "text": [
      "보물클릭\n",
      "[(5, 'wef', 'swf', 'rtb', 'pky5335', None, 35.1467299, 126.92201, datetime.datetime(2022, 9, 1, 11, 16, 26), 0)]\n"
     ]
    },
    {
     "name": "stderr",
     "output_type": "stream",
     "text": [
      "192.168.21.245 - - [01/Sep/2022 16:03:32] \"POST /mappage HTTP/1.1\" 200 -\n"
     ]
    },
    {
     "name": "stdout",
     "output_type": "stream",
     "text": [
      "마커갱신\n",
      "[(1, 5, 'wef', 'swf', 'rtb', 'pky5335', None, 1, 35.1467299, 126.92201, datetime.datetime(2022, 9, 1, 11, 16, 26), 0), (4, 2, '여기', '없음', '구라임', 'ahy0914', None, 1, 35.1467488, 126.922456, datetime.datetime(2022, 9, 1, 11, 19, 25), 0)]\n",
      "갱신완료\n",
      "1,5,wef,swf,rtb,pky5335,None,1,35.1467299,126.92201,2022-09-01 11:16:26,0/4,2,여기,없음,구라임,ahy0914,None,1,35.1467488,126.922456,2022-09-01 11:19:25,0/\n"
     ]
    },
    {
     "name": "stderr",
     "output_type": "stream",
     "text": [
      "192.168.21.245 - - [01/Sep/2022 16:03:37] \"POST /mappage HTTP/1.1\" 200 -\n"
     ]
    },
    {
     "name": "stdout",
     "output_type": "stream",
     "text": [
      "마커갱신\n",
      "[(1, 5, 'wef', 'swf', 'rtb', 'pky5335', None, 1, 35.1467299, 126.92201, datetime.datetime(2022, 9, 1, 11, 16, 26), 0), (4, 2, '여기', '없음', '구라임', 'ahy0914', None, 1, 35.1467488, 126.922456, datetime.datetime(2022, 9, 1, 11, 19, 25), 0)]\n",
      "갱신완료\n",
      "1,5,wef,swf,rtb,pky5335,None,1,35.1467299,126.92201,2022-09-01 11:16:26,0/4,2,여기,없음,구라임,ahy0914,None,1,35.1467488,126.922456,2022-09-01 11:19:25,0/\n"
     ]
    },
    {
     "name": "stderr",
     "output_type": "stream",
     "text": [
      "192.168.21.245 - - [01/Sep/2022 16:03:40] \"POST /clicktrs HTTP/1.1\" 200 -\n"
     ]
    },
    {
     "name": "stdout",
     "output_type": "stream",
     "text": [
      "보물클릭\n",
      "[(2, '여기', '없음', '구라임', 'ahy0914', None, 35.1467488, 126.922456, datetime.datetime(2022, 9, 1, 11, 19, 25), 0)]\n"
     ]
    },
    {
     "name": "stderr",
     "output_type": "stream",
     "text": [
      "192.168.21.245 - - [01/Sep/2022 16:03:42] \"POST /mappage HTTP/1.1\" 200 -\n"
     ]
    },
    {
     "name": "stdout",
     "output_type": "stream",
     "text": [
      "마커갱신\n",
      "[(1, 5, 'wef', 'swf', 'rtb', 'pky5335', None, 1, 35.1467299, 126.92201, datetime.datetime(2022, 9, 1, 11, 16, 26), 0), (4, 2, '여기', '없음', '구라임', 'ahy0914', None, 1, 35.1467488, 126.922456, datetime.datetime(2022, 9, 1, 11, 19, 25), 0)]\n",
      "갱신완료\n",
      "1,5,wef,swf,rtb,pky5335,None,1,35.1467299,126.92201,2022-09-01 11:16:26,0/4,2,여기,없음,구라임,ahy0914,None,1,35.1467488,126.922456,2022-09-01 11:19:25,0/\n"
     ]
    },
    {
     "name": "stderr",
     "output_type": "stream",
     "text": [
      "192.168.21.245 - - [01/Sep/2022 16:03:47] \"POST /mappage HTTP/1.1\" 200 -\n"
     ]
    },
    {
     "name": "stdout",
     "output_type": "stream",
     "text": [
      "마커갱신\n",
      "[(1, 5, 'wef', 'swf', 'rtb', 'pky5335', None, 1, 35.1467299, 126.92201, datetime.datetime(2022, 9, 1, 11, 16, 26), 0), (4, 2, '여기', '없음', '구라임', 'ahy0914', None, 1, 35.1467488, 126.922456, datetime.datetime(2022, 9, 1, 11, 19, 25), 0)]\n",
      "갱신완료\n",
      "1,5,wef,swf,rtb,pky5335,None,1,35.1467299,126.92201,2022-09-01 11:16:26,0/4,2,여기,없음,구라임,ahy0914,None,1,35.1467488,126.922456,2022-09-01 11:19:25,0/\n"
     ]
    },
    {
     "name": "stderr",
     "output_type": "stream",
     "text": [
      "192.168.21.245 - - [01/Sep/2022 16:03:52] \"POST /mappage HTTP/1.1\" 200 -\n"
     ]
    },
    {
     "name": "stdout",
     "output_type": "stream",
     "text": [
      "마커갱신\n",
      "[(1, 5, 'wef', 'swf', 'rtb', 'pky5335', None, 1, 35.1467299, 126.92201, datetime.datetime(2022, 9, 1, 11, 16, 26), 0), (4, 2, '여기', '없음', '구라임', 'ahy0914', None, 1, 35.1467488, 126.922456, datetime.datetime(2022, 9, 1, 11, 19, 25), 0)]\n",
      "갱신완료\n",
      "1,5,wef,swf,rtb,pky5335,None,1,35.1467299,126.92201,2022-09-01 11:16:26,0/4,2,여기,없음,구라임,ahy0914,None,1,35.1467488,126.922456,2022-09-01 11:19:25,0/\n"
     ]
    },
    {
     "name": "stderr",
     "output_type": "stream",
     "text": [
      "192.168.21.245 - - [01/Sep/2022 16:03:57] \"POST /mappage HTTP/1.1\" 200 -\n"
     ]
    },
    {
     "name": "stdout",
     "output_type": "stream",
     "text": [
      "마커갱신\n",
      "[(1, 5, 'wef', 'swf', 'rtb', 'pky5335', None, 1, 35.1467299, 126.92201, datetime.datetime(2022, 9, 1, 11, 16, 26), 0), (4, 2, '여기', '없음', '구라임', 'ahy0914', None, 1, 35.1467488, 126.922456, datetime.datetime(2022, 9, 1, 11, 19, 25), 0)]\n",
      "갱신완료\n",
      "1,5,wef,swf,rtb,pky5335,None,1,35.1467299,126.92201,2022-09-01 11:16:26,0/4,2,여기,없음,구라임,ahy0914,None,1,35.1467488,126.922456,2022-09-01 11:19:25,0/\n"
     ]
    },
    {
     "name": "stderr",
     "output_type": "stream",
     "text": [
      "192.168.21.245 - - [01/Sep/2022 16:04:02] \"POST /mappage HTTP/1.1\" 200 -\n"
     ]
    },
    {
     "name": "stdout",
     "output_type": "stream",
     "text": [
      "마커갱신\n",
      "[(1, 5, 'wef', 'swf', 'rtb', 'pky5335', None, 1, 35.1467299, 126.92201, datetime.datetime(2022, 9, 1, 11, 16, 26), 0), (4, 2, '여기', '없음', '구라임', 'ahy0914', None, 1, 35.1467488, 126.922456, datetime.datetime(2022, 9, 1, 11, 19, 25), 0)]\n",
      "갱신완료\n",
      "1,5,wef,swf,rtb,pky5335,None,1,35.1467299,126.92201,2022-09-01 11:16:26,0/4,2,여기,없음,구라임,ahy0914,None,1,35.1467488,126.922456,2022-09-01 11:19:25,0/\n"
     ]
    },
    {
     "name": "stderr",
     "output_type": "stream",
     "text": [
      "192.168.21.245 - - [01/Sep/2022 16:04:07] \"POST /mappage HTTP/1.1\" 200 -\n"
     ]
    },
    {
     "name": "stdout",
     "output_type": "stream",
     "text": [
      "마커갱신\n",
      "[(1, 5, 'wef', 'swf', 'rtb', 'pky5335', None, 1, 35.1467299, 126.92201, datetime.datetime(2022, 9, 1, 11, 16, 26), 0), (4, 2, '여기', '없음', '구라임', 'ahy0914', None, 1, 35.1467488, 126.922456, datetime.datetime(2022, 9, 1, 11, 19, 25), 0)]\n",
      "갱신완료\n",
      "1,5,wef,swf,rtb,pky5335,None,1,35.1467299,126.92201,2022-09-01 11:16:26,0/4,2,여기,없음,구라임,ahy0914,None,1,35.1467488,126.922456,2022-09-01 11:19:25,0/\n"
     ]
    },
    {
     "name": "stderr",
     "output_type": "stream",
     "text": [
      "192.168.21.245 - - [01/Sep/2022 16:04:10] \"POST /clicktrs HTTP/1.1\" 200 -\n"
     ]
    },
    {
     "name": "stdout",
     "output_type": "stream",
     "text": [
      "보물클릭\n",
      "[(5, 'wef', 'swf', 'rtb', 'pky5335', None, 35.1467299, 126.92201, datetime.datetime(2022, 9, 1, 11, 16, 26), 0)]\n"
     ]
    },
    {
     "name": "stderr",
     "output_type": "stream",
     "text": [
      "192.168.21.245 - - [01/Sep/2022 16:04:12] \"POST /mappage HTTP/1.1\" 200 -\n"
     ]
    },
    {
     "name": "stdout",
     "output_type": "stream",
     "text": [
      "마커갱신\n",
      "[(1, 5, 'wef', 'swf', 'rtb', 'pky5335', None, 1, 35.1467299, 126.92201, datetime.datetime(2022, 9, 1, 11, 16, 26), 0), (4, 2, '여기', '없음', '구라임', 'ahy0914', None, 1, 35.1467488, 126.922456, datetime.datetime(2022, 9, 1, 11, 19, 25), 0)]\n",
      "갱신완료\n",
      "1,5,wef,swf,rtb,pky5335,None,1,35.1467299,126.92201,2022-09-01 11:16:26,0/4,2,여기,없음,구라임,ahy0914,None,1,35.1467488,126.922456,2022-09-01 11:19:25,0/\n"
     ]
    },
    {
     "name": "stderr",
     "output_type": "stream",
     "text": [
      "192.168.21.245 - - [01/Sep/2022 16:04:17] \"POST /mappage HTTP/1.1\" 200 -\n"
     ]
    },
    {
     "name": "stdout",
     "output_type": "stream",
     "text": [
      "마커갱신\n",
      "[(1, 5, 'wef', 'swf', 'rtb', 'pky5335', None, 1, 35.1467299, 126.92201, datetime.datetime(2022, 9, 1, 11, 16, 26), 0), (4, 2, '여기', '없음', '구라임', 'ahy0914', None, 1, 35.1467488, 126.922456, datetime.datetime(2022, 9, 1, 11, 19, 25), 0)]\n",
      "갱신완료\n",
      "1,5,wef,swf,rtb,pky5335,None,1,35.1467299,126.92201,2022-09-01 11:16:26,0/4,2,여기,없음,구라임,ahy0914,None,1,35.1467488,126.922456,2022-09-01 11:19:25,0/\n"
     ]
    },
    {
     "name": "stderr",
     "output_type": "stream",
     "text": [
      "192.168.21.245 - - [01/Sep/2022 16:04:22] \"POST /mappage HTTP/1.1\" 200 -\n"
     ]
    },
    {
     "name": "stdout",
     "output_type": "stream",
     "text": [
      "마커갱신\n",
      "[(1, 5, 'wef', 'swf', 'rtb', 'pky5335', None, 1, 35.1467299, 126.92201, datetime.datetime(2022, 9, 1, 11, 16, 26), 0), (4, 2, '여기', '없음', '구라임', 'ahy0914', None, 1, 35.1467488, 126.922456, datetime.datetime(2022, 9, 1, 11, 19, 25), 0)]\n",
      "갱신완료\n",
      "1,5,wef,swf,rtb,pky5335,None,1,35.1467299,126.92201,2022-09-01 11:16:26,0/4,2,여기,없음,구라임,ahy0914,None,1,35.1467488,126.922456,2022-09-01 11:19:25,0/\n"
     ]
    },
    {
     "name": "stderr",
     "output_type": "stream",
     "text": [
      "192.168.21.245 - - [01/Sep/2022 16:04:27] \"POST /mappage HTTP/1.1\" 200 -\n"
     ]
    },
    {
     "name": "stdout",
     "output_type": "stream",
     "text": [
      "마커갱신\n",
      "[(1, 5, 'wef', 'swf', 'rtb', 'pky5335', None, 1, 35.1467299, 126.92201, datetime.datetime(2022, 9, 1, 11, 16, 26), 0), (4, 2, '여기', '없음', '구라임', 'ahy0914', None, 1, 35.1467488, 126.922456, datetime.datetime(2022, 9, 1, 11, 19, 25), 0)]\n",
      "갱신완료\n",
      "1,5,wef,swf,rtb,pky5335,None,1,35.1467299,126.92201,2022-09-01 11:16:26,0/4,2,여기,없음,구라임,ahy0914,None,1,35.1467488,126.922456,2022-09-01 11:19:25,0/\n"
     ]
    },
    {
     "name": "stderr",
     "output_type": "stream",
     "text": [
      "192.168.21.245 - - [01/Sep/2022 16:04:32] \"POST /mappage HTTP/1.1\" 200 -\n"
     ]
    },
    {
     "name": "stdout",
     "output_type": "stream",
     "text": [
      "마커갱신\n",
      "[(1, 5, 'wef', 'swf', 'rtb', 'pky5335', None, 1, 35.1467299, 126.92201, datetime.datetime(2022, 9, 1, 11, 16, 26), 0), (4, 2, '여기', '없음', '구라임', 'ahy0914', None, 1, 35.1467488, 126.922456, datetime.datetime(2022, 9, 1, 11, 19, 25), 0)]\n",
      "갱신완료\n",
      "1,5,wef,swf,rtb,pky5335,None,1,35.1467299,126.92201,2022-09-01 11:16:26,0/4,2,여기,없음,구라임,ahy0914,None,1,35.1467488,126.922456,2022-09-01 11:19:25,0/\n"
     ]
    },
    {
     "name": "stderr",
     "output_type": "stream",
     "text": [
      "192.168.21.245 - - [01/Sep/2022 16:04:37] \"POST /mappage HTTP/1.1\" 200 -\n"
     ]
    },
    {
     "name": "stdout",
     "output_type": "stream",
     "text": [
      "마커갱신\n",
      "[(1, 5, 'wef', 'swf', 'rtb', 'pky5335', None, 1, 35.1467299, 126.92201, datetime.datetime(2022, 9, 1, 11, 16, 26), 0), (4, 2, '여기', '없음', '구라임', 'ahy0914', None, 1, 35.1467488, 126.922456, datetime.datetime(2022, 9, 1, 11, 19, 25), 0)]\n",
      "갱신완료\n",
      "1,5,wef,swf,rtb,pky5335,None,1,35.1467299,126.92201,2022-09-01 11:16:26,0/4,2,여기,없음,구라임,ahy0914,None,1,35.1467488,126.922456,2022-09-01 11:19:25,0/\n"
     ]
    },
    {
     "name": "stderr",
     "output_type": "stream",
     "text": [
      "192.168.21.245 - - [01/Sep/2022 16:04:42] \"POST /mappage HTTP/1.1\" 200 -\n"
     ]
    },
    {
     "name": "stdout",
     "output_type": "stream",
     "text": [
      "마커갱신\n",
      "[(1, 5, 'wef', 'swf', 'rtb', 'pky5335', None, 1, 35.1467299, 126.92201, datetime.datetime(2022, 9, 1, 11, 16, 26), 0), (4, 2, '여기', '없음', '구라임', 'ahy0914', None, 1, 35.1467488, 126.922456, datetime.datetime(2022, 9, 1, 11, 19, 25), 0)]\n",
      "갱신완료\n",
      "1,5,wef,swf,rtb,pky5335,None,1,35.1467299,126.92201,2022-09-01 11:16:26,0/4,2,여기,없음,구라임,ahy0914,None,1,35.1467488,126.922456,2022-09-01 11:19:25,0/\n"
     ]
    },
    {
     "name": "stderr",
     "output_type": "stream",
     "text": [
      "192.168.21.245 - - [01/Sep/2022 16:04:47] \"POST /mappage HTTP/1.1\" 200 -\n"
     ]
    },
    {
     "name": "stdout",
     "output_type": "stream",
     "text": [
      "마커갱신\n",
      "[(1, 5, 'wef', 'swf', 'rtb', 'pky5335', None, 1, 35.1467299, 126.92201, datetime.datetime(2022, 9, 1, 11, 16, 26), 0), (4, 2, '여기', '없음', '구라임', 'ahy0914', None, 1, 35.1467488, 126.922456, datetime.datetime(2022, 9, 1, 11, 19, 25), 0)]\n",
      "갱신완료\n",
      "1,5,wef,swf,rtb,pky5335,None,1,35.1467299,126.92201,2022-09-01 11:16:26,0/4,2,여기,없음,구라임,ahy0914,None,1,35.1467488,126.922456,2022-09-01 11:19:25,0/\n"
     ]
    },
    {
     "name": "stderr",
     "output_type": "stream",
     "text": [
      "192.168.21.245 - - [01/Sep/2022 16:04:52] \"POST /mappage HTTP/1.1\" 200 -\n"
     ]
    },
    {
     "name": "stdout",
     "output_type": "stream",
     "text": [
      "마커갱신\n",
      "[(1, 5, 'wef', 'swf', 'rtb', 'pky5335', None, 1, 35.1467299, 126.92201, datetime.datetime(2022, 9, 1, 11, 16, 26), 0), (4, 2, '여기', '없음', '구라임', 'ahy0914', None, 1, 35.1467488, 126.922456, datetime.datetime(2022, 9, 1, 11, 19, 25), 0)]\n",
      "갱신완료\n",
      "1,5,wef,swf,rtb,pky5335,None,1,35.1467299,126.92201,2022-09-01 11:16:26,0/4,2,여기,없음,구라임,ahy0914,None,1,35.1467488,126.922456,2022-09-01 11:19:25,0/\n"
     ]
    },
    {
     "name": "stderr",
     "output_type": "stream",
     "text": [
      "192.168.21.245 - - [01/Sep/2022 16:04:57] \"POST /mappage HTTP/1.1\" 200 -\n"
     ]
    },
    {
     "name": "stdout",
     "output_type": "stream",
     "text": [
      "마커갱신\n",
      "[(1, 5, 'wef', 'swf', 'rtb', 'pky5335', None, 1, 35.1467299, 126.92201, datetime.datetime(2022, 9, 1, 11, 16, 26), 0), (4, 2, '여기', '없음', '구라임', 'ahy0914', None, 1, 35.1467488, 126.922456, datetime.datetime(2022, 9, 1, 11, 19, 25), 0)]\n",
      "갱신완료\n",
      "1,5,wef,swf,rtb,pky5335,None,1,35.1467299,126.92201,2022-09-01 11:16:26,0/4,2,여기,없음,구라임,ahy0914,None,1,35.1467488,126.922456,2022-09-01 11:19:25,0/\n"
     ]
    },
    {
     "name": "stderr",
     "output_type": "stream",
     "text": [
      "192.168.21.245 - - [01/Sep/2022 16:05:02] \"POST /mappage HTTP/1.1\" 200 -\n"
     ]
    },
    {
     "name": "stdout",
     "output_type": "stream",
     "text": [
      "마커갱신\n",
      "[(1, 5, 'wef', 'swf', 'rtb', 'pky5335', None, 1, 35.1467299, 126.92201, datetime.datetime(2022, 9, 1, 11, 16, 26), 0), (4, 2, '여기', '없음', '구라임', 'ahy0914', None, 1, 35.1467488, 126.922456, datetime.datetime(2022, 9, 1, 11, 19, 25), 0)]\n",
      "갱신완료\n",
      "1,5,wef,swf,rtb,pky5335,None,1,35.1467299,126.92201,2022-09-01 11:16:26,0/4,2,여기,없음,구라임,ahy0914,None,1,35.1467488,126.922456,2022-09-01 11:19:25,0/\n"
     ]
    },
    {
     "name": "stderr",
     "output_type": "stream",
     "text": [
      "192.168.21.245 - - [01/Sep/2022 16:05:07] \"POST /mappage HTTP/1.1\" 200 -\n"
     ]
    },
    {
     "name": "stdout",
     "output_type": "stream",
     "text": [
      "마커갱신\n",
      "[(1, 5, 'wef', 'swf', 'rtb', 'pky5335', None, 1, 35.1467299, 126.92201, datetime.datetime(2022, 9, 1, 11, 16, 26), 0), (4, 2, '여기', '없음', '구라임', 'ahy0914', None, 1, 35.1467488, 126.922456, datetime.datetime(2022, 9, 1, 11, 19, 25), 0)]\n",
      "갱신완료\n",
      "1,5,wef,swf,rtb,pky5335,None,1,35.1467299,126.92201,2022-09-01 11:16:26,0/4,2,여기,없음,구라임,ahy0914,None,1,35.1467488,126.922456,2022-09-01 11:19:25,0/\n"
     ]
    },
    {
     "name": "stderr",
     "output_type": "stream",
     "text": [
      "192.168.21.245 - - [01/Sep/2022 16:05:20] \"POST /login HTTP/1.1\" 200 -\n"
     ]
    },
    {
     "name": "stdout",
     "output_type": "stream",
     "text": [
      "로그인 시도\n",
      "[('pky5335', 'qwer1234!', 'qwerq', datetime.datetime(1991, 4, 13, 0, 0), '124235141243', 'pky5335@nate.com', '남', 1, datetime.datetime(2022, 8, 25, 15, 13, 53), None, None, 0, 0, 'wer')]\n",
      "pky5335 로그인\n"
     ]
    },
    {
     "name": "stderr",
     "output_type": "stream",
     "text": [
      "192.168.21.245 - - [01/Sep/2022 16:05:20] \"POST /mappage HTTP/1.1\" 200 -\n"
     ]
    },
    {
     "name": "stdout",
     "output_type": "stream",
     "text": [
      "마커갱신\n",
      "[(1, 5, 'wef', 'swf', 'rtb', 'pky5335', None, 1, 35.1467299, 126.92201, datetime.datetime(2022, 9, 1, 11, 16, 26), 0), (4, 2, '여기', '없음', '구라임', 'ahy0914', None, 1, 35.1467488, 126.922456, datetime.datetime(2022, 9, 1, 11, 19, 25), 0)]\n",
      "갱신완료\n",
      "1,5,wef,swf,rtb,pky5335,None,1,35.1467299,126.92201,2022-09-01 11:16:26,0/4,2,여기,없음,구라임,ahy0914,None,1,35.1467488,126.922456,2022-09-01 11:19:25,0/\n"
     ]
    },
    {
     "name": "stderr",
     "output_type": "stream",
     "text": [
      "192.168.21.245 - - [01/Sep/2022 16:05:21] \"POST /mappage HTTP/1.1\" 200 -\n"
     ]
    },
    {
     "name": "stdout",
     "output_type": "stream",
     "text": [
      "마커갱신\n",
      "[(1, 5, 'wef', 'swf', 'rtb', 'pky5335', None, 1, 35.1467299, 126.92201, datetime.datetime(2022, 9, 1, 11, 16, 26), 0), (4, 2, '여기', '없음', '구라임', 'ahy0914', None, 1, 35.1467488, 126.922456, datetime.datetime(2022, 9, 1, 11, 19, 25), 0)]\n",
      "갱신완료\n",
      "1,5,wef,swf,rtb,pky5335,None,1,35.1467299,126.92201,2022-09-01 11:16:26,0/4,2,여기,없음,구라임,ahy0914,None,1,35.1467488,126.922456,2022-09-01 11:19:25,0/\n"
     ]
    },
    {
     "name": "stderr",
     "output_type": "stream",
     "text": [
      "192.168.21.245 - - [01/Sep/2022 16:05:26] \"POST /mappage HTTP/1.1\" 200 -\n"
     ]
    },
    {
     "name": "stdout",
     "output_type": "stream",
     "text": [
      "마커갱신\n",
      "[(1, 5, 'wef', 'swf', 'rtb', 'pky5335', None, 1, 35.1467299, 126.92201, datetime.datetime(2022, 9, 1, 11, 16, 26), 0), (4, 2, '여기', '없음', '구라임', 'ahy0914', None, 1, 35.1467488, 126.922456, datetime.datetime(2022, 9, 1, 11, 19, 25), 0)]\n",
      "갱신완료\n",
      "1,5,wef,swf,rtb,pky5335,None,1,35.1467299,126.92201,2022-09-01 11:16:26,0/4,2,여기,없음,구라임,ahy0914,None,1,35.1467488,126.922456,2022-09-01 11:19:25,0/\n"
     ]
    },
    {
     "name": "stderr",
     "output_type": "stream",
     "text": [
      "192.168.21.245 - - [01/Sep/2022 16:05:28] \"POST /clicktrs HTTP/1.1\" 200 -\n"
     ]
    },
    {
     "name": "stdout",
     "output_type": "stream",
     "text": [
      "보물클릭\n",
      "[(5, 'wef', 'swf', 'rtb', 'pky5335', None, 35.1467299, 126.92201, datetime.datetime(2022, 9, 1, 11, 16, 26), 0)]\n"
     ]
    },
    {
     "name": "stderr",
     "output_type": "stream",
     "text": [
      "192.168.21.245 - - [01/Sep/2022 16:05:31] \"POST /mappage HTTP/1.1\" 200 -\n"
     ]
    },
    {
     "name": "stdout",
     "output_type": "stream",
     "text": [
      "마커갱신\n",
      "[(1, 5, 'wef', 'swf', 'rtb', 'pky5335', None, 1, 35.1467299, 126.92201, datetime.datetime(2022, 9, 1, 11, 16, 26), 0), (4, 2, '여기', '없음', '구라임', 'ahy0914', None, 1, 35.1467488, 126.922456, datetime.datetime(2022, 9, 1, 11, 19, 25), 0)]\n",
      "갱신완료\n",
      "1,5,wef,swf,rtb,pky5335,None,1,35.1467299,126.92201,2022-09-01 11:16:26,0/4,2,여기,없음,구라임,ahy0914,None,1,35.1467488,126.922456,2022-09-01 11:19:25,0/\n"
     ]
    },
    {
     "name": "stderr",
     "output_type": "stream",
     "text": [
      "192.168.21.245 - - [01/Sep/2022 16:05:36] \"POST /mappage HTTP/1.1\" 200 -\n"
     ]
    },
    {
     "name": "stdout",
     "output_type": "stream",
     "text": [
      "마커갱신\n",
      "[(1, 5, 'wef', 'swf', 'rtb', 'pky5335', None, 1, 35.1467299, 126.92201, datetime.datetime(2022, 9, 1, 11, 16, 26), 0), (4, 2, '여기', '없음', '구라임', 'ahy0914', None, 1, 35.1467488, 126.922456, datetime.datetime(2022, 9, 1, 11, 19, 25), 0)]\n",
      "갱신완료\n",
      "1,5,wef,swf,rtb,pky5335,None,1,35.1467299,126.92201,2022-09-01 11:16:26,0/4,2,여기,없음,구라임,ahy0914,None,1,35.1467488,126.922456,2022-09-01 11:19:25,0/\n"
     ]
    },
    {
     "name": "stderr",
     "output_type": "stream",
     "text": [
      "192.168.21.245 - - [01/Sep/2022 16:05:41] \"POST /mappage HTTP/1.1\" 200 -\n",
      "192.168.21.245 - - [01/Sep/2022 16:05:41] \"POST /clicktrs HTTP/1.1\" 200 -\n"
     ]
    },
    {
     "name": "stdout",
     "output_type": "stream",
     "text": [
      "마커갱신\n",
      "[(1, 5, 'wef', 'swf', 'rtb', 'pky5335', None, 1, 35.1467299, 126.92201, datetime.datetime(2022, 9, 1, 11, 16, 26), 0), (4, 2, '여기', '없음', '구라임', 'ahy0914', None, 1, 35.1467488, 126.922456, datetime.datetime(2022, 9, 1, 11, 19, 25), 0)]\n",
      "갱신완료\n",
      "1,5,wef,swf,rtb,pky5335,None,1,35.1467299,126.92201,2022-09-01 11:16:26,0/4,2,여기,없음,구라임,ahy0914,None,1,35.1467488,126.922456,2022-09-01 11:19:25,0/\n",
      "보물클릭\n",
      "[(2, '여기', '없음', '구라임', 'ahy0914', None, 35.1467488, 126.922456, datetime.datetime(2022, 9, 1, 11, 19, 25), 0)]\n"
     ]
    },
    {
     "name": "stderr",
     "output_type": "stream",
     "text": [
      "192.168.21.245 - - [01/Sep/2022 16:05:46] \"POST /mappage HTTP/1.1\" 200 -\n"
     ]
    },
    {
     "name": "stdout",
     "output_type": "stream",
     "text": [
      "마커갱신\n",
      "[(1, 5, 'wef', 'swf', 'rtb', 'pky5335', None, 1, 35.1467299, 126.92201, datetime.datetime(2022, 9, 1, 11, 16, 26), 0), (4, 2, '여기', '없음', '구라임', 'ahy0914', None, 1, 35.1467488, 126.922456, datetime.datetime(2022, 9, 1, 11, 19, 25), 0)]\n",
      "갱신완료\n",
      "1,5,wef,swf,rtb,pky5335,None,1,35.1467299,126.92201,2022-09-01 11:16:26,0/4,2,여기,없음,구라임,ahy0914,None,1,35.1467488,126.922456,2022-09-01 11:19:25,0/\n"
     ]
    },
    {
     "name": "stderr",
     "output_type": "stream",
     "text": [
      "192.168.21.245 - - [01/Sep/2022 16:05:51] \"POST /mappage HTTP/1.1\" 200 -\n"
     ]
    },
    {
     "name": "stdout",
     "output_type": "stream",
     "text": [
      "마커갱신\n",
      "[(1, 5, 'wef', 'swf', 'rtb', 'pky5335', None, 1, 35.1467299, 126.92201, datetime.datetime(2022, 9, 1, 11, 16, 26), 0), (4, 2, '여기', '없음', '구라임', 'ahy0914', None, 1, 35.1467488, 126.922456, datetime.datetime(2022, 9, 1, 11, 19, 25), 0)]\n",
      "갱신완료\n",
      "1,5,wef,swf,rtb,pky5335,None,1,35.1467299,126.92201,2022-09-01 11:16:26,0/4,2,여기,없음,구라임,ahy0914,None,1,35.1467488,126.922456,2022-09-01 11:19:25,0/\n"
     ]
    },
    {
     "name": "stderr",
     "output_type": "stream",
     "text": [
      "192.168.21.245 - - [01/Sep/2022 16:05:56] \"POST /mappage HTTP/1.1\" 200 -\n"
     ]
    },
    {
     "name": "stdout",
     "output_type": "stream",
     "text": [
      "마커갱신\n",
      "[(1, 5, 'wef', 'swf', 'rtb', 'pky5335', None, 1, 35.1467299, 126.92201, datetime.datetime(2022, 9, 1, 11, 16, 26), 0), (4, 2, '여기', '없음', '구라임', 'ahy0914', None, 1, 35.1467488, 126.922456, datetime.datetime(2022, 9, 1, 11, 19, 25), 0)]\n",
      "갱신완료\n",
      "1,5,wef,swf,rtb,pky5335,None,1,35.1467299,126.92201,2022-09-01 11:16:26,0/4,2,여기,없음,구라임,ahy0914,None,1,35.1467488,126.922456,2022-09-01 11:19:25,0/\n"
     ]
    },
    {
     "name": "stderr",
     "output_type": "stream",
     "text": [
      "192.168.21.245 - - [01/Sep/2022 16:06:01] \"POST /mappage HTTP/1.1\" 200 -\n"
     ]
    },
    {
     "name": "stdout",
     "output_type": "stream",
     "text": [
      "마커갱신\n",
      "[(1, 5, 'wef', 'swf', 'rtb', 'pky5335', None, 1, 35.1467299, 126.92201, datetime.datetime(2022, 9, 1, 11, 16, 26), 0), (4, 2, '여기', '없음', '구라임', 'ahy0914', None, 1, 35.1467488, 126.922456, datetime.datetime(2022, 9, 1, 11, 19, 25), 0)]\n",
      "갱신완료\n",
      "1,5,wef,swf,rtb,pky5335,None,1,35.1467299,126.92201,2022-09-01 11:16:26,0/4,2,여기,없음,구라임,ahy0914,None,1,35.1467488,126.922456,2022-09-01 11:19:25,0/\n"
     ]
    },
    {
     "name": "stderr",
     "output_type": "stream",
     "text": [
      "192.168.21.245 - - [01/Sep/2022 16:06:06] \"POST /mappage HTTP/1.1\" 200 -\n"
     ]
    },
    {
     "name": "stdout",
     "output_type": "stream",
     "text": [
      "마커갱신\n",
      "[(1, 5, 'wef', 'swf', 'rtb', 'pky5335', None, 1, 35.1467299, 126.92201, datetime.datetime(2022, 9, 1, 11, 16, 26), 0), (4, 2, '여기', '없음', '구라임', 'ahy0914', None, 1, 35.1467488, 126.922456, datetime.datetime(2022, 9, 1, 11, 19, 25), 0)]\n",
      "갱신완료\n",
      "1,5,wef,swf,rtb,pky5335,None,1,35.1467299,126.92201,2022-09-01 11:16:26,0/4,2,여기,없음,구라임,ahy0914,None,1,35.1467488,126.922456,2022-09-01 11:19:25,0/\n"
     ]
    },
    {
     "name": "stderr",
     "output_type": "stream",
     "text": [
      "192.168.21.245 - - [01/Sep/2022 16:06:11] \"POST /mappage HTTP/1.1\" 200 -\n"
     ]
    },
    {
     "name": "stdout",
     "output_type": "stream",
     "text": [
      "마커갱신\n",
      "[(1, 5, 'wef', 'swf', 'rtb', 'pky5335', None, 1, 35.1467299, 126.92201, datetime.datetime(2022, 9, 1, 11, 16, 26), 0), (4, 2, '여기', '없음', '구라임', 'ahy0914', None, 1, 35.1467488, 126.922456, datetime.datetime(2022, 9, 1, 11, 19, 25), 0)]\n",
      "갱신완료\n",
      "1,5,wef,swf,rtb,pky5335,None,1,35.1467299,126.92201,2022-09-01 11:16:26,0/4,2,여기,없음,구라임,ahy0914,None,1,35.1467488,126.922456,2022-09-01 11:19:25,0/\n"
     ]
    },
    {
     "name": "stderr",
     "output_type": "stream",
     "text": [
      "192.168.21.245 - - [01/Sep/2022 16:06:16] \"POST /mappage HTTP/1.1\" 200 -\n"
     ]
    },
    {
     "name": "stdout",
     "output_type": "stream",
     "text": [
      "마커갱신\n",
      "[(1, 5, 'wef', 'swf', 'rtb', 'pky5335', None, 1, 35.1467299, 126.92201, datetime.datetime(2022, 9, 1, 11, 16, 26), 0), (4, 2, '여기', '없음', '구라임', 'ahy0914', None, 1, 35.1467488, 126.922456, datetime.datetime(2022, 9, 1, 11, 19, 25), 0)]\n",
      "갱신완료\n",
      "1,5,wef,swf,rtb,pky5335,None,1,35.1467299,126.92201,2022-09-01 11:16:26,0/4,2,여기,없음,구라임,ahy0914,None,1,35.1467488,126.922456,2022-09-01 11:19:25,0/\n"
     ]
    },
    {
     "name": "stderr",
     "output_type": "stream",
     "text": [
      "192.168.21.245 - - [01/Sep/2022 16:06:21] \"POST /mappage HTTP/1.1\" 200 -\n"
     ]
    },
    {
     "name": "stdout",
     "output_type": "stream",
     "text": [
      "마커갱신\n",
      "[(1, 5, 'wef', 'swf', 'rtb', 'pky5335', None, 1, 35.1467299, 126.92201, datetime.datetime(2022, 9, 1, 11, 16, 26), 0), (4, 2, '여기', '없음', '구라임', 'ahy0914', None, 1, 35.1467488, 126.922456, datetime.datetime(2022, 9, 1, 11, 19, 25), 0)]\n",
      "갱신완료\n",
      "1,5,wef,swf,rtb,pky5335,None,1,35.1467299,126.92201,2022-09-01 11:16:26,0/4,2,여기,없음,구라임,ahy0914,None,1,35.1467488,126.922456,2022-09-01 11:19:25,0/\n"
     ]
    },
    {
     "name": "stderr",
     "output_type": "stream",
     "text": [
      "192.168.21.245 - - [01/Sep/2022 16:06:26] \"POST /mappage HTTP/1.1\" 200 -\n"
     ]
    },
    {
     "name": "stdout",
     "output_type": "stream",
     "text": [
      "마커갱신\n",
      "[(1, 5, 'wef', 'swf', 'rtb', 'pky5335', None, 1, 35.1467299, 126.92201, datetime.datetime(2022, 9, 1, 11, 16, 26), 0), (4, 2, '여기', '없음', '구라임', 'ahy0914', None, 1, 35.1467488, 126.922456, datetime.datetime(2022, 9, 1, 11, 19, 25), 0)]\n",
      "갱신완료\n",
      "1,5,wef,swf,rtb,pky5335,None,1,35.1467299,126.92201,2022-09-01 11:16:26,0/4,2,여기,없음,구라임,ahy0914,None,1,35.1467488,126.922456,2022-09-01 11:19:25,0/\n"
     ]
    },
    {
     "name": "stderr",
     "output_type": "stream",
     "text": [
      "192.168.21.245 - - [01/Sep/2022 16:06:31] \"POST /mappage HTTP/1.1\" 200 -\n"
     ]
    },
    {
     "name": "stdout",
     "output_type": "stream",
     "text": [
      "마커갱신\n",
      "[(1, 5, 'wef', 'swf', 'rtb', 'pky5335', None, 1, 35.1467299, 126.92201, datetime.datetime(2022, 9, 1, 11, 16, 26), 0), (4, 2, '여기', '없음', '구라임', 'ahy0914', None, 1, 35.1467488, 126.922456, datetime.datetime(2022, 9, 1, 11, 19, 25), 0)]\n",
      "갱신완료\n",
      "1,5,wef,swf,rtb,pky5335,None,1,35.1467299,126.92201,2022-09-01 11:16:26,0/4,2,여기,없음,구라임,ahy0914,None,1,35.1467488,126.922456,2022-09-01 11:19:25,0/\n"
     ]
    },
    {
     "name": "stderr",
     "output_type": "stream",
     "text": [
      "192.168.21.245 - - [01/Sep/2022 16:06:36] \"POST /mappage HTTP/1.1\" 200 -\n"
     ]
    },
    {
     "name": "stdout",
     "output_type": "stream",
     "text": [
      "마커갱신\n",
      "[(1, 5, 'wef', 'swf', 'rtb', 'pky5335', None, 1, 35.1467299, 126.92201, datetime.datetime(2022, 9, 1, 11, 16, 26), 0), (4, 2, '여기', '없음', '구라임', 'ahy0914', None, 1, 35.1467488, 126.922456, datetime.datetime(2022, 9, 1, 11, 19, 25), 0)]\n",
      "갱신완료\n",
      "1,5,wef,swf,rtb,pky5335,None,1,35.1467299,126.92201,2022-09-01 11:16:26,0/4,2,여기,없음,구라임,ahy0914,None,1,35.1467488,126.922456,2022-09-01 11:19:25,0/\n"
     ]
    },
    {
     "name": "stderr",
     "output_type": "stream",
     "text": [
      "192.168.21.245 - - [01/Sep/2022 16:06:41] \"POST /mappage HTTP/1.1\" 200 -\n"
     ]
    },
    {
     "name": "stdout",
     "output_type": "stream",
     "text": [
      "마커갱신\n",
      "[(1, 5, 'wef', 'swf', 'rtb', 'pky5335', None, 1, 35.1467299, 126.92201, datetime.datetime(2022, 9, 1, 11, 16, 26), 0), (4, 2, '여기', '없음', '구라임', 'ahy0914', None, 1, 35.1467488, 126.922456, datetime.datetime(2022, 9, 1, 11, 19, 25), 0)]\n",
      "갱신완료\n",
      "1,5,wef,swf,rtb,pky5335,None,1,35.1467299,126.92201,2022-09-01 11:16:26,0/4,2,여기,없음,구라임,ahy0914,None,1,35.1467488,126.922456,2022-09-01 11:19:25,0/\n"
     ]
    },
    {
     "name": "stderr",
     "output_type": "stream",
     "text": [
      "192.168.21.245 - - [01/Sep/2022 16:06:46] \"POST /mappage HTTP/1.1\" 200 -\n"
     ]
    },
    {
     "name": "stdout",
     "output_type": "stream",
     "text": [
      "마커갱신\n",
      "[(1, 5, 'wef', 'swf', 'rtb', 'pky5335', None, 1, 35.1467299, 126.92201, datetime.datetime(2022, 9, 1, 11, 16, 26), 0), (4, 2, '여기', '없음', '구라임', 'ahy0914', None, 1, 35.1467488, 126.922456, datetime.datetime(2022, 9, 1, 11, 19, 25), 0)]\n",
      "갱신완료\n",
      "1,5,wef,swf,rtb,pky5335,None,1,35.1467299,126.92201,2022-09-01 11:16:26,0/4,2,여기,없음,구라임,ahy0914,None,1,35.1467488,126.922456,2022-09-01 11:19:25,0/\n"
     ]
    },
    {
     "name": "stderr",
     "output_type": "stream",
     "text": [
      "192.168.21.245 - - [01/Sep/2022 16:06:51] \"POST /mappage HTTP/1.1\" 200 -\n"
     ]
    },
    {
     "name": "stdout",
     "output_type": "stream",
     "text": [
      "마커갱신\n",
      "[(1, 5, 'wef', 'swf', 'rtb', 'pky5335', None, 1, 35.1467299, 126.92201, datetime.datetime(2022, 9, 1, 11, 16, 26), 0), (4, 2, '여기', '없음', '구라임', 'ahy0914', None, 1, 35.1467488, 126.922456, datetime.datetime(2022, 9, 1, 11, 19, 25), 0)]\n",
      "갱신완료\n",
      "1,5,wef,swf,rtb,pky5335,None,1,35.1467299,126.92201,2022-09-01 11:16:26,0/4,2,여기,없음,구라임,ahy0914,None,1,35.1467488,126.922456,2022-09-01 11:19:25,0/\n"
     ]
    },
    {
     "name": "stderr",
     "output_type": "stream",
     "text": [
      "192.168.21.245 - - [01/Sep/2022 16:06:56] \"POST /mappage HTTP/1.1\" 200 -\n"
     ]
    },
    {
     "name": "stdout",
     "output_type": "stream",
     "text": [
      "마커갱신\n",
      "[(1, 5, 'wef', 'swf', 'rtb', 'pky5335', None, 1, 35.1467299, 126.92201, datetime.datetime(2022, 9, 1, 11, 16, 26), 0), (4, 2, '여기', '없음', '구라임', 'ahy0914', None, 1, 35.1467488, 126.922456, datetime.datetime(2022, 9, 1, 11, 19, 25), 0)]\n",
      "갱신완료\n",
      "1,5,wef,swf,rtb,pky5335,None,1,35.1467299,126.92201,2022-09-01 11:16:26,0/4,2,여기,없음,구라임,ahy0914,None,1,35.1467488,126.922456,2022-09-01 11:19:25,0/\n"
     ]
    },
    {
     "name": "stderr",
     "output_type": "stream",
     "text": [
      "192.168.21.245 - - [01/Sep/2022 16:07:01] \"POST /mappage HTTP/1.1\" 200 -\n"
     ]
    },
    {
     "name": "stdout",
     "output_type": "stream",
     "text": [
      "마커갱신\n",
      "[(1, 5, 'wef', 'swf', 'rtb', 'pky5335', None, 1, 35.1467299, 126.92201, datetime.datetime(2022, 9, 1, 11, 16, 26), 0), (4, 2, '여기', '없음', '구라임', 'ahy0914', None, 1, 35.1467488, 126.922456, datetime.datetime(2022, 9, 1, 11, 19, 25), 0)]\n",
      "갱신완료\n",
      "1,5,wef,swf,rtb,pky5335,None,1,35.1467299,126.92201,2022-09-01 11:16:26,0/4,2,여기,없음,구라임,ahy0914,None,1,35.1467488,126.922456,2022-09-01 11:19:25,0/\n"
     ]
    },
    {
     "name": "stderr",
     "output_type": "stream",
     "text": [
      "192.168.21.245 - - [01/Sep/2022 16:07:06] \"POST /mappage HTTP/1.1\" 200 -\n"
     ]
    },
    {
     "name": "stdout",
     "output_type": "stream",
     "text": [
      "마커갱신\n",
      "[(1, 5, 'wef', 'swf', 'rtb', 'pky5335', None, 1, 35.1467299, 126.92201, datetime.datetime(2022, 9, 1, 11, 16, 26), 0), (4, 2, '여기', '없음', '구라임', 'ahy0914', None, 1, 35.1467488, 126.922456, datetime.datetime(2022, 9, 1, 11, 19, 25), 0)]\n",
      "갱신완료\n",
      "1,5,wef,swf,rtb,pky5335,None,1,35.1467299,126.92201,2022-09-01 11:16:26,0/4,2,여기,없음,구라임,ahy0914,None,1,35.1467488,126.922456,2022-09-01 11:19:25,0/\n"
     ]
    },
    {
     "name": "stderr",
     "output_type": "stream",
     "text": [
      "192.168.21.245 - - [01/Sep/2022 16:07:11] \"POST /mappage HTTP/1.1\" 200 -\n"
     ]
    },
    {
     "name": "stdout",
     "output_type": "stream",
     "text": [
      "마커갱신\n",
      "[(1, 5, 'wef', 'swf', 'rtb', 'pky5335', None, 1, 35.1467299, 126.92201, datetime.datetime(2022, 9, 1, 11, 16, 26), 0), (4, 2, '여기', '없음', '구라임', 'ahy0914', None, 1, 35.1467488, 126.922456, datetime.datetime(2022, 9, 1, 11, 19, 25), 0)]\n",
      "갱신완료\n",
      "1,5,wef,swf,rtb,pky5335,None,1,35.1467299,126.92201,2022-09-01 11:16:26,0/4,2,여기,없음,구라임,ahy0914,None,1,35.1467488,126.922456,2022-09-01 11:19:25,0/\n"
     ]
    },
    {
     "name": "stderr",
     "output_type": "stream",
     "text": [
      "192.168.21.245 - - [01/Sep/2022 16:07:16] \"POST /mappage HTTP/1.1\" 200 -\n"
     ]
    },
    {
     "name": "stdout",
     "output_type": "stream",
     "text": [
      "마커갱신\n",
      "[(1, 5, 'wef', 'swf', 'rtb', 'pky5335', None, 1, 35.1467299, 126.92201, datetime.datetime(2022, 9, 1, 11, 16, 26), 0), (4, 2, '여기', '없음', '구라임', 'ahy0914', None, 1, 35.1467488, 126.922456, datetime.datetime(2022, 9, 1, 11, 19, 25), 0)]\n",
      "갱신완료\n",
      "1,5,wef,swf,rtb,pky5335,None,1,35.1467299,126.92201,2022-09-01 11:16:26,0/4,2,여기,없음,구라임,ahy0914,None,1,35.1467488,126.922456,2022-09-01 11:19:25,0/\n"
     ]
    },
    {
     "name": "stderr",
     "output_type": "stream",
     "text": [
      "192.168.21.245 - - [01/Sep/2022 16:07:21] \"POST /mappage HTTP/1.1\" 200 -\n"
     ]
    },
    {
     "name": "stdout",
     "output_type": "stream",
     "text": [
      "마커갱신\n",
      "[(1, 5, 'wef', 'swf', 'rtb', 'pky5335', None, 1, 35.1467299, 126.92201, datetime.datetime(2022, 9, 1, 11, 16, 26), 0), (4, 2, '여기', '없음', '구라임', 'ahy0914', None, 1, 35.1467488, 126.922456, datetime.datetime(2022, 9, 1, 11, 19, 25), 0)]\n",
      "갱신완료\n",
      "1,5,wef,swf,rtb,pky5335,None,1,35.1467299,126.92201,2022-09-01 11:16:26,0/4,2,여기,없음,구라임,ahy0914,None,1,35.1467488,126.922456,2022-09-01 11:19:25,0/\n"
     ]
    },
    {
     "name": "stderr",
     "output_type": "stream",
     "text": [
      "192.168.21.245 - - [01/Sep/2022 16:07:26] \"POST /mappage HTTP/1.1\" 200 -\n"
     ]
    },
    {
     "name": "stdout",
     "output_type": "stream",
     "text": [
      "마커갱신\n",
      "[(1, 5, 'wef', 'swf', 'rtb', 'pky5335', None, 1, 35.1467299, 126.92201, datetime.datetime(2022, 9, 1, 11, 16, 26), 0), (4, 2, '여기', '없음', '구라임', 'ahy0914', None, 1, 35.1467488, 126.922456, datetime.datetime(2022, 9, 1, 11, 19, 25), 0)]\n",
      "갱신완료\n",
      "1,5,wef,swf,rtb,pky5335,None,1,35.1467299,126.92201,2022-09-01 11:16:26,0/4,2,여기,없음,구라임,ahy0914,None,1,35.1467488,126.922456,2022-09-01 11:19:25,0/\n"
     ]
    },
    {
     "name": "stderr",
     "output_type": "stream",
     "text": [
      "192.168.21.245 - - [01/Sep/2022 16:07:31] \"POST /mappage HTTP/1.1\" 200 -\n"
     ]
    },
    {
     "name": "stdout",
     "output_type": "stream",
     "text": [
      "마커갱신\n",
      "[(1, 5, 'wef', 'swf', 'rtb', 'pky5335', None, 1, 35.1467299, 126.92201, datetime.datetime(2022, 9, 1, 11, 16, 26), 0), (4, 2, '여기', '없음', '구라임', 'ahy0914', None, 1, 35.1467488, 126.922456, datetime.datetime(2022, 9, 1, 11, 19, 25), 0)]\n",
      "갱신완료\n",
      "1,5,wef,swf,rtb,pky5335,None,1,35.1467299,126.92201,2022-09-01 11:16:26,0/4,2,여기,없음,구라임,ahy0914,None,1,35.1467488,126.922456,2022-09-01 11:19:25,0/\n"
     ]
    },
    {
     "name": "stderr",
     "output_type": "stream",
     "text": [
      "192.168.21.245 - - [01/Sep/2022 16:07:36] \"POST /mappage HTTP/1.1\" 200 -\n"
     ]
    },
    {
     "name": "stdout",
     "output_type": "stream",
     "text": [
      "마커갱신\n",
      "[(1, 5, 'wef', 'swf', 'rtb', 'pky5335', None, 1, 35.1467299, 126.92201, datetime.datetime(2022, 9, 1, 11, 16, 26), 0), (4, 2, '여기', '없음', '구라임', 'ahy0914', None, 1, 35.1467488, 126.922456, datetime.datetime(2022, 9, 1, 11, 19, 25), 0)]\n",
      "갱신완료\n",
      "1,5,wef,swf,rtb,pky5335,None,1,35.1467299,126.92201,2022-09-01 11:16:26,0/4,2,여기,없음,구라임,ahy0914,None,1,35.1467488,126.922456,2022-09-01 11:19:25,0/\n"
     ]
    },
    {
     "name": "stderr",
     "output_type": "stream",
     "text": [
      "192.168.21.245 - - [01/Sep/2022 16:07:41] \"POST /mappage HTTP/1.1\" 200 -\n"
     ]
    },
    {
     "name": "stdout",
     "output_type": "stream",
     "text": [
      "마커갱신\n",
      "[(1, 5, 'wef', 'swf', 'rtb', 'pky5335', None, 1, 35.1467299, 126.92201, datetime.datetime(2022, 9, 1, 11, 16, 26), 0), (4, 2, '여기', '없음', '구라임', 'ahy0914', None, 1, 35.1467488, 126.922456, datetime.datetime(2022, 9, 1, 11, 19, 25), 0)]\n",
      "갱신완료\n",
      "1,5,wef,swf,rtb,pky5335,None,1,35.1467299,126.92201,2022-09-01 11:16:26,0/4,2,여기,없음,구라임,ahy0914,None,1,35.1467488,126.922456,2022-09-01 11:19:25,0/\n"
     ]
    },
    {
     "name": "stderr",
     "output_type": "stream",
     "text": [
      "192.168.21.245 - - [01/Sep/2022 16:07:46] \"POST /mappage HTTP/1.1\" 200 -\n"
     ]
    },
    {
     "name": "stdout",
     "output_type": "stream",
     "text": [
      "마커갱신\n",
      "[(1, 5, 'wef', 'swf', 'rtb', 'pky5335', None, 1, 35.1467299, 126.92201, datetime.datetime(2022, 9, 1, 11, 16, 26), 0), (4, 2, '여기', '없음', '구라임', 'ahy0914', None, 1, 35.1467488, 126.922456, datetime.datetime(2022, 9, 1, 11, 19, 25), 0)]\n",
      "갱신완료\n",
      "1,5,wef,swf,rtb,pky5335,None,1,35.1467299,126.92201,2022-09-01 11:16:26,0/4,2,여기,없음,구라임,ahy0914,None,1,35.1467488,126.922456,2022-09-01 11:19:25,0/\n"
     ]
    },
    {
     "name": "stderr",
     "output_type": "stream",
     "text": [
      "192.168.21.245 - - [01/Sep/2022 16:07:51] \"POST /mappage HTTP/1.1\" 200 -\n"
     ]
    },
    {
     "name": "stdout",
     "output_type": "stream",
     "text": [
      "마커갱신\n",
      "[(1, 5, 'wef', 'swf', 'rtb', 'pky5335', None, 1, 35.1467299, 126.92201, datetime.datetime(2022, 9, 1, 11, 16, 26), 0), (4, 2, '여기', '없음', '구라임', 'ahy0914', None, 1, 35.1467488, 126.922456, datetime.datetime(2022, 9, 1, 11, 19, 25), 0)]\n",
      "갱신완료\n",
      "1,5,wef,swf,rtb,pky5335,None,1,35.1467299,126.92201,2022-09-01 11:16:26,0/4,2,여기,없음,구라임,ahy0914,None,1,35.1467488,126.922456,2022-09-01 11:19:25,0/\n"
     ]
    },
    {
     "name": "stderr",
     "output_type": "stream",
     "text": [
      "192.168.21.245 - - [01/Sep/2022 16:07:56] \"POST /mappage HTTP/1.1\" 200 -\n"
     ]
    },
    {
     "name": "stdout",
     "output_type": "stream",
     "text": [
      "마커갱신\n",
      "[(1, 5, 'wef', 'swf', 'rtb', 'pky5335', None, 1, 35.1467299, 126.92201, datetime.datetime(2022, 9, 1, 11, 16, 26), 0), (4, 2, '여기', '없음', '구라임', 'ahy0914', None, 1, 35.1467488, 126.922456, datetime.datetime(2022, 9, 1, 11, 19, 25), 0)]\n",
      "갱신완료\n",
      "1,5,wef,swf,rtb,pky5335,None,1,35.1467299,126.92201,2022-09-01 11:16:26,0/4,2,여기,없음,구라임,ahy0914,None,1,35.1467488,126.922456,2022-09-01 11:19:25,0/\n"
     ]
    },
    {
     "name": "stderr",
     "output_type": "stream",
     "text": [
      "192.168.21.245 - - [01/Sep/2022 16:08:01] \"POST /mappage HTTP/1.1\" 200 -\n"
     ]
    },
    {
     "name": "stdout",
     "output_type": "stream",
     "text": [
      "마커갱신\n",
      "[(1, 5, 'wef', 'swf', 'rtb', 'pky5335', None, 1, 35.1467299, 126.92201, datetime.datetime(2022, 9, 1, 11, 16, 26), 0), (4, 2, '여기', '없음', '구라임', 'ahy0914', None, 1, 35.1467488, 126.922456, datetime.datetime(2022, 9, 1, 11, 19, 25), 0)]\n",
      "갱신완료\n",
      "1,5,wef,swf,rtb,pky5335,None,1,35.1467299,126.92201,2022-09-01 11:16:26,0/4,2,여기,없음,구라임,ahy0914,None,1,35.1467488,126.922456,2022-09-01 11:19:25,0/\n"
     ]
    },
    {
     "name": "stderr",
     "output_type": "stream",
     "text": [
      "192.168.21.245 - - [01/Sep/2022 16:08:06] \"POST /mappage HTTP/1.1\" 200 -\n"
     ]
    },
    {
     "name": "stdout",
     "output_type": "stream",
     "text": [
      "마커갱신\n",
      "[(1, 5, 'wef', 'swf', 'rtb', 'pky5335', None, 1, 35.1467299, 126.92201, datetime.datetime(2022, 9, 1, 11, 16, 26), 0), (4, 2, '여기', '없음', '구라임', 'ahy0914', None, 1, 35.1467488, 126.922456, datetime.datetime(2022, 9, 1, 11, 19, 25), 0)]\n",
      "갱신완료\n",
      "1,5,wef,swf,rtb,pky5335,None,1,35.1467299,126.92201,2022-09-01 11:16:26,0/4,2,여기,없음,구라임,ahy0914,None,1,35.1467488,126.922456,2022-09-01 11:19:25,0/\n"
     ]
    },
    {
     "name": "stderr",
     "output_type": "stream",
     "text": [
      "192.168.21.245 - - [01/Sep/2022 16:08:11] \"POST /mappage HTTP/1.1\" 200 -\n"
     ]
    },
    {
     "name": "stdout",
     "output_type": "stream",
     "text": [
      "마커갱신\n",
      "[(1, 5, 'wef', 'swf', 'rtb', 'pky5335', None, 1, 35.1467299, 126.92201, datetime.datetime(2022, 9, 1, 11, 16, 26), 0), (4, 2, '여기', '없음', '구라임', 'ahy0914', None, 1, 35.1467488, 126.922456, datetime.datetime(2022, 9, 1, 11, 19, 25), 0)]\n",
      "갱신완료\n",
      "1,5,wef,swf,rtb,pky5335,None,1,35.1467299,126.92201,2022-09-01 11:16:26,0/4,2,여기,없음,구라임,ahy0914,None,1,35.1467488,126.922456,2022-09-01 11:19:25,0/\n"
     ]
    },
    {
     "name": "stderr",
     "output_type": "stream",
     "text": [
      "192.168.21.245 - - [01/Sep/2022 16:08:16] \"POST /mappage HTTP/1.1\" 200 -\n"
     ]
    },
    {
     "name": "stdout",
     "output_type": "stream",
     "text": [
      "마커갱신\n",
      "[(1, 5, 'wef', 'swf', 'rtb', 'pky5335', None, 1, 35.1467299, 126.92201, datetime.datetime(2022, 9, 1, 11, 16, 26), 0), (4, 2, '여기', '없음', '구라임', 'ahy0914', None, 1, 35.1467488, 126.922456, datetime.datetime(2022, 9, 1, 11, 19, 25), 0)]\n",
      "갱신완료\n",
      "1,5,wef,swf,rtb,pky5335,None,1,35.1467299,126.92201,2022-09-01 11:16:26,0/4,2,여기,없음,구라임,ahy0914,None,1,35.1467488,126.922456,2022-09-01 11:19:25,0/\n"
     ]
    },
    {
     "name": "stderr",
     "output_type": "stream",
     "text": [
      "192.168.21.245 - - [01/Sep/2022 16:08:21] \"POST /mappage HTTP/1.1\" 200 -\n"
     ]
    },
    {
     "name": "stdout",
     "output_type": "stream",
     "text": [
      "마커갱신\n",
      "[(1, 5, 'wef', 'swf', 'rtb', 'pky5335', None, 1, 35.1467299, 126.92201, datetime.datetime(2022, 9, 1, 11, 16, 26), 0), (4, 2, '여기', '없음', '구라임', 'ahy0914', None, 1, 35.1467488, 126.922456, datetime.datetime(2022, 9, 1, 11, 19, 25), 0)]\n",
      "갱신완료\n",
      "1,5,wef,swf,rtb,pky5335,None,1,35.1467299,126.92201,2022-09-01 11:16:26,0/4,2,여기,없음,구라임,ahy0914,None,1,35.1467488,126.922456,2022-09-01 11:19:25,0/\n"
     ]
    },
    {
     "name": "stderr",
     "output_type": "stream",
     "text": [
      "192.168.21.245 - - [01/Sep/2022 16:08:26] \"POST /mappage HTTP/1.1\" 200 -\n"
     ]
    },
    {
     "name": "stdout",
     "output_type": "stream",
     "text": [
      "마커갱신\n",
      "[(1, 5, 'wef', 'swf', 'rtb', 'pky5335', None, 1, 35.1467299, 126.92201, datetime.datetime(2022, 9, 1, 11, 16, 26), 0), (4, 2, '여기', '없음', '구라임', 'ahy0914', None, 1, 35.1467488, 126.922456, datetime.datetime(2022, 9, 1, 11, 19, 25), 0)]\n",
      "갱신완료\n",
      "1,5,wef,swf,rtb,pky5335,None,1,35.1467299,126.92201,2022-09-01 11:16:26,0/4,2,여기,없음,구라임,ahy0914,None,1,35.1467488,126.922456,2022-09-01 11:19:25,0/\n"
     ]
    },
    {
     "name": "stderr",
     "output_type": "stream",
     "text": [
      "192.168.21.245 - - [01/Sep/2022 16:08:31] \"POST /mappage HTTP/1.1\" 200 -\n"
     ]
    },
    {
     "name": "stdout",
     "output_type": "stream",
     "text": [
      "마커갱신\n",
      "[(1, 5, 'wef', 'swf', 'rtb', 'pky5335', None, 1, 35.1467299, 126.92201, datetime.datetime(2022, 9, 1, 11, 16, 26), 0), (4, 2, '여기', '없음', '구라임', 'ahy0914', None, 1, 35.1467488, 126.922456, datetime.datetime(2022, 9, 1, 11, 19, 25), 0)]\n",
      "갱신완료\n",
      "1,5,wef,swf,rtb,pky5335,None,1,35.1467299,126.92201,2022-09-01 11:16:26,0/4,2,여기,없음,구라임,ahy0914,None,1,35.1467488,126.922456,2022-09-01 11:19:25,0/\n"
     ]
    },
    {
     "name": "stderr",
     "output_type": "stream",
     "text": [
      "192.168.21.245 - - [01/Sep/2022 16:08:36] \"POST /mappage HTTP/1.1\" 200 -\n"
     ]
    },
    {
     "name": "stdout",
     "output_type": "stream",
     "text": [
      "마커갱신\n",
      "[(1, 5, 'wef', 'swf', 'rtb', 'pky5335', None, 1, 35.1467299, 126.92201, datetime.datetime(2022, 9, 1, 11, 16, 26), 0), (4, 2, '여기', '없음', '구라임', 'ahy0914', None, 1, 35.1467488, 126.922456, datetime.datetime(2022, 9, 1, 11, 19, 25), 0)]\n",
      "갱신완료\n",
      "1,5,wef,swf,rtb,pky5335,None,1,35.1467299,126.92201,2022-09-01 11:16:26,0/4,2,여기,없음,구라임,ahy0914,None,1,35.1467488,126.922456,2022-09-01 11:19:25,0/\n"
     ]
    },
    {
     "name": "stderr",
     "output_type": "stream",
     "text": [
      "192.168.21.245 - - [01/Sep/2022 16:08:41] \"POST /mappage HTTP/1.1\" 200 -\n"
     ]
    },
    {
     "name": "stdout",
     "output_type": "stream",
     "text": [
      "마커갱신\n",
      "[(1, 5, 'wef', 'swf', 'rtb', 'pky5335', None, 1, 35.1467299, 126.92201, datetime.datetime(2022, 9, 1, 11, 16, 26), 0), (4, 2, '여기', '없음', '구라임', 'ahy0914', None, 1, 35.1467488, 126.922456, datetime.datetime(2022, 9, 1, 11, 19, 25), 0)]\n",
      "갱신완료\n",
      "1,5,wef,swf,rtb,pky5335,None,1,35.1467299,126.92201,2022-09-01 11:16:26,0/4,2,여기,없음,구라임,ahy0914,None,1,35.1467488,126.922456,2022-09-01 11:19:25,0/\n"
     ]
    },
    {
     "name": "stderr",
     "output_type": "stream",
     "text": [
      "192.168.21.245 - - [01/Sep/2022 16:08:46] \"POST /mappage HTTP/1.1\" 200 -\n"
     ]
    },
    {
     "name": "stdout",
     "output_type": "stream",
     "text": [
      "마커갱신\n",
      "[(1, 5, 'wef', 'swf', 'rtb', 'pky5335', None, 1, 35.1467299, 126.92201, datetime.datetime(2022, 9, 1, 11, 16, 26), 0), (4, 2, '여기', '없음', '구라임', 'ahy0914', None, 1, 35.1467488, 126.922456, datetime.datetime(2022, 9, 1, 11, 19, 25), 0)]\n",
      "갱신완료\n",
      "1,5,wef,swf,rtb,pky5335,None,1,35.1467299,126.92201,2022-09-01 11:16:26,0/4,2,여기,없음,구라임,ahy0914,None,1,35.1467488,126.922456,2022-09-01 11:19:25,0/\n"
     ]
    },
    {
     "name": "stderr",
     "output_type": "stream",
     "text": [
      "192.168.21.245 - - [01/Sep/2022 16:08:51] \"POST /mappage HTTP/1.1\" 200 -\n"
     ]
    },
    {
     "name": "stdout",
     "output_type": "stream",
     "text": [
      "마커갱신\n",
      "[(1, 5, 'wef', 'swf', 'rtb', 'pky5335', None, 1, 35.1467299, 126.92201, datetime.datetime(2022, 9, 1, 11, 16, 26), 0), (4, 2, '여기', '없음', '구라임', 'ahy0914', None, 1, 35.1467488, 126.922456, datetime.datetime(2022, 9, 1, 11, 19, 25), 0)]\n",
      "갱신완료\n",
      "1,5,wef,swf,rtb,pky5335,None,1,35.1467299,126.92201,2022-09-01 11:16:26,0/4,2,여기,없음,구라임,ahy0914,None,1,35.1467488,126.922456,2022-09-01 11:19:25,0/\n"
     ]
    },
    {
     "name": "stderr",
     "output_type": "stream",
     "text": [
      "192.168.21.245 - - [01/Sep/2022 16:08:56] \"POST /mappage HTTP/1.1\" 200 -\n"
     ]
    },
    {
     "name": "stdout",
     "output_type": "stream",
     "text": [
      "마커갱신\n",
      "[(1, 5, 'wef', 'swf', 'rtb', 'pky5335', None, 1, 35.1467299, 126.92201, datetime.datetime(2022, 9, 1, 11, 16, 26), 0), (4, 2, '여기', '없음', '구라임', 'ahy0914', None, 1, 35.1467488, 126.922456, datetime.datetime(2022, 9, 1, 11, 19, 25), 0)]\n",
      "갱신완료\n",
      "1,5,wef,swf,rtb,pky5335,None,1,35.1467299,126.92201,2022-09-01 11:16:26,0/4,2,여기,없음,구라임,ahy0914,None,1,35.1467488,126.922456,2022-09-01 11:19:25,0/\n"
     ]
    },
    {
     "name": "stderr",
     "output_type": "stream",
     "text": [
      "192.168.21.245 - - [01/Sep/2022 16:09:01] \"POST /mappage HTTP/1.1\" 200 -\n"
     ]
    },
    {
     "name": "stdout",
     "output_type": "stream",
     "text": [
      "마커갱신\n",
      "[(1, 5, 'wef', 'swf', 'rtb', 'pky5335', None, 1, 35.1467299, 126.92201, datetime.datetime(2022, 9, 1, 11, 16, 26), 0), (4, 2, '여기', '없음', '구라임', 'ahy0914', None, 1, 35.1467488, 126.922456, datetime.datetime(2022, 9, 1, 11, 19, 25), 0)]\n",
      "갱신완료\n",
      "1,5,wef,swf,rtb,pky5335,None,1,35.1467299,126.92201,2022-09-01 11:16:26,0/4,2,여기,없음,구라임,ahy0914,None,1,35.1467488,126.922456,2022-09-01 11:19:25,0/\n"
     ]
    },
    {
     "name": "stderr",
     "output_type": "stream",
     "text": [
      "192.168.21.245 - - [01/Sep/2022 16:09:06] \"POST /mappage HTTP/1.1\" 200 -\n"
     ]
    },
    {
     "name": "stdout",
     "output_type": "stream",
     "text": [
      "마커갱신\n",
      "[(1, 5, 'wef', 'swf', 'rtb', 'pky5335', None, 1, 35.1467299, 126.92201, datetime.datetime(2022, 9, 1, 11, 16, 26), 0), (4, 2, '여기', '없음', '구라임', 'ahy0914', None, 1, 35.1467488, 126.922456, datetime.datetime(2022, 9, 1, 11, 19, 25), 0)]\n",
      "갱신완료\n",
      "1,5,wef,swf,rtb,pky5335,None,1,35.1467299,126.92201,2022-09-01 11:16:26,0/4,2,여기,없음,구라임,ahy0914,None,1,35.1467488,126.922456,2022-09-01 11:19:25,0/\n"
     ]
    },
    {
     "name": "stderr",
     "output_type": "stream",
     "text": [
      "192.168.21.245 - - [01/Sep/2022 16:09:11] \"POST /mappage HTTP/1.1\" 200 -\n"
     ]
    },
    {
     "name": "stdout",
     "output_type": "stream",
     "text": [
      "마커갱신\n",
      "[(1, 5, 'wef', 'swf', 'rtb', 'pky5335', None, 1, 35.1467299, 126.92201, datetime.datetime(2022, 9, 1, 11, 16, 26), 0), (4, 2, '여기', '없음', '구라임', 'ahy0914', None, 1, 35.1467488, 126.922456, datetime.datetime(2022, 9, 1, 11, 19, 25), 0)]\n",
      "갱신완료\n",
      "1,5,wef,swf,rtb,pky5335,None,1,35.1467299,126.92201,2022-09-01 11:16:26,0/4,2,여기,없음,구라임,ahy0914,None,1,35.1467488,126.922456,2022-09-01 11:19:25,0/\n"
     ]
    },
    {
     "name": "stderr",
     "output_type": "stream",
     "text": [
      "192.168.21.245 - - [01/Sep/2022 16:09:16] \"POST /mappage HTTP/1.1\" 200 -\n"
     ]
    },
    {
     "name": "stdout",
     "output_type": "stream",
     "text": [
      "마커갱신\n",
      "[(1, 5, 'wef', 'swf', 'rtb', 'pky5335', None, 1, 35.1467299, 126.92201, datetime.datetime(2022, 9, 1, 11, 16, 26), 0), (4, 2, '여기', '없음', '구라임', 'ahy0914', None, 1, 35.1467488, 126.922456, datetime.datetime(2022, 9, 1, 11, 19, 25), 0)]\n",
      "갱신완료\n",
      "1,5,wef,swf,rtb,pky5335,None,1,35.1467299,126.92201,2022-09-01 11:16:26,0/4,2,여기,없음,구라임,ahy0914,None,1,35.1467488,126.922456,2022-09-01 11:19:25,0/\n"
     ]
    },
    {
     "name": "stderr",
     "output_type": "stream",
     "text": [
      "192.168.21.245 - - [01/Sep/2022 16:09:21] \"POST /mappage HTTP/1.1\" 200 -\n"
     ]
    },
    {
     "name": "stdout",
     "output_type": "stream",
     "text": [
      "마커갱신\n",
      "[(1, 5, 'wef', 'swf', 'rtb', 'pky5335', None, 1, 35.1467299, 126.92201, datetime.datetime(2022, 9, 1, 11, 16, 26), 0), (4, 2, '여기', '없음', '구라임', 'ahy0914', None, 1, 35.1467488, 126.922456, datetime.datetime(2022, 9, 1, 11, 19, 25), 0)]\n",
      "갱신완료\n",
      "1,5,wef,swf,rtb,pky5335,None,1,35.1467299,126.92201,2022-09-01 11:16:26,0/4,2,여기,없음,구라임,ahy0914,None,1,35.1467488,126.922456,2022-09-01 11:19:25,0/\n"
     ]
    },
    {
     "name": "stderr",
     "output_type": "stream",
     "text": [
      "192.168.21.245 - - [01/Sep/2022 16:09:26] \"POST /mappage HTTP/1.1\" 200 -\n"
     ]
    },
    {
     "name": "stdout",
     "output_type": "stream",
     "text": [
      "마커갱신\n",
      "[(1, 5, 'wef', 'swf', 'rtb', 'pky5335', None, 1, 35.1467299, 126.92201, datetime.datetime(2022, 9, 1, 11, 16, 26), 0), (4, 2, '여기', '없음', '구라임', 'ahy0914', None, 1, 35.1467488, 126.922456, datetime.datetime(2022, 9, 1, 11, 19, 25), 0)]\n",
      "갱신완료\n",
      "1,5,wef,swf,rtb,pky5335,None,1,35.1467299,126.92201,2022-09-01 11:16:26,0/4,2,여기,없음,구라임,ahy0914,None,1,35.1467488,126.922456,2022-09-01 11:19:25,0/\n"
     ]
    },
    {
     "name": "stderr",
     "output_type": "stream",
     "text": [
      "192.168.21.245 - - [01/Sep/2022 16:09:39] \"POST /login HTTP/1.1\" 200 -\n"
     ]
    },
    {
     "name": "stdout",
     "output_type": "stream",
     "text": [
      "로그인 시도\n",
      "[('pky5335', 'qwer1234!', 'qwerq', datetime.datetime(1991, 4, 13, 0, 0), '124235141243', 'pky5335@nate.com', '남', 1, datetime.datetime(2022, 8, 25, 15, 13, 53), None, None, 0, 0, 'wer')]\n",
      "pky5335 로그인\n"
     ]
    },
    {
     "name": "stderr",
     "output_type": "stream",
     "text": [
      "192.168.21.245 - - [01/Sep/2022 16:09:39] \"POST /mappage HTTP/1.1\" 200 -\n"
     ]
    },
    {
     "name": "stdout",
     "output_type": "stream",
     "text": [
      "마커갱신\n",
      "[(1, 5, 'wef', 'swf', 'rtb', 'pky5335', None, 1, 35.1467299, 126.92201, datetime.datetime(2022, 9, 1, 11, 16, 26), 0), (4, 2, '여기', '없음', '구라임', 'ahy0914', None, 1, 35.1467488, 126.922456, datetime.datetime(2022, 9, 1, 11, 19, 25), 0)]\n",
      "갱신완료\n",
      "1,5,wef,swf,rtb,pky5335,None,1,35.1467299,126.92201,2022-09-01 11:16:26,0/4,2,여기,없음,구라임,ahy0914,None,1,35.1467488,126.922456,2022-09-01 11:19:25,0/\n"
     ]
    },
    {
     "name": "stderr",
     "output_type": "stream",
     "text": [
      "192.168.21.245 - - [01/Sep/2022 16:09:40] \"POST /mappage HTTP/1.1\" 200 -\n"
     ]
    },
    {
     "name": "stdout",
     "output_type": "stream",
     "text": [
      "마커갱신\n",
      "[(1, 5, 'wef', 'swf', 'rtb', 'pky5335', None, 1, 35.1467299, 126.92201, datetime.datetime(2022, 9, 1, 11, 16, 26), 0), (4, 2, '여기', '없음', '구라임', 'ahy0914', None, 1, 35.1467488, 126.922456, datetime.datetime(2022, 9, 1, 11, 19, 25), 0)]\n",
      "갱신완료\n",
      "1,5,wef,swf,rtb,pky5335,None,1,35.1467299,126.92201,2022-09-01 11:16:26,0/4,2,여기,없음,구라임,ahy0914,None,1,35.1467488,126.922456,2022-09-01 11:19:25,0/\n"
     ]
    },
    {
     "name": "stderr",
     "output_type": "stream",
     "text": [
      "192.168.21.245 - - [01/Sep/2022 16:09:44] \"POST /clicktrs HTTP/1.1\" 200 -\n"
     ]
    },
    {
     "name": "stdout",
     "output_type": "stream",
     "text": [
      "보물클릭\n",
      "[(5, 'wef', 'swf', 'rtb', 'pky5335', None, 35.1467299, 126.92201, datetime.datetime(2022, 9, 1, 11, 16, 26), 0)]\n"
     ]
    },
    {
     "name": "stderr",
     "output_type": "stream",
     "text": [
      "192.168.21.245 - - [01/Sep/2022 16:09:45] \"POST /mappage HTTP/1.1\" 200 -\n"
     ]
    },
    {
     "name": "stdout",
     "output_type": "stream",
     "text": [
      "마커갱신\n",
      "[(1, 5, 'wef', 'swf', 'rtb', 'pky5335', None, 1, 35.1467299, 126.92201, datetime.datetime(2022, 9, 1, 11, 16, 26), 0), (4, 2, '여기', '없음', '구라임', 'ahy0914', None, 1, 35.1467488, 126.922456, datetime.datetime(2022, 9, 1, 11, 19, 25), 0)]\n",
      "갱신완료\n",
      "1,5,wef,swf,rtb,pky5335,None,1,35.1467299,126.92201,2022-09-01 11:16:26,0/4,2,여기,없음,구라임,ahy0914,None,1,35.1467488,126.922456,2022-09-01 11:19:25,0/\n"
     ]
    },
    {
     "name": "stderr",
     "output_type": "stream",
     "text": [
      "192.168.21.245 - - [01/Sep/2022 16:09:49] \"POST /clicktrs HTTP/1.1\" 200 -\n"
     ]
    },
    {
     "name": "stdout",
     "output_type": "stream",
     "text": [
      "보물클릭\n",
      "[(2, '여기', '없음', '구라임', 'ahy0914', None, 35.1467488, 126.922456, datetime.datetime(2022, 9, 1, 11, 19, 25), 0)]\n"
     ]
    },
    {
     "name": "stderr",
     "output_type": "stream",
     "text": [
      "192.168.21.245 - - [01/Sep/2022 16:09:51] \"POST /mappage HTTP/1.1\" 200 -\n"
     ]
    },
    {
     "name": "stdout",
     "output_type": "stream",
     "text": [
      "마커갱신\n",
      "[(1, 5, 'wef', 'swf', 'rtb', 'pky5335', None, 1, 35.1467299, 126.92201, datetime.datetime(2022, 9, 1, 11, 16, 26), 0), (4, 2, '여기', '없음', '구라임', 'ahy0914', None, 1, 35.1467488, 126.922456, datetime.datetime(2022, 9, 1, 11, 19, 25), 0)]\n",
      "갱신완료\n",
      "1,5,wef,swf,rtb,pky5335,None,1,35.1467299,126.92201,2022-09-01 11:16:26,0/4,2,여기,없음,구라임,ahy0914,None,1,35.1467488,126.922456,2022-09-01 11:19:25,0/\n"
     ]
    },
    {
     "name": "stderr",
     "output_type": "stream",
     "text": [
      "192.168.21.245 - - [01/Sep/2022 16:09:55] \"POST /mappage HTTP/1.1\" 200 -\n"
     ]
    },
    {
     "name": "stdout",
     "output_type": "stream",
     "text": [
      "마커갱신\n",
      "[(1, 5, 'wef', 'swf', 'rtb', 'pky5335', None, 1, 35.1467299, 126.92201, datetime.datetime(2022, 9, 1, 11, 16, 26), 0), (4, 2, '여기', '없음', '구라임', 'ahy0914', None, 1, 35.1467488, 126.922456, datetime.datetime(2022, 9, 1, 11, 19, 25), 0)]\n",
      "갱신완료\n",
      "1,5,wef,swf,rtb,pky5335,None,1,35.1467299,126.92201,2022-09-01 11:16:26,0/4,2,여기,없음,구라임,ahy0914,None,1,35.1467488,126.922456,2022-09-01 11:19:25,0/\n"
     ]
    },
    {
     "name": "stderr",
     "output_type": "stream",
     "text": [
      "192.168.21.245 - - [01/Sep/2022 16:10:11] \"POST /login HTTP/1.1\" 200 -\n"
     ]
    },
    {
     "name": "stdout",
     "output_type": "stream",
     "text": [
      "로그인 시도\n",
      "[('pky5335', 'qwer1234!', 'qwerq', datetime.datetime(1991, 4, 13, 0, 0), '124235141243', 'pky5335@nate.com', '남', 1, datetime.datetime(2022, 8, 25, 15, 13, 53), None, None, 0, 0, 'wer')]\n",
      "pky5335 로그인\n",
      "마커갱신\n"
     ]
    },
    {
     "name": "stderr",
     "output_type": "stream",
     "text": [
      "192.168.21.245 - - [01/Sep/2022 16:10:12] \"POST /mappage HTTP/1.1\" 200 -\n"
     ]
    },
    {
     "name": "stdout",
     "output_type": "stream",
     "text": [
      "[(1, 5, 'wef', 'swf', 'rtb', 'pky5335', None, 1, 35.1467299, 126.92201, datetime.datetime(2022, 9, 1, 11, 16, 26), 0), (4, 2, '여기', '없음', '구라임', 'ahy0914', None, 1, 35.1467488, 126.922456, datetime.datetime(2022, 9, 1, 11, 19, 25), 0)]\n",
      "갱신완료\n",
      "1,5,wef,swf,rtb,pky5335,None,1,35.1467299,126.92201,2022-09-01 11:16:26,0/4,2,여기,없음,구라임,ahy0914,None,1,35.1467488,126.922456,2022-09-01 11:19:25,0/\n"
     ]
    },
    {
     "name": "stderr",
     "output_type": "stream",
     "text": [
      "192.168.21.245 - - [01/Sep/2022 16:10:13] \"POST /mappage HTTP/1.1\" 200 -\n"
     ]
    },
    {
     "name": "stdout",
     "output_type": "stream",
     "text": [
      "마커갱신\n",
      "[(1, 5, 'wef', 'swf', 'rtb', 'pky5335', None, 1, 35.1467299, 126.92201, datetime.datetime(2022, 9, 1, 11, 16, 26), 0), (4, 2, '여기', '없음', '구라임', 'ahy0914', None, 1, 35.1467488, 126.922456, datetime.datetime(2022, 9, 1, 11, 19, 25), 0)]\n",
      "갱신완료\n",
      "1,5,wef,swf,rtb,pky5335,None,1,35.1467299,126.92201,2022-09-01 11:16:26,0/4,2,여기,없음,구라임,ahy0914,None,1,35.1467488,126.922456,2022-09-01 11:19:25,0/\n"
     ]
    },
    {
     "name": "stderr",
     "output_type": "stream",
     "text": [
      "192.168.21.245 - - [01/Sep/2022 16:10:16] \"POST /clicktrs HTTP/1.1\" 200 -\n"
     ]
    },
    {
     "name": "stdout",
     "output_type": "stream",
     "text": [
      "보물클릭\n",
      "[(5, 'wef', 'swf', 'rtb', 'pky5335', None, 35.1467299, 126.92201, datetime.datetime(2022, 9, 1, 11, 16, 26), 0)]\n"
     ]
    },
    {
     "name": "stderr",
     "output_type": "stream",
     "text": [
      "192.168.21.245 - - [01/Sep/2022 16:10:18] \"POST /mappage HTTP/1.1\" 200 -\n"
     ]
    },
    {
     "name": "stdout",
     "output_type": "stream",
     "text": [
      "마커갱신\n",
      "[(1, 5, 'wef', 'swf', 'rtb', 'pky5335', None, 1, 35.1467299, 126.92201, datetime.datetime(2022, 9, 1, 11, 16, 26), 0), (4, 2, '여기', '없음', '구라임', 'ahy0914', None, 1, 35.1467488, 126.922456, datetime.datetime(2022, 9, 1, 11, 19, 25), 0)]\n",
      "갱신완료\n",
      "1,5,wef,swf,rtb,pky5335,None,1,35.1467299,126.92201,2022-09-01 11:16:26,0/4,2,여기,없음,구라임,ahy0914,None,1,35.1467488,126.922456,2022-09-01 11:19:25,0/\n"
     ]
    },
    {
     "name": "stderr",
     "output_type": "stream",
     "text": [
      "192.168.21.245 - - [01/Sep/2022 16:10:23] \"POST /mappage HTTP/1.1\" 200 -\n"
     ]
    },
    {
     "name": "stdout",
     "output_type": "stream",
     "text": [
      "마커갱신\n",
      "[(1, 5, 'wef', 'swf', 'rtb', 'pky5335', None, 1, 35.1467299, 126.92201, datetime.datetime(2022, 9, 1, 11, 16, 26), 0), (4, 2, '여기', '없음', '구라임', 'ahy0914', None, 1, 35.1467488, 126.922456, datetime.datetime(2022, 9, 1, 11, 19, 25), 0)]\n",
      "갱신완료\n",
      "1,5,wef,swf,rtb,pky5335,None,1,35.1467299,126.92201,2022-09-01 11:16:26,0/4,2,여기,없음,구라임,ahy0914,None,1,35.1467488,126.922456,2022-09-01 11:19:25,0/\n"
     ]
    },
    {
     "name": "stderr",
     "output_type": "stream",
     "text": [
      "192.168.21.245 - - [01/Sep/2022 16:10:28] \"POST /mappage HTTP/1.1\" 200 -\n"
     ]
    },
    {
     "name": "stdout",
     "output_type": "stream",
     "text": [
      "마커갱신\n",
      "[(1, 5, 'wef', 'swf', 'rtb', 'pky5335', None, 1, 35.1467299, 126.92201, datetime.datetime(2022, 9, 1, 11, 16, 26), 0), (4, 2, '여기', '없음', '구라임', 'ahy0914', None, 1, 35.1467488, 126.922456, datetime.datetime(2022, 9, 1, 11, 19, 25), 0)]\n",
      "갱신완료\n",
      "1,5,wef,swf,rtb,pky5335,None,1,35.1467299,126.92201,2022-09-01 11:16:26,0/4,2,여기,없음,구라임,ahy0914,None,1,35.1467488,126.922456,2022-09-01 11:19:25,0/\n"
     ]
    },
    {
     "name": "stderr",
     "output_type": "stream",
     "text": [
      "192.168.21.245 - - [01/Sep/2022 16:10:33] \"POST /mappage HTTP/1.1\" 200 -\n"
     ]
    },
    {
     "name": "stdout",
     "output_type": "stream",
     "text": [
      "마커갱신\n",
      "[(1, 5, 'wef', 'swf', 'rtb', 'pky5335', None, 1, 35.1467299, 126.92201, datetime.datetime(2022, 9, 1, 11, 16, 26), 0), (4, 2, '여기', '없음', '구라임', 'ahy0914', None, 1, 35.1467488, 126.922456, datetime.datetime(2022, 9, 1, 11, 19, 25), 0)]\n",
      "갱신완료\n",
      "1,5,wef,swf,rtb,pky5335,None,1,35.1467299,126.92201,2022-09-01 11:16:26,0/4,2,여기,없음,구라임,ahy0914,None,1,35.1467488,126.922456,2022-09-01 11:19:25,0/\n"
     ]
    },
    {
     "name": "stderr",
     "output_type": "stream",
     "text": [
      "192.168.21.245 - - [01/Sep/2022 16:10:38] \"POST /mappage HTTP/1.1\" 200 -\n"
     ]
    },
    {
     "name": "stdout",
     "output_type": "stream",
     "text": [
      "마커갱신\n",
      "[(1, 5, 'wef', 'swf', 'rtb', 'pky5335', None, 1, 35.1467299, 126.92201, datetime.datetime(2022, 9, 1, 11, 16, 26), 0), (4, 2, '여기', '없음', '구라임', 'ahy0914', None, 1, 35.1467488, 126.922456, datetime.datetime(2022, 9, 1, 11, 19, 25), 0)]\n",
      "갱신완료\n",
      "1,5,wef,swf,rtb,pky5335,None,1,35.1467299,126.92201,2022-09-01 11:16:26,0/4,2,여기,없음,구라임,ahy0914,None,1,35.1467488,126.922456,2022-09-01 11:19:25,0/\n"
     ]
    },
    {
     "name": "stderr",
     "output_type": "stream",
     "text": [
      "192.168.21.245 - - [01/Sep/2022 16:10:43] \"POST /mappage HTTP/1.1\" 200 -\n"
     ]
    },
    {
     "name": "stdout",
     "output_type": "stream",
     "text": [
      "마커갱신\n",
      "[(1, 5, 'wef', 'swf', 'rtb', 'pky5335', None, 1, 35.1467299, 126.92201, datetime.datetime(2022, 9, 1, 11, 16, 26), 0), (4, 2, '여기', '없음', '구라임', 'ahy0914', None, 1, 35.1467488, 126.922456, datetime.datetime(2022, 9, 1, 11, 19, 25), 0)]\n",
      "갱신완료\n",
      "1,5,wef,swf,rtb,pky5335,None,1,35.1467299,126.92201,2022-09-01 11:16:26,0/4,2,여기,없음,구라임,ahy0914,None,1,35.1467488,126.922456,2022-09-01 11:19:25,0/\n"
     ]
    },
    {
     "name": "stderr",
     "output_type": "stream",
     "text": [
      "192.168.21.245 - - [01/Sep/2022 16:10:48] \"POST /mappage HTTP/1.1\" 200 -\n"
     ]
    },
    {
     "name": "stdout",
     "output_type": "stream",
     "text": [
      "마커갱신\n",
      "[(1, 5, 'wef', 'swf', 'rtb', 'pky5335', None, 1, 35.1467299, 126.92201, datetime.datetime(2022, 9, 1, 11, 16, 26), 0), (4, 2, '여기', '없음', '구라임', 'ahy0914', None, 1, 35.1467488, 126.922456, datetime.datetime(2022, 9, 1, 11, 19, 25), 0)]\n",
      "갱신완료\n",
      "1,5,wef,swf,rtb,pky5335,None,1,35.1467299,126.92201,2022-09-01 11:16:26,0/4,2,여기,없음,구라임,ahy0914,None,1,35.1467488,126.922456,2022-09-01 11:19:25,0/\n"
     ]
    },
    {
     "name": "stderr",
     "output_type": "stream",
     "text": [
      "192.168.21.245 - - [01/Sep/2022 16:10:53] \"POST /mappage HTTP/1.1\" 200 -\n"
     ]
    },
    {
     "name": "stdout",
     "output_type": "stream",
     "text": [
      "마커갱신\n",
      "[(1, 5, 'wef', 'swf', 'rtb', 'pky5335', None, 1, 35.1467299, 126.92201, datetime.datetime(2022, 9, 1, 11, 16, 26), 0), (4, 2, '여기', '없음', '구라임', 'ahy0914', None, 1, 35.1467488, 126.922456, datetime.datetime(2022, 9, 1, 11, 19, 25), 0)]\n",
      "갱신완료\n",
      "1,5,wef,swf,rtb,pky5335,None,1,35.1467299,126.92201,2022-09-01 11:16:26,0/4,2,여기,없음,구라임,ahy0914,None,1,35.1467488,126.922456,2022-09-01 11:19:25,0/\n"
     ]
    },
    {
     "name": "stderr",
     "output_type": "stream",
     "text": [
      "192.168.21.245 - - [01/Sep/2022 16:10:58] \"POST /mappage HTTP/1.1\" 200 -\n"
     ]
    },
    {
     "name": "stdout",
     "output_type": "stream",
     "text": [
      "마커갱신\n",
      "[(1, 5, 'wef', 'swf', 'rtb', 'pky5335', None, 1, 35.1467299, 126.92201, datetime.datetime(2022, 9, 1, 11, 16, 26), 0), (4, 2, '여기', '없음', '구라임', 'ahy0914', None, 1, 35.1467488, 126.922456, datetime.datetime(2022, 9, 1, 11, 19, 25), 0)]\n",
      "갱신완료\n",
      "1,5,wef,swf,rtb,pky5335,None,1,35.1467299,126.92201,2022-09-01 11:16:26,0/4,2,여기,없음,구라임,ahy0914,None,1,35.1467488,126.922456,2022-09-01 11:19:25,0/\n"
     ]
    },
    {
     "name": "stderr",
     "output_type": "stream",
     "text": [
      "192.168.21.245 - - [01/Sep/2022 16:11:04] \"POST /mappage HTTP/1.1\" 200 -\n"
     ]
    },
    {
     "name": "stdout",
     "output_type": "stream",
     "text": [
      "마커갱신\n",
      "[(1, 5, 'wef', 'swf', 'rtb', 'pky5335', None, 1, 35.1467299, 126.92201, datetime.datetime(2022, 9, 1, 11, 16, 26), 0), (4, 2, '여기', '없음', '구라임', 'ahy0914', None, 1, 35.1467488, 126.922456, datetime.datetime(2022, 9, 1, 11, 19, 25), 0)]\n",
      "갱신완료\n",
      "1,5,wef,swf,rtb,pky5335,None,1,35.1467299,126.92201,2022-09-01 11:16:26,0/4,2,여기,없음,구라임,ahy0914,None,1,35.1467488,126.922456,2022-09-01 11:19:25,0/\n"
     ]
    },
    {
     "name": "stderr",
     "output_type": "stream",
     "text": [
      "192.168.21.245 - - [01/Sep/2022 16:11:08] \"POST /mappage HTTP/1.1\" 200 -\n"
     ]
    },
    {
     "name": "stdout",
     "output_type": "stream",
     "text": [
      "마커갱신\n",
      "[(1, 5, 'wef', 'swf', 'rtb', 'pky5335', None, 1, 35.1467299, 126.92201, datetime.datetime(2022, 9, 1, 11, 16, 26), 0), (4, 2, '여기', '없음', '구라임', 'ahy0914', None, 1, 35.1467488, 126.922456, datetime.datetime(2022, 9, 1, 11, 19, 25), 0)]\n",
      "갱신완료\n",
      "1,5,wef,swf,rtb,pky5335,None,1,35.1467299,126.92201,2022-09-01 11:16:26,0/4,2,여기,없음,구라임,ahy0914,None,1,35.1467488,126.922456,2022-09-01 11:19:25,0/\n"
     ]
    },
    {
     "name": "stderr",
     "output_type": "stream",
     "text": [
      "192.168.21.245 - - [01/Sep/2022 16:11:13] \"POST /mappage HTTP/1.1\" 200 -\n"
     ]
    },
    {
     "name": "stdout",
     "output_type": "stream",
     "text": [
      "마커갱신\n",
      "[(1, 5, 'wef', 'swf', 'rtb', 'pky5335', None, 1, 35.1467299, 126.92201, datetime.datetime(2022, 9, 1, 11, 16, 26), 0), (4, 2, '여기', '없음', '구라임', 'ahy0914', None, 1, 35.1467488, 126.922456, datetime.datetime(2022, 9, 1, 11, 19, 25), 0)]\n",
      "갱신완료\n",
      "1,5,wef,swf,rtb,pky5335,None,1,35.1467299,126.92201,2022-09-01 11:16:26,0/4,2,여기,없음,구라임,ahy0914,None,1,35.1467488,126.922456,2022-09-01 11:19:25,0/\n"
     ]
    },
    {
     "name": "stderr",
     "output_type": "stream",
     "text": [
      "192.168.21.245 - - [01/Sep/2022 16:11:18] \"POST /mappage HTTP/1.1\" 200 -\n"
     ]
    },
    {
     "name": "stdout",
     "output_type": "stream",
     "text": [
      "마커갱신\n",
      "[(1, 5, 'wef', 'swf', 'rtb', 'pky5335', None, 1, 35.1467299, 126.92201, datetime.datetime(2022, 9, 1, 11, 16, 26), 0), (4, 2, '여기', '없음', '구라임', 'ahy0914', None, 1, 35.1467488, 126.922456, datetime.datetime(2022, 9, 1, 11, 19, 25), 0)]\n",
      "갱신완료\n",
      "1,5,wef,swf,rtb,pky5335,None,1,35.1467299,126.92201,2022-09-01 11:16:26,0/4,2,여기,없음,구라임,ahy0914,None,1,35.1467488,126.922456,2022-09-01 11:19:25,0/\n"
     ]
    },
    {
     "name": "stderr",
     "output_type": "stream",
     "text": [
      "192.168.21.245 - - [01/Sep/2022 16:11:23] \"POST /mappage HTTP/1.1\" 200 -\n"
     ]
    },
    {
     "name": "stdout",
     "output_type": "stream",
     "text": [
      "마커갱신\n",
      "[(1, 5, 'wef', 'swf', 'rtb', 'pky5335', None, 1, 35.1467299, 126.92201, datetime.datetime(2022, 9, 1, 11, 16, 26), 0), (4, 2, '여기', '없음', '구라임', 'ahy0914', None, 1, 35.1467488, 126.922456, datetime.datetime(2022, 9, 1, 11, 19, 25), 0)]\n",
      "갱신완료\n",
      "1,5,wef,swf,rtb,pky5335,None,1,35.1467299,126.92201,2022-09-01 11:16:26,0/4,2,여기,없음,구라임,ahy0914,None,1,35.1467488,126.922456,2022-09-01 11:19:25,0/\n"
     ]
    },
    {
     "name": "stderr",
     "output_type": "stream",
     "text": [
      "192.168.21.245 - - [01/Sep/2022 16:11:28] \"POST /mappage HTTP/1.1\" 200 -\n"
     ]
    },
    {
     "name": "stdout",
     "output_type": "stream",
     "text": [
      "마커갱신\n",
      "[(1, 5, 'wef', 'swf', 'rtb', 'pky5335', None, 1, 35.1467299, 126.92201, datetime.datetime(2022, 9, 1, 11, 16, 26), 0), (4, 2, '여기', '없음', '구라임', 'ahy0914', None, 1, 35.1467488, 126.922456, datetime.datetime(2022, 9, 1, 11, 19, 25), 0)]\n",
      "갱신완료\n",
      "1,5,wef,swf,rtb,pky5335,None,1,35.1467299,126.92201,2022-09-01 11:16:26,0/4,2,여기,없음,구라임,ahy0914,None,1,35.1467488,126.922456,2022-09-01 11:19:25,0/\n"
     ]
    },
    {
     "name": "stderr",
     "output_type": "stream",
     "text": [
      "192.168.21.245 - - [01/Sep/2022 16:11:33] \"POST /mappage HTTP/1.1\" 200 -\n"
     ]
    },
    {
     "name": "stdout",
     "output_type": "stream",
     "text": [
      "마커갱신\n",
      "[(1, 5, 'wef', 'swf', 'rtb', 'pky5335', None, 1, 35.1467299, 126.92201, datetime.datetime(2022, 9, 1, 11, 16, 26), 0), (4, 2, '여기', '없음', '구라임', 'ahy0914', None, 1, 35.1467488, 126.922456, datetime.datetime(2022, 9, 1, 11, 19, 25), 0)]\n",
      "갱신완료\n",
      "1,5,wef,swf,rtb,pky5335,None,1,35.1467299,126.92201,2022-09-01 11:16:26,0/4,2,여기,없음,구라임,ahy0914,None,1,35.1467488,126.922456,2022-09-01 11:19:25,0/\n"
     ]
    },
    {
     "name": "stderr",
     "output_type": "stream",
     "text": [
      "192.168.21.245 - - [01/Sep/2022 16:11:38] \"POST /mappage HTTP/1.1\" 200 -\n"
     ]
    },
    {
     "name": "stdout",
     "output_type": "stream",
     "text": [
      "마커갱신\n",
      "[(1, 5, 'wef', 'swf', 'rtb', 'pky5335', None, 1, 35.1467299, 126.92201, datetime.datetime(2022, 9, 1, 11, 16, 26), 0), (4, 2, '여기', '없음', '구라임', 'ahy0914', None, 1, 35.1467488, 126.922456, datetime.datetime(2022, 9, 1, 11, 19, 25), 0)]\n",
      "갱신완료\n",
      "1,5,wef,swf,rtb,pky5335,None,1,35.1467299,126.92201,2022-09-01 11:16:26,0/4,2,여기,없음,구라임,ahy0914,None,1,35.1467488,126.922456,2022-09-01 11:19:25,0/\n"
     ]
    },
    {
     "name": "stderr",
     "output_type": "stream",
     "text": [
      "192.168.21.245 - - [01/Sep/2022 16:11:43] \"POST /mappage HTTP/1.1\" 200 -\n"
     ]
    },
    {
     "name": "stdout",
     "output_type": "stream",
     "text": [
      "마커갱신\n",
      "[(1, 5, 'wef', 'swf', 'rtb', 'pky5335', None, 1, 35.1467299, 126.92201, datetime.datetime(2022, 9, 1, 11, 16, 26), 0), (4, 2, '여기', '없음', '구라임', 'ahy0914', None, 1, 35.1467488, 126.922456, datetime.datetime(2022, 9, 1, 11, 19, 25), 0)]\n",
      "갱신완료\n",
      "1,5,wef,swf,rtb,pky5335,None,1,35.1467299,126.92201,2022-09-01 11:16:26,0/4,2,여기,없음,구라임,ahy0914,None,1,35.1467488,126.922456,2022-09-01 11:19:25,0/\n"
     ]
    },
    {
     "name": "stderr",
     "output_type": "stream",
     "text": [
      "192.168.21.245 - - [01/Sep/2022 16:11:48] \"POST /mappage HTTP/1.1\" 200 -\n"
     ]
    },
    {
     "name": "stdout",
     "output_type": "stream",
     "text": [
      "마커갱신\n",
      "[(1, 5, 'wef', 'swf', 'rtb', 'pky5335', None, 1, 35.1467299, 126.92201, datetime.datetime(2022, 9, 1, 11, 16, 26), 0), (4, 2, '여기', '없음', '구라임', 'ahy0914', None, 1, 35.1467488, 126.922456, datetime.datetime(2022, 9, 1, 11, 19, 25), 0)]\n",
      "갱신완료\n",
      "1,5,wef,swf,rtb,pky5335,None,1,35.1467299,126.92201,2022-09-01 11:16:26,0/4,2,여기,없음,구라임,ahy0914,None,1,35.1467488,126.922456,2022-09-01 11:19:25,0/\n"
     ]
    },
    {
     "name": "stderr",
     "output_type": "stream",
     "text": [
      "192.168.21.245 - - [01/Sep/2022 16:11:53] \"POST /mappage HTTP/1.1\" 200 -\n"
     ]
    },
    {
     "name": "stdout",
     "output_type": "stream",
     "text": [
      "마커갱신\n",
      "[(1, 5, 'wef', 'swf', 'rtb', 'pky5335', None, 1, 35.1467299, 126.92201, datetime.datetime(2022, 9, 1, 11, 16, 26), 0), (4, 2, '여기', '없음', '구라임', 'ahy0914', None, 1, 35.1467488, 126.922456, datetime.datetime(2022, 9, 1, 11, 19, 25), 0)]\n",
      "갱신완료\n",
      "1,5,wef,swf,rtb,pky5335,None,1,35.1467299,126.92201,2022-09-01 11:16:26,0/4,2,여기,없음,구라임,ahy0914,None,1,35.1467488,126.922456,2022-09-01 11:19:25,0/\n"
     ]
    },
    {
     "name": "stderr",
     "output_type": "stream",
     "text": [
      "192.168.21.245 - - [01/Sep/2022 16:11:58] \"POST /mappage HTTP/1.1\" 200 -\n"
     ]
    },
    {
     "name": "stdout",
     "output_type": "stream",
     "text": [
      "마커갱신\n",
      "[(1, 5, 'wef', 'swf', 'rtb', 'pky5335', None, 1, 35.1467299, 126.92201, datetime.datetime(2022, 9, 1, 11, 16, 26), 0), (4, 2, '여기', '없음', '구라임', 'ahy0914', None, 1, 35.1467488, 126.922456, datetime.datetime(2022, 9, 1, 11, 19, 25), 0)]\n",
      "갱신완료\n",
      "1,5,wef,swf,rtb,pky5335,None,1,35.1467299,126.92201,2022-09-01 11:16:26,0/4,2,여기,없음,구라임,ahy0914,None,1,35.1467488,126.922456,2022-09-01 11:19:25,0/\n"
     ]
    },
    {
     "name": "stderr",
     "output_type": "stream",
     "text": [
      "192.168.21.245 - - [01/Sep/2022 16:12:03] \"POST /mappage HTTP/1.1\" 200 -\n"
     ]
    },
    {
     "name": "stdout",
     "output_type": "stream",
     "text": [
      "마커갱신\n",
      "[(1, 5, 'wef', 'swf', 'rtb', 'pky5335', None, 1, 35.1467299, 126.92201, datetime.datetime(2022, 9, 1, 11, 16, 26), 0), (4, 2, '여기', '없음', '구라임', 'ahy0914', None, 1, 35.1467488, 126.922456, datetime.datetime(2022, 9, 1, 11, 19, 25), 0)]\n",
      "갱신완료\n",
      "1,5,wef,swf,rtb,pky5335,None,1,35.1467299,126.92201,2022-09-01 11:16:26,0/4,2,여기,없음,구라임,ahy0914,None,1,35.1467488,126.922456,2022-09-01 11:19:25,0/\n"
     ]
    },
    {
     "name": "stderr",
     "output_type": "stream",
     "text": [
      "192.168.21.245 - - [01/Sep/2022 16:12:08] \"POST /mappage HTTP/1.1\" 200 -\n"
     ]
    },
    {
     "name": "stdout",
     "output_type": "stream",
     "text": [
      "마커갱신\n",
      "[(1, 5, 'wef', 'swf', 'rtb', 'pky5335', None, 1, 35.1467299, 126.92201, datetime.datetime(2022, 9, 1, 11, 16, 26), 0), (4, 2, '여기', '없음', '구라임', 'ahy0914', None, 1, 35.1467488, 126.922456, datetime.datetime(2022, 9, 1, 11, 19, 25), 0)]\n",
      "갱신완료\n",
      "1,5,wef,swf,rtb,pky5335,None,1,35.1467299,126.92201,2022-09-01 11:16:26,0/4,2,여기,없음,구라임,ahy0914,None,1,35.1467488,126.922456,2022-09-01 11:19:25,0/\n"
     ]
    },
    {
     "name": "stderr",
     "output_type": "stream",
     "text": [
      "192.168.21.245 - - [01/Sep/2022 16:12:13] \"POST /mappage HTTP/1.1\" 200 -\n"
     ]
    },
    {
     "name": "stdout",
     "output_type": "stream",
     "text": [
      "마커갱신\n",
      "[(1, 5, 'wef', 'swf', 'rtb', 'pky5335', None, 1, 35.1467299, 126.92201, datetime.datetime(2022, 9, 1, 11, 16, 26), 0), (4, 2, '여기', '없음', '구라임', 'ahy0914', None, 1, 35.1467488, 126.922456, datetime.datetime(2022, 9, 1, 11, 19, 25), 0)]\n",
      "갱신완료\n",
      "1,5,wef,swf,rtb,pky5335,None,1,35.1467299,126.92201,2022-09-01 11:16:26,0/4,2,여기,없음,구라임,ahy0914,None,1,35.1467488,126.922456,2022-09-01 11:19:25,0/\n"
     ]
    },
    {
     "name": "stderr",
     "output_type": "stream",
     "text": [
      "192.168.21.245 - - [01/Sep/2022 16:12:18] \"POST /mappage HTTP/1.1\" 200 -\n"
     ]
    },
    {
     "name": "stdout",
     "output_type": "stream",
     "text": [
      "마커갱신\n",
      "[(1, 5, 'wef', 'swf', 'rtb', 'pky5335', None, 1, 35.1467299, 126.92201, datetime.datetime(2022, 9, 1, 11, 16, 26), 0), (4, 2, '여기', '없음', '구라임', 'ahy0914', None, 1, 35.1467488, 126.922456, datetime.datetime(2022, 9, 1, 11, 19, 25), 0)]\n",
      "갱신완료\n",
      "1,5,wef,swf,rtb,pky5335,None,1,35.1467299,126.92201,2022-09-01 11:16:26,0/4,2,여기,없음,구라임,ahy0914,None,1,35.1467488,126.922456,2022-09-01 11:19:25,0/\n"
     ]
    },
    {
     "name": "stderr",
     "output_type": "stream",
     "text": [
      "192.168.21.245 - - [01/Sep/2022 16:12:23] \"POST /mappage HTTP/1.1\" 200 -\n"
     ]
    },
    {
     "name": "stdout",
     "output_type": "stream",
     "text": [
      "마커갱신\n",
      "[(1, 5, 'wef', 'swf', 'rtb', 'pky5335', None, 1, 35.1467299, 126.92201, datetime.datetime(2022, 9, 1, 11, 16, 26), 0), (4, 2, '여기', '없음', '구라임', 'ahy0914', None, 1, 35.1467488, 126.922456, datetime.datetime(2022, 9, 1, 11, 19, 25), 0)]\n",
      "갱신완료\n",
      "1,5,wef,swf,rtb,pky5335,None,1,35.1467299,126.92201,2022-09-01 11:16:26,0/4,2,여기,없음,구라임,ahy0914,None,1,35.1467488,126.922456,2022-09-01 11:19:25,0/\n"
     ]
    },
    {
     "name": "stderr",
     "output_type": "stream",
     "text": [
      "192.168.21.245 - - [01/Sep/2022 16:12:28] \"POST /mappage HTTP/1.1\" 200 -\n"
     ]
    },
    {
     "name": "stdout",
     "output_type": "stream",
     "text": [
      "마커갱신\n",
      "[(1, 5, 'wef', 'swf', 'rtb', 'pky5335', None, 1, 35.1467299, 126.92201, datetime.datetime(2022, 9, 1, 11, 16, 26), 0), (4, 2, '여기', '없음', '구라임', 'ahy0914', None, 1, 35.1467488, 126.922456, datetime.datetime(2022, 9, 1, 11, 19, 25), 0)]\n",
      "갱신완료\n",
      "1,5,wef,swf,rtb,pky5335,None,1,35.1467299,126.92201,2022-09-01 11:16:26,0/4,2,여기,없음,구라임,ahy0914,None,1,35.1467488,126.922456,2022-09-01 11:19:25,0/\n"
     ]
    },
    {
     "name": "stderr",
     "output_type": "stream",
     "text": [
      "192.168.21.245 - - [01/Sep/2022 16:12:33] \"POST /mappage HTTP/1.1\" 200 -\n"
     ]
    },
    {
     "name": "stdout",
     "output_type": "stream",
     "text": [
      "마커갱신\n",
      "[(1, 5, 'wef', 'swf', 'rtb', 'pky5335', None, 1, 35.1467299, 126.92201, datetime.datetime(2022, 9, 1, 11, 16, 26), 0), (4, 2, '여기', '없음', '구라임', 'ahy0914', None, 1, 35.1467488, 126.922456, datetime.datetime(2022, 9, 1, 11, 19, 25), 0)]\n",
      "갱신완료\n",
      "1,5,wef,swf,rtb,pky5335,None,1,35.1467299,126.92201,2022-09-01 11:16:26,0/4,2,여기,없음,구라임,ahy0914,None,1,35.1467488,126.922456,2022-09-01 11:19:25,0/\n"
     ]
    },
    {
     "name": "stderr",
     "output_type": "stream",
     "text": [
      "192.168.21.245 - - [01/Sep/2022 16:12:50] \"POST /login HTTP/1.1\" 200 -\n"
     ]
    },
    {
     "name": "stdout",
     "output_type": "stream",
     "text": [
      "로그인 시도\n",
      "[('pky5335', 'qwer1234!', 'qwerq', datetime.datetime(1991, 4, 13, 0, 0), '124235141243', 'pky5335@nate.com', '남', 1, datetime.datetime(2022, 8, 25, 15, 13, 53), None, None, 0, 0, 'wer')]\n",
      "pky5335 로그인\n",
      "마커갱신"
     ]
    },
    {
     "name": "stderr",
     "output_type": "stream",
     "text": [
      "192.168.21.245 - - [01/Sep/2022 16:12:51] \"POST /mappage HTTP/1.1\" 200 -\n"
     ]
    },
    {
     "name": "stdout",
     "output_type": "stream",
     "text": [
      "\n",
      "[(1, 5, 'wef', 'swf', 'rtb', 'pky5335', None, 1, 35.1467299, 126.92201, datetime.datetime(2022, 9, 1, 11, 16, 26), 0), (4, 2, '여기', '없음', '구라임', 'ahy0914', None, 1, 35.1467488, 126.922456, datetime.datetime(2022, 9, 1, 11, 19, 25), 0)]\n",
      "갱신완료\n",
      "1,5,wef,swf,rtb,pky5335,None,1,35.1467299,126.92201,2022-09-01 11:16:26,0/4,2,여기,없음,구라임,ahy0914,None,1,35.1467488,126.922456,2022-09-01 11:19:25,0/\n"
     ]
    },
    {
     "name": "stderr",
     "output_type": "stream",
     "text": [
      "192.168.21.245 - - [01/Sep/2022 16:12:52] \"POST /mappage HTTP/1.1\" 200 -\n"
     ]
    },
    {
     "name": "stdout",
     "output_type": "stream",
     "text": [
      "마커갱신\n",
      "[(1, 5, 'wef', 'swf', 'rtb', 'pky5335', None, 1, 35.1467299, 126.92201, datetime.datetime(2022, 9, 1, 11, 16, 26), 0), (4, 2, '여기', '없음', '구라임', 'ahy0914', None, 1, 35.1467488, 126.922456, datetime.datetime(2022, 9, 1, 11, 19, 25), 0)]\n",
      "갱신완료\n",
      "1,5,wef,swf,rtb,pky5335,None,1,35.1467299,126.92201,2022-09-01 11:16:26,0/4,2,여기,없음,구라임,ahy0914,None,1,35.1467488,126.922456,2022-09-01 11:19:25,0/\n"
     ]
    },
    {
     "name": "stderr",
     "output_type": "stream",
     "text": [
      "192.168.21.245 - - [01/Sep/2022 16:12:54] \"POST /clicktrs HTTP/1.1\" 200 -\n"
     ]
    },
    {
     "name": "stdout",
     "output_type": "stream",
     "text": [
      "보물클릭\n",
      "[(5, 'wef', 'swf', 'rtb', 'pky5335', None, 35.1467299, 126.92201, datetime.datetime(2022, 9, 1, 11, 16, 26), 0)]\n"
     ]
    },
    {
     "name": "stderr",
     "output_type": "stream",
     "text": [
      "192.168.21.245 - - [01/Sep/2022 16:12:57] \"POST /mappage HTTP/1.1\" 200 -\n"
     ]
    },
    {
     "name": "stdout",
     "output_type": "stream",
     "text": [
      "마커갱신\n",
      "[(1, 5, 'wef', 'swf', 'rtb', 'pky5335', None, 1, 35.1467299, 126.92201, datetime.datetime(2022, 9, 1, 11, 16, 26), 0), (4, 2, '여기', '없음', '구라임', 'ahy0914', None, 1, 35.1467488, 126.922456, datetime.datetime(2022, 9, 1, 11, 19, 25), 0)]\n",
      "갱신완료\n",
      "1,5,wef,swf,rtb,pky5335,None,1,35.1467299,126.92201,2022-09-01 11:16:26,0/4,2,여기,없음,구라임,ahy0914,None,1,35.1467488,126.922456,2022-09-01 11:19:25,0/\n"
     ]
    },
    {
     "name": "stderr",
     "output_type": "stream",
     "text": [
      "192.168.21.245 - - [01/Sep/2022 16:13:02] \"POST /mappage HTTP/1.1\" 200 -\n"
     ]
    },
    {
     "name": "stdout",
     "output_type": "stream",
     "text": [
      "마커갱신\n",
      "[(1, 5, 'wef', 'swf', 'rtb', 'pky5335', None, 1, 35.1467299, 126.92201, datetime.datetime(2022, 9, 1, 11, 16, 26), 0), (4, 2, '여기', '없음', '구라임', 'ahy0914', None, 1, 35.1467488, 126.922456, datetime.datetime(2022, 9, 1, 11, 19, 25), 0)]\n",
      "갱신완료\n",
      "1,5,wef,swf,rtb,pky5335,None,1,35.1467299,126.92201,2022-09-01 11:16:26,0/4,2,여기,없음,구라임,ahy0914,None,1,35.1467488,126.922456,2022-09-01 11:19:25,0/\n"
     ]
    },
    {
     "name": "stderr",
     "output_type": "stream",
     "text": [
      "192.168.21.245 - - [01/Sep/2022 16:13:07] \"POST /mappage HTTP/1.1\" 200 -\n"
     ]
    },
    {
     "name": "stdout",
     "output_type": "stream",
     "text": [
      "마커갱신\n",
      "[(1, 5, 'wef', 'swf', 'rtb', 'pky5335', None, 1, 35.1467299, 126.92201, datetime.datetime(2022, 9, 1, 11, 16, 26), 0), (4, 2, '여기', '없음', '구라임', 'ahy0914', None, 1, 35.1467488, 126.922456, datetime.datetime(2022, 9, 1, 11, 19, 25), 0)]\n",
      "갱신완료\n",
      "1,5,wef,swf,rtb,pky5335,None,1,35.1467299,126.92201,2022-09-01 11:16:26,0/4,2,여기,없음,구라임,ahy0914,None,1,35.1467488,126.922456,2022-09-01 11:19:25,0/\n"
     ]
    },
    {
     "name": "stderr",
     "output_type": "stream",
     "text": [
      "192.168.21.245 - - [01/Sep/2022 16:13:12] \"POST /mappage HTTP/1.1\" 200 -\n"
     ]
    },
    {
     "name": "stdout",
     "output_type": "stream",
     "text": [
      "마커갱신\n",
      "[(1, 5, 'wef', 'swf', 'rtb', 'pky5335', None, 1, 35.1467299, 126.92201, datetime.datetime(2022, 9, 1, 11, 16, 26), 0), (4, 2, '여기', '없음', '구라임', 'ahy0914', None, 1, 35.1467488, 126.922456, datetime.datetime(2022, 9, 1, 11, 19, 25), 0)]\n",
      "갱신완료\n",
      "1,5,wef,swf,rtb,pky5335,None,1,35.1467299,126.92201,2022-09-01 11:16:26,0/4,2,여기,없음,구라임,ahy0914,None,1,35.1467488,126.922456,2022-09-01 11:19:25,0/\n"
     ]
    },
    {
     "name": "stderr",
     "output_type": "stream",
     "text": [
      "192.168.21.245 - - [01/Sep/2022 16:13:26] \"POST /login HTTP/1.1\" 200 -\n"
     ]
    },
    {
     "name": "stdout",
     "output_type": "stream",
     "text": [
      "로그인 시도\n",
      "[('pky5335', 'qwer1234!', 'qwerq', datetime.datetime(1991, 4, 13, 0, 0), '124235141243', 'pky5335@nate.com', '남', 1, datetime.datetime(2022, 8, 25, 15, 13, 53), None, None, 0, 0, 'wer')]\n",
      "pky5335 로그인\n"
     ]
    },
    {
     "name": "stderr",
     "output_type": "stream",
     "text": [
      "192.168.21.245 - - [01/Sep/2022 16:13:27] \"POST /mappage HTTP/1.1\" 200 -\n"
     ]
    },
    {
     "name": "stdout",
     "output_type": "stream",
     "text": [
      "마커갱신\n",
      "[(1, 5, 'wef', 'swf', 'rtb', 'pky5335', None, 1, 35.1467299, 126.92201, datetime.datetime(2022, 9, 1, 11, 16, 26), 0), (4, 2, '여기', '없음', '구라임', 'ahy0914', None, 1, 35.1467488, 126.922456, datetime.datetime(2022, 9, 1, 11, 19, 25), 0)]\n",
      "갱신완료\n",
      "1,5,wef,swf,rtb,pky5335,None,1,35.1467299,126.92201,2022-09-01 11:16:26,0/4,2,여기,없음,구라임,ahy0914,None,1,35.1467488,126.922456,2022-09-01 11:19:25,0/\n"
     ]
    },
    {
     "name": "stderr",
     "output_type": "stream",
     "text": [
      "192.168.21.245 - - [01/Sep/2022 16:13:28] \"POST /mappage HTTP/1.1\" 200 -\n"
     ]
    },
    {
     "name": "stdout",
     "output_type": "stream",
     "text": [
      "마커갱신\n",
      "[(1, 5, 'wef', 'swf', 'rtb', 'pky5335', None, 1, 35.1467299, 126.92201, datetime.datetime(2022, 9, 1, 11, 16, 26), 0), (4, 2, '여기', '없음', '구라임', 'ahy0914', None, 1, 35.1467488, 126.922456, datetime.datetime(2022, 9, 1, 11, 19, 25), 0)]\n",
      "갱신완료\n",
      "1,5,wef,swf,rtb,pky5335,None,1,35.1467299,126.92201,2022-09-01 11:16:26,0/4,2,여기,없음,구라임,ahy0914,None,1,35.1467488,126.922456,2022-09-01 11:19:25,0/\n"
     ]
    },
    {
     "name": "stderr",
     "output_type": "stream",
     "text": [
      "192.168.21.245 - - [01/Sep/2022 16:13:30] \"POST /clicktrs HTTP/1.1\" 200 -\n"
     ]
    },
    {
     "name": "stdout",
     "output_type": "stream",
     "text": [
      "보물클릭\n",
      "[(5, 'wef', 'swf', 'rtb', 'pky5335', None, 35.1467299, 126.92201, datetime.datetime(2022, 9, 1, 11, 16, 26), 0)]\n"
     ]
    },
    {
     "name": "stderr",
     "output_type": "stream",
     "text": [
      "192.168.21.245 - - [01/Sep/2022 16:13:32] \"POST /mappage HTTP/1.1\" 200 -\n"
     ]
    },
    {
     "name": "stdout",
     "output_type": "stream",
     "text": [
      "마커갱신\n",
      "[(1, 5, 'wef', 'swf', 'rtb', 'pky5335', None, 1, 35.1467299, 126.92201, datetime.datetime(2022, 9, 1, 11, 16, 26), 0), (4, 2, '여기', '없음', '구라임', 'ahy0914', None, 1, 35.1467488, 126.922456, datetime.datetime(2022, 9, 1, 11, 19, 25), 0)]\n",
      "갱신완료\n",
      "1,5,wef,swf,rtb,pky5335,None,1,35.1467299,126.92201,2022-09-01 11:16:26,0/4,2,여기,없음,구라임,ahy0914,None,1,35.1467488,126.922456,2022-09-01 11:19:25,0/\n"
     ]
    },
    {
     "name": "stderr",
     "output_type": "stream",
     "text": [
      "192.168.21.245 - - [01/Sep/2022 16:13:37] \"POST /mappage HTTP/1.1\" 200 -\n"
     ]
    },
    {
     "name": "stdout",
     "output_type": "stream",
     "text": [
      "마커갱신\n",
      "[(1, 5, 'wef', 'swf', 'rtb', 'pky5335', None, 1, 35.1467299, 126.92201, datetime.datetime(2022, 9, 1, 11, 16, 26), 0), (4, 2, '여기', '없음', '구라임', 'ahy0914', None, 1, 35.1467488, 126.922456, datetime.datetime(2022, 9, 1, 11, 19, 25), 0)]\n",
      "갱신완료\n",
      "1,5,wef,swf,rtb,pky5335,None,1,35.1467299,126.92201,2022-09-01 11:16:26,0/4,2,여기,없음,구라임,ahy0914,None,1,35.1467488,126.922456,2022-09-01 11:19:25,0/\n"
     ]
    },
    {
     "name": "stderr",
     "output_type": "stream",
     "text": [
      "192.168.21.245 - - [01/Sep/2022 16:13:42] \"POST /mappage HTTP/1.1\" 200 -\n"
     ]
    },
    {
     "name": "stdout",
     "output_type": "stream",
     "text": [
      "마커갱신\n",
      "[(1, 5, 'wef', 'swf', 'rtb', 'pky5335', None, 1, 35.1467299, 126.92201, datetime.datetime(2022, 9, 1, 11, 16, 26), 0), (4, 2, '여기', '없음', '구라임', 'ahy0914', None, 1, 35.1467488, 126.922456, datetime.datetime(2022, 9, 1, 11, 19, 25), 0)]\n",
      "갱신완료\n",
      "1,5,wef,swf,rtb,pky5335,None,1,35.1467299,126.92201,2022-09-01 11:16:26,0/4,2,여기,없음,구라임,ahy0914,None,1,35.1467488,126.922456,2022-09-01 11:19:25,0/\n"
     ]
    },
    {
     "name": "stderr",
     "output_type": "stream",
     "text": [
      "192.168.21.245 - - [01/Sep/2022 16:13:47] \"POST /mappage HTTP/1.1\" 200 -\n"
     ]
    },
    {
     "name": "stdout",
     "output_type": "stream",
     "text": [
      "마커갱신\n",
      "[(1, 5, 'wef', 'swf', 'rtb', 'pky5335', None, 1, 35.1467299, 126.92201, datetime.datetime(2022, 9, 1, 11, 16, 26), 0), (4, 2, '여기', '없음', '구라임', 'ahy0914', None, 1, 35.1467488, 126.922456, datetime.datetime(2022, 9, 1, 11, 19, 25), 0)]\n",
      "갱신완료\n",
      "1,5,wef,swf,rtb,pky5335,None,1,35.1467299,126.92201,2022-09-01 11:16:26,0/4,2,여기,없음,구라임,ahy0914,None,1,35.1467488,126.922456,2022-09-01 11:19:25,0/\n"
     ]
    },
    {
     "name": "stderr",
     "output_type": "stream",
     "text": [
      "192.168.21.245 - - [01/Sep/2022 16:13:52] \"POST /mappage HTTP/1.1\" 200 -\n"
     ]
    },
    {
     "name": "stdout",
     "output_type": "stream",
     "text": [
      "마커갱신\n",
      "[(1, 5, 'wef', 'swf', 'rtb', 'pky5335', None, 1, 35.1467299, 126.92201, datetime.datetime(2022, 9, 1, 11, 16, 26), 0), (4, 2, '여기', '없음', '구라임', 'ahy0914', None, 1, 35.1467488, 126.922456, datetime.datetime(2022, 9, 1, 11, 19, 25), 0)]\n",
      "갱신완료\n",
      "1,5,wef,swf,rtb,pky5335,None,1,35.1467299,126.92201,2022-09-01 11:16:26,0/4,2,여기,없음,구라임,ahy0914,None,1,35.1467488,126.922456,2022-09-01 11:19:25,0/\n"
     ]
    },
    {
     "name": "stderr",
     "output_type": "stream",
     "text": [
      "192.168.21.245 - - [01/Sep/2022 16:13:57] \"POST /mappage HTTP/1.1\" 200 -\n"
     ]
    },
    {
     "name": "stdout",
     "output_type": "stream",
     "text": [
      "마커갱신\n",
      "[(1, 5, 'wef', 'swf', 'rtb', 'pky5335', None, 1, 35.1467299, 126.92201, datetime.datetime(2022, 9, 1, 11, 16, 26), 0), (4, 2, '여기', '없음', '구라임', 'ahy0914', None, 1, 35.1467488, 126.922456, datetime.datetime(2022, 9, 1, 11, 19, 25), 0)]\n",
      "갱신완료\n",
      "1,5,wef,swf,rtb,pky5335,None,1,35.1467299,126.92201,2022-09-01 11:16:26,0/4,2,여기,없음,구라임,ahy0914,None,1,35.1467488,126.922456,2022-09-01 11:19:25,0/\n"
     ]
    },
    {
     "name": "stderr",
     "output_type": "stream",
     "text": [
      "192.168.21.245 - - [01/Sep/2022 16:14:02] \"POST /mappage HTTP/1.1\" 200 -\n"
     ]
    },
    {
     "name": "stdout",
     "output_type": "stream",
     "text": [
      "마커갱신\n",
      "[(1, 5, 'wef', 'swf', 'rtb', 'pky5335', None, 1, 35.1467299, 126.92201, datetime.datetime(2022, 9, 1, 11, 16, 26), 0), (4, 2, '여기', '없음', '구라임', 'ahy0914', None, 1, 35.1467488, 126.922456, datetime.datetime(2022, 9, 1, 11, 19, 25), 0)]\n",
      "갱신완료\n",
      "1,5,wef,swf,rtb,pky5335,None,1,35.1467299,126.92201,2022-09-01 11:16:26,0/4,2,여기,없음,구라임,ahy0914,None,1,35.1467488,126.922456,2022-09-01 11:19:25,0/\n"
     ]
    },
    {
     "name": "stderr",
     "output_type": "stream",
     "text": [
      "192.168.21.245 - - [01/Sep/2022 16:14:07] \"POST /mappage HTTP/1.1\" 200 -\n"
     ]
    },
    {
     "name": "stdout",
     "output_type": "stream",
     "text": [
      "마커갱신\n",
      "[(1, 5, 'wef', 'swf', 'rtb', 'pky5335', None, 1, 35.1467299, 126.92201, datetime.datetime(2022, 9, 1, 11, 16, 26), 0), (4, 2, '여기', '없음', '구라임', 'ahy0914', None, 1, 35.1467488, 126.922456, datetime.datetime(2022, 9, 1, 11, 19, 25), 0)]\n",
      "갱신완료\n",
      "1,5,wef,swf,rtb,pky5335,None,1,35.1467299,126.92201,2022-09-01 11:16:26,0/4,2,여기,없음,구라임,ahy0914,None,1,35.1467488,126.922456,2022-09-01 11:19:25,0/\n"
     ]
    },
    {
     "name": "stderr",
     "output_type": "stream",
     "text": [
      "192.168.21.245 - - [01/Sep/2022 16:14:12] \"POST /mappage HTTP/1.1\" 200 -\n"
     ]
    },
    {
     "name": "stdout",
     "output_type": "stream",
     "text": [
      "마커갱신\n",
      "[(1, 5, 'wef', 'swf', 'rtb', 'pky5335', None, 1, 35.1467299, 126.92201, datetime.datetime(2022, 9, 1, 11, 16, 26), 0), (4, 2, '여기', '없음', '구라임', 'ahy0914', None, 1, 35.1467488, 126.922456, datetime.datetime(2022, 9, 1, 11, 19, 25), 0)]\n",
      "갱신완료\n",
      "1,5,wef,swf,rtb,pky5335,None,1,35.1467299,126.92201,2022-09-01 11:16:26,0/4,2,여기,없음,구라임,ahy0914,None,1,35.1467488,126.922456,2022-09-01 11:19:25,0/\n"
     ]
    },
    {
     "name": "stderr",
     "output_type": "stream",
     "text": [
      "192.168.21.245 - - [01/Sep/2022 16:14:17] \"POST /mappage HTTP/1.1\" 200 -\n"
     ]
    },
    {
     "name": "stdout",
     "output_type": "stream",
     "text": [
      "마커갱신\n",
      "[(1, 5, 'wef', 'swf', 'rtb', 'pky5335', None, 1, 35.1467299, 126.92201, datetime.datetime(2022, 9, 1, 11, 16, 26), 0), (4, 2, '여기', '없음', '구라임', 'ahy0914', None, 1, 35.1467488, 126.922456, datetime.datetime(2022, 9, 1, 11, 19, 25), 0)]\n",
      "갱신완료\n",
      "1,5,wef,swf,rtb,pky5335,None,1,35.1467299,126.92201,2022-09-01 11:16:26,0/4,2,여기,없음,구라임,ahy0914,None,1,35.1467488,126.922456,2022-09-01 11:19:25,0/\n"
     ]
    },
    {
     "name": "stderr",
     "output_type": "stream",
     "text": [
      "192.168.21.245 - - [01/Sep/2022 16:14:30] \"POST /login HTTP/1.1\" 200 -\n"
     ]
    },
    {
     "name": "stdout",
     "output_type": "stream",
     "text": [
      "로그인 시도\n",
      "[('pky5335', 'qwer1234!', 'qwerq', datetime.datetime(1991, 4, 13, 0, 0), '124235141243', 'pky5335@nate.com', '남', 1, datetime.datetime(2022, 8, 25, 15, 13, 53), None, None, 0, 0, 'wer')]\n",
      "pky5335 로그인\n"
     ]
    },
    {
     "name": "stderr",
     "output_type": "stream",
     "text": [
      "192.168.21.245 - - [01/Sep/2022 16:14:31] \"POST /mappage HTTP/1.1\" 200 -\n"
     ]
    },
    {
     "name": "stdout",
     "output_type": "stream",
     "text": [
      "마커갱신\n",
      "[(1, 5, 'wef', 'swf', 'rtb', 'pky5335', None, 1, 35.1467299, 126.92201, datetime.datetime(2022, 9, 1, 11, 16, 26), 0), (4, 2, '여기', '없음', '구라임', 'ahy0914', None, 1, 35.1467488, 126.922456, datetime.datetime(2022, 9, 1, 11, 19, 25), 0)]\n",
      "갱신완료\n",
      "1,5,wef,swf,rtb,pky5335,None,1,35.1467299,126.92201,2022-09-01 11:16:26,0/4,2,여기,없음,구라임,ahy0914,None,1,35.1467488,126.922456,2022-09-01 11:19:25,0/\n"
     ]
    },
    {
     "name": "stderr",
     "output_type": "stream",
     "text": [
      "192.168.21.245 - - [01/Sep/2022 16:14:32] \"POST /mappage HTTP/1.1\" 200 -\n"
     ]
    },
    {
     "name": "stdout",
     "output_type": "stream",
     "text": [
      "마커갱신\n",
      "[(1, 5, 'wef', 'swf', 'rtb', 'pky5335', None, 1, 35.1467299, 126.92201, datetime.datetime(2022, 9, 1, 11, 16, 26), 0), (4, 2, '여기', '없음', '구라임', 'ahy0914', None, 1, 35.1467488, 126.922456, datetime.datetime(2022, 9, 1, 11, 19, 25), 0)]\n",
      "갱신완료\n",
      "1,5,wef,swf,rtb,pky5335,None,1,35.1467299,126.92201,2022-09-01 11:16:26,0/4,2,여기,없음,구라임,ahy0914,None,1,35.1467488,126.922456,2022-09-01 11:19:25,0/\n"
     ]
    },
    {
     "name": "stderr",
     "output_type": "stream",
     "text": [
      "192.168.21.245 - - [01/Sep/2022 16:14:33] \"POST /clicktrs HTTP/1.1\" 200 -\n"
     ]
    },
    {
     "name": "stdout",
     "output_type": "stream",
     "text": [
      "보물클릭\n",
      "[(5, 'wef', 'swf', 'rtb', 'pky5335', None, 35.1467299, 126.92201, datetime.datetime(2022, 9, 1, 11, 16, 26), 0)]\n"
     ]
    },
    {
     "name": "stderr",
     "output_type": "stream",
     "text": [
      "192.168.21.245 - - [01/Sep/2022 16:14:37] \"POST /mappage HTTP/1.1\" 200 -\n"
     ]
    },
    {
     "name": "stdout",
     "output_type": "stream",
     "text": [
      "마커갱신\n",
      "[(1, 5, 'wef', 'swf', 'rtb', 'pky5335', None, 1, 35.1467299, 126.92201, datetime.datetime(2022, 9, 1, 11, 16, 26), 0), (4, 2, '여기', '없음', '구라임', 'ahy0914', None, 1, 35.1467488, 126.922456, datetime.datetime(2022, 9, 1, 11, 19, 25), 0)]\n",
      "갱신완료\n",
      "1,5,wef,swf,rtb,pky5335,None,1,35.1467299,126.92201,2022-09-01 11:16:26,0/4,2,여기,없음,구라임,ahy0914,None,1,35.1467488,126.922456,2022-09-01 11:19:25,0/\n"
     ]
    },
    {
     "name": "stderr",
     "output_type": "stream",
     "text": [
      "192.168.21.245 - - [01/Sep/2022 16:14:42] \"POST /mappage HTTP/1.1\" 200 -\n"
     ]
    },
    {
     "name": "stdout",
     "output_type": "stream",
     "text": [
      "마커갱신\n",
      "[(1, 5, 'wef', 'swf', 'rtb', 'pky5335', None, 1, 35.1467299, 126.92201, datetime.datetime(2022, 9, 1, 11, 16, 26), 0), (4, 2, '여기', '없음', '구라임', 'ahy0914', None, 1, 35.1467488, 126.922456, datetime.datetime(2022, 9, 1, 11, 19, 25), 0)]\n",
      "갱신완료\n",
      "1,5,wef,swf,rtb,pky5335,None,1,35.1467299,126.92201,2022-09-01 11:16:26,0/4,2,여기,없음,구라임,ahy0914,None,1,35.1467488,126.922456,2022-09-01 11:19:25,0/\n"
     ]
    },
    {
     "name": "stderr",
     "output_type": "stream",
     "text": [
      "192.168.21.245 - - [01/Sep/2022 16:14:47] \"POST /mappage HTTP/1.1\" 200 -\n"
     ]
    },
    {
     "name": "stdout",
     "output_type": "stream",
     "text": [
      "마커갱신\n",
      "[(1, 5, 'wef', 'swf', 'rtb', 'pky5335', None, 1, 35.1467299, 126.92201, datetime.datetime(2022, 9, 1, 11, 16, 26), 0), (4, 2, '여기', '없음', '구라임', 'ahy0914', None, 1, 35.1467488, 126.922456, datetime.datetime(2022, 9, 1, 11, 19, 25), 0)]\n",
      "갱신완료\n",
      "1,5,wef,swf,rtb,pky5335,None,1,35.1467299,126.92201,2022-09-01 11:16:26,0/4,2,여기,없음,구라임,ahy0914,None,1,35.1467488,126.922456,2022-09-01 11:19:25,0/\n"
     ]
    },
    {
     "name": "stderr",
     "output_type": "stream",
     "text": [
      "192.168.21.245 - - [01/Sep/2022 16:15:03] \"POST /login HTTP/1.1\" 200 -\n"
     ]
    },
    {
     "name": "stdout",
     "output_type": "stream",
     "text": [
      "로그인 시도\n",
      "[('pky5335', 'qwer1234!', 'qwerq', datetime.datetime(1991, 4, 13, 0, 0), '124235141243', 'pky5335@nate.com', '남', 1, datetime.datetime(2022, 8, 25, 15, 13, 53), None, None, 0, 0, 'wer')]\n",
      "pky5335 로그인\n"
     ]
    },
    {
     "name": "stderr",
     "output_type": "stream",
     "text": [
      "192.168.21.245 - - [01/Sep/2022 16:15:03] \"POST /mappage HTTP/1.1\" 200 -\n"
     ]
    },
    {
     "name": "stdout",
     "output_type": "stream",
     "text": [
      "마커갱신\n",
      "[(1, 5, 'wef', 'swf', 'rtb', 'pky5335', None, 1, 35.1467299, 126.92201, datetime.datetime(2022, 9, 1, 11, 16, 26), 0), (4, 2, '여기', '없음', '구라임', 'ahy0914', None, 1, 35.1467488, 126.922456, datetime.datetime(2022, 9, 1, 11, 19, 25), 0)]\n",
      "갱신완료\n",
      "1,5,wef,swf,rtb,pky5335,None,1,35.1467299,126.92201,2022-09-01 11:16:26,0/4,2,여기,없음,구라임,ahy0914,None,1,35.1467488,126.922456,2022-09-01 11:19:25,0/\n"
     ]
    },
    {
     "name": "stderr",
     "output_type": "stream",
     "text": [
      "192.168.21.245 - - [01/Sep/2022 16:15:04] \"POST /mappage HTTP/1.1\" 200 -\n"
     ]
    },
    {
     "name": "stdout",
     "output_type": "stream",
     "text": [
      "마커갱신\n",
      "[(1, 5, 'wef', 'swf', 'rtb', 'pky5335', None, 1, 35.1467299, 126.92201, datetime.datetime(2022, 9, 1, 11, 16, 26), 0), (4, 2, '여기', '없음', '구라임', 'ahy0914', None, 1, 35.1467488, 126.922456, datetime.datetime(2022, 9, 1, 11, 19, 25), 0)]\n",
      "갱신완료\n",
      "1,5,wef,swf,rtb,pky5335,None,1,35.1467299,126.92201,2022-09-01 11:16:26,0/4,2,여기,없음,구라임,ahy0914,None,1,35.1467488,126.922456,2022-09-01 11:19:25,0/\n"
     ]
    },
    {
     "name": "stderr",
     "output_type": "stream",
     "text": [
      "192.168.21.245 - - [01/Sep/2022 16:15:07] \"POST /clicktrs HTTP/1.1\" 200 -\n"
     ]
    },
    {
     "name": "stdout",
     "output_type": "stream",
     "text": [
      "보물클릭\n",
      "[(5, 'wef', 'swf', 'rtb', 'pky5335', None, 35.1467299, 126.92201, datetime.datetime(2022, 9, 1, 11, 16, 26), 0)]\n"
     ]
    },
    {
     "name": "stderr",
     "output_type": "stream",
     "text": [
      "192.168.21.245 - - [01/Sep/2022 16:15:09] \"POST /mappage HTTP/1.1\" 200 -\n"
     ]
    },
    {
     "name": "stdout",
     "output_type": "stream",
     "text": [
      "마커갱신\n",
      "[(1, 5, 'wef', 'swf', 'rtb', 'pky5335', None, 1, 35.1467299, 126.92201, datetime.datetime(2022, 9, 1, 11, 16, 26), 0), (4, 2, '여기', '없음', '구라임', 'ahy0914', None, 1, 35.1467488, 126.922456, datetime.datetime(2022, 9, 1, 11, 19, 25), 0)]\n",
      "갱신완료\n",
      "1,5,wef,swf,rtb,pky5335,None,1,35.1467299,126.92201,2022-09-01 11:16:26,0/4,2,여기,없음,구라임,ahy0914,None,1,35.1467488,126.922456,2022-09-01 11:19:25,0/\n"
     ]
    },
    {
     "name": "stderr",
     "output_type": "stream",
     "text": [
      "192.168.21.245 - - [01/Sep/2022 16:15:14] \"POST /mappage HTTP/1.1\" 200 -\n"
     ]
    },
    {
     "name": "stdout",
     "output_type": "stream",
     "text": [
      "마커갱신\n",
      "[(1, 5, 'wef', 'swf', 'rtb', 'pky5335', None, 1, 35.1467299, 126.92201, datetime.datetime(2022, 9, 1, 11, 16, 26), 0), (4, 2, '여기', '없음', '구라임', 'ahy0914', None, 1, 35.1467488, 126.922456, datetime.datetime(2022, 9, 1, 11, 19, 25), 0)]\n",
      "갱신완료\n",
      "1,5,wef,swf,rtb,pky5335,None,1,35.1467299,126.92201,2022-09-01 11:16:26,0/4,2,여기,없음,구라임,ahy0914,None,1,35.1467488,126.922456,2022-09-01 11:19:25,0/\n"
     ]
    },
    {
     "name": "stderr",
     "output_type": "stream",
     "text": [
      "192.168.21.245 - - [01/Sep/2022 16:15:19] \"POST /mappage HTTP/1.1\" 200 -\n"
     ]
    },
    {
     "name": "stdout",
     "output_type": "stream",
     "text": [
      "마커갱신\n",
      "[(1, 5, 'wef', 'swf', 'rtb', 'pky5335', None, 1, 35.1467299, 126.92201, datetime.datetime(2022, 9, 1, 11, 16, 26), 0), (4, 2, '여기', '없음', '구라임', 'ahy0914', None, 1, 35.1467488, 126.922456, datetime.datetime(2022, 9, 1, 11, 19, 25), 0)]\n",
      "갱신완료\n",
      "1,5,wef,swf,rtb,pky5335,None,1,35.1467299,126.92201,2022-09-01 11:16:26,0/4,2,여기,없음,구라임,ahy0914,None,1,35.1467488,126.922456,2022-09-01 11:19:25,0/\n"
     ]
    },
    {
     "name": "stderr",
     "output_type": "stream",
     "text": [
      "192.168.21.245 - - [01/Sep/2022 16:15:24] \"POST /mappage HTTP/1.1\" 200 -\n"
     ]
    },
    {
     "name": "stdout",
     "output_type": "stream",
     "text": [
      "마커갱신\n",
      "[(1, 5, 'wef', 'swf', 'rtb', 'pky5335', None, 1, 35.1467299, 126.92201, datetime.datetime(2022, 9, 1, 11, 16, 26), 0), (4, 2, '여기', '없음', '구라임', 'ahy0914', None, 1, 35.1467488, 126.922456, datetime.datetime(2022, 9, 1, 11, 19, 25), 0)]\n",
      "갱신완료\n",
      "1,5,wef,swf,rtb,pky5335,None,1,35.1467299,126.92201,2022-09-01 11:16:26,0/4,2,여기,없음,구라임,ahy0914,None,1,35.1467488,126.922456,2022-09-01 11:19:25,0/\n"
     ]
    },
    {
     "name": "stderr",
     "output_type": "stream",
     "text": [
      "192.168.21.245 - - [01/Sep/2022 16:15:27] \"POST /clicktrs HTTP/1.1\" 200 -\n"
     ]
    },
    {
     "name": "stdout",
     "output_type": "stream",
     "text": [
      "보물클릭\n",
      "[(2, '여기', '없음', '구라임', 'ahy0914', None, 35.1467488, 126.922456, datetime.datetime(2022, 9, 1, 11, 19, 25), 0)]\n"
     ]
    },
    {
     "name": "stderr",
     "output_type": "stream",
     "text": [
      "192.168.21.245 - - [01/Sep/2022 16:15:29] \"POST /mappage HTTP/1.1\" 200 -\n"
     ]
    },
    {
     "name": "stdout",
     "output_type": "stream",
     "text": [
      "마커갱신\n",
      "[(1, 5, 'wef', 'swf', 'rtb', 'pky5335', None, 1, 35.1467299, 126.92201, datetime.datetime(2022, 9, 1, 11, 16, 26), 0), (4, 2, '여기', '없음', '구라임', 'ahy0914', None, 1, 35.1467488, 126.922456, datetime.datetime(2022, 9, 1, 11, 19, 25), 0)]\n",
      "갱신완료\n",
      "1,5,wef,swf,rtb,pky5335,None,1,35.1467299,126.92201,2022-09-01 11:16:26,0/4,2,여기,없음,구라임,ahy0914,None,1,35.1467488,126.922456,2022-09-01 11:19:25,0/\n"
     ]
    },
    {
     "name": "stderr",
     "output_type": "stream",
     "text": [
      "192.168.21.245 - - [01/Sep/2022 16:15:34] \"POST /mappage HTTP/1.1\" 200 -\n"
     ]
    },
    {
     "name": "stdout",
     "output_type": "stream",
     "text": [
      "마커갱신\n",
      "[(1, 5, 'wef', 'swf', 'rtb', 'pky5335', None, 1, 35.1467299, 126.92201, datetime.datetime(2022, 9, 1, 11, 16, 26), 0), (4, 2, '여기', '없음', '구라임', 'ahy0914', None, 1, 35.1467488, 126.922456, datetime.datetime(2022, 9, 1, 11, 19, 25), 0)]\n",
      "갱신완료\n",
      "1,5,wef,swf,rtb,pky5335,None,1,35.1467299,126.92201,2022-09-01 11:16:26,0/4,2,여기,없음,구라임,ahy0914,None,1,35.1467488,126.922456,2022-09-01 11:19:25,0/\n"
     ]
    },
    {
     "name": "stderr",
     "output_type": "stream",
     "text": [
      "192.168.21.245 - - [01/Sep/2022 16:15:39] \"POST /mappage HTTP/1.1\" 200 -\n"
     ]
    },
    {
     "name": "stdout",
     "output_type": "stream",
     "text": [
      "마커갱신\n",
      "[(1, 5, 'wef', 'swf', 'rtb', 'pky5335', None, 1, 35.1467299, 126.92201, datetime.datetime(2022, 9, 1, 11, 16, 26), 0), (4, 2, '여기', '없음', '구라임', 'ahy0914', None, 1, 35.1467488, 126.922456, datetime.datetime(2022, 9, 1, 11, 19, 25), 0)]\n",
      "갱신완료\n",
      "1,5,wef,swf,rtb,pky5335,None,1,35.1467299,126.92201,2022-09-01 11:16:26,0/4,2,여기,없음,구라임,ahy0914,None,1,35.1467488,126.922456,2022-09-01 11:19:25,0/\n"
     ]
    },
    {
     "name": "stderr",
     "output_type": "stream",
     "text": [
      "192.168.21.245 - - [01/Sep/2022 16:15:44] \"POST /mappage HTTP/1.1\" 200 -\n"
     ]
    },
    {
     "name": "stdout",
     "output_type": "stream",
     "text": [
      "마커갱신\n",
      "[(1, 5, 'wef', 'swf', 'rtb', 'pky5335', None, 1, 35.1467299, 126.92201, datetime.datetime(2022, 9, 1, 11, 16, 26), 0), (4, 2, '여기', '없음', '구라임', 'ahy0914', None, 1, 35.1467488, 126.922456, datetime.datetime(2022, 9, 1, 11, 19, 25), 0)]\n",
      "갱신완료\n",
      "1,5,wef,swf,rtb,pky5335,None,1,35.1467299,126.92201,2022-09-01 11:16:26,0/4,2,여기,없음,구라임,ahy0914,None,1,35.1467488,126.922456,2022-09-01 11:19:25,0/\n"
     ]
    },
    {
     "name": "stderr",
     "output_type": "stream",
     "text": [
      "192.168.21.245 - - [01/Sep/2022 16:15:49] \"POST /mappage HTTP/1.1\" 200 -\n"
     ]
    },
    {
     "name": "stdout",
     "output_type": "stream",
     "text": [
      "마커갱신\n",
      "[(1, 5, 'wef', 'swf', 'rtb', 'pky5335', None, 1, 35.1467299, 126.92201, datetime.datetime(2022, 9, 1, 11, 16, 26), 0), (4, 2, '여기', '없음', '구라임', 'ahy0914', None, 1, 35.1467488, 126.922456, datetime.datetime(2022, 9, 1, 11, 19, 25), 0)]\n",
      "갱신완료\n",
      "1,5,wef,swf,rtb,pky5335,None,1,35.1467299,126.92201,2022-09-01 11:16:26,0/4,2,여기,없음,구라임,ahy0914,None,1,35.1467488,126.922456,2022-09-01 11:19:25,0/\n"
     ]
    },
    {
     "name": "stderr",
     "output_type": "stream",
     "text": [
      "192.168.21.245 - - [01/Sep/2022 16:15:54] \"POST /mappage HTTP/1.1\" 200 -\n"
     ]
    },
    {
     "name": "stdout",
     "output_type": "stream",
     "text": [
      "마커갱신\n",
      "[(1, 5, 'wef', 'swf', 'rtb', 'pky5335', None, 1, 35.1467299, 126.92201, datetime.datetime(2022, 9, 1, 11, 16, 26), 0), (4, 2, '여기', '없음', '구라임', 'ahy0914', None, 1, 35.1467488, 126.922456, datetime.datetime(2022, 9, 1, 11, 19, 25), 0)]\n",
      "갱신완료\n",
      "1,5,wef,swf,rtb,pky5335,None,1,35.1467299,126.92201,2022-09-01 11:16:26,0/4,2,여기,없음,구라임,ahy0914,None,1,35.1467488,126.922456,2022-09-01 11:19:25,0/\n"
     ]
    },
    {
     "name": "stderr",
     "output_type": "stream",
     "text": [
      "192.168.21.245 - - [01/Sep/2022 16:15:59] \"POST /mappage HTTP/1.1\" 200 -\n"
     ]
    },
    {
     "name": "stdout",
     "output_type": "stream",
     "text": [
      "마커갱신\n",
      "[(1, 5, 'wef', 'swf', 'rtb', 'pky5335', None, 1, 35.1467299, 126.92201, datetime.datetime(2022, 9, 1, 11, 16, 26), 0), (4, 2, '여기', '없음', '구라임', 'ahy0914', None, 1, 35.1467488, 126.922456, datetime.datetime(2022, 9, 1, 11, 19, 25), 0)]\n",
      "갱신완료\n",
      "1,5,wef,swf,rtb,pky5335,None,1,35.1467299,126.92201,2022-09-01 11:16:26,0/4,2,여기,없음,구라임,ahy0914,None,1,35.1467488,126.922456,2022-09-01 11:19:25,0/\n"
     ]
    },
    {
     "name": "stderr",
     "output_type": "stream",
     "text": [
      "192.168.21.245 - - [01/Sep/2022 16:16:04] \"POST /mappage HTTP/1.1\" 200 -\n"
     ]
    },
    {
     "name": "stdout",
     "output_type": "stream",
     "text": [
      "마커갱신\n",
      "[(1, 5, 'wef', 'swf', 'rtb', 'pky5335', None, 1, 35.1467299, 126.92201, datetime.datetime(2022, 9, 1, 11, 16, 26), 0), (4, 2, '여기', '없음', '구라임', 'ahy0914', None, 1, 35.1467488, 126.922456, datetime.datetime(2022, 9, 1, 11, 19, 25), 0)]\n",
      "갱신완료\n",
      "1,5,wef,swf,rtb,pky5335,None,1,35.1467299,126.92201,2022-09-01 11:16:26,0/4,2,여기,없음,구라임,ahy0914,None,1,35.1467488,126.922456,2022-09-01 11:19:25,0/\n"
     ]
    },
    {
     "name": "stderr",
     "output_type": "stream",
     "text": [
      "192.168.21.245 - - [01/Sep/2022 16:16:09] \"POST /mappage HTTP/1.1\" 200 -\n"
     ]
    },
    {
     "name": "stdout",
     "output_type": "stream",
     "text": [
      "마커갱신\n",
      "[(1, 5, 'wef', 'swf', 'rtb', 'pky5335', None, 1, 35.1467299, 126.92201, datetime.datetime(2022, 9, 1, 11, 16, 26), 0), (4, 2, '여기', '없음', '구라임', 'ahy0914', None, 1, 35.1467488, 126.922456, datetime.datetime(2022, 9, 1, 11, 19, 25), 0)]\n",
      "갱신완료\n",
      "1,5,wef,swf,rtb,pky5335,None,1,35.1467299,126.92201,2022-09-01 11:16:26,0/4,2,여기,없음,구라임,ahy0914,None,1,35.1467488,126.922456,2022-09-01 11:19:25,0/\n"
     ]
    },
    {
     "name": "stderr",
     "output_type": "stream",
     "text": [
      "192.168.21.245 - - [01/Sep/2022 16:16:14] \"POST /mappage HTTP/1.1\" 200 -\n"
     ]
    },
    {
     "name": "stdout",
     "output_type": "stream",
     "text": [
      "마커갱신\n",
      "[(1, 5, 'wef', 'swf', 'rtb', 'pky5335', None, 1, 35.1467299, 126.92201, datetime.datetime(2022, 9, 1, 11, 16, 26), 0), (4, 2, '여기', '없음', '구라임', 'ahy0914', None, 1, 35.1467488, 126.922456, datetime.datetime(2022, 9, 1, 11, 19, 25), 0)]\n",
      "갱신완료\n",
      "1,5,wef,swf,rtb,pky5335,None,1,35.1467299,126.92201,2022-09-01 11:16:26,0/4,2,여기,없음,구라임,ahy0914,None,1,35.1467488,126.922456,2022-09-01 11:19:25,0/\n"
     ]
    },
    {
     "name": "stderr",
     "output_type": "stream",
     "text": [
      "192.168.21.245 - - [01/Sep/2022 16:16:19] \"POST /mappage HTTP/1.1\" 200 -\n"
     ]
    },
    {
     "name": "stdout",
     "output_type": "stream",
     "text": [
      "마커갱신\n",
      "[(1, 5, 'wef', 'swf', 'rtb', 'pky5335', None, 1, 35.1467299, 126.92201, datetime.datetime(2022, 9, 1, 11, 16, 26), 0), (4, 2, '여기', '없음', '구라임', 'ahy0914', None, 1, 35.1467488, 126.922456, datetime.datetime(2022, 9, 1, 11, 19, 25), 0)]\n",
      "갱신완료\n",
      "1,5,wef,swf,rtb,pky5335,None,1,35.1467299,126.92201,2022-09-01 11:16:26,0/4,2,여기,없음,구라임,ahy0914,None,1,35.1467488,126.922456,2022-09-01 11:19:25,0/\n"
     ]
    },
    {
     "name": "stderr",
     "output_type": "stream",
     "text": [
      "192.168.21.245 - - [01/Sep/2022 16:16:24] \"POST /mappage HTTP/1.1\" 200 -\n"
     ]
    },
    {
     "name": "stdout",
     "output_type": "stream",
     "text": [
      "마커갱신\n",
      "[(1, 5, 'wef', 'swf', 'rtb', 'pky5335', None, 1, 35.1467299, 126.92201, datetime.datetime(2022, 9, 1, 11, 16, 26), 0), (4, 2, '여기', '없음', '구라임', 'ahy0914', None, 1, 35.1467488, 126.922456, datetime.datetime(2022, 9, 1, 11, 19, 25), 0)]\n",
      "갱신완료\n",
      "1,5,wef,swf,rtb,pky5335,None,1,35.1467299,126.92201,2022-09-01 11:16:26,0/4,2,여기,없음,구라임,ahy0914,None,1,35.1467488,126.922456,2022-09-01 11:19:25,0/\n"
     ]
    },
    {
     "name": "stderr",
     "output_type": "stream",
     "text": [
      "192.168.21.245 - - [01/Sep/2022 16:16:29] \"POST /mappage HTTP/1.1\" 200 -\n"
     ]
    },
    {
     "name": "stdout",
     "output_type": "stream",
     "text": [
      "마커갱신\n",
      "[(1, 5, 'wef', 'swf', 'rtb', 'pky5335', None, 1, 35.1467299, 126.92201, datetime.datetime(2022, 9, 1, 11, 16, 26), 0), (4, 2, '여기', '없음', '구라임', 'ahy0914', None, 1, 35.1467488, 126.922456, datetime.datetime(2022, 9, 1, 11, 19, 25), 0)]\n",
      "갱신완료\n",
      "1,5,wef,swf,rtb,pky5335,None,1,35.1467299,126.92201,2022-09-01 11:16:26,0/4,2,여기,없음,구라임,ahy0914,None,1,35.1467488,126.922456,2022-09-01 11:19:25,0/\n"
     ]
    },
    {
     "name": "stderr",
     "output_type": "stream",
     "text": [
      "192.168.21.245 - - [01/Sep/2022 16:16:34] \"POST /mappage HTTP/1.1\" 200 -\n"
     ]
    },
    {
     "name": "stdout",
     "output_type": "stream",
     "text": [
      "마커갱신\n",
      "[(1, 5, 'wef', 'swf', 'rtb', 'pky5335', None, 1, 35.1467299, 126.92201, datetime.datetime(2022, 9, 1, 11, 16, 26), 0), (4, 2, '여기', '없음', '구라임', 'ahy0914', None, 1, 35.1467488, 126.922456, datetime.datetime(2022, 9, 1, 11, 19, 25), 0)]\n",
      "갱신완료\n",
      "1,5,wef,swf,rtb,pky5335,None,1,35.1467299,126.92201,2022-09-01 11:16:26,0/4,2,여기,없음,구라임,ahy0914,None,1,35.1467488,126.922456,2022-09-01 11:19:25,0/\n"
     ]
    },
    {
     "name": "stderr",
     "output_type": "stream",
     "text": [
      "192.168.21.245 - - [01/Sep/2022 16:16:39] \"POST /mappage HTTP/1.1\" 200 -\n"
     ]
    },
    {
     "name": "stdout",
     "output_type": "stream",
     "text": [
      "마커갱신\n",
      "[(1, 5, 'wef', 'swf', 'rtb', 'pky5335', None, 1, 35.1467299, 126.92201, datetime.datetime(2022, 9, 1, 11, 16, 26), 0), (4, 2, '여기', '없음', '구라임', 'ahy0914', None, 1, 35.1467488, 126.922456, datetime.datetime(2022, 9, 1, 11, 19, 25), 0)]\n",
      "갱신완료\n",
      "1,5,wef,swf,rtb,pky5335,None,1,35.1467299,126.92201,2022-09-01 11:16:26,0/4,2,여기,없음,구라임,ahy0914,None,1,35.1467488,126.922456,2022-09-01 11:19:25,0/\n"
     ]
    },
    {
     "name": "stderr",
     "output_type": "stream",
     "text": [
      "192.168.21.245 - - [01/Sep/2022 16:16:44] \"POST /mappage HTTP/1.1\" 200 -\n"
     ]
    },
    {
     "name": "stdout",
     "output_type": "stream",
     "text": [
      "마커갱신\n",
      "[(1, 5, 'wef', 'swf', 'rtb', 'pky5335', None, 1, 35.1467299, 126.92201, datetime.datetime(2022, 9, 1, 11, 16, 26), 0), (4, 2, '여기', '없음', '구라임', 'ahy0914', None, 1, 35.1467488, 126.922456, datetime.datetime(2022, 9, 1, 11, 19, 25), 0)]\n",
      "갱신완료\n",
      "1,5,wef,swf,rtb,pky5335,None,1,35.1467299,126.92201,2022-09-01 11:16:26,0/4,2,여기,없음,구라임,ahy0914,None,1,35.1467488,126.922456,2022-09-01 11:19:25,0/\n"
     ]
    },
    {
     "name": "stderr",
     "output_type": "stream",
     "text": [
      "192.168.21.245 - - [01/Sep/2022 16:16:49] \"POST /mappage HTTP/1.1\" 200 -\n"
     ]
    },
    {
     "name": "stdout",
     "output_type": "stream",
     "text": [
      "마커갱신\n",
      "[(1, 5, 'wef', 'swf', 'rtb', 'pky5335', None, 1, 35.1467299, 126.92201, datetime.datetime(2022, 9, 1, 11, 16, 26), 0), (4, 2, '여기', '없음', '구라임', 'ahy0914', None, 1, 35.1467488, 126.922456, datetime.datetime(2022, 9, 1, 11, 19, 25), 0)]\n",
      "갱신완료\n",
      "1,5,wef,swf,rtb,pky5335,None,1,35.1467299,126.92201,2022-09-01 11:16:26,0/4,2,여기,없음,구라임,ahy0914,None,1,35.1467488,126.922456,2022-09-01 11:19:25,0/\n"
     ]
    },
    {
     "name": "stderr",
     "output_type": "stream",
     "text": [
      "192.168.21.245 - - [01/Sep/2022 16:16:54] \"POST /mappage HTTP/1.1\" 200 -\n"
     ]
    },
    {
     "name": "stdout",
     "output_type": "stream",
     "text": [
      "마커갱신\n",
      "[(1, 5, 'wef', 'swf', 'rtb', 'pky5335', None, 1, 35.1467299, 126.92201, datetime.datetime(2022, 9, 1, 11, 16, 26), 0), (4, 2, '여기', '없음', '구라임', 'ahy0914', None, 1, 35.1467488, 126.922456, datetime.datetime(2022, 9, 1, 11, 19, 25), 0)]\n",
      "갱신완료\n",
      "1,5,wef,swf,rtb,pky5335,None,1,35.1467299,126.92201,2022-09-01 11:16:26,0/4,2,여기,없음,구라임,ahy0914,None,1,35.1467488,126.922456,2022-09-01 11:19:25,0/\n"
     ]
    },
    {
     "name": "stderr",
     "output_type": "stream",
     "text": [
      "192.168.21.245 - - [01/Sep/2022 16:16:59] \"POST /mappage HTTP/1.1\" 200 -\n"
     ]
    },
    {
     "name": "stdout",
     "output_type": "stream",
     "text": [
      "마커갱신\n",
      "[(1, 5, 'wef', 'swf', 'rtb', 'pky5335', None, 1, 35.1467299, 126.92201, datetime.datetime(2022, 9, 1, 11, 16, 26), 0), (4, 2, '여기', '없음', '구라임', 'ahy0914', None, 1, 35.1467488, 126.922456, datetime.datetime(2022, 9, 1, 11, 19, 25), 0)]\n",
      "갱신완료\n",
      "1,5,wef,swf,rtb,pky5335,None,1,35.1467299,126.92201,2022-09-01 11:16:26,0/4,2,여기,없음,구라임,ahy0914,None,1,35.1467488,126.922456,2022-09-01 11:19:25,0/\n"
     ]
    },
    {
     "name": "stderr",
     "output_type": "stream",
     "text": [
      "192.168.21.245 - - [01/Sep/2022 16:17:04] \"POST /mappage HTTP/1.1\" 200 -\n"
     ]
    },
    {
     "name": "stdout",
     "output_type": "stream",
     "text": [
      "마커갱신\n",
      "[(1, 5, 'wef', 'swf', 'rtb', 'pky5335', None, 1, 35.1467299, 126.92201, datetime.datetime(2022, 9, 1, 11, 16, 26), 0), (4, 2, '여기', '없음', '구라임', 'ahy0914', None, 1, 35.1467488, 126.922456, datetime.datetime(2022, 9, 1, 11, 19, 25), 0)]\n",
      "갱신완료\n",
      "1,5,wef,swf,rtb,pky5335,None,1,35.1467299,126.92201,2022-09-01 11:16:26,0/4,2,여기,없음,구라임,ahy0914,None,1,35.1467488,126.922456,2022-09-01 11:19:25,0/\n"
     ]
    },
    {
     "name": "stderr",
     "output_type": "stream",
     "text": [
      "192.168.21.245 - - [01/Sep/2022 16:17:09] \"POST /mappage HTTP/1.1\" 200 -\n"
     ]
    },
    {
     "name": "stdout",
     "output_type": "stream",
     "text": [
      "마커갱신\n",
      "[(1, 5, 'wef', 'swf', 'rtb', 'pky5335', None, 1, 35.1467299, 126.92201, datetime.datetime(2022, 9, 1, 11, 16, 26), 0), (4, 2, '여기', '없음', '구라임', 'ahy0914', None, 1, 35.1467488, 126.922456, datetime.datetime(2022, 9, 1, 11, 19, 25), 0)]\n",
      "갱신완료\n",
      "1,5,wef,swf,rtb,pky5335,None,1,35.1467299,126.92201,2022-09-01 11:16:26,0/4,2,여기,없음,구라임,ahy0914,None,1,35.1467488,126.922456,2022-09-01 11:19:25,0/\n"
     ]
    },
    {
     "name": "stderr",
     "output_type": "stream",
     "text": [
      "192.168.21.245 - - [01/Sep/2022 16:17:14] \"POST /mappage HTTP/1.1\" 200 -\n"
     ]
    },
    {
     "name": "stdout",
     "output_type": "stream",
     "text": [
      "마커갱신\n",
      "[(1, 5, 'wef', 'swf', 'rtb', 'pky5335', None, 1, 35.1467299, 126.92201, datetime.datetime(2022, 9, 1, 11, 16, 26), 0), (4, 2, '여기', '없음', '구라임', 'ahy0914', None, 1, 35.1467488, 126.922456, datetime.datetime(2022, 9, 1, 11, 19, 25), 0)]\n",
      "갱신완료\n",
      "1,5,wef,swf,rtb,pky5335,None,1,35.1467299,126.92201,2022-09-01 11:16:26,0/4,2,여기,없음,구라임,ahy0914,None,1,35.1467488,126.922456,2022-09-01 11:19:25,0/\n"
     ]
    },
    {
     "name": "stderr",
     "output_type": "stream",
     "text": [
      "192.168.21.245 - - [01/Sep/2022 16:17:19] \"POST /mappage HTTP/1.1\" 200 -\n"
     ]
    },
    {
     "name": "stdout",
     "output_type": "stream",
     "text": [
      "마커갱신\n",
      "[(1, 5, 'wef', 'swf', 'rtb', 'pky5335', None, 1, 35.1467299, 126.92201, datetime.datetime(2022, 9, 1, 11, 16, 26), 0), (4, 2, '여기', '없음', '구라임', 'ahy0914', None, 1, 35.1467488, 126.922456, datetime.datetime(2022, 9, 1, 11, 19, 25), 0)]\n",
      "갱신완료\n",
      "1,5,wef,swf,rtb,pky5335,None,1,35.1467299,126.92201,2022-09-01 11:16:26,0/4,2,여기,없음,구라임,ahy0914,None,1,35.1467488,126.922456,2022-09-01 11:19:25,0/\n"
     ]
    },
    {
     "name": "stderr",
     "output_type": "stream",
     "text": [
      "192.168.21.245 - - [01/Sep/2022 16:17:24] \"POST /mappage HTTP/1.1\" 200 -\n"
     ]
    },
    {
     "name": "stdout",
     "output_type": "stream",
     "text": [
      "마커갱신\n",
      "[(1, 5, 'wef', 'swf', 'rtb', 'pky5335', None, 1, 35.1467299, 126.92201, datetime.datetime(2022, 9, 1, 11, 16, 26), 0), (4, 2, '여기', '없음', '구라임', 'ahy0914', None, 1, 35.1467488, 126.922456, datetime.datetime(2022, 9, 1, 11, 19, 25), 0)]\n",
      "갱신완료\n",
      "1,5,wef,swf,rtb,pky5335,None,1,35.1467299,126.92201,2022-09-01 11:16:26,0/4,2,여기,없음,구라임,ahy0914,None,1,35.1467488,126.922456,2022-09-01 11:19:25,0/\n"
     ]
    },
    {
     "name": "stderr",
     "output_type": "stream",
     "text": [
      "192.168.21.245 - - [01/Sep/2022 16:17:29] \"POST /mappage HTTP/1.1\" 200 -\n"
     ]
    },
    {
     "name": "stdout",
     "output_type": "stream",
     "text": [
      "마커갱신\n",
      "[(1, 5, 'wef', 'swf', 'rtb', 'pky5335', None, 1, 35.1467299, 126.92201, datetime.datetime(2022, 9, 1, 11, 16, 26), 0), (4, 2, '여기', '없음', '구라임', 'ahy0914', None, 1, 35.1467488, 126.922456, datetime.datetime(2022, 9, 1, 11, 19, 25), 0)]\n",
      "갱신완료\n",
      "1,5,wef,swf,rtb,pky5335,None,1,35.1467299,126.92201,2022-09-01 11:16:26,0/4,2,여기,없음,구라임,ahy0914,None,1,35.1467488,126.922456,2022-09-01 11:19:25,0/\n"
     ]
    },
    {
     "name": "stderr",
     "output_type": "stream",
     "text": [
      "192.168.21.245 - - [01/Sep/2022 16:17:34] \"POST /mappage HTTP/1.1\" 200 -\n"
     ]
    },
    {
     "name": "stdout",
     "output_type": "stream",
     "text": [
      "마커갱신\n",
      "[(1, 5, 'wef', 'swf', 'rtb', 'pky5335', None, 1, 35.1467299, 126.92201, datetime.datetime(2022, 9, 1, 11, 16, 26), 0), (4, 2, '여기', '없음', '구라임', 'ahy0914', None, 1, 35.1467488, 126.922456, datetime.datetime(2022, 9, 1, 11, 19, 25), 0)]\n",
      "갱신완료\n",
      "1,5,wef,swf,rtb,pky5335,None,1,35.1467299,126.92201,2022-09-01 11:16:26,0/4,2,여기,없음,구라임,ahy0914,None,1,35.1467488,126.922456,2022-09-01 11:19:25,0/\n"
     ]
    },
    {
     "name": "stderr",
     "output_type": "stream",
     "text": [
      "192.168.21.245 - - [01/Sep/2022 16:17:39] \"POST /mappage HTTP/1.1\" 200 -\n"
     ]
    },
    {
     "name": "stdout",
     "output_type": "stream",
     "text": [
      "마커갱신\n",
      "[(1, 5, 'wef', 'swf', 'rtb', 'pky5335', None, 1, 35.1467299, 126.92201, datetime.datetime(2022, 9, 1, 11, 16, 26), 0), (4, 2, '여기', '없음', '구라임', 'ahy0914', None, 1, 35.1467488, 126.922456, datetime.datetime(2022, 9, 1, 11, 19, 25), 0)]\n",
      "갱신완료\n",
      "1,5,wef,swf,rtb,pky5335,None,1,35.1467299,126.92201,2022-09-01 11:16:26,0/4,2,여기,없음,구라임,ahy0914,None,1,35.1467488,126.922456,2022-09-01 11:19:25,0/\n"
     ]
    },
    {
     "name": "stderr",
     "output_type": "stream",
     "text": [
      "192.168.21.245 - - [01/Sep/2022 16:17:44] \"POST /mappage HTTP/1.1\" 200 -\n"
     ]
    },
    {
     "name": "stdout",
     "output_type": "stream",
     "text": [
      "마커갱신\n",
      "[(1, 5, 'wef', 'swf', 'rtb', 'pky5335', None, 1, 35.1467299, 126.92201, datetime.datetime(2022, 9, 1, 11, 16, 26), 0), (4, 2, '여기', '없음', '구라임', 'ahy0914', None, 1, 35.1467488, 126.922456, datetime.datetime(2022, 9, 1, 11, 19, 25), 0)]\n",
      "갱신완료\n",
      "1,5,wef,swf,rtb,pky5335,None,1,35.1467299,126.92201,2022-09-01 11:16:26,0/4,2,여기,없음,구라임,ahy0914,None,1,35.1467488,126.922456,2022-09-01 11:19:25,0/\n"
     ]
    },
    {
     "name": "stderr",
     "output_type": "stream",
     "text": [
      "192.168.21.245 - - [01/Sep/2022 16:17:49] \"POST /mappage HTTP/1.1\" 200 -\n"
     ]
    },
    {
     "name": "stdout",
     "output_type": "stream",
     "text": [
      "마커갱신\n",
      "[(1, 5, 'wef', 'swf', 'rtb', 'pky5335', None, 1, 35.1467299, 126.92201, datetime.datetime(2022, 9, 1, 11, 16, 26), 0), (4, 2, '여기', '없음', '구라임', 'ahy0914', None, 1, 35.1467488, 126.922456, datetime.datetime(2022, 9, 1, 11, 19, 25), 0)]\n",
      "갱신완료\n",
      "1,5,wef,swf,rtb,pky5335,None,1,35.1467299,126.92201,2022-09-01 11:16:26,0/4,2,여기,없음,구라임,ahy0914,None,1,35.1467488,126.922456,2022-09-01 11:19:25,0/\n"
     ]
    },
    {
     "name": "stderr",
     "output_type": "stream",
     "text": [
      "192.168.21.245 - - [01/Sep/2022 16:17:54] \"POST /mappage HTTP/1.1\" 200 -\n"
     ]
    },
    {
     "name": "stdout",
     "output_type": "stream",
     "text": [
      "마커갱신\n",
      "[(1, 5, 'wef', 'swf', 'rtb', 'pky5335', None, 1, 35.1467299, 126.92201, datetime.datetime(2022, 9, 1, 11, 16, 26), 0), (4, 2, '여기', '없음', '구라임', 'ahy0914', None, 1, 35.1467488, 126.922456, datetime.datetime(2022, 9, 1, 11, 19, 25), 0)]\n",
      "갱신완료\n",
      "1,5,wef,swf,rtb,pky5335,None,1,35.1467299,126.92201,2022-09-01 11:16:26,0/4,2,여기,없음,구라임,ahy0914,None,1,35.1467488,126.922456,2022-09-01 11:19:25,0/\n"
     ]
    },
    {
     "name": "stderr",
     "output_type": "stream",
     "text": [
      "192.168.21.245 - - [01/Sep/2022 16:17:59] \"POST /mappage HTTP/1.1\" 200 -\n"
     ]
    },
    {
     "name": "stdout",
     "output_type": "stream",
     "text": [
      "마커갱신\n",
      "[(1, 5, 'wef', 'swf', 'rtb', 'pky5335', None, 1, 35.1467299, 126.92201, datetime.datetime(2022, 9, 1, 11, 16, 26), 0), (4, 2, '여기', '없음', '구라임', 'ahy0914', None, 1, 35.1467488, 126.922456, datetime.datetime(2022, 9, 1, 11, 19, 25), 0)]\n",
      "갱신완료\n",
      "1,5,wef,swf,rtb,pky5335,None,1,35.1467299,126.92201,2022-09-01 11:16:26,0/4,2,여기,없음,구라임,ahy0914,None,1,35.1467488,126.922456,2022-09-01 11:19:25,0/\n"
     ]
    },
    {
     "name": "stderr",
     "output_type": "stream",
     "text": [
      "192.168.21.245 - - [01/Sep/2022 16:18:04] \"POST /mappage HTTP/1.1\" 200 -\n"
     ]
    },
    {
     "name": "stdout",
     "output_type": "stream",
     "text": [
      "마커갱신\n",
      "[(1, 5, 'wef', 'swf', 'rtb', 'pky5335', None, 1, 35.1467299, 126.92201, datetime.datetime(2022, 9, 1, 11, 16, 26), 0), (4, 2, '여기', '없음', '구라임', 'ahy0914', None, 1, 35.1467488, 126.922456, datetime.datetime(2022, 9, 1, 11, 19, 25), 0)]\n",
      "갱신완료\n",
      "1,5,wef,swf,rtb,pky5335,None,1,35.1467299,126.92201,2022-09-01 11:16:26,0/4,2,여기,없음,구라임,ahy0914,None,1,35.1467488,126.922456,2022-09-01 11:19:25,0/\n"
     ]
    },
    {
     "name": "stderr",
     "output_type": "stream",
     "text": [
      "192.168.21.245 - - [01/Sep/2022 16:18:09] \"POST /mappage HTTP/1.1\" 200 -\n"
     ]
    },
    {
     "name": "stdout",
     "output_type": "stream",
     "text": [
      "마커갱신\n",
      "[(1, 5, 'wef', 'swf', 'rtb', 'pky5335', None, 1, 35.1467299, 126.92201, datetime.datetime(2022, 9, 1, 11, 16, 26), 0), (4, 2, '여기', '없음', '구라임', 'ahy0914', None, 1, 35.1467488, 126.922456, datetime.datetime(2022, 9, 1, 11, 19, 25), 0)]\n",
      "갱신완료\n",
      "1,5,wef,swf,rtb,pky5335,None,1,35.1467299,126.92201,2022-09-01 11:16:26,0/4,2,여기,없음,구라임,ahy0914,None,1,35.1467488,126.922456,2022-09-01 11:19:25,0/\n"
     ]
    },
    {
     "name": "stderr",
     "output_type": "stream",
     "text": [
      "192.168.21.245 - - [01/Sep/2022 16:18:14] \"POST /mappage HTTP/1.1\" 200 -\n"
     ]
    },
    {
     "name": "stdout",
     "output_type": "stream",
     "text": [
      "마커갱신\n",
      "[(1, 5, 'wef', 'swf', 'rtb', 'pky5335', None, 1, 35.1467299, 126.92201, datetime.datetime(2022, 9, 1, 11, 16, 26), 0), (4, 2, '여기', '없음', '구라임', 'ahy0914', None, 1, 35.1467488, 126.922456, datetime.datetime(2022, 9, 1, 11, 19, 25), 0)]\n",
      "갱신완료\n",
      "1,5,wef,swf,rtb,pky5335,None,1,35.1467299,126.92201,2022-09-01 11:16:26,0/4,2,여기,없음,구라임,ahy0914,None,1,35.1467488,126.922456,2022-09-01 11:19:25,0/\n"
     ]
    },
    {
     "name": "stderr",
     "output_type": "stream",
     "text": [
      "192.168.21.245 - - [01/Sep/2022 16:18:19] \"POST /mappage HTTP/1.1\" 200 -\n"
     ]
    },
    {
     "name": "stdout",
     "output_type": "stream",
     "text": [
      "마커갱신\n",
      "[(1, 5, 'wef', 'swf', 'rtb', 'pky5335', None, 1, 35.1467299, 126.92201, datetime.datetime(2022, 9, 1, 11, 16, 26), 0), (4, 2, '여기', '없음', '구라임', 'ahy0914', None, 1, 35.1467488, 126.922456, datetime.datetime(2022, 9, 1, 11, 19, 25), 0)]\n",
      "갱신완료\n",
      "1,5,wef,swf,rtb,pky5335,None,1,35.1467299,126.92201,2022-09-01 11:16:26,0/4,2,여기,없음,구라임,ahy0914,None,1,35.1467488,126.922456,2022-09-01 11:19:25,0/\n"
     ]
    },
    {
     "name": "stderr",
     "output_type": "stream",
     "text": [
      "192.168.21.245 - - [01/Sep/2022 16:18:24] \"POST /mappage HTTP/1.1\" 200 -\n"
     ]
    },
    {
     "name": "stdout",
     "output_type": "stream",
     "text": [
      "마커갱신\n",
      "[(1, 5, 'wef', 'swf', 'rtb', 'pky5335', None, 1, 35.1467299, 126.92201, datetime.datetime(2022, 9, 1, 11, 16, 26), 0), (4, 2, '여기', '없음', '구라임', 'ahy0914', None, 1, 35.1467488, 126.922456, datetime.datetime(2022, 9, 1, 11, 19, 25), 0)]\n",
      "갱신완료\n",
      "1,5,wef,swf,rtb,pky5335,None,1,35.1467299,126.92201,2022-09-01 11:16:26,0/4,2,여기,없음,구라임,ahy0914,None,1,35.1467488,126.922456,2022-09-01 11:19:25,0/\n"
     ]
    },
    {
     "name": "stderr",
     "output_type": "stream",
     "text": [
      "192.168.21.245 - - [01/Sep/2022 16:18:29] \"POST /mappage HTTP/1.1\" 200 -\n"
     ]
    },
    {
     "name": "stdout",
     "output_type": "stream",
     "text": [
      "마커갱신\n",
      "[(1, 5, 'wef', 'swf', 'rtb', 'pky5335', None, 1, 35.1467299, 126.92201, datetime.datetime(2022, 9, 1, 11, 16, 26), 0), (4, 2, '여기', '없음', '구라임', 'ahy0914', None, 1, 35.1467488, 126.922456, datetime.datetime(2022, 9, 1, 11, 19, 25), 0)]\n",
      "갱신완료\n",
      "1,5,wef,swf,rtb,pky5335,None,1,35.1467299,126.92201,2022-09-01 11:16:26,0/4,2,여기,없음,구라임,ahy0914,None,1,35.1467488,126.922456,2022-09-01 11:19:25,0/\n"
     ]
    },
    {
     "name": "stderr",
     "output_type": "stream",
     "text": [
      "192.168.21.245 - - [01/Sep/2022 16:18:34] \"POST /mappage HTTP/1.1\" 200 -\n"
     ]
    },
    {
     "name": "stdout",
     "output_type": "stream",
     "text": [
      "마커갱신\n",
      "[(1, 5, 'wef', 'swf', 'rtb', 'pky5335', None, 1, 35.1467299, 126.92201, datetime.datetime(2022, 9, 1, 11, 16, 26), 0), (4, 2, '여기', '없음', '구라임', 'ahy0914', None, 1, 35.1467488, 126.922456, datetime.datetime(2022, 9, 1, 11, 19, 25), 0)]\n",
      "갱신완료\n",
      "1,5,wef,swf,rtb,pky5335,None,1,35.1467299,126.92201,2022-09-01 11:16:26,0/4,2,여기,없음,구라임,ahy0914,None,1,35.1467488,126.922456,2022-09-01 11:19:25,0/\n"
     ]
    },
    {
     "name": "stderr",
     "output_type": "stream",
     "text": [
      "192.168.21.245 - - [01/Sep/2022 16:18:39] \"POST /mappage HTTP/1.1\" 200 -\n"
     ]
    },
    {
     "name": "stdout",
     "output_type": "stream",
     "text": [
      "마커갱신\n",
      "[(1, 5, 'wef', 'swf', 'rtb', 'pky5335', None, 1, 35.1467299, 126.92201, datetime.datetime(2022, 9, 1, 11, 16, 26), 0), (4, 2, '여기', '없음', '구라임', 'ahy0914', None, 1, 35.1467488, 126.922456, datetime.datetime(2022, 9, 1, 11, 19, 25), 0)]\n",
      "갱신완료\n",
      "1,5,wef,swf,rtb,pky5335,None,1,35.1467299,126.92201,2022-09-01 11:16:26,0/4,2,여기,없음,구라임,ahy0914,None,1,35.1467488,126.922456,2022-09-01 11:19:25,0/\n"
     ]
    },
    {
     "name": "stderr",
     "output_type": "stream",
     "text": [
      "192.168.21.245 - - [01/Sep/2022 16:18:44] \"POST /mappage HTTP/1.1\" 200 -\n"
     ]
    },
    {
     "name": "stdout",
     "output_type": "stream",
     "text": [
      "마커갱신\n",
      "[(1, 5, 'wef', 'swf', 'rtb', 'pky5335', None, 1, 35.1467299, 126.92201, datetime.datetime(2022, 9, 1, 11, 16, 26), 0), (4, 2, '여기', '없음', '구라임', 'ahy0914', None, 1, 35.1467488, 126.922456, datetime.datetime(2022, 9, 1, 11, 19, 25), 0)]\n",
      "갱신완료\n",
      "1,5,wef,swf,rtb,pky5335,None,1,35.1467299,126.92201,2022-09-01 11:16:26,0/4,2,여기,없음,구라임,ahy0914,None,1,35.1467488,126.922456,2022-09-01 11:19:25,0/\n"
     ]
    },
    {
     "name": "stderr",
     "output_type": "stream",
     "text": [
      "192.168.21.245 - - [01/Sep/2022 16:18:49] \"POST /mappage HTTP/1.1\" 200 -\n"
     ]
    },
    {
     "name": "stdout",
     "output_type": "stream",
     "text": [
      "마커갱신\n",
      "[(1, 5, 'wef', 'swf', 'rtb', 'pky5335', None, 1, 35.1467299, 126.92201, datetime.datetime(2022, 9, 1, 11, 16, 26), 0), (4, 2, '여기', '없음', '구라임', 'ahy0914', None, 1, 35.1467488, 126.922456, datetime.datetime(2022, 9, 1, 11, 19, 25), 0)]\n",
      "갱신완료\n",
      "1,5,wef,swf,rtb,pky5335,None,1,35.1467299,126.92201,2022-09-01 11:16:26,0/4,2,여기,없음,구라임,ahy0914,None,1,35.1467488,126.922456,2022-09-01 11:19:25,0/\n"
     ]
    },
    {
     "name": "stderr",
     "output_type": "stream",
     "text": [
      "192.168.21.245 - - [01/Sep/2022 16:18:54] \"POST /mappage HTTP/1.1\" 200 -\n"
     ]
    },
    {
     "name": "stdout",
     "output_type": "stream",
     "text": [
      "마커갱신\n",
      "[(1, 5, 'wef', 'swf', 'rtb', 'pky5335', None, 1, 35.1467299, 126.92201, datetime.datetime(2022, 9, 1, 11, 16, 26), 0), (4, 2, '여기', '없음', '구라임', 'ahy0914', None, 1, 35.1467488, 126.922456, datetime.datetime(2022, 9, 1, 11, 19, 25), 0)]\n",
      "갱신완료\n",
      "1,5,wef,swf,rtb,pky5335,None,1,35.1467299,126.92201,2022-09-01 11:16:26,0/4,2,여기,없음,구라임,ahy0914,None,1,35.1467488,126.922456,2022-09-01 11:19:25,0/\n"
     ]
    },
    {
     "name": "stderr",
     "output_type": "stream",
     "text": [
      "192.168.21.245 - - [01/Sep/2022 16:18:59] \"POST /mappage HTTP/1.1\" 200 -\n"
     ]
    },
    {
     "name": "stdout",
     "output_type": "stream",
     "text": [
      "마커갱신\n",
      "[(1, 5, 'wef', 'swf', 'rtb', 'pky5335', None, 1, 35.1467299, 126.92201, datetime.datetime(2022, 9, 1, 11, 16, 26), 0), (4, 2, '여기', '없음', '구라임', 'ahy0914', None, 1, 35.1467488, 126.922456, datetime.datetime(2022, 9, 1, 11, 19, 25), 0)]\n",
      "갱신완료\n",
      "1,5,wef,swf,rtb,pky5335,None,1,35.1467299,126.92201,2022-09-01 11:16:26,0/4,2,여기,없음,구라임,ahy0914,None,1,35.1467488,126.922456,2022-09-01 11:19:25,0/\n"
     ]
    },
    {
     "name": "stderr",
     "output_type": "stream",
     "text": [
      "192.168.21.245 - - [01/Sep/2022 16:19:04] \"POST /mappage HTTP/1.1\" 200 -\n"
     ]
    },
    {
     "name": "stdout",
     "output_type": "stream",
     "text": [
      "마커갱신\n",
      "[(1, 5, 'wef', 'swf', 'rtb', 'pky5335', None, 1, 35.1467299, 126.92201, datetime.datetime(2022, 9, 1, 11, 16, 26), 0), (4, 2, '여기', '없음', '구라임', 'ahy0914', None, 1, 35.1467488, 126.922456, datetime.datetime(2022, 9, 1, 11, 19, 25), 0)]\n",
      "갱신완료\n",
      "1,5,wef,swf,rtb,pky5335,None,1,35.1467299,126.92201,2022-09-01 11:16:26,0/4,2,여기,없음,구라임,ahy0914,None,1,35.1467488,126.922456,2022-09-01 11:19:25,0/\n"
     ]
    },
    {
     "name": "stderr",
     "output_type": "stream",
     "text": [
      "192.168.21.245 - - [01/Sep/2022 16:19:09] \"POST /mappage HTTP/1.1\" 200 -\n"
     ]
    },
    {
     "name": "stdout",
     "output_type": "stream",
     "text": [
      "마커갱신\n",
      "[(1, 5, 'wef', 'swf', 'rtb', 'pky5335', None, 1, 35.1467299, 126.92201, datetime.datetime(2022, 9, 1, 11, 16, 26), 0), (4, 2, '여기', '없음', '구라임', 'ahy0914', None, 1, 35.1467488, 126.922456, datetime.datetime(2022, 9, 1, 11, 19, 25), 0)]\n",
      "갱신완료\n",
      "1,5,wef,swf,rtb,pky5335,None,1,35.1467299,126.92201,2022-09-01 11:16:26,0/4,2,여기,없음,구라임,ahy0914,None,1,35.1467488,126.922456,2022-09-01 11:19:25,0/\n"
     ]
    },
    {
     "name": "stderr",
     "output_type": "stream",
     "text": [
      "192.168.21.245 - - [01/Sep/2022 16:19:14] \"POST /mappage HTTP/1.1\" 200 -\n"
     ]
    },
    {
     "name": "stdout",
     "output_type": "stream",
     "text": [
      "마커갱신\n",
      "[(1, 5, 'wef', 'swf', 'rtb', 'pky5335', None, 1, 35.1467299, 126.92201, datetime.datetime(2022, 9, 1, 11, 16, 26), 0), (4, 2, '여기', '없음', '구라임', 'ahy0914', None, 1, 35.1467488, 126.922456, datetime.datetime(2022, 9, 1, 11, 19, 25), 0)]\n",
      "갱신완료\n",
      "1,5,wef,swf,rtb,pky5335,None,1,35.1467299,126.92201,2022-09-01 11:16:26,0/4,2,여기,없음,구라임,ahy0914,None,1,35.1467488,126.922456,2022-09-01 11:19:25,0/\n"
     ]
    },
    {
     "name": "stderr",
     "output_type": "stream",
     "text": [
      "192.168.21.245 - - [01/Sep/2022 16:19:19] \"POST /mappage HTTP/1.1\" 200 -\n"
     ]
    },
    {
     "name": "stdout",
     "output_type": "stream",
     "text": [
      "마커갱신\n",
      "[(1, 5, 'wef', 'swf', 'rtb', 'pky5335', None, 1, 35.1467299, 126.92201, datetime.datetime(2022, 9, 1, 11, 16, 26), 0), (4, 2, '여기', '없음', '구라임', 'ahy0914', None, 1, 35.1467488, 126.922456, datetime.datetime(2022, 9, 1, 11, 19, 25), 0)]\n",
      "갱신완료\n",
      "1,5,wef,swf,rtb,pky5335,None,1,35.1467299,126.92201,2022-09-01 11:16:26,0/4,2,여기,없음,구라임,ahy0914,None,1,35.1467488,126.922456,2022-09-01 11:19:25,0/\n"
     ]
    },
    {
     "name": "stderr",
     "output_type": "stream",
     "text": [
      "192.168.21.245 - - [01/Sep/2022 16:19:24] \"POST /mappage HTTP/1.1\" 200 -\n"
     ]
    },
    {
     "name": "stdout",
     "output_type": "stream",
     "text": [
      "마커갱신\n",
      "[(1, 5, 'wef', 'swf', 'rtb', 'pky5335', None, 1, 35.1467299, 126.92201, datetime.datetime(2022, 9, 1, 11, 16, 26), 0), (4, 2, '여기', '없음', '구라임', 'ahy0914', None, 1, 35.1467488, 126.922456, datetime.datetime(2022, 9, 1, 11, 19, 25), 0)]\n",
      "갱신완료\n",
      "1,5,wef,swf,rtb,pky5335,None,1,35.1467299,126.92201,2022-09-01 11:16:26,0/4,2,여기,없음,구라임,ahy0914,None,1,35.1467488,126.922456,2022-09-01 11:19:25,0/\n"
     ]
    },
    {
     "name": "stderr",
     "output_type": "stream",
     "text": [
      "192.168.21.245 - - [01/Sep/2022 16:19:29] \"POST /mappage HTTP/1.1\" 200 -\n"
     ]
    },
    {
     "name": "stdout",
     "output_type": "stream",
     "text": [
      "마커갱신\n",
      "[(1, 5, 'wef', 'swf', 'rtb', 'pky5335', None, 1, 35.1467299, 126.92201, datetime.datetime(2022, 9, 1, 11, 16, 26), 0), (4, 2, '여기', '없음', '구라임', 'ahy0914', None, 1, 35.1467488, 126.922456, datetime.datetime(2022, 9, 1, 11, 19, 25), 0)]\n",
      "갱신완료\n",
      "1,5,wef,swf,rtb,pky5335,None,1,35.1467299,126.92201,2022-09-01 11:16:26,0/4,2,여기,없음,구라임,ahy0914,None,1,35.1467488,126.922456,2022-09-01 11:19:25,0/\n"
     ]
    },
    {
     "name": "stderr",
     "output_type": "stream",
     "text": [
      "192.168.21.245 - - [01/Sep/2022 16:19:34] \"POST /mappage HTTP/1.1\" 200 -\n"
     ]
    },
    {
     "name": "stdout",
     "output_type": "stream",
     "text": [
      "마커갱신\n",
      "[(1, 5, 'wef', 'swf', 'rtb', 'pky5335', None, 1, 35.1467299, 126.92201, datetime.datetime(2022, 9, 1, 11, 16, 26), 0), (4, 2, '여기', '없음', '구라임', 'ahy0914', None, 1, 35.1467488, 126.922456, datetime.datetime(2022, 9, 1, 11, 19, 25), 0)]\n",
      "갱신완료\n",
      "1,5,wef,swf,rtb,pky5335,None,1,35.1467299,126.92201,2022-09-01 11:16:26,0/4,2,여기,없음,구라임,ahy0914,None,1,35.1467488,126.922456,2022-09-01 11:19:25,0/\n"
     ]
    },
    {
     "name": "stderr",
     "output_type": "stream",
     "text": [
      "192.168.21.245 - - [01/Sep/2022 16:19:39] \"POST /mappage HTTP/1.1\" 200 -\n"
     ]
    },
    {
     "name": "stdout",
     "output_type": "stream",
     "text": [
      "마커갱신\n",
      "[(1, 5, 'wef', 'swf', 'rtb', 'pky5335', None, 1, 35.1467299, 126.92201, datetime.datetime(2022, 9, 1, 11, 16, 26), 0), (4, 2, '여기', '없음', '구라임', 'ahy0914', None, 1, 35.1467488, 126.922456, datetime.datetime(2022, 9, 1, 11, 19, 25), 0), (7, 2, '어디까지', '되나한번', '봐보자아', 'pky5335', None, 1, 35.1467777, 126.922111, datetime.datetime(2022, 9, 1, 16, 19, 30), 0)]\n",
      "갱신완료\n",
      "1,5,wef,swf,rtb,pky5335,None,1,35.1467299,126.92201,2022-09-01 11:16:26,0/4,2,여기,없음,구라임,ahy0914,None,1,35.1467488,126.922456,2022-09-01 11:19:25,0/7,2,어디까지,되나한번,봐보자아,pky5335,None,1,35.1467777,126.922111,2022-09-01 16:19:30,0/\n"
     ]
    },
    {
     "name": "stderr",
     "output_type": "stream",
     "text": [
      "192.168.21.245 - - [01/Sep/2022 16:19:44] \"POST /mappage HTTP/1.1\" 200 -\n"
     ]
    },
    {
     "name": "stdout",
     "output_type": "stream",
     "text": [
      "마커갱신\n",
      "[(1, 5, 'wef', 'swf', 'rtb', 'pky5335', None, 1, 35.1467299, 126.92201, datetime.datetime(2022, 9, 1, 11, 16, 26), 0), (4, 2, '여기', '없음', '구라임', 'ahy0914', None, 1, 35.1467488, 126.922456, datetime.datetime(2022, 9, 1, 11, 19, 25), 0), (7, 2, '어디까지', '되나한번', '봐보자아', 'pky5335', None, 1, 35.1467777, 126.922111, datetime.datetime(2022, 9, 1, 16, 19, 30), 0)]\n",
      "갱신완료\n",
      "1,5,wef,swf,rtb,pky5335,None,1,35.1467299,126.92201,2022-09-01 11:16:26,0/4,2,여기,없음,구라임,ahy0914,None,1,35.1467488,126.922456,2022-09-01 11:19:25,0/7,2,어디까지,되나한번,봐보자아,pky5335,None,1,35.1467777,126.922111,2022-09-01 16:19:30,0/\n"
     ]
    },
    {
     "name": "stderr",
     "output_type": "stream",
     "text": [
      "192.168.21.245 - - [01/Sep/2022 16:19:59] \"POST /login HTTP/1.1\" 200 -\n"
     ]
    },
    {
     "name": "stdout",
     "output_type": "stream",
     "text": [
      "로그인 시도\n",
      "[('pky5335', 'qwer1234!', 'qwerq', datetime.datetime(1991, 4, 13, 0, 0), '124235141243', 'pky5335@nate.com', '남', 1, datetime.datetime(2022, 8, 25, 15, 13, 53), None, None, 0, 0, 'wer')]\n",
      "pky5335 로그인\n"
     ]
    },
    {
     "name": "stderr",
     "output_type": "stream",
     "text": [
      "192.168.21.245 - - [01/Sep/2022 16:20:00] \"POST /mappage HTTP/1.1\" 200 -\n"
     ]
    },
    {
     "name": "stdout",
     "output_type": "stream",
     "text": [
      "마커갱신\n",
      "[(1, 5, 'wef', 'swf', 'rtb', 'pky5335', None, 1, 35.1467299, 126.92201, datetime.datetime(2022, 9, 1, 11, 16, 26), 0), (4, 2, '여기', '없음', '구라임', 'ahy0914', None, 1, 35.1467488, 126.922456, datetime.datetime(2022, 9, 1, 11, 19, 25), 0), (7, 2, '어디까지', '되나한번', '봐보자아', 'pky5335', None, 1, 35.1467777, 126.922111, datetime.datetime(2022, 9, 1, 16, 19, 30), 0)]\n",
      "갱신완료\n",
      "1,5,wef,swf,rtb,pky5335,None,1,35.1467299,126.92201,2022-09-01 11:16:26,0/4,2,여기,없음,구라임,ahy0914,None,1,35.1467488,126.922456,2022-09-01 11:19:25,0/7,2,어디까지,되나한번,봐보자아,pky5335,None,1,35.1467777,126.922111,2022-09-01 16:19:30,0/\n"
     ]
    },
    {
     "name": "stderr",
     "output_type": "stream",
     "text": [
      "192.168.21.245 - - [01/Sep/2022 16:20:01] \"POST /mappage HTTP/1.1\" 200 -\n"
     ]
    },
    {
     "name": "stdout",
     "output_type": "stream",
     "text": [
      "마커갱신\n",
      "[(1, 5, 'wef', 'swf', 'rtb', 'pky5335', None, 1, 35.1467299, 126.92201, datetime.datetime(2022, 9, 1, 11, 16, 26), 0), (4, 2, '여기', '없음', '구라임', 'ahy0914', None, 1, 35.1467488, 126.922456, datetime.datetime(2022, 9, 1, 11, 19, 25), 0), (7, 2, '어디까지', '되나한번', '봐보자아', 'pky5335', None, 1, 35.1467777, 126.922111, datetime.datetime(2022, 9, 1, 16, 19, 30), 0)]\n",
      "갱신완료\n",
      "1,5,wef,swf,rtb,pky5335,None,1,35.1467299,126.92201,2022-09-01 11:16:26,0/4,2,여기,없음,구라임,ahy0914,None,1,35.1467488,126.922456,2022-09-01 11:19:25,0/7,2,어디까지,되나한번,봐보자아,pky5335,None,1,35.1467777,126.922111,2022-09-01 16:19:30,0/\n"
     ]
    },
    {
     "name": "stderr",
     "output_type": "stream",
     "text": [
      "192.168.21.245 - - [01/Sep/2022 16:20:02] \"POST /clicktrs HTTP/1.1\" 200 -\n"
     ]
    },
    {
     "name": "stdout",
     "output_type": "stream",
     "text": [
      "보물클릭\n",
      "[(5, 'wef', 'swf', 'rtb', 'pky5335', None, 35.1467299, 126.92201, datetime.datetime(2022, 9, 1, 11, 16, 26), 0)]\n"
     ]
    },
    {
     "name": "stderr",
     "output_type": "stream",
     "text": [
      "192.168.21.245 - - [01/Sep/2022 16:20:06] \"POST /mappage HTTP/1.1\" 200 -\n"
     ]
    },
    {
     "name": "stdout",
     "output_type": "stream",
     "text": [
      "마커갱신\n",
      "[(1, 5, 'wef', 'swf', 'rtb', 'pky5335', None, 1, 35.1467299, 126.92201, datetime.datetime(2022, 9, 1, 11, 16, 26), 0), (4, 2, '여기', '없음', '구라임', 'ahy0914', None, 1, 35.1467488, 126.922456, datetime.datetime(2022, 9, 1, 11, 19, 25), 0), (7, 2, '어디까지', '되나한번', '봐보자아', 'pky5335', None, 1, 35.1467777, 126.922111, datetime.datetime(2022, 9, 1, 16, 19, 30), 0)]\n",
      "갱신완료\n",
      "1,5,wef,swf,rtb,pky5335,None,1,35.1467299,126.92201,2022-09-01 11:16:26,0/4,2,여기,없음,구라임,ahy0914,None,1,35.1467488,126.922456,2022-09-01 11:19:25,0/7,2,어디까지,되나한번,봐보자아,pky5335,None,1,35.1467777,126.922111,2022-09-01 16:19:30,0/\n"
     ]
    },
    {
     "name": "stderr",
     "output_type": "stream",
     "text": [
      "192.168.21.245 - - [01/Sep/2022 16:20:08] \"POST /clicktrs HTTP/1.1\" 200 -\n"
     ]
    },
    {
     "name": "stdout",
     "output_type": "stream",
     "text": [
      "보물클릭\n",
      "[(2, '어디까지', '되나한번', '봐보자아', 'pky5335', None, 35.1467777, 126.922111, datetime.datetime(2022, 9, 1, 16, 19, 30), 0)]\n"
     ]
    },
    {
     "name": "stderr",
     "output_type": "stream",
     "text": [
      "192.168.21.245 - - [01/Sep/2022 16:20:11] \"POST /mappage HTTP/1.1\" 200 -\n"
     ]
    },
    {
     "name": "stdout",
     "output_type": "stream",
     "text": [
      "마커갱신\n",
      "[(1, 5, 'wef', 'swf', 'rtb', 'pky5335', None, 1, 35.1467299, 126.92201, datetime.datetime(2022, 9, 1, 11, 16, 26), 0), (4, 2, '여기', '없음', '구라임', 'ahy0914', None, 1, 35.1467488, 126.922456, datetime.datetime(2022, 9, 1, 11, 19, 25), 0), (7, 2, '어디까지', '되나한번', '봐보자아', 'pky5335', None, 1, 35.1467777, 126.922111, datetime.datetime(2022, 9, 1, 16, 19, 30), 0)]\n",
      "갱신완료\n",
      "1,5,wef,swf,rtb,pky5335,None,1,35.1467299,126.92201,2022-09-01 11:16:26,0/4,2,여기,없음,구라임,ahy0914,None,1,35.1467488,126.922456,2022-09-01 11:19:25,0/7,2,어디까지,되나한번,봐보자아,pky5335,None,1,35.1467777,126.922111,2022-09-01 16:19:30,0/\n"
     ]
    },
    {
     "name": "stderr",
     "output_type": "stream",
     "text": [
      "192.168.21.245 - - [01/Sep/2022 16:20:16] \"POST /mappage HTTP/1.1\" 200 -\n"
     ]
    },
    {
     "name": "stdout",
     "output_type": "stream",
     "text": [
      "마커갱신\n",
      "[(1, 5, 'wef', 'swf', 'rtb', 'pky5335', None, 1, 35.1467299, 126.92201, datetime.datetime(2022, 9, 1, 11, 16, 26), 0), (4, 2, '여기', '없음', '구라임', 'ahy0914', None, 1, 35.1467488, 126.922456, datetime.datetime(2022, 9, 1, 11, 19, 25), 0), (7, 2, '어디까지', '되나한번', '봐보자아', 'pky5335', None, 1, 35.1467777, 126.922111, datetime.datetime(2022, 9, 1, 16, 19, 30), 0)]\n",
      "갱신완료\n",
      "1,5,wef,swf,rtb,pky5335,None,1,35.1467299,126.92201,2022-09-01 11:16:26,0/4,2,여기,없음,구라임,ahy0914,None,1,35.1467488,126.922456,2022-09-01 11:19:25,0/7,2,어디까지,되나한번,봐보자아,pky5335,None,1,35.1467777,126.922111,2022-09-01 16:19:30,0/\n"
     ]
    },
    {
     "name": "stderr",
     "output_type": "stream",
     "text": [
      "192.168.21.245 - - [01/Sep/2022 16:20:21] \"POST /mappage HTTP/1.1\" 200 -\n"
     ]
    },
    {
     "name": "stdout",
     "output_type": "stream",
     "text": [
      "마커갱신\n",
      "[(1, 5, 'wef', 'swf', 'rtb', 'pky5335', None, 1, 35.1467299, 126.92201, datetime.datetime(2022, 9, 1, 11, 16, 26), 0), (4, 2, '여기', '없음', '구라임', 'ahy0914', None, 1, 35.1467488, 126.922456, datetime.datetime(2022, 9, 1, 11, 19, 25), 0), (7, 2, '어디까지', '되나한번', '봐보자아', 'pky5335', None, 1, 35.1467777, 126.922111, datetime.datetime(2022, 9, 1, 16, 19, 30), 0)]\n",
      "갱신완료\n",
      "1,5,wef,swf,rtb,pky5335,None,1,35.1467299,126.92201,2022-09-01 11:16:26,0/4,2,여기,없음,구라임,ahy0914,None,1,35.1467488,126.922456,2022-09-01 11:19:25,0/7,2,어디까지,되나한번,봐보자아,pky5335,None,1,35.1467777,126.922111,2022-09-01 16:19:30,0/\n"
     ]
    },
    {
     "name": "stderr",
     "output_type": "stream",
     "text": [
      "192.168.21.245 - - [01/Sep/2022 16:20:26] \"POST /mappage HTTP/1.1\" 200 -\n"
     ]
    },
    {
     "name": "stdout",
     "output_type": "stream",
     "text": [
      "마커갱신\n",
      "[(1, 5, 'wef', 'swf', 'rtb', 'pky5335', None, 1, 35.1467299, 126.92201, datetime.datetime(2022, 9, 1, 11, 16, 26), 0), (4, 2, '여기', '없음', '구라임', 'ahy0914', None, 1, 35.1467488, 126.922456, datetime.datetime(2022, 9, 1, 11, 19, 25), 0), (7, 2, '어디까지', '되나한번', '봐보자아', 'pky5335', None, 1, 35.1467777, 126.922111, datetime.datetime(2022, 9, 1, 16, 19, 30), 0)]\n",
      "갱신완료\n",
      "1,5,wef,swf,rtb,pky5335,None,1,35.1467299,126.92201,2022-09-01 11:16:26,0/4,2,여기,없음,구라임,ahy0914,None,1,35.1467488,126.922456,2022-09-01 11:19:25,0/7,2,어디까지,되나한번,봐보자아,pky5335,None,1,35.1467777,126.922111,2022-09-01 16:19:30,0/\n"
     ]
    },
    {
     "name": "stderr",
     "output_type": "stream",
     "text": [
      "192.168.21.245 - - [01/Sep/2022 16:20:31] \"POST /mappage HTTP/1.1\" 200 -\n"
     ]
    },
    {
     "name": "stdout",
     "output_type": "stream",
     "text": [
      "마커갱신\n",
      "[(1, 5, 'wef', 'swf', 'rtb', 'pky5335', None, 1, 35.1467299, 126.92201, datetime.datetime(2022, 9, 1, 11, 16, 26), 0), (4, 2, '여기', '없음', '구라임', 'ahy0914', None, 1, 35.1467488, 126.922456, datetime.datetime(2022, 9, 1, 11, 19, 25), 0), (7, 2, '어디까지', '되나한번', '봐보자아', 'pky5335', None, 1, 35.1467777, 126.922111, datetime.datetime(2022, 9, 1, 16, 19, 30), 0)]\n",
      "갱신완료\n",
      "1,5,wef,swf,rtb,pky5335,None,1,35.1467299,126.92201,2022-09-01 11:16:26,0/4,2,여기,없음,구라임,ahy0914,None,1,35.1467488,126.922456,2022-09-01 11:19:25,0/7,2,어디까지,되나한번,봐보자아,pky5335,None,1,35.1467777,126.922111,2022-09-01 16:19:30,0/\n"
     ]
    },
    {
     "name": "stderr",
     "output_type": "stream",
     "text": [
      "192.168.21.245 - - [01/Sep/2022 16:20:36] \"POST /mappage HTTP/1.1\" 200 -\n"
     ]
    },
    {
     "name": "stdout",
     "output_type": "stream",
     "text": [
      "마커갱신\n",
      "[(1, 5, 'wef', 'swf', 'rtb', 'pky5335', None, 1, 35.1467299, 126.92201, datetime.datetime(2022, 9, 1, 11, 16, 26), 0), (4, 2, '여기', '없음', '구라임', 'ahy0914', None, 1, 35.1467488, 126.922456, datetime.datetime(2022, 9, 1, 11, 19, 25), 0), (7, 2, '어디까지', '되나한번', '봐보자아', 'pky5335', None, 1, 35.1467777, 126.922111, datetime.datetime(2022, 9, 1, 16, 19, 30), 0)]\n",
      "갱신완료\n",
      "1,5,wef,swf,rtb,pky5335,None,1,35.1467299,126.92201,2022-09-01 11:16:26,0/4,2,여기,없음,구라임,ahy0914,None,1,35.1467488,126.922456,2022-09-01 11:19:25,0/7,2,어디까지,되나한번,봐보자아,pky5335,None,1,35.1467777,126.922111,2022-09-01 16:19:30,0/\n"
     ]
    },
    {
     "name": "stderr",
     "output_type": "stream",
     "text": [
      "192.168.21.245 - - [01/Sep/2022 16:20:51] \"POST /login HTTP/1.1\" 200 -\n"
     ]
    },
    {
     "name": "stdout",
     "output_type": "stream",
     "text": [
      "로그인 시도\n",
      "[('pky5335', 'qwer1234!', 'qwerq', datetime.datetime(1991, 4, 13, 0, 0), '124235141243', 'pky5335@nate.com', '남', 1, datetime.datetime(2022, 8, 25, 15, 13, 53), None, None, 0, 0, 'wer')]\n",
      "pky5335 로그인\n",
      "마커갱신"
     ]
    },
    {
     "name": "stderr",
     "output_type": "stream",
     "text": [
      "192.168.21.245 - - [01/Sep/2022 16:20:51] \"POST /mappage HTTP/1.1\" 200 -\n"
     ]
    },
    {
     "name": "stdout",
     "output_type": "stream",
     "text": [
      "\n",
      "[(1, 5, 'wef', 'swf', 'rtb', 'pky5335', None, 1, 35.1467299, 126.92201, datetime.datetime(2022, 9, 1, 11, 16, 26), 0), (4, 2, '여기', '없음', '구라임', 'ahy0914', None, 1, 35.1467488, 126.922456, datetime.datetime(2022, 9, 1, 11, 19, 25), 0), (7, 2, '어디까지', '되나한번', '봐보자아', 'pky5335', None, 1, 35.1467777, 126.922111, datetime.datetime(2022, 9, 1, 16, 19, 30), 0)]\n",
      "갱신완료\n",
      "1,5,wef,swf,rtb,pky5335,None,1,35.1467299,126.92201,2022-09-01 11:16:26,0/4,2,여기,없음,구라임,ahy0914,None,1,35.1467488,126.922456,2022-09-01 11:19:25,0/7,2,어디까지,되나한번,봐보자아,pky5335,None,1,35.1467777,126.922111,2022-09-01 16:19:30,0/\n"
     ]
    },
    {
     "name": "stderr",
     "output_type": "stream",
     "text": [
      "192.168.21.245 - - [01/Sep/2022 16:20:53] \"POST /mappage HTTP/1.1\" 200 -\n"
     ]
    },
    {
     "name": "stdout",
     "output_type": "stream",
     "text": [
      "마커갱신\n",
      "[(1, 5, 'wef', 'swf', 'rtb', 'pky5335', None, 1, 35.1467299, 126.92201, datetime.datetime(2022, 9, 1, 11, 16, 26), 0), (4, 2, '여기', '없음', '구라임', 'ahy0914', None, 1, 35.1467488, 126.922456, datetime.datetime(2022, 9, 1, 11, 19, 25), 0), (7, 2, '어디까지', '되나한번', '봐보자아', 'pky5335', None, 1, 35.1467777, 126.922111, datetime.datetime(2022, 9, 1, 16, 19, 30), 0)]\n",
      "갱신완료\n",
      "1,5,wef,swf,rtb,pky5335,None,1,35.1467299,126.92201,2022-09-01 11:16:26,0/4,2,여기,없음,구라임,ahy0914,None,1,35.1467488,126.922456,2022-09-01 11:19:25,0/7,2,어디까지,되나한번,봐보자아,pky5335,None,1,35.1467777,126.922111,2022-09-01 16:19:30,0/\n"
     ]
    },
    {
     "name": "stderr",
     "output_type": "stream",
     "text": [
      "192.168.21.245 - - [01/Sep/2022 16:20:55] \"POST /clicktrs HTTP/1.1\" 200 -\n"
     ]
    },
    {
     "name": "stdout",
     "output_type": "stream",
     "text": [
      "보물클릭\n",
      "[(2, '여기', '없음', '구라임', 'ahy0914', None, 35.1467488, 126.922456, datetime.datetime(2022, 9, 1, 11, 19, 25), 0)]\n"
     ]
    },
    {
     "name": "stderr",
     "output_type": "stream",
     "text": [
      "192.168.21.245 - - [01/Sep/2022 16:20:58] \"POST /mappage HTTP/1.1\" 200 -\n"
     ]
    },
    {
     "name": "stdout",
     "output_type": "stream",
     "text": [
      "마커갱신\n",
      "[(1, 5, 'wef', 'swf', 'rtb', 'pky5335', None, 1, 35.1467299, 126.92201, datetime.datetime(2022, 9, 1, 11, 16, 26), 0), (4, 2, '여기', '없음', '구라임', 'ahy0914', None, 1, 35.1467488, 126.922456, datetime.datetime(2022, 9, 1, 11, 19, 25), 0), (7, 2, '어디까지', '되나한번', '봐보자아', 'pky5335', None, 1, 35.1467777, 126.922111, datetime.datetime(2022, 9, 1, 16, 19, 30), 0)]\n",
      "갱신완료\n",
      "1,5,wef,swf,rtb,pky5335,None,1,35.1467299,126.92201,2022-09-01 11:16:26,0/4,2,여기,없음,구라임,ahy0914,None,1,35.1467488,126.922456,2022-09-01 11:19:25,0/7,2,어디까지,되나한번,봐보자아,pky5335,None,1,35.1467777,126.922111,2022-09-01 16:19:30,0/\n"
     ]
    },
    {
     "name": "stderr",
     "output_type": "stream",
     "text": [
      "192.168.21.245 - - [01/Sep/2022 16:20:58] \"POST /clicktrs HTTP/1.1\" 200 -\n"
     ]
    },
    {
     "name": "stdout",
     "output_type": "stream",
     "text": [
      "보물클릭\n",
      "[(2, '어디까지', '되나한번', '봐보자아', 'pky5335', None, 35.1467777, 126.922111, datetime.datetime(2022, 9, 1, 16, 19, 30), 0)]\n"
     ]
    },
    {
     "name": "stderr",
     "output_type": "stream",
     "text": [
      "192.168.21.245 - - [01/Sep/2022 16:21:02] \"POST /mappage HTTP/1.1\" 200 -\n"
     ]
    },
    {
     "name": "stdout",
     "output_type": "stream",
     "text": [
      "마커갱신\n",
      "[(1, 5, 'wef', 'swf', 'rtb', 'pky5335', None, 1, 35.1467299, 126.92201, datetime.datetime(2022, 9, 1, 11, 16, 26), 0), (4, 2, '여기', '없음', '구라임', 'ahy0914', None, 1, 35.1467488, 126.922456, datetime.datetime(2022, 9, 1, 11, 19, 25), 0), (7, 2, '어디까지', '되나한번', '봐보자아', 'pky5335', None, 1, 35.1467777, 126.922111, datetime.datetime(2022, 9, 1, 16, 19, 30), 0)]\n",
      "갱신완료\n",
      "1,5,wef,swf,rtb,pky5335,None,1,35.1467299,126.92201,2022-09-01 11:16:26,0/4,2,여기,없음,구라임,ahy0914,None,1,35.1467488,126.922456,2022-09-01 11:19:25,0/7,2,어디까지,되나한번,봐보자아,pky5335,None,1,35.1467777,126.922111,2022-09-01 16:19:30,0/\n"
     ]
    },
    {
     "name": "stderr",
     "output_type": "stream",
     "text": [
      "192.168.21.245 - - [01/Sep/2022 16:21:08] \"POST /mappage HTTP/1.1\" 200 -\n"
     ]
    },
    {
     "name": "stdout",
     "output_type": "stream",
     "text": [
      "마커갱신\n",
      "[(1, 5, 'wef', 'swf', 'rtb', 'pky5335', None, 1, 35.1467299, 126.92201, datetime.datetime(2022, 9, 1, 11, 16, 26), 0), (4, 2, '여기', '없음', '구라임', 'ahy0914', None, 1, 35.1467488, 126.922456, datetime.datetime(2022, 9, 1, 11, 19, 25), 0), (7, 2, '어디까지', '되나한번', '봐보자아', 'pky5335', None, 1, 35.1467777, 126.922111, datetime.datetime(2022, 9, 1, 16, 19, 30), 0)]\n",
      "갱신완료\n",
      "1,5,wef,swf,rtb,pky5335,None,1,35.1467299,126.92201,2022-09-01 11:16:26,0/4,2,여기,없음,구라임,ahy0914,None,1,35.1467488,126.922456,2022-09-01 11:19:25,0/7,2,어디까지,되나한번,봐보자아,pky5335,None,1,35.1467777,126.922111,2022-09-01 16:19:30,0/\n"
     ]
    },
    {
     "name": "stderr",
     "output_type": "stream",
     "text": [
      "192.168.21.245 - - [01/Sep/2022 16:21:13] \"POST /mappage HTTP/1.1\" 200 -\n"
     ]
    },
    {
     "name": "stdout",
     "output_type": "stream",
     "text": [
      "마커갱신\n",
      "[(1, 5, 'wef', 'swf', 'rtb', 'pky5335', None, 1, 35.1467299, 126.92201, datetime.datetime(2022, 9, 1, 11, 16, 26), 0), (4, 2, '여기', '없음', '구라임', 'ahy0914', None, 1, 35.1467488, 126.922456, datetime.datetime(2022, 9, 1, 11, 19, 25), 0), (7, 2, '어디까지', '되나한번', '봐보자아', 'pky5335', None, 1, 35.1467777, 126.922111, datetime.datetime(2022, 9, 1, 16, 19, 30), 0)]\n",
      "갱신완료\n",
      "1,5,wef,swf,rtb,pky5335,None,1,35.1467299,126.92201,2022-09-01 11:16:26,0/4,2,여기,없음,구라임,ahy0914,None,1,35.1467488,126.922456,2022-09-01 11:19:25,0/7,2,어디까지,되나한번,봐보자아,pky5335,None,1,35.1467777,126.922111,2022-09-01 16:19:30,0/\n"
     ]
    },
    {
     "name": "stderr",
     "output_type": "stream",
     "text": [
      "192.168.21.245 - - [01/Sep/2022 16:21:17] \"POST /mappage HTTP/1.1\" 200 -\n"
     ]
    },
    {
     "name": "stdout",
     "output_type": "stream",
     "text": [
      "마커갱신\n",
      "[(1, 5, 'wef', 'swf', 'rtb', 'pky5335', None, 1, 35.1467299, 126.92201, datetime.datetime(2022, 9, 1, 11, 16, 26), 0), (4, 2, '여기', '없음', '구라임', 'ahy0914', None, 1, 35.1467488, 126.922456, datetime.datetime(2022, 9, 1, 11, 19, 25), 0), (7, 2, '어디까지', '되나한번', '봐보자아', 'pky5335', None, 1, 35.1467777, 126.922111, datetime.datetime(2022, 9, 1, 16, 19, 30), 0)]\n",
      "갱신완료\n",
      "1,5,wef,swf,rtb,pky5335,None,1,35.1467299,126.92201,2022-09-01 11:16:26,0/4,2,여기,없음,구라임,ahy0914,None,1,35.1467488,126.922456,2022-09-01 11:19:25,0/7,2,어디까지,되나한번,봐보자아,pky5335,None,1,35.1467777,126.922111,2022-09-01 16:19:30,0/\n"
     ]
    },
    {
     "name": "stderr",
     "output_type": "stream",
     "text": [
      "192.168.21.245 - - [01/Sep/2022 16:21:22] \"POST /mappage HTTP/1.1\" 200 -\n"
     ]
    },
    {
     "name": "stdout",
     "output_type": "stream",
     "text": [
      "마커갱신\n",
      "[(1, 5, 'wef', 'swf', 'rtb', 'pky5335', None, 1, 35.1467299, 126.92201, datetime.datetime(2022, 9, 1, 11, 16, 26), 0), (4, 2, '여기', '없음', '구라임', 'ahy0914', None, 1, 35.1467488, 126.922456, datetime.datetime(2022, 9, 1, 11, 19, 25), 0), (7, 2, '어디까지', '되나한번', '봐보자아', 'pky5335', None, 1, 35.1467777, 126.922111, datetime.datetime(2022, 9, 1, 16, 19, 30), 0)]\n",
      "갱신완료\n",
      "1,5,wef,swf,rtb,pky5335,None,1,35.1467299,126.92201,2022-09-01 11:16:26,0/4,2,여기,없음,구라임,ahy0914,None,1,35.1467488,126.922456,2022-09-01 11:19:25,0/7,2,어디까지,되나한번,봐보자아,pky5335,None,1,35.1467777,126.922111,2022-09-01 16:19:30,0/\n"
     ]
    },
    {
     "name": "stderr",
     "output_type": "stream",
     "text": [
      "192.168.21.245 - - [01/Sep/2022 16:21:27] \"POST /mappage HTTP/1.1\" 200 -\n"
     ]
    },
    {
     "name": "stdout",
     "output_type": "stream",
     "text": [
      "마커갱신\n",
      "[(1, 5, 'wef', 'swf', 'rtb', 'pky5335', None, 1, 35.1467299, 126.92201, datetime.datetime(2022, 9, 1, 11, 16, 26), 0), (4, 2, '여기', '없음', '구라임', 'ahy0914', None, 1, 35.1467488, 126.922456, datetime.datetime(2022, 9, 1, 11, 19, 25), 0), (7, 2, '어디까지', '되나한번', '봐보자아', 'pky5335', None, 1, 35.1467777, 126.922111, datetime.datetime(2022, 9, 1, 16, 19, 30), 0)]\n",
      "갱신완료\n",
      "1,5,wef,swf,rtb,pky5335,None,1,35.1467299,126.92201,2022-09-01 11:16:26,0/4,2,여기,없음,구라임,ahy0914,None,1,35.1467488,126.922456,2022-09-01 11:19:25,0/7,2,어디까지,되나한번,봐보자아,pky5335,None,1,35.1467777,126.922111,2022-09-01 16:19:30,0/\n"
     ]
    },
    {
     "name": "stderr",
     "output_type": "stream",
     "text": [
      "192.168.21.245 - - [01/Sep/2022 16:21:32] \"POST /mappage HTTP/1.1\" 200 -\n"
     ]
    },
    {
     "name": "stdout",
     "output_type": "stream",
     "text": [
      "마커갱신\n",
      "[(1, 5, 'wef', 'swf', 'rtb', 'pky5335', None, 1, 35.1467299, 126.92201, datetime.datetime(2022, 9, 1, 11, 16, 26), 0), (4, 2, '여기', '없음', '구라임', 'ahy0914', None, 1, 35.1467488, 126.922456, datetime.datetime(2022, 9, 1, 11, 19, 25), 0), (7, 2, '어디까지', '되나한번', '봐보자아', 'pky5335', None, 1, 35.1467777, 126.922111, datetime.datetime(2022, 9, 1, 16, 19, 30), 0)]\n",
      "갱신완료\n",
      "1,5,wef,swf,rtb,pky5335,None,1,35.1467299,126.92201,2022-09-01 11:16:26,0/4,2,여기,없음,구라임,ahy0914,None,1,35.1467488,126.922456,2022-09-01 11:19:25,0/7,2,어디까지,되나한번,봐보자아,pky5335,None,1,35.1467777,126.922111,2022-09-01 16:19:30,0/\n"
     ]
    },
    {
     "name": "stderr",
     "output_type": "stream",
     "text": [
      "192.168.21.245 - - [01/Sep/2022 16:21:37] \"POST /mappage HTTP/1.1\" 200 -\n"
     ]
    },
    {
     "name": "stdout",
     "output_type": "stream",
     "text": [
      "마커갱신\n",
      "[(1, 5, 'wef', 'swf', 'rtb', 'pky5335', None, 1, 35.1467299, 126.92201, datetime.datetime(2022, 9, 1, 11, 16, 26), 0), (4, 2, '여기', '없음', '구라임', 'ahy0914', None, 1, 35.1467488, 126.922456, datetime.datetime(2022, 9, 1, 11, 19, 25), 0), (7, 2, '어디까지', '되나한번', '봐보자아', 'pky5335', None, 1, 35.1467777, 126.922111, datetime.datetime(2022, 9, 1, 16, 19, 30), 0)]\n",
      "갱신완료\n",
      "1,5,wef,swf,rtb,pky5335,None,1,35.1467299,126.92201,2022-09-01 11:16:26,0/4,2,여기,없음,구라임,ahy0914,None,1,35.1467488,126.922456,2022-09-01 11:19:25,0/7,2,어디까지,되나한번,봐보자아,pky5335,None,1,35.1467777,126.922111,2022-09-01 16:19:30,0/\n"
     ]
    },
    {
     "name": "stderr",
     "output_type": "stream",
     "text": [
      "192.168.21.245 - - [01/Sep/2022 16:21:42] \"POST /mappage HTTP/1.1\" 200 -\n"
     ]
    },
    {
     "name": "stdout",
     "output_type": "stream",
     "text": [
      "마커갱신\n",
      "[(1, 5, 'wef', 'swf', 'rtb', 'pky5335', None, 1, 35.1467299, 126.92201, datetime.datetime(2022, 9, 1, 11, 16, 26), 0), (4, 2, '여기', '없음', '구라임', 'ahy0914', None, 1, 35.1467488, 126.922456, datetime.datetime(2022, 9, 1, 11, 19, 25), 0), (7, 2, '어디까지', '되나한번', '봐보자아', 'pky5335', None, 1, 35.1467777, 126.922111, datetime.datetime(2022, 9, 1, 16, 19, 30), 0)]\n",
      "갱신완료\n",
      "1,5,wef,swf,rtb,pky5335,None,1,35.1467299,126.92201,2022-09-01 11:16:26,0/4,2,여기,없음,구라임,ahy0914,None,1,35.1467488,126.922456,2022-09-01 11:19:25,0/7,2,어디까지,되나한번,봐보자아,pky5335,None,1,35.1467777,126.922111,2022-09-01 16:19:30,0/\n"
     ]
    },
    {
     "name": "stderr",
     "output_type": "stream",
     "text": [
      "192.168.21.245 - - [01/Sep/2022 16:21:47] \"POST /mappage HTTP/1.1\" 200 -\n"
     ]
    },
    {
     "name": "stdout",
     "output_type": "stream",
     "text": [
      "마커갱신\n",
      "[(1, 5, 'wef', 'swf', 'rtb', 'pky5335', None, 1, 35.1467299, 126.92201, datetime.datetime(2022, 9, 1, 11, 16, 26), 0), (4, 2, '여기', '없음', '구라임', 'ahy0914', None, 1, 35.1467488, 126.922456, datetime.datetime(2022, 9, 1, 11, 19, 25), 0), (7, 2, '어디까지', '되나한번', '봐보자아', 'pky5335', None, 1, 35.1467777, 126.922111, datetime.datetime(2022, 9, 1, 16, 19, 30), 0)]\n",
      "갱신완료\n",
      "1,5,wef,swf,rtb,pky5335,None,1,35.1467299,126.92201,2022-09-01 11:16:26,0/4,2,여기,없음,구라임,ahy0914,None,1,35.1467488,126.922456,2022-09-01 11:19:25,0/7,2,어디까지,되나한번,봐보자아,pky5335,None,1,35.1467777,126.922111,2022-09-01 16:19:30,0/\n"
     ]
    },
    {
     "name": "stderr",
     "output_type": "stream",
     "text": [
      "192.168.21.245 - - [01/Sep/2022 16:21:52] \"POST /mappage HTTP/1.1\" 200 -\n"
     ]
    },
    {
     "name": "stdout",
     "output_type": "stream",
     "text": [
      "마커갱신\n",
      "[(1, 5, 'wef', 'swf', 'rtb', 'pky5335', None, 1, 35.1467299, 126.92201, datetime.datetime(2022, 9, 1, 11, 16, 26), 0), (4, 2, '여기', '없음', '구라임', 'ahy0914', None, 1, 35.1467488, 126.922456, datetime.datetime(2022, 9, 1, 11, 19, 25), 0), (7, 2, '어디까지', '되나한번', '봐보자아', 'pky5335', None, 1, 35.1467777, 126.922111, datetime.datetime(2022, 9, 1, 16, 19, 30), 0)]\n",
      "갱신완료\n",
      "1,5,wef,swf,rtb,pky5335,None,1,35.1467299,126.92201,2022-09-01 11:16:26,0/4,2,여기,없음,구라임,ahy0914,None,1,35.1467488,126.922456,2022-09-01 11:19:25,0/7,2,어디까지,되나한번,봐보자아,pky5335,None,1,35.1467777,126.922111,2022-09-01 16:19:30,0/\n"
     ]
    },
    {
     "name": "stderr",
     "output_type": "stream",
     "text": [
      "192.168.21.245 - - [01/Sep/2022 16:21:57] \"POST /mappage HTTP/1.1\" 200 -\n"
     ]
    },
    {
     "name": "stdout",
     "output_type": "stream",
     "text": [
      "마커갱신\n",
      "[(1, 5, 'wef', 'swf', 'rtb', 'pky5335', None, 1, 35.1467299, 126.92201, datetime.datetime(2022, 9, 1, 11, 16, 26), 0), (4, 2, '여기', '없음', '구라임', 'ahy0914', None, 1, 35.1467488, 126.922456, datetime.datetime(2022, 9, 1, 11, 19, 25), 0), (7, 2, '어디까지', '되나한번', '봐보자아', 'pky5335', None, 1, 35.1467777, 126.922111, datetime.datetime(2022, 9, 1, 16, 19, 30), 0)]\n",
      "갱신완료\n",
      "1,5,wef,swf,rtb,pky5335,None,1,35.1467299,126.92201,2022-09-01 11:16:26,0/4,2,여기,없음,구라임,ahy0914,None,1,35.1467488,126.922456,2022-09-01 11:19:25,0/7,2,어디까지,되나한번,봐보자아,pky5335,None,1,35.1467777,126.922111,2022-09-01 16:19:30,0/\n"
     ]
    },
    {
     "name": "stderr",
     "output_type": "stream",
     "text": [
      "192.168.21.245 - - [01/Sep/2022 16:22:02] \"POST /mappage HTTP/1.1\" 200 -\n"
     ]
    },
    {
     "name": "stdout",
     "output_type": "stream",
     "text": [
      "마커갱신\n",
      "[(1, 5, 'wef', 'swf', 'rtb', 'pky5335', None, 1, 35.1467299, 126.92201, datetime.datetime(2022, 9, 1, 11, 16, 26), 0), (4, 2, '여기', '없음', '구라임', 'ahy0914', None, 1, 35.1467488, 126.922456, datetime.datetime(2022, 9, 1, 11, 19, 25), 0), (7, 2, '어디까지', '되나한번', '봐보자아', 'pky5335', None, 1, 35.1467777, 126.922111, datetime.datetime(2022, 9, 1, 16, 19, 30), 0)]\n",
      "갱신완료\n",
      "1,5,wef,swf,rtb,pky5335,None,1,35.1467299,126.92201,2022-09-01 11:16:26,0/4,2,여기,없음,구라임,ahy0914,None,1,35.1467488,126.922456,2022-09-01 11:19:25,0/7,2,어디까지,되나한번,봐보자아,pky5335,None,1,35.1467777,126.922111,2022-09-01 16:19:30,0/\n"
     ]
    },
    {
     "name": "stderr",
     "output_type": "stream",
     "text": [
      "192.168.21.245 - - [01/Sep/2022 16:22:08] \"POST /mappage HTTP/1.1\" 200 -\n"
     ]
    },
    {
     "name": "stdout",
     "output_type": "stream",
     "text": [
      "마커갱신\n",
      "[(1, 5, 'wef', 'swf', 'rtb', 'pky5335', None, 1, 35.1467299, 126.92201, datetime.datetime(2022, 9, 1, 11, 16, 26), 0), (4, 2, '여기', '없음', '구라임', 'ahy0914', None, 1, 35.1467488, 126.922456, datetime.datetime(2022, 9, 1, 11, 19, 25), 0), (7, 2, '어디까지', '되나한번', '봐보자아', 'pky5335', None, 1, 35.1467777, 126.922111, datetime.datetime(2022, 9, 1, 16, 19, 30), 0)]\n",
      "갱신완료\n",
      "1,5,wef,swf,rtb,pky5335,None,1,35.1467299,126.92201,2022-09-01 11:16:26,0/4,2,여기,없음,구라임,ahy0914,None,1,35.1467488,126.922456,2022-09-01 11:19:25,0/7,2,어디까지,되나한번,봐보자아,pky5335,None,1,35.1467777,126.922111,2022-09-01 16:19:30,0/\n"
     ]
    },
    {
     "name": "stderr",
     "output_type": "stream",
     "text": [
      "192.168.21.245 - - [01/Sep/2022 16:22:12] \"POST /mappage HTTP/1.1\" 200 -\n"
     ]
    },
    {
     "name": "stdout",
     "output_type": "stream",
     "text": [
      "마커갱신\n",
      "[(1, 5, 'wef', 'swf', 'rtb', 'pky5335', None, 1, 35.1467299, 126.92201, datetime.datetime(2022, 9, 1, 11, 16, 26), 0), (4, 2, '여기', '없음', '구라임', 'ahy0914', None, 1, 35.1467488, 126.922456, datetime.datetime(2022, 9, 1, 11, 19, 25), 0), (7, 2, '어디까지', '되나한번', '봐보자아', 'pky5335', None, 1, 35.1467777, 126.922111, datetime.datetime(2022, 9, 1, 16, 19, 30), 0)]\n",
      "갱신완료\n",
      "1,5,wef,swf,rtb,pky5335,None,1,35.1467299,126.92201,2022-09-01 11:16:26,0/4,2,여기,없음,구라임,ahy0914,None,1,35.1467488,126.922456,2022-09-01 11:19:25,0/7,2,어디까지,되나한번,봐보자아,pky5335,None,1,35.1467777,126.922111,2022-09-01 16:19:30,0/\n"
     ]
    },
    {
     "name": "stderr",
     "output_type": "stream",
     "text": [
      "192.168.21.245 - - [01/Sep/2022 16:22:18] \"POST /mappage HTTP/1.1\" 200 -\n"
     ]
    },
    {
     "name": "stdout",
     "output_type": "stream",
     "text": [
      "마커갱신\n",
      "[(1, 5, 'wef', 'swf', 'rtb', 'pky5335', None, 1, 35.1467299, 126.92201, datetime.datetime(2022, 9, 1, 11, 16, 26), 0), (4, 2, '여기', '없음', '구라임', 'ahy0914', None, 1, 35.1467488, 126.922456, datetime.datetime(2022, 9, 1, 11, 19, 25), 0), (7, 2, '어디까지', '되나한번', '봐보자아', 'pky5335', None, 1, 35.1467777, 126.922111, datetime.datetime(2022, 9, 1, 16, 19, 30), 0)]\n",
      "갱신완료\n",
      "1,5,wef,swf,rtb,pky5335,None,1,35.1467299,126.92201,2022-09-01 11:16:26,0/4,2,여기,없음,구라임,ahy0914,None,1,35.1467488,126.922456,2022-09-01 11:19:25,0/7,2,어디까지,되나한번,봐보자아,pky5335,None,1,35.1467777,126.922111,2022-09-01 16:19:30,0/\n"
     ]
    }
   ],
   "source": [
    "from flask import Flask, render_template, redirect, request, url_for, session\n",
    "import cx_Oracle as db\n",
    "\n",
    "app = Flask(__name__)\n",
    "\n",
    "db_id = 'parky'\n",
    "db_pw = 'qwer1234'\n",
    "url = '192.168.21.252:1521/xe'\n",
    "\n",
    "app.secret_key = \"gabo\"\n",
    "\n",
    "@app.route('/join', methods=['POST'])\n",
    "def join():\n",
    "    print('회원가입 요청')\n",
    "    id = request.form['id']\n",
    "    pw = request.form['pw']\n",
    "    email = request.form['email']\n",
    "    name = request.form['name']\n",
    "    nick = request.form['nick']\n",
    "    phone = request.form['phone']\n",
    "    birth = request.form['birth']\n",
    "    gender = request.form['gender']\n",
    "    \n",
    "    conn = db.connect(db_id, db_pw, url)\n",
    "    curs = conn.cursor()\n",
    "    \n",
    "    sql = \"insert into t_user(user_id, user_pw,user_name,user_nick,user_birth,user_phone,user_email,user_gender,user_startdate) values (:1,:2,:3,:4,:5,:6,:7,:8,sysdate)\"\n",
    "    curs.execute(sql,(id,pw,name,nick,birth,phone,email,gender))\n",
    "    conn.commit()\n",
    "    curs.close()\n",
    "    conn.close()\n",
    "    print(f'회원정보 : {id},{pw},{name},{nick},{birth},{phone},{email},{gender}')\n",
    "    return '가입 완료'\n",
    "\n",
    "@app.route('/login', methods=['POST'])\n",
    "def login():\n",
    "    print('로그인 시도')\n",
    "    id = request.form['id']\n",
    "    pw = request.form['pw']\n",
    "    \n",
    "    conn = db.connect(db_id, db_pw, url)\n",
    "    curs = conn.cursor()\n",
    "    \n",
    "    sql = \"select * from t_user where (user_id = :1) and (user_pw = :2)\"\n",
    "    curs.execute(sql,(id,pw))\n",
    "    result = curs.fetchall()\n",
    "    print(result)\n",
    "    curs.close()\n",
    "    conn.close()\n",
    "    try :\n",
    "        ##print(\"{},{},{},{},{},{},{},{},{},{},{},{}\".format(result[0][0],result[0][1],result[0][2],result[0][3].isoformat()[:10],result[0][4],result[0][5],result[0][6],result[0][7],result[0][8].isoformat()[:10],result[0][10],result[0][11],result[0][13]))\n",
    "        print(\"{} 로그인\".format(result[0][0]))\n",
    "    \n",
    "        if result[0][12] == 1:\n",
    "            ## 블랙리스트\n",
    "            return \"블랙리스트\"\n",
    "        elif result[0][9] is not None:\n",
    "            return \"탈퇴회원\"\n",
    "        else :\n",
    "            return \"{}\".format(result[0][0])\n",
    "            ##return \"{},{},{},{},{},{},{},{},{},{},{},{}\".format(result[0][0],result[0][1],result[0][2],result[0][3].isoformat()[:10],result[0][4],result[0][5],result[0][6],result[0][7],result[0][8].isoformat()[:10],result[0][10],result[0][11],result[0][13])\n",
    "    except :\n",
    "        return \"회원아님\"\n",
    "\n",
    "@app.route('/end', methods=['POST'])\n",
    "def end():\n",
    "    print('탈퇴 요청')\n",
    "    id = request.form['id']\n",
    "    \n",
    "    conn = db.connect(db_id, db_pw, url)\n",
    "    curs = conn.cursor()\n",
    "    \n",
    "    sql = \"update t_user set user_enddate = sysdate where user_id = :1\"\n",
    "    curs.execute(sql(id))\n",
    "    conn.commit()\n",
    "    curs.close()\n",
    "    conn.close()\n",
    "    \n",
    "    return \"탈퇴\"\n",
    "\n",
    "## mainpage에서 지도에 마커 갱신\n",
    "@app.route('/mappage', methods=['POST'])\n",
    "def mappage():\n",
    "    print('마커갱신')\n",
    "\n",
    "    conn = db.connect(db_id, db_pw, url)\n",
    "    curs = conn.cursor()\n",
    "    \n",
    "    sql = \"select t_id,t_category,t_keywords1,t_keywords2,t_keywords3,t_hideuser,t_finduser,t_approval,t_latitude,t_longitude,t_hidedate,(select user_like from t_user u where u.user_id = t.t_hideuser) from t_treasure t where t_approval = 1\"\n",
    "    curs.execute(sql)\n",
    "    result = curs.fetchall()\n",
    "    print(result)\n",
    "    curs.close()\n",
    "    conn.close()\n",
    "\n",
    "    t_table = \"\"\n",
    "    \n",
    "    for i in range(len(result)):\n",
    "        for j in range(len(result[0])):\n",
    "            if j ==11:\n",
    "                t_table += str(result[i][j]) + \"/\"\n",
    "            else:\n",
    "                t_table += str(result[i][j]) + \",\"\n",
    "        \n",
    "    print('갱신완료')\n",
    "    print(t_table)\n",
    "    return t_table\n",
    "\n",
    "    #보물의 모든 정보를 리턴\n",
    "    # return \"{},{},{},{},{},{},{},{},{},{},{}\".format(result[0][0],result[0][1],result[0][2],result[0][3],result[0][4],result[0][5],result[0][6],result[0][7],result[0][8],result[0][9],result[0][10],result[0][11])\n",
    "\n",
    "\n",
    "## 보물 클릭시 정보 전송\n",
    "@app.route('/clicktrs', methods=['POST'])\n",
    "def clicktrs():\n",
    "    print('보물클릭')\n",
    "\n",
    "    t_id = request.form['t_id']\n",
    "\n",
    "    conn = db.connect(db_id, db_pw, url)\n",
    "    curs = conn.cursor()\n",
    "    \n",
    "    sql = \"select t_category,t_keywords1,t_keywords2,t_keywords3,t_hideuser,t_finduser,t_latitude,t_longitude,t_hidedate,(select user_like from t_user u where u.user_id = t.t_hideuser) from t_treasure t where t_id = :1\"\n",
    "    curs.execute(sql,(t_id))\n",
    "    result = curs.fetchall()\n",
    "    print(result)\n",
    "    curs.close()\n",
    "    conn.close()\n",
    "\n",
    "    return \"{},{},{},{},{},{},{},{},{},{}\".format(result[0][0],result[0][1],result[0][2],result[0][3],result[0][4],result[0][5],result[0][6],result[0][7],result[0][8],result[0][9])\n",
    "\n",
    "    #보물의 모든 정보를 리턴\n",
    "    # return \"{},{},{},{},{},{},{},{},{},{},{}\".format(result[0][0],result[0][1],result[0][2],result[0][3],result[0][4],result[0][5],result[0][6],result[0][7],result[0][8],result[0][9],result[0][10],result[0][11])\n",
    "\n",
    "\n",
    "## 마이페이지 = 숨긴보물수, 찾은보물수, 좋아요, 레벨 갱신\n",
    "@app.route('/mypage', methods=['POST'])\n",
    "def mypage():\n",
    "    print('보물 갱신')\n",
    "    id = request.form['id']\n",
    "    \n",
    "    conn = db.connect(db_id, db_pw, url)\n",
    "    curs = conn.cursor()\n",
    "    \n",
    "    sql = \"select (select count(t.t_hideuser) from t_treasure t where t.t_hideuser = :1), (select count(t.t_finduser) from t_treasure t where t.t_finduser = :1) , (select user_like from user where t_hideuser = :1), (select user_level from user where t_hideuser = :1) from t_treasure where t_hideuser = :1 GROUP BY t_hideuser\"\n",
    "    curs.execute(sql,(id))\n",
    "    result = curs.fetchall()\n",
    "    \n",
    "    curs.close()\n",
    "    conn.close()\n",
    "    print('갱신 성공')\n",
    "    \n",
    "    ## 숨긴보물수, 찾은보물수, 좋아요, 레벨 순\n",
    "    return \"{},{},{},{}\".format(result[0][0],result[0][1],result[0][2],result[0][3])\n",
    "\n",
    "@app.route('/alluserlist', methods=['POST'])\n",
    "def alluserlist():\n",
    "    print('모든 유저 리스트 조회')\n",
    "    \n",
    "    conn = db.connect(db_id, db_pw, url)\n",
    "    curs = conn.cursor()\n",
    "    \n",
    "    sql = \"select * from user\"\n",
    "    curs.execute(sql)\n",
    "    result = curs.fetchall()\n",
    "    print(result)\n",
    "    curs.close()\n",
    "    conn.close()\n",
    "    \n",
    "    listmember = \"\"\n",
    "    \n",
    "    for i in range(len(result)):\n",
    "        for j in range(len(result[0])):\n",
    "            if j ==3:\n",
    "                listmember += str(result[i][j].isoformat()[:10]) + \",\"\n",
    "            elif j ==13:\n",
    "                listmember += str(result[i][j]) + \"/\"\n",
    "            else:\n",
    "                listmember += str(result[i][j]) + \",\"\n",
    "        \n",
    "        \n",
    "    return listmember\n",
    "\n",
    "@app.route('/addtreasure', methods=['POST'])\n",
    "def addtreasure():\n",
    "    print('보물 등록')\n",
    "    cate = int(request.form['cate']) ## 코드(숫자)\n",
    "    key1 = request.form['key1']\n",
    "    key2 = request.form['key2']\n",
    "    key3 = request.form['key3']\n",
    "    hideuser = request.form['hideuser']\n",
    "    latitude = float(request.form['latitude'])\n",
    "    longitude = float(request.form['longitude'])\n",
    "    \n",
    "    img = request.form['img']\n",
    "    \n",
    "    conn = db.connect(db_id, db_pw, url)\n",
    "    curs = conn.cursor()\n",
    "    \n",
    "    sql = \"insert into t_treasure values(1,:1,:2,:3,:4,:5,'','',0,:6,:7,sysdate,'')\"\n",
    "    curs.execute(sql(cate,key1,key2,key3,hideuser,latitude,longitude))\n",
    "    conn.commit()\n",
    "    curs.close()\n",
    "    conn.close()\n",
    "    \n",
    "    return \"등록신청완료\"\n",
    "    \n",
    "#### 관리자 페이지\n",
    "@app.route('/', methods=['GET'])\n",
    "def loginPage():\n",
    "    return render_template('page-login.html')\n",
    "\n",
    "#로그인 체크\n",
    "@app.route('/loginCheck', methods = ['POST']) #로그인 기능\n",
    "def loginCheck():\n",
    "    print('로그인 요청')\n",
    "    admin_id = request.form['id']\n",
    "    admin_pw = request.form['pw']\n",
    "    \n",
    "    conn = db.connect(db_id, db_pw, url)\n",
    "    curs=conn.cursor()\n",
    "    sql = \"select * from t_admin where admin_id = :1 and admin_pw = :2\"\n",
    "    curs.execute(sql, (admin_id, admin_pw))\n",
    "    result = curs.fetchall();\n",
    "\n",
    "    curs.close()\n",
    "    conn.close()\n",
    "    print(admin_id)\n",
    "    print(result[0][0])\n",
    "    if result[0][0] ==  admin_id and result[0][1]==admin_pw:\n",
    "        session['admin_id'] = admin_id\n",
    "        return redirect(url_for('mainPage'))\n",
    "\n",
    "# 회원가입 페이지\n",
    "@app.route('/joinPage', methods=['GET'])\n",
    "def joinPage():\n",
    "    return render_template('page-join.html')\n",
    "\n",
    "\n",
    "# 회원가입\n",
    "@app.route('/joinAdmin', methods = ['POST'])\n",
    "def joinAdmin():\n",
    "    print('회원가입 요청')\n",
    "    admin_id = request.form['id']\n",
    "    admin_pw = request.form['pw']\n",
    "    admin_name = request.form['name']\n",
    "    print(admin_id)\n",
    "    conn = db.connect(db_id, db_pw, url)\n",
    "    curs=conn.cursor()\n",
    "#     sql = \"insert into t_admin values('%s', '%s', '%s')\" %(admin_id, admin_pw, admin_name)\n",
    "    sql = \"insert into t_admin values(:1, :2, :3)\"\n",
    "#     curs.execute(sql)\n",
    "    curs.execute(sql,(admin_id,admin_pw,admin_name))\n",
    "\n",
    "    conn.commit()\n",
    "    curs.close()\n",
    "    conn.close()\n",
    "#     return redirect(url_for('/'))\n",
    "    return render_template('page-login.html')\n",
    "\n",
    "\n",
    "@app.route('/mainPage', methods = ['GET'])\n",
    "def mainPage():\n",
    "    return render_template('index.html')   \n",
    "          \n",
    "if __name__ == '__main__':\n",
    "    app.run(host='192.168.21.252', port=5013)"
   ]
  },
  {
   "cell_type": "code",
   "execution_count": null,
   "id": "fe027401",
   "metadata": {},
   "outputs": [],
   "source": [
    "!pip install cx_Oracle"
   ]
  },
  {
   "cell_type": "code",
   "execution_count": null,
   "id": "6282a3db",
   "metadata": {},
   "outputs": [],
   "source": []
  },
  {
   "cell_type": "code",
   "execution_count": null,
   "id": "cbed848f",
   "metadata": {},
   "outputs": [],
   "source": []
  },
  {
   "cell_type": "code",
   "execution_count": null,
   "id": "62903331",
   "metadata": {},
   "outputs": [],
   "source": []
  },
  {
   "cell_type": "code",
   "execution_count": null,
   "id": "3256d240",
   "metadata": {},
   "outputs": [],
   "source": []
  },
  {
   "cell_type": "code",
   "execution_count": null,
   "id": "d70182e6",
   "metadata": {},
   "outputs": [],
   "source": []
  },
  {
   "cell_type": "code",
   "execution_count": null,
   "id": "da0175e8",
   "metadata": {},
   "outputs": [],
   "source": []
  },
  {
   "cell_type": "code",
   "execution_count": null,
   "id": "b58b241d",
   "metadata": {},
   "outputs": [],
   "source": []
  },
  {
   "cell_type": "code",
   "execution_count": null,
   "id": "ca42a6f9",
   "metadata": {},
   "outputs": [],
   "source": []
  },
  {
   "cell_type": "code",
   "execution_count": null,
   "id": "71c7dd52",
   "metadata": {},
   "outputs": [],
   "source": []
  },
  {
   "cell_type": "code",
   "execution_count": null,
   "id": "f8b35c08",
   "metadata": {},
   "outputs": [],
   "source": []
  },
  {
   "cell_type": "code",
   "execution_count": null,
   "id": "ceb4b229",
   "metadata": {},
   "outputs": [],
   "source": []
  },
  {
   "cell_type": "code",
   "execution_count": null,
   "id": "5251389a",
   "metadata": {},
   "outputs": [],
   "source": []
  },
  {
   "cell_type": "code",
   "execution_count": null,
   "id": "68eaa129",
   "metadata": {},
   "outputs": [],
   "source": []
  },
  {
   "cell_type": "code",
   "execution_count": null,
   "id": "b4808cfb",
   "metadata": {},
   "outputs": [],
   "source": []
  }
 ],
 "metadata": {
  "kernelspec": {
   "display_name": "Python 3 (ipykernel)",
   "language": "python",
   "name": "python3"
  },
  "language_info": {
   "codemirror_mode": {
    "name": "ipython",
    "version": 3
   },
   "file_extension": ".py",
   "mimetype": "text/x-python",
   "name": "python",
   "nbconvert_exporter": "python",
   "pygments_lexer": "ipython3",
   "version": "3.9.12"
  },
  "vscode": {
   "interpreter": {
    "hash": "e4cce46d6be9934fbd27f9ca0432556941ea5bdf741d4f4d64c6cd7f8dfa8fba"
   }
  }
 },
 "nbformat": 4,
 "nbformat_minor": 5
}
